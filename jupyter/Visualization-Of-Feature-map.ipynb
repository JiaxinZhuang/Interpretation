{
 "cells": [
  {
   "cell_type": "code",
   "execution_count": 1,
   "metadata": {},
   "outputs": [],
   "source": [
    "%load_ext autoreload\n",
    "%autoreload 2\n",
    "%matplotlib inline\n",
    "%pylab inline"
   ]
  },
  {
   "cell_type": "code",
   "execution_count": 45,
   "metadata": {},
   "outputs": [],
   "source": [
    "import os\n",
    "os.environ[\"CUDA_DEVICE_ORDER\"] = \"PCI_BUS_ID\"\n",
    "os.environ[\"CUDA_VISIBLE_DEVICES\"] = \"1\"\n",
    "\n",
    "import torch\n",
    "import torch.nn as nn\n",
    "import torchvision\n",
    "import numpy as np\n",
    "from matplotlib import pyplot\n",
    "from torchsummary import summary\n",
    "import matplotlib as mpl\n",
    "mpl.rcParams['figure.dpi'] = 300\n",
    "\n",
    "import sys\n",
    "sys.path.append(\"../src/\")\n",
    "import model\n",
    "import dataset\n",
    "import config\n",
    "from utils.function import init_logging, init_environment, preprocess_image,\\\n",
    "         recreate_image, get_lr, save_image"
   ]
  },
  {
   "cell_type": "code",
   "execution_count": 5,
   "metadata": {
    "scrolled": true
   },
   "outputs": [],
   "source": [
    "# hyper parameter\n",
    "resume = \"001-215\"\n",
    "model_dir = \"/data15/jiaxin/Interpretation/saved/models\"\n",
    "backbone = \"convNet\"\n",
    "#generated_dir = \n",
    "#selected_layer = configs_dict[\"selected_layer\"]\n",
    "#selected_filter = configs_dict[\"selected_filter\"]\n",
    "\n",
    "device = torch.device(\"cuda:0\" if torch.cuda.is_available() else \"cpu\")"
   ]
  },
  {
   "cell_type": "code",
   "execution_count": 6,
   "metadata": {
    "scrolled": true
   },
   "outputs": [
    {
     "data": {
      "text/plain": [
       "Network(\n",
       "  (model): convNet(\n",
       "    (features): Sequential(\n",
       "      (0): Conv2d(1, 20, kernel_size=(5, 5), stride=(1, 1))\n",
       "      (1): ReLU()\n",
       "      (2): MaxPool2d(kernel_size=2, stride=2, padding=0, dilation=1, ceil_mode=False)\n",
       "      (3): Conv2d(20, 50, kernel_size=(5, 5), stride=(1, 1))\n",
       "      (4): ReLU()\n",
       "      (5): MaxPool2d(kernel_size=2, stride=2, padding=0, dilation=1, ceil_mode=False)\n",
       "    )\n",
       "    (fc): Sequential(\n",
       "      (0): Linear(in_features=800, out_features=500, bias=True)\n",
       "      (1): ReLU()\n",
       "      (2): Linear(in_features=500, out_features=10, bias=True)\n",
       "    )\n",
       "  )\n",
       ")"
      ]
     },
     "execution_count": 6,
     "metadata": {},
     "output_type": "execute_result"
    }
   ],
   "source": [
    "# model\n",
    "net = model.Network(backbone=backbone)\n",
    "net.to(device)"
   ]
  },
  {
   "cell_type": "code",
   "execution_count": 7,
   "metadata": {
    "scrolled": true
   },
   "outputs": [
    {
     "name": "stdout",
     "output_type": "stream",
     "text": [
      "Resume from model from exp: 001 at epoch 215\n"
     ]
    },
    {
     "data": {
      "text/plain": [
       "<All keys matched successfully>"
      ]
     },
     "execution_count": 7,
     "metadata": {},
     "output_type": "execute_result"
    }
   ],
   "source": [
    "# resume from model\n",
    "resume_exp = resume.split(\"-\")[0]\n",
    "resume_epoch = resume.split(\"-\")[1]\n",
    "print(\"Resume from model from exp: {} at epoch {}\".format(resume_exp, resume_epoch))\n",
    "resume_path = os.path.join(model_dir, str(resume_exp), str(resume_epoch))\n",
    "ckpt = torch.load(resume_path)\n",
    "net.load_state_dict(ckpt) "
   ]
  },
  {
   "cell_type": "code",
   "execution_count": 8,
   "metadata": {},
   "outputs": [
    {
     "name": "stdout",
     "output_type": "stream",
     "text": [
      "model.features.0.weight torch.Size([20, 1, 5, 5])\n",
      "model.features.0.bias torch.Size([20])\n",
      "model.features.3.weight torch.Size([50, 20, 5, 5])\n",
      "model.features.3.bias torch.Size([50])\n",
      "model.fc.0.weight torch.Size([500, 800])\n",
      "model.fc.0.bias torch.Size([500])\n",
      "model.fc.2.weight torch.Size([10, 500])\n",
      "model.fc.2.bias torch.Size([10])\n"
     ]
    }
   ],
   "source": [
    "for name, param in net.named_parameters():\n",
    "    print(name, param.size())"
   ]
  },
  {
   "cell_type": "code",
   "execution_count": 14,
   "metadata": {
    "scrolled": true
   },
   "outputs": [
    {
     "name": "stdout",
     "output_type": "stream",
     "text": [
      "0 Conv2d(1, 20, kernel_size=(5, 5), stride=(1, 1))\n",
      "1 ReLU()\n",
      "2 MaxPool2d(kernel_size=2, stride=2, padding=0, dilation=1, ceil_mode=False)\n",
      "3 Conv2d(20, 50, kernel_size=(5, 5), stride=(1, 1))\n",
      "4 ReLU()\n",
      "5 MaxPool2d(kernel_size=2, stride=2, padding=0, dilation=1, ceil_mode=False)\n"
     ]
    }
   ],
   "source": [
    "for index, layer in enumerate(net.model.features):\n",
    "    if index == \n",
    "    print(index, layer)"
   ]
  },
  {
   "cell_type": "code",
   "execution_count": 10,
   "metadata": {
    "scrolled": true
   },
   "outputs": [
    {
     "name": "stdout",
     "output_type": "stream",
     "text": [
      "----------------------------------------------------------------\n",
      "        Layer (type)               Output Shape         Param #\n",
      "================================================================\n",
      "            Conv2d-1           [-1, 20, 24, 24]             520\n",
      "              ReLU-2           [-1, 20, 24, 24]               0\n",
      "         MaxPool2d-3           [-1, 20, 12, 12]               0\n",
      "            Conv2d-4             [-1, 50, 8, 8]          25,050\n",
      "              ReLU-5             [-1, 50, 8, 8]               0\n",
      "         MaxPool2d-6             [-1, 50, 4, 4]               0\n",
      "            Linear-7                  [-1, 500]         400,500\n",
      "              ReLU-8                  [-1, 500]               0\n",
      "            Linear-9                   [-1, 10]           5,010\n",
      "          convNet-10                   [-1, 10]               0\n",
      "================================================================\n",
      "Total params: 431,080\n",
      "Trainable params: 431,080\n",
      "Non-trainable params: 0\n",
      "----------------------------------------------------------------\n",
      "Input size (MB): 0.00\n",
      "Forward/backward pass size (MB): 0.26\n",
      "Params size (MB): 1.64\n",
      "Estimated Total Size (MB): 1.91\n",
      "----------------------------------------------------------------\n"
     ]
    }
   ],
   "source": [
    "summary(net, (1, 28, 28))"
   ]
  },
  {
   "cell_type": "code",
   "execution_count": 4,
   "metadata": {},
   "outputs": [],
   "source": [
    "def visualize_filters(filters, n_filters, n_channels):\n",
    "    \"\"\"Visualize filters. \n",
    "    \n",
    "    \"\"\"\n",
    "    index = 1\n",
    "    # get the feature map of specify channels\n",
    "    for row in range(n_filters):\n",
    "        fs = filters[:, :, :, row]\n",
    "        for col in range(n_channels):\n",
    "            # specify subplot and turn off axis\n",
    "            ax = pyplot.subplot(n_filters, n_channels, index)\n",
    "            ax.set_xticks([])\n",
    "            ax.set_yticks([])\n",
    "            # plot filter channel in gray scale\n",
    "            pyplot.imshow(fs[:, :, col], cmap=\"gray\")\n",
    "            index += 1\n",
    "    # show the figure\n",
    "    pyplot.show()"
   ]
  },
  {
   "cell_type": "code",
   "execution_count": 67,
   "metadata": {},
   "outputs": [],
   "source": [
    "def visualize_features_map(features_map, n_filters, n_channels):\n",
    "    \"\"\"Visulize feature map.\n",
    "    \"\"\"\n",
    "    index = 1\n",
    "    features_map = features_map.transpose((0, 2, 3, 1))\n",
    "    for _ in range(n_filters):\n",
    "        for _ in range(n_channels):\n",
    "            # specify subplot and turn off axis\n",
    "            ax = pyplot.subplot(n_filters, n_channels, index)\n",
    "            ax.set_xticks([])\n",
    "            ax.set_yticks([])\n",
    "            # plot feature maps in grayscale\n",
    "            pyplot.imshow(features_map[0, :, :, index-1], cmap=\"gray\")\n",
    "            index += 1\n",
    "    # show figure\n",
    "    pyplot.show()"
   ]
  },
  {
   "cell_type": "code",
   "execution_count": 68,
   "metadata": {},
   "outputs": [],
   "source": [
    "def obtain_features_map(image, model, conv_output_indexes=None):\n",
    "    \"\"\"Obtain feature map\n",
    "    \"\"\"\n",
    "    results = []\n",
    "    conv_output = []\n",
    "    out = image\n",
    "    for index, layer in enumerate(model):\n",
    "        out = layer(out)\n",
    "        if index in conv_output_indexes:\n",
    "            conv_output.append(out.cpu().detach().numpy())\n",
    "            print(index, out.size()) \n",
    "    return conv_output"
   ]
  },
  {
   "cell_type": "code",
   "execution_count": 69,
   "metadata": {},
   "outputs": [
    {
     "data": {
      "image/png": "[encoded data removed]",
      "text/plain": [
       "<PIL.Image.Image image mode=L size=28x28 at 0x7F32CF961438>"
      ]
     },
     "execution_count": 69,
     "metadata": {},
     "output_type": "execute_result"
    }
   ],
   "source": [
    "# Load data\n",
    "mean, std = (0.1307,), (0.3081,)\n",
    "reverse_mean = (-0.1307,)\n",
    "reverse_std = (1/0.3081,)\n",
    "train_transform = None\n",
    "trainset = dataset.MNIST(root=\"../data/\", is_train=True, transform=train_transform)\n",
    "image, label = trainset[0]\n",
    "image"
   ]
  },
  {
   "cell_type": "code",
   "execution_count": 70,
   "metadata": {
    "scrolled": true
   },
   "outputs": [],
   "source": [
    "processed_image = preprocess_image(image, mean=mean, std=std, resize_im=True, resize=28, device=device)\n",
    "original_image = processed_image.clone().detach()"
   ]
  },
  {
   "cell_type": "code",
   "execution_count": 71,
   "metadata": {
    "scrolled": true
   },
   "outputs": [
    {
     "name": "stdout",
     "output_type": "stream",
     "text": [
      "1 torch.Size([1, 20, 24, 24])\n",
      "4 torch.Size([1, 50, 8, 8])\n"
     ]
    }
   ],
   "source": [
    "conv_output = obtain_features_map(original_image, net.model.features, conv_output_indexes=[1,4])"
   ]
  },
  {
   "cell_type": "code",
   "execution_count": 72,
   "metadata": {
    "scrolled": false
   },
   "outputs": [
    {
     "data": {
      "image/png": "[encoded data removed]",
      "text/plain": [
       "<Figure size 1800x1200 with 20 Axes>"
      ]
     },
     "metadata": {},
     "output_type": "display_data"
    }
   ],
   "source": [
    "visualize_features_map(conv_output[0], n_filters=20, n_channels=1)"
   ]
  },
  {
   "cell_type": "code",
   "execution_count": 74,
   "metadata": {},
   "outputs": [
    {
     "data": {
      "image/png": "[encoded data removed]",
      "text/plain": [
       "<Figure size 1800x1200 with 50 Axes>"
      ]
     },
     "metadata": {},
     "output_type": "display_data"
    }
   ],
   "source": [
    "visualize_features_map(conv_output[1], n_filters=50, n_channels=1)"
   ]
  }
 ],
 "metadata": {
  "kernelspec": {
   "display_name": "Python 3",
   "language": "python",
   "name": "python3"
  },
  "language_info": {
   "codemirror_mode": {
    "name": "ipython",
    "version": 3
   },
   "file_extension": ".py",
   "mimetype": "text/x-python",
   "name": "python",
   "nbconvert_exporter": "python",
   "pygments_lexer": "ipython3",
   "version": "3.6.8"
  }
 },
 "nbformat": 4,
 "nbformat_minor": 2
}
