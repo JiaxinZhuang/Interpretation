{
 "cells": [
  {
   "cell_type": "code",
   "execution_count": 1,
   "metadata": {
    "ExecuteTime": {
     "end_time": "2020-07-31T08:18:22.525835Z",
     "start_time": "2020-07-31T08:18:22.514007Z"
    }
   },
   "outputs": [],
   "source": [
    "%load_ext autoreload\n",
    "%autoreload 2\n",
    "%config InlineBackend.figure_format = 'svg'"
   ]
  },
  {
   "cell_type": "code",
   "execution_count": 2,
   "metadata": {
    "ExecuteTime": {
     "end_time": "2020-07-31T08:18:23.488637Z",
     "start_time": "2020-07-31T08:18:22.526790Z"
    }
   },
   "outputs": [],
   "source": [
    "import os\n",
    "os.environ[\"CUDA_DEVICE_ORDER\"] = \"PCI_BUS_ID\"\n",
    "os.environ[\"CUDA_VISIBLE_DEVICES\"] = \"0\"\n",
    "\n",
    "import torch\n",
    "import os\n",
    "import numpy as np\n",
    "from torchsummary import summary\n",
    "from torchvision import transforms                                                                                                                                        \n",
    "import matplotlib as mpl\n",
    "mpl.rcParams['figure.dpi'] = 600\n",
    "from PIL import Image\n",
    "import pandas as pd\n",
    "\n",
    "import sys\n",
    "sys.path.append(\"../../src/\")\n",
    "sys.path.append(\"../\")\n",
    "import model\n",
    "from datasets import imagenet\n",
    "import config\n",
    "from aux.utils import obtain_features_map, load_imgs, zscore, extract_valid\n",
    "from aux.visualization import visualize_features_map\n",
    "from utils.visualizations.visualize import concat_imgs, preprocess_arrays\n",
    "\n",
    "import pandas as pd\n",
    "import numpy as np\n",
    "\n",
    "from utils.myMetric import mMetric_v3"
   ]
  },
  {
   "cell_type": "code",
   "execution_count": 3,
   "metadata": {
    "ExecuteTime": {
     "end_time": "2020-07-31T08:18:23.509354Z",
     "start_time": "2020-07-31T08:18:23.489787Z"
    }
   },
   "outputs": [],
   "source": [
    "def main(exp, cnn_layer, filter_pos, class_index):\n",
    "    print(\"=> class index: {}\".format(class_index))\n",
    "    num_class = 30\n",
    "    mean = [0.485, 0.456, 0.406]\n",
    "    std = [0.229, 0.224, 0.225]\n",
    "    reverse_mean = [-0.485, -0.456, -0.406]\n",
    "    reverse_std = [1/0.229, 1/0.224, 1/0.225]\n",
    "    train_transform = transforms.Compose([                                                                                                                                \n",
    "        transforms.Resize((224, 224), interpolation=Image.BILINEAR),                                                                                              \n",
    "        transforms.ToTensor(),                                                                                                                                            \n",
    "        #transforms.Normalize(mean, std)                                                                                                                                   \n",
    "           ])         \n",
    "    trainset = imagenet.ImageNet(root=\"/media/lincolnzjx/HardDisk/Datasets/\", \n",
    "                                 is_train=True, transform=train_transform)\n",
    "    \n",
    "    backbone = \"vgg16\"\n",
    "    resume = \"037-0\"\n",
    "    color_map = \"jet\"\n",
    "    model_dir = \"/home/lincolnzjx/Desktop/Interpretation/saved/models\"\n",
    "    device = torch.device(\"cuda:0\" if torch.cuda.is_available() else \"cpu\")\n",
    "    # model\n",
    "    net = model.Network(backbone=backbone, num_classes=1000, \n",
    "                        selected_layer=selected_layer)\n",
    "    net.to(device)\n",
    "    # resume from model\n",
    "    resume_exp = resume.split(\"-\")[0]\n",
    "    resume_epoch = resume.split(\"-\")[1]\n",
    "    print(\"Resume from model from exp: {} at epoch {}\".format(resume_exp, resume_epoch))\n",
    "    resume_path = os.path.join(model_dir, str(resume_exp), str(resume_epoch))\n",
    "    ckpt = torch.load(resume_path, map_location=device)\n",
    "    net.load_state_dict(ckpt, strict=False) \n",
    "    \n",
    "    trainset.set_data([class_index], num_class)\n",
    "    imgs_path = []                                                                                                                                                            \n",
    "    images = []\n",
    "    labels = []\n",
    "    for img, label, img_path in trainset:                                                                                                                                     \n",
    "        images.append(img.unsqueeze(0))                                                                                                                                       \n",
    "        labels.append(label)                                                                                                                                                  \n",
    "        imgs_path.append(img_path)  \n",
    "    \n",
    "    ## Create some need path\n",
    "    save_dir = \"./generated\"\n",
    "    ################### Hyper-Parameter #######################\n",
    "    # exp = resume_exp\n",
    "    # epoch = resume_epoch\n",
    "    ##########################################################\n",
    "    images_cpu = np.array([image.detach().clone().cpu().numpy().squeeze() for image in images])\n",
    "\n",
    "    ab_path = os.path.join(save_dir, exp)\n",
    "    optimized_data, valid_imgs_path, valid_imgs_index = load_imgs(ab_path, \n",
    "                                                                  imgs_path, \n",
    "                                                                  non_exists_ok=True, \n",
    "                                                                  ext=\".png\")\n",
    "    valid_imgs, valid_labels = extract_valid(images, labels, valid_imgs_index)\n",
    "    optimized_data_zscore = zscore(optimized_data, mean, std)\n",
    "    images_zscore = zscore(images_cpu, mean, std)\n",
    "    \n",
    "    # Move to device\n",
    "    opt_image = torch.from_numpy(optimized_data_zscore).to(device)\n",
    "    original_image = torch.from_numpy(images_zscore).to(device)\n",
    "    \n",
    "    index2image = {index: item.split(\"/\")[-1].split(\".\")[0] for index, item \n",
    "                   in enumerate(imgs_path)}\n",
    "        \n",
    "    ori_activation_maps = net.get_activation_maps(original_image, \n",
    "                                                  selected_layer=selected_layer)[0]\n",
    "    opt_activation_maps = net.get_activation_maps(opt_image, \n",
    "                                                  selected_layer=selected_layer)[0]\n",
    "    return ori_activation_maps, opt_activation_maps"
   ]
  },
  {
   "cell_type": "markdown",
   "metadata": {},
   "source": [
    "## Class 14"
   ]
  },
  {
   "cell_type": "code",
   "execution_count": 4,
   "metadata": {
    "ExecuteTime": {
     "end_time": "2020-07-31T08:18:23.529306Z",
     "start_time": "2020-07-31T08:18:23.510696Z"
    }
   },
   "outputs": [],
   "source": [
    "excel_path = \"../analysis/week9/Batches.xlsx\"\n",
    "sheet = \"Others\"\n",
    "excepts = [\"052148\"]"
   ]
  },
  {
   "cell_type": "code",
   "execution_count": 5,
   "metadata": {
    "ExecuteTime": {
     "end_time": "2020-07-31T08:18:57.346527Z",
     "start_time": "2020-07-31T08:18:23.530460Z"
    },
    "scrolled": false
   },
   "outputs": [
    {
     "name": "stdout",
     "output_type": "stream",
     "text": [
      "=> Skip\n",
      "=> RUN  052198 3 20 14\n",
      "=> class index: 14\n",
      "Only Keep 3th layers before.\n",
      "Resume from model from exp: 037 at epoch 0\n",
      "Len of new dataset is :30\n",
      "[]\n",
      "(30, 224, 224, 3)\n",
      "(30, 3, 224, 224)\n",
      "=> Register fhook 3\n",
      "=> Register fhook 3\n",
      "RMSE: 0.8725200891494751 - std 0.1857510805130005\n",
      "SSIM_SEL: 0.16576404869556427 - std 0.1298908293247223\n",
      "SSIM_RES: 0.3920974135398865 - std 0.19700421392917633\n",
      "SSIM_SUM 0.27893075346946716 - std 0.07904891669750214\n",
      "\n",
      "--------------------------------------------------\n",
      "=> RUN  052153 8 99 14\n",
      "=> class index: 14\n",
      "Only Keep 8th layers before.\n",
      "Resume from model from exp: 037 at epoch 0\n",
      "Len of new dataset is :30\n",
      "[]\n",
      "(30, 224, 224, 3)\n",
      "(30, 3, 224, 224)\n",
      "=> Register fhook 8\n",
      "=> Register fhook 8\n",
      "RMSE: 2.5081746578216553 - std 0.1775161623954773\n",
      "SSIM_SEL: 0.03471536189317703 - std 0.06261547654867172\n",
      "SSIM_RES: 0.07529240101575851 - std 0.06188846379518509\n",
      "SSIM_SUM 0.055003874003887177 - std 0.04283350706100464\n",
      "\n",
      "--------------------------------------------------\n",
      "=> RUN  052103 29 334 14\n",
      "=> class index: 14\n",
      "Only Keep 29th layers before.\n",
      "Resume from model from exp: 037 at epoch 0\n",
      "Len of new dataset is :30\n",
      "[]\n",
      "(30, 224, 224, 3)\n",
      "(30, 3, 224, 224)\n",
      "=> Register fhook 29\n",
      "=> Register fhook 29\n",
      "RMSE: 0.8245054483413696 - std 0.6371464729309082\n",
      "SSIM_SEL: 0.25498855113983154 - std 0.177998885512352\n",
      "SSIM_RES: 0.7132613658905029 - std 0.006538917776197195\n",
      "SSIM_SUM 0.4841248691082001 - std 0.08934389054775238\n",
      "\n",
      "--------------------------------------------------\n",
      "=> RUN  052118 22 485 14\n",
      "=> class index: 14\n",
      "Only Keep 22th layers before.\n",
      "Resume from model from exp: 037 at epoch 0\n",
      "Len of new dataset is :30\n",
      "[]\n",
      "(30, 224, 224, 3)\n",
      "(30, 3, 224, 224)\n",
      "=> Register fhook 22\n",
      "=> Register fhook 22\n",
      "RMSE: 0.9488659501075745 - std 0.636590838432312\n",
      "SSIM_SEL: 0.3798988461494446 - std 0.25557833909988403\n",
      "SSIM_RES: 0.9055824279785156 - std 0.004044612403959036\n",
      "SSIM_SUM 0.6427404880523682 - std 0.12645502388477325\n",
      "\n",
      "--------------------------------------------------\n",
      "=> RUN  072500 15 173 14\n",
      "=> class index: 14\n",
      "Only Keep 15th layers before.\n",
      "Resume from model from exp: 037 at epoch 0\n",
      "Len of new dataset is :30\n",
      "[]\n",
      "(30, 224, 224, 3)\n",
      "(30, 3, 224, 224)\n",
      "=> Register fhook 15\n",
      "=> Register fhook 15\n",
      "RMSE: 3.102947950363159 - std 0.8048561215400696\n",
      "SSIM_SEL: 0.045508623123168945 - std 0.03271511197090149\n",
      "SSIM_RES: 0.24000293016433716 - std 0.03659268468618393\n",
      "SSIM_SUM 0.14275579154491425 - std 0.026109743863344193\n",
      "\n",
      "--------------------------------------------------\n"
     ]
    }
   ],
   "source": [
    "xlsx = pd.ExcelFile(excel_path)\n",
    "excel = pd.read_excel(xlsx, sheet, Sdtype={\"exp\": str, \n",
    "                                           \"selected_layer\": int,\n",
    "                                           \"selected_filter\": int, \n",
    "                                           \"class_index\": int,\n",
    "                                            \"Done\": str}).values\n",
    "for data in excel:\n",
    "    exp, selected_layer, selected_filter, class_index, done = data[0], data[1], \\\n",
    "        data[2], data[3], data[4]\n",
    "    exp = exp.replace(\"x\", \"\")\n",
    "    if exp in excepts:\n",
    "        print(\"=> Skip\")\n",
    "    else:\n",
    "        if done == \"N\":\n",
    "            print(\"=> RUN \", exp, selected_layer, selected_filter, class_index)\n",
    "            # main(exp, selected_layer, selected_filter, class_index)\n",
    "            ori_activation_maps, opt_activation_maps = main(exp, \n",
    "                                                            selected_layer, \n",
    "                                                            selected_filter, \n",
    "                                                            class_index)\n",
    "            mMetric_v3(ori_activation_maps, opt_activation_maps, \n",
    "                       selected_filter=selected_filter) \n",
    "            print(\"\")\n",
    "            print(\"-\"*50)"
   ]
  },
  {
   "cell_type": "markdown",
   "metadata": {},
   "source": [
    "## 950"
   ]
  },
  {
   "cell_type": "code",
   "execution_count": 6,
   "metadata": {
    "ExecuteTime": {
     "end_time": "2020-07-31T08:18:57.359252Z",
     "start_time": "2020-07-31T08:18:57.347316Z"
    }
   },
   "outputs": [],
   "source": [
    "excel_path = \"../analysis/week9/Batches.xlsx\"\n",
    "sheet = \"950\"\n",
    "excepts = [\"052148\"]"
   ]
  },
  {
   "cell_type": "code",
   "execution_count": 7,
   "metadata": {
    "ExecuteTime": {
     "end_time": "2020-07-31T08:19:36.546148Z",
     "start_time": "2020-07-31T08:18:57.360134Z"
    }
   },
   "outputs": [
    {
     "name": "stdout",
     "output_type": "stream",
     "text": [
      "=> RUN  061300 1 16 950\n",
      "=> class index: 950\n",
      "Only Keep 1th layers before.\n",
      "Resume from model from exp: 037 at epoch 0\n",
      "Len of new dataset is :30\n",
      "[]\n",
      "(30, 224, 224, 3)\n",
      "(30, 3, 224, 224)\n",
      "=> Register fhook 1\n",
      "=> Register fhook 1\n",
      "RMSE: 3.220639228820801 - std 0.3419424891471863\n",
      "SSIM_SEL: 0.046302180737257004 - std 0.0395030751824379\n",
      "SSIM_RES: 0.7820622324943542 - std 0.14560796320438385\n",
      "SSIM_SUM 0.41418224573135376 - std 0.06717114895582199\n",
      "\n",
      "--------------------------------------------------\n",
      "=> RUN  052490 1 16 950\n",
      "=> class index: 950\n",
      "Only Keep 1th layers before.\n",
      "Resume from model from exp: 037 at epoch 0\n",
      "Len of new dataset is :30\n",
      "[]\n",
      "(30, 224, 224, 3)\n",
      "(30, 3, 224, 224)\n",
      "=> Register fhook 1\n",
      "=> Register fhook 1\n",
      "RMSE: 3.220639228820801 - std 0.3419424891471863\n",
      "SSIM_SEL: 0.046302180737257004 - std 0.0395030751824379\n",
      "SSIM_RES: 0.7820622324943542 - std 0.14560796320438385\n",
      "SSIM_SUM 0.41418224573135376 - std 0.06717114895582199\n",
      "\n",
      "--------------------------------------------------\n",
      "=> RUN  7005 6 19 950\n",
      "=> class index: 950\n",
      "Only Keep 6th layers before.\n",
      "Resume from model from exp: 037 at epoch 0\n",
      "Len of new dataset is :30\n",
      "[]\n",
      "(30, 224, 224, 3)\n",
      "(30, 3, 224, 224)\n",
      "=> Register fhook 6\n",
      "=> Register fhook 6\n",
      "RMSE: 4.877628803253174 - std 0.19144457578659058\n",
      "SSIM_SEL: 0.012624647468328476 - std 0.02235209010541439\n",
      "SSIM_RES: 0.290328711271286 - std 0.1047661080956459\n",
      "SSIM_SUM 0.1514766812324524 - std 0.05486702173948288\n",
      "\n",
      "--------------------------------------------------\n",
      "=> RUN  70071 11 75 950\n",
      "=> class index: 950\n",
      "Only Keep 11th layers before.\n",
      "Resume from model from exp: 037 at epoch 0\n",
      "Len of new dataset is :30\n",
      "[]\n",
      "(30, 224, 224, 3)\n",
      "(30, 3, 224, 224)\n",
      "=> Register fhook 11\n",
      "=> Register fhook 11\n",
      "RMSE: 4.426650047302246 - std 1.1933544874191284\n",
      "SSIM_SEL: 0.028256691992282867 - std 0.04063677415251732\n",
      "SSIM_RES: 0.1528283953666687 - std 0.07475876808166504\n",
      "SSIM_SUM 0.09054253995418549 - std 0.04732046276330948\n",
      "\n",
      "--------------------------------------------------\n",
      "=> RUN  7010 18 49 950\n",
      "=> class index: 950\n",
      "Only Keep 18th layers before.\n",
      "Resume from model from exp: 037 at epoch 0\n",
      "Len of new dataset is :30\n",
      "[]\n",
      "(30, 224, 224, 3)\n",
      "(30, 3, 224, 224)\n",
      "=> Register fhook 18\n",
      "=> Register fhook 18\n",
      "RMSE: 4.690042018890381 - std 0.7545163035392761\n",
      "SSIM_SEL: 0.078990139067173 - std 0.0697687566280365\n",
      "SSIM_RES: 0.24828504025936127 - std 0.09793125092983246\n",
      "SSIM_SUM 0.16363759338855743 - std 0.0761079341173172\n",
      "\n",
      "--------------------------------------------------\n",
      "=> RUN  7013 25 1 950\n",
      "=> class index: 950\n",
      "Only Keep 25th layers before.\n",
      "Resume from model from exp: 037 at epoch 0\n",
      "Len of new dataset is :30\n",
      "[]\n",
      "(30, 224, 224, 3)\n",
      "(30, 3, 224, 224)\n",
      "=> Register fhook 25\n",
      "=> Register fhook 25\n",
      "RMSE: 4.903287887573242 - std 1.5391594171524048\n",
      "SSIM_SEL: 0.08453238010406494 - std 0.12440310418605804\n",
      "SSIM_RES: 0.34921976923942566 - std 0.05136234313249588\n",
      "SSIM_SUM 0.2168760746717453 - std 0.07289104908704758\n",
      "\n",
      "--------------------------------------------------\n"
     ]
    }
   ],
   "source": [
    "xlsx = pd.ExcelFile(excel_path)\n",
    "excel = pd.read_excel(xlsx, sheet, Sdtype={\"exp\": str, \n",
    "                                           \"selected_layer\": int,\n",
    "                                           \"selected_filter\": int, \n",
    "                                           \"class_index\": int,\n",
    "                                            \"Done\": str}).values\n",
    "for data in excel:\n",
    "    exp, selected_layer, selected_filter, class_index, done = data[0], data[1], \\\n",
    "        data[2], data[3], data[4]\n",
    "    exp = exp.replace(\"x\", \"\")\n",
    "    if exp in excepts:\n",
    "        print(\"=> Skip\")\n",
    "    else:\n",
    "        if done == \"N\":\n",
    "            print(\"=> RUN \", exp, selected_layer, selected_filter, class_index)\n",
    "            # main(exp, selected_layer, selected_filter, class_index)\n",
    "            ori_activation_maps, opt_activation_maps = main(exp, \n",
    "                                                            selected_layer, \n",
    "                                                            selected_filter, \n",
    "                                                            class_index)\n",
    "            mMetric_v3(ori_activation_maps, opt_activation_maps, \n",
    "                       selected_filter=selected_filter) \n",
    "            print(\"\")\n",
    "            print(\"-\"*50)"
   ]
  },
  {
   "cell_type": "code",
   "execution_count": null,
   "metadata": {},
   "outputs": [],
   "source": []
  }
 ],
 "metadata": {
  "kernelspec": {
   "display_name": "Python 3",
   "language": "python",
   "name": "python3"
  },
  "language_info": {
   "codemirror_mode": {
    "name": "ipython",
    "version": 3
   },
   "file_extension": ".py",
   "mimetype": "text/x-python",
   "name": "python",
   "nbconvert_exporter": "python",
   "pygments_lexer": "ipython3",
   "version": "3.6.10"
  },
  "latex_envs": {
   "LaTeX_envs_menu_present": true,
   "autoclose": false,
   "autocomplete": true,
   "bibliofile": "biblio.bib",
   "cite_by": "apalike",
   "current_citInitial": 1,
   "eqLabelWithNumbers": true,
   "eqNumInitial": 1,
   "hotkeys": {
    "equation": "Ctrl-E",
    "itemize": "Ctrl-I"
   },
   "labels_anchors": false,
   "latex_user_defs": false,
   "report_style_numbering": false,
   "user_envs_cfg": false
  },
  "toc": {
   "base_numbering": 1,
   "nav_menu": {},
   "number_sections": true,
   "sideBar": false,
   "skip_h1_title": false,
   "title_cell": "Table of Contents",
   "title_sidebar": "Contents",
   "toc_cell": false,
   "toc_position": {},
   "toc_section_display": true,
   "toc_window_display": true
  },
  "varInspector": {
   "cols": {
    "lenName": 16,
    "lenType": 16,
    "lenVar": 40
   },
   "kernels_config": {
    "python": {
     "delete_cmd_postfix": "",
     "delete_cmd_prefix": "del ",
     "library": "var_list.py",
     "varRefreshCmd": "print(var_dic_list())"
    },
    "r": {
     "delete_cmd_postfix": ") ",
     "delete_cmd_prefix": "rm(",
     "library": "var_list.r",
     "varRefreshCmd": "cat(var_dic_list()) "
    }
   },
   "types_to_exclude": [
    "module",
    "function",
    "builtin_function_or_method",
    "instance",
    "_Feature"
   ],
   "window_display": false
  }
 },
 "nbformat": 4,
 "nbformat_minor": 4
}
