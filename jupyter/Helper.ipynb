{
 "cells": [
  {
   "cell_type": "code",
   "execution_count": 1,
   "metadata": {
    "ExecuteTime": {
     "end_time": "2019-10-28T06:26:43.063579Z",
     "start_time": "2019-10-28T06:26:43.046380Z"
    }
   },
   "outputs": [],
   "source": [
    "%load_ext autoreload\n",
    "%autoreload 2"
   ]
  },
  {
   "cell_type": "code",
   "execution_count": 2,
   "metadata": {
    "ExecuteTime": {
     "end_time": "2019-10-28T06:26:44.006973Z",
     "start_time": "2019-10-28T06:26:43.562912Z"
    }
   },
   "outputs": [],
   "source": [
    "import torch\n",
    "import torchvision\n",
    "import numpy as np\n",
    "import torchvision.transforms as transforms\n",
    "import sys\n",
    "sys.path.append('../src')\n",
    "import dataset"
   ]
  },
  {
   "cell_type": "markdown",
   "metadata": {},
   "source": [
    "# Calculate mean, std for torchvision's cifar10, cifar100, MNIST"
   ]
  },
  {
   "cell_type": "code",
   "execution_count": 3,
   "metadata": {
    "ExecuteTime": {
     "end_time": "2019-10-28T06:26:44.762211Z",
     "start_time": "2019-10-28T06:26:44.732632Z"
    }
   },
   "outputs": [],
   "source": [
    "def gen_mean_std(dataset, ratio=0.01):\n",
    "    \"\"\"sample 0.1\n",
    "    \"\"\"\n",
    "    dataloader = torch.utils.data.DataLoader(dataset, batch_size=int(len(dataset)*ratio), shuffle=True, num_workers=10)\n",
    "    train = iter(dataloader).next()[0]\n",
    "    mean = np.mean(train.numpy(), axis=(0,2,3))\n",
    "    std = np.std(train.numpy(), axis=(0,2,3))\n",
    "    return mean, std"
   ]
  },
  {
   "cell_type": "markdown",
   "metadata": {},
   "source": [
    "# Differen Dataset"
   ]
  },
  {
   "cell_type": "code",
   "execution_count": 4,
   "metadata": {
    "ExecuteTime": {
     "end_time": "2019-10-28T06:26:52.628074Z",
     "start_time": "2019-10-28T06:26:45.829377Z"
    },
    "scrolled": true
   },
   "outputs": [
    {
     "name": "stdout",
     "output_type": "stream",
     "text": [
      "[0.54959273 0.52337575 0.49149838] [0.32029507 0.31704384 0.3272979 ]\n"
     ]
    }
   ],
   "source": [
    "# caltech \n",
    "train_dataset = dataset.Caltech101(root=\"../data\", is_train=True, transform=transforms.Compose([\n",
    "            transforms.Resize((224,224)),\n",
    "            transforms.ToTensor()\n",
    "        ]))\n",
    "train_mean, train_std = gen_mean_std(train_dataset, ratio=1)\n",
    "print(train_mean, train_std)"
   ]
  },
  {
   "cell_type": "code",
   "execution_count": 18,
   "metadata": {},
   "outputs": [
    {
     "name": "stdout",
     "output_type": "stream",
     "text": [
      "Files already downloaded and verified\n",
      "[0.48915905 0.47926533 0.44592172] [0.24737428 0.24498263 0.2618268 ]\n"
     ]
    }
   ],
   "source": [
    "# cifar10\n",
    "train_dataset = torchvision.datasets.CIFAR10('../data', train=True, download=True, transform=transforms.Compose([transforms.ToTensor()]))\n",
    "train_mean, train_std = gen_mean_std(train_dataset)\n",
    "print(train_mean, train_std)"
   ]
  },
  {
   "cell_type": "code",
   "execution_count": 30,
   "metadata": {},
   "outputs": [
    {
     "name": "stdout",
     "output_type": "stream",
     "text": [
      "Files already downloaded and verified\n",
      "[0.49604437 0.48263332 0.43671504] [0.27043936 0.2545973  0.27637145]\n"
     ]
    }
   ],
   "source": [
    "# cifar100\n",
    "train_dataset = torchvision.datasets.CIFAR100('../data', train=True, download=True, transform=transforms.Compose([transforms.ToTensor()]))\n",
    "train_mean, train_std = gen_mean_std(train_dataset)\n",
    "print(train_mean, train_std)"
   ]
  },
  {
   "cell_type": "code",
   "execution_count": null,
   "metadata": {},
   "outputs": [],
   "source": [
    "# Mini-ImageNet\n",
    "train_dataset = torchvision.datasets.ImageFolder('../data/miniImageNet/train/', transform=transforms.Compose([\n",
    "            transforms.Resize((224,224)),\n",
    "            transforms.ToTensor()\n",
    "        ]))\n",
    "train_mean, train_std = gen_mean_std(train_dataset)\n",
    "print(train_mean, train_std)"
   ]
  },
  {
   "cell_type": "code",
   "execution_count": 5,
   "metadata": {
    "ExecuteTime": {
     "end_time": "2019-03-25T09:16:18.312567Z",
     "start_time": "2019-03-25T09:14:41.917749Z"
    }
   },
   "outputs": [
    {
     "name": "stdout",
     "output_type": "stream",
     "text": [
      "[0.5921026  0.47901225 0.45117727] [0.26520276 0.24511227 0.24672566]\n"
     ]
    }
   ],
   "source": [
    "# sd-198 1\n",
    "train_dataset = datasets.SpecificDataset(dataset_name='SD198', data_augmentation=False, iter_no=0).train_dataset\n",
    "train_mean, train_std = gen_mean_std(train_dataset, ratio=0.1)\n",
    "print(train_mean, train_std)"
   ]
  },
  {
   "cell_type": "code",
   "execution_count": 27,
   "metadata": {
    "ExecuteTime": {
     "end_time": "2019-03-29T12:51:05.578124Z",
     "start_time": "2019-03-29T12:51:03.222822Z"
    }
   },
   "outputs": [
    {
     "name": "stdout",
     "output_type": "stream",
     "text": [
      "[0.25338554 0.08627725 0.01029419] [0.91431177 0.9481566  0.9131112 ]\n"
     ]
    }
   ],
   "source": [
    "# sd-198 2\n",
    "train_dataset = datasets.SpecificDataset(dataset_name='SD198', data_augmentation=False, iter_no=1).train_dataset\n",
    "train_mean, train_std = gen_mean_std(train_dataset, ratio=0.01)\n",
    "print(train_mean, train_std)"
   ]
  },
  {
   "cell_type": "code",
   "execution_count": 28,
   "metadata": {
    "ExecuteTime": {
     "end_time": "2019-03-29T12:51:52.452079Z",
     "start_time": "2019-03-29T12:51:49.845553Z"
    }
   },
   "outputs": [
    {
     "name": "stdout",
     "output_type": "stream",
     "text": [
      "[0.10649281 0.03926077 0.06205735] [0.88490963 0.8685787  0.8774559 ]\n"
     ]
    }
   ],
   "source": [
    "# sd-198 3\n",
    "train_dataset = datasets.SpecificDataset(dataset_name='SD198', data_augmentation=False, iter_no=2).train_dataset\n",
    "train_mean, train_std = gen_mean_std(train_dataset, ratio=0.01)\n",
    "print(train_mean, train_std)"
   ]
  },
  {
   "cell_type": "code",
   "execution_count": 29,
   "metadata": {
    "ExecuteTime": {
     "end_time": "2019-03-29T12:51:55.409662Z",
     "start_time": "2019-03-29T12:51:52.453630Z"
    },
    "scrolled": true
   },
   "outputs": [
    {
     "name": "stderr",
     "output_type": "stream",
     "text": [
      "Exception ignored in: <bound method _DataLoaderIter.__del__ of <torch.utils.data.dataloader._DataLoaderIter object at 0x7fc89b2bd0f0>>\n",
      "Exception ignored in: <bound method _DataLoaderIter.__del__ of <torch.utils.data.dataloader._DataLoaderIter object at 0x7fc89b2bd0f0>>\n",
      "Exception ignored in: <bound method _DataLoaderIter.__del__ of <torch.utils.data.dataloader._DataLoaderIter object at 0x7fc89b2bd0f0>>\n",
      "Traceback (most recent call last):\n",
      "  File \"/home/lincolnzjx/anaconda3/envs/Py36/lib/python3.6/site-packages/torch/utils/data/dataloader.py\", line 717, in __del__\n",
      "Traceback (most recent call last):\n",
      "  File \"/home/lincolnzjx/anaconda3/envs/Py36/lib/python3.6/site-packages/torch/utils/data/dataloader.py\", line 717, in __del__\n",
      "    self._shutdown_workers()\n",
      "    self._shutdown_workers()\n",
      "  File \"/home/lincolnzjx/anaconda3/envs/Py36/lib/python3.6/site-packages/torch/utils/data/dataloader.py\", line 713, in _shutdown_workers\n",
      "Traceback (most recent call last):\n",
      "  File \"/home/lincolnzjx/anaconda3/envs/Py36/lib/python3.6/site-packages/torch/utils/data/dataloader.py\", line 713, in _shutdown_workers\n",
      "    w.join()\n",
      "  File \"/home/lincolnzjx/anaconda3/envs/Py36/lib/python3.6/site-packages/torch/utils/data/dataloader.py\", line 717, in __del__\n",
      "    w.join()\n",
      "    self._shutdown_workers()\n",
      "  File \"/home/lincolnzjx/anaconda3/envs/Py36/lib/python3.6/multiprocessing/process.py\", line 122, in join\n",
      "  File \"/home/lincolnzjx/anaconda3/envs/Py36/lib/python3.6/multiprocessing/process.py\", line 122, in join\n",
      "  File \"/home/lincolnzjx/anaconda3/envs/Py36/lib/python3.6/site-packages/torch/utils/data/dataloader.py\", line 713, in _shutdown_workers\n",
      "    assert self._parent_pid == os.getpid(), 'can only join a child process'\n",
      "    assert self._parent_pid == os.getpid(), 'can only join a child process'\n",
      "AssertionError: can only join a child process\n",
      "AssertionError: can only join a child process\n",
      "    w.join()\n",
      "  File \"/home/lincolnzjx/anaconda3/envs/Py36/lib/python3.6/multiprocessing/process.py\", line 122, in join\n",
      "    assert self._parent_pid == os.getpid(), 'can only join a child process'\n",
      "AssertionError: can only join a child process\n",
      "Exception ignored in: <bound method _DataLoaderIter.__del__ of <torch.utils.data.dataloader._DataLoaderIter object at 0x7fc89b2bd0f0>>\n",
      "Traceback (most recent call last):\n",
      "  File \"/home/lincolnzjx/anaconda3/envs/Py36/lib/python3.6/site-packages/torch/utils/data/dataloader.py\", line 717, in __del__\n",
      "    self._shutdown_workers()\n",
      "  File \"/home/lincolnzjx/anaconda3/envs/Py36/lib/python3.6/site-packages/torch/utils/data/dataloader.py\", line 713, in _shutdown_workers\n",
      "    w.join()\n",
      "  File \"/home/lincolnzjx/anaconda3/envs/Py36/lib/python3.6/multiprocessing/process.py\", line 122, in join\n",
      "    assert self._parent_pid == os.getpid(), 'can only join a child process'\n",
      "AssertionError: can only join a child process\n",
      "Exception ignored in: <bound method _DataLoaderIter.__del__ of <torch.utils.data.dataloader._DataLoaderIter object at 0x7fc89b2bd0f0>>\n",
      "Traceback (most recent call last):\n",
      "  File \"/home/lincolnzjx/anaconda3/envs/Py36/lib/python3.6/site-packages/torch/utils/data/dataloader.py\", line 717, in __del__\n",
      "    self._shutdown_workers()\n",
      "  File \"/home/lincolnzjx/anaconda3/envs/Py36/lib/python3.6/site-packages/torch/utils/data/dataloader.py\", line 713, in _shutdown_workers\n",
      "    w.join()\n",
      "  File \"/home/lincolnzjx/anaconda3/envs/Py36/lib/python3.6/multiprocessing/process.py\", line 122, in join\n",
      "    assert self._parent_pid == os.getpid(), 'can only join a child process'\n",
      "AssertionError: can only join a child process\n",
      "Exception ignored in: <bound method _DataLoaderIter.__del__ of <torch.utils.data.dataloader._DataLoaderIter object at 0x7fc89b2bd0f0>>\n",
      "Traceback (most recent call last):\n",
      "  File \"/home/lincolnzjx/anaconda3/envs/Py36/lib/python3.6/site-packages/torch/utils/data/dataloader.py\", line 717, in __del__\n",
      "    self._shutdown_workers()\n",
      "  File \"/home/lincolnzjx/anaconda3/envs/Py36/lib/python3.6/site-packages/torch/utils/data/dataloader.py\", line 713, in _shutdown_workers\n",
      "    w.join()\n",
      "  File \"/home/lincolnzjx/anaconda3/envs/Py36/lib/python3.6/multiprocessing/process.py\", line 122, in join\n",
      "    assert self._parent_pid == os.getpid(), 'can only join a child process'\n",
      "AssertionError: can only join a child process\n",
      "Exception ignored in: <bound method _DataLoaderIter.__del__ of <torch.utils.data.dataloader._DataLoaderIter object at 0x7fc89b2bd0f0>>\n",
      "Traceback (most recent call last):\n",
      "  File \"/home/lincolnzjx/anaconda3/envs/Py36/lib/python3.6/site-packages/torch/utils/data/dataloader.py\", line 717, in __del__\n",
      "    self._shutdown_workers()\n",
      "  File \"/home/lincolnzjx/anaconda3/envs/Py36/lib/python3.6/site-packages/torch/utils/data/dataloader.py\", line 713, in _shutdown_workers\n",
      "    w.join()\n",
      "  File \"/home/lincolnzjx/anaconda3/envs/Py36/lib/python3.6/multiprocessing/process.py\", line 122, in join\n",
      "    assert self._parent_pid == os.getpid(), 'can only join a child process'\n",
      "AssertionError: can only join a child process\n",
      "Exception ignored in: <bound method _DataLoaderIter.__del__ of <torch.utils.data.dataloader._DataLoaderIter object at 0x7fc89b2bd0f0>>\n",
      "Traceback (most recent call last):\n",
      "  File \"/home/lincolnzjx/anaconda3/envs/Py36/lib/python3.6/site-packages/torch/utils/data/dataloader.py\", line 717, in __del__\n",
      "    self._shutdown_workers()\n",
      "  File \"/home/lincolnzjx/anaconda3/envs/Py36/lib/python3.6/site-packages/torch/utils/data/dataloader.py\", line 713, in _shutdown_workers\n",
      "    w.join()\n",
      "  File \"/home/lincolnzjx/anaconda3/envs/Py36/lib/python3.6/multiprocessing/process.py\", line 122, in join\n",
      "    assert self._parent_pid == os.getpid(), 'can only join a child process'\n",
      "AssertionError: can only join a child process\n"
     ]
    },
    {
     "name": "stdout",
     "output_type": "stream",
     "text": [
      "[ 0.03861747 -0.01254432 -0.04720071] [0.94373405 0.91663104 0.9304368 ]\n"
     ]
    }
   ],
   "source": [
    "# sd-198 4\n",
    "train_dataset = datasets.SpecificDataset(dataset_name='SD198', data_augmentation=False, iter_no=3).train_dataset\n",
    "train_mean, train_std = gen_mean_std(train_dataset, ratio=0.01)\n",
    "print(train_mean, train_std)"
   ]
  },
  {
   "cell_type": "code",
   "execution_count": 30,
   "metadata": {
    "ExecuteTime": {
     "end_time": "2019-03-29T12:51:57.679585Z",
     "start_time": "2019-03-29T12:51:55.410772Z"
    }
   },
   "outputs": [
    {
     "name": "stderr",
     "output_type": "stream",
     "text": [
      "Exception ignored in: <bound method _DataLoaderIter.__del__ of <torch.utils.data.dataloader._DataLoaderIter object at 0x7fc89b2bd0f0>>\n",
      "Traceback (most recent call last):\n",
      "  File \"/home/lincolnzjx/anaconda3/envs/Py36/lib/python3.6/site-packages/torch/utils/data/dataloader.py\", line 717, in __del__\n",
      "Exception ignored in: <bound method _DataLoaderIter.__del__ of <torch.utils.data.dataloader._DataLoaderIter object at 0x7fc89b2bd0f0>>\n",
      "    self._shutdown_workers()\n",
      "  File \"/home/lincolnzjx/anaconda3/envs/Py36/lib/python3.6/site-packages/torch/utils/data/dataloader.py\", line 713, in _shutdown_workers\n",
      "    w.join()\n",
      "  File \"/home/lincolnzjx/anaconda3/envs/Py36/lib/python3.6/multiprocessing/process.py\", line 122, in join\n",
      "Traceback (most recent call last):\n",
      "    assert self._parent_pid == os.getpid(), 'can only join a child process'\n",
      "  File \"/home/lincolnzjx/anaconda3/envs/Py36/lib/python3.6/site-packages/torch/utils/data/dataloader.py\", line 717, in __del__\n",
      "AssertionError: can only join a child process\n",
      "    self._shutdown_workers()\n",
      "Exception ignored in: <bound method _DataLoaderIter.__del__ of <torch.utils.data.dataloader._DataLoaderIter object at 0x7fc89b2bd0f0>>\n",
      "  File \"/home/lincolnzjx/anaconda3/envs/Py36/lib/python3.6/site-packages/torch/utils/data/dataloader.py\", line 713, in _shutdown_workers\n",
      "Traceback (most recent call last):\n",
      "    w.join()\n",
      "  File \"/home/lincolnzjx/anaconda3/envs/Py36/lib/python3.6/multiprocessing/process.py\", line 122, in join\n",
      "  File \"/home/lincolnzjx/anaconda3/envs/Py36/lib/python3.6/site-packages/torch/utils/data/dataloader.py\", line 717, in __del__\n",
      "    assert self._parent_pid == os.getpid(), 'can only join a child process'\n",
      "AssertionError: can only join a child process\n",
      "    self._shutdown_workers()\n",
      "Exception ignored in: <bound method _DataLoaderIter.__del__ of <torch.utils.data.dataloader._DataLoaderIter object at 0x7fc89b2bd0f0>>\n",
      "Exception ignored in: <bound method _DataLoaderIter.__del__ of <torch.utils.data.dataloader._DataLoaderIter object at 0x7fc89b2bd0f0>>\n",
      "Traceback (most recent call last):\n",
      "  File \"/home/lincolnzjx/anaconda3/envs/Py36/lib/python3.6/site-packages/torch/utils/data/dataloader.py\", line 713, in _shutdown_workers\n",
      "  File \"/home/lincolnzjx/anaconda3/envs/Py36/lib/python3.6/site-packages/torch/utils/data/dataloader.py\", line 717, in __del__\n",
      "    w.join()\n",
      "  File \"/home/lincolnzjx/anaconda3/envs/Py36/lib/python3.6/multiprocessing/process.py\", line 122, in join\n",
      "Traceback (most recent call last):\n",
      "Exception ignored in: <bound method _DataLoaderIter.__del__ of <torch.utils.data.dataloader._DataLoaderIter object at 0x7fc89b2bd0f0>>\n",
      "  File \"/home/lincolnzjx/anaconda3/envs/Py36/lib/python3.6/site-packages/torch/utils/data/dataloader.py\", line 717, in __del__\n",
      "Exception ignored in: <bound method _DataLoaderIter.__del__ of <torch.utils.data.dataloader._DataLoaderIter object at 0x7fc89b2bd0f0>>\n",
      "    self._shutdown_workers()\n",
      "Traceback (most recent call last):\n",
      "Traceback (most recent call last):\n",
      "  File \"/home/lincolnzjx/anaconda3/envs/Py36/lib/python3.6/site-packages/torch/utils/data/dataloader.py\", line 717, in __del__\n",
      "    assert self._parent_pid == os.getpid(), 'can only join a child process'\n",
      "Exception ignored in: <bound method _DataLoaderIter.__del__ of <torch.utils.data.dataloader._DataLoaderIter object at 0x7fc89b2bd0f0>>\n",
      "Exception ignored in: <bound method _DataLoaderIter.__del__ of <torch.utils.data.dataloader._DataLoaderIter object at 0x7fc89b2bd0f0>>\n",
      "  File \"/home/lincolnzjx/anaconda3/envs/Py36/lib/python3.6/site-packages/torch/utils/data/dataloader.py\", line 713, in _shutdown_workers\n",
      "    self._shutdown_workers()\n",
      "  File \"/home/lincolnzjx/anaconda3/envs/Py36/lib/python3.6/site-packages/torch/utils/data/dataloader.py\", line 717, in __del__\n",
      "    w.join()\n",
      "Traceback (most recent call last):\n",
      "AssertionError: can only join a child process\n",
      "Traceback (most recent call last):\n",
      "  File \"/home/lincolnzjx/anaconda3/envs/Py36/lib/python3.6/site-packages/torch/utils/data/dataloader.py\", line 717, in __del__\n",
      "    self._shutdown_workers()\n",
      "  File \"/home/lincolnzjx/anaconda3/envs/Py36/lib/python3.6/site-packages/torch/utils/data/dataloader.py\", line 713, in _shutdown_workers\n",
      "  File \"/home/lincolnzjx/anaconda3/envs/Py36/lib/python3.6/multiprocessing/process.py\", line 122, in join\n",
      "  File \"/home/lincolnzjx/anaconda3/envs/Py36/lib/python3.6/site-packages/torch/utils/data/dataloader.py\", line 713, in _shutdown_workers\n",
      "    self._shutdown_workers()\n",
      "  File \"/home/lincolnzjx/anaconda3/envs/Py36/lib/python3.6/site-packages/torch/utils/data/dataloader.py\", line 717, in __del__\n",
      "    w.join()\n",
      "    self._shutdown_workers()\n",
      "    assert self._parent_pid == os.getpid(), 'can only join a child process'\n",
      "  File \"/home/lincolnzjx/anaconda3/envs/Py36/lib/python3.6/site-packages/torch/utils/data/dataloader.py\", line 713, in _shutdown_workers\n",
      "AssertionError: can only join a child process\n",
      "  File \"/home/lincolnzjx/anaconda3/envs/Py36/lib/python3.6/multiprocessing/process.py\", line 122, in join\n",
      "    self._shutdown_workers()\n",
      "  File \"/home/lincolnzjx/anaconda3/envs/Py36/lib/python3.6/site-packages/torch/utils/data/dataloader.py\", line 713, in _shutdown_workers\n",
      "Exception ignored in: <bound method _DataLoaderIter.__del__ of <torch.utils.data.dataloader._DataLoaderIter object at 0x7fc89b2bd0f0>>\n",
      "    assert self._parent_pid == os.getpid(), 'can only join a child process'\n",
      "    w.join()\n",
      "    w.join()\n",
      "Traceback (most recent call last):\n",
      "    w.join()\n",
      "  File \"/home/lincolnzjx/anaconda3/envs/Py36/lib/python3.6/site-packages/torch/utils/data/dataloader.py\", line 717, in __del__\n",
      "  File \"/home/lincolnzjx/anaconda3/envs/Py36/lib/python3.6/multiprocessing/process.py\", line 122, in join\n",
      "    self._shutdown_workers()\n",
      "    assert self._parent_pid == os.getpid(), 'can only join a child process'\n",
      "  File \"/home/lincolnzjx/anaconda3/envs/Py36/lib/python3.6/site-packages/torch/utils/data/dataloader.py\", line 713, in _shutdown_workers\n",
      "AssertionError: can only join a child process\n",
      "  File \"/home/lincolnzjx/anaconda3/envs/Py36/lib/python3.6/site-packages/torch/utils/data/dataloader.py\", line 713, in _shutdown_workers\n",
      "AssertionError: can only join a child process\n",
      "  File \"/home/lincolnzjx/anaconda3/envs/Py36/lib/python3.6/multiprocessing/process.py\", line 122, in join\n",
      "    w.join()\n",
      "    assert self._parent_pid == os.getpid(), 'can only join a child process'\n",
      "  File \"/home/lincolnzjx/anaconda3/envs/Py36/lib/python3.6/multiprocessing/process.py\", line 122, in join\n",
      "    assert self._parent_pid == os.getpid(), 'can only join a child process'\n",
      "AssertionError: can only join a child process\n",
      "AssertionError: can only join a child process\n",
      "    w.join()\n",
      "  File \"/home/lincolnzjx/anaconda3/envs/Py36/lib/python3.6/multiprocessing/process.py\", line 122, in join\n",
      "    assert self._parent_pid == os.getpid(), 'can only join a child process'\n",
      "  File \"/home/lincolnzjx/anaconda3/envs/Py36/lib/python3.6/multiprocessing/process.py\", line 122, in join\n",
      "    assert self._parent_pid == os.getpid(), 'can only join a child process'\n",
      "AssertionError: can only join a child process\n",
      "AssertionError: can only join a child process\n"
     ]
    },
    {
     "name": "stdout",
     "output_type": "stream",
     "text": [
      "[ 0.15823184  0.02122124 -0.01373529] [0.9062277 0.900465  0.9045457]\n"
     ]
    }
   ],
   "source": [
    "# sd-198 5\n",
    "train_dataset = datasets.SpecificDataset(dataset_name='SD198', data_augmentation=False, iter_no=4).train_dataset\n",
    "train_mean, train_std = gen_mean_std(train_dataset, ratio=0.01)\n",
    "print(train_mean, train_std)"
   ]
  },
  {
   "cell_type": "code",
   "execution_count": null,
   "metadata": {},
   "outputs": [],
   "source": []
  }
 ],
 "metadata": {
  "kernelspec": {
   "display_name": "Python 3",
   "language": "python",
   "name": "python3"
  },
  "language_info": {
   "codemirror_mode": {
    "name": "ipython",
    "version": 3
   },
   "file_extension": ".py",
   "mimetype": "text/x-python",
   "name": "python",
   "nbconvert_exporter": "python",
   "pygments_lexer": "ipython3",
   "version": "3.7.5"
  }
 },
 "nbformat": 4,
 "nbformat_minor": 2
}
