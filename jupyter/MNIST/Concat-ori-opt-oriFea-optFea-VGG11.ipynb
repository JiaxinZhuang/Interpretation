{
 "cells": [
  {
   "cell_type": "code",
   "execution_count": 1,
   "metadata": {
    "ExecuteTime": {
     "end_time": "2020-07-28T08:19:01.329297Z",
     "start_time": "2020-07-28T08:19:01.316667Z"
    },
    "scrolled": false
   },
   "outputs": [],
   "source": [
    "%load_ext autoreload\n",
    "%autoreload 2\n",
    "%config InlineBackend.figure_format = 'svg'"
   ]
  },
  {
   "cell_type": "markdown",
   "metadata": {},
   "source": [
    "## Import module"
   ]
  },
  {
   "cell_type": "code",
   "execution_count": 2,
   "metadata": {
    "ExecuteTime": {
     "end_time": "2020-07-28T08:19:02.361253Z",
     "start_time": "2020-07-28T08:19:01.330466Z"
    }
   },
   "outputs": [],
   "source": [
    "import os\n",
    "os.environ[\"CUDA_DEVICE_ORDER\"] = \"PCI_BUS_ID\"\n",
    "os.environ[\"CUDA_VISIBLE_DEVICES\"] = \"0\"\n",
    "\n",
    "import torch\n",
    "import os\n",
    "import numpy as np\n",
    "from torchsummary import summary\n",
    "from torchvision import transforms                                                                                                                                        \n",
    "import matplotlib as mpl\n",
    "mpl.rcParams['figure.dpi'] = 600\n",
    "from PIL import Image\n",
    "import pandas as pd\n",
    "\n",
    "import sys\n",
    "sys.path.append(\"../../src/\")\n",
    "sys.path.append(\"../\")\n",
    "import model\n",
    "import dataset\n",
    "import config\n",
    "from aux.utils import obtain_features_map, load_imgs, zscore, extract_valid\n",
    "from aux.visualization import visualize_features_map\n",
    "from aux.visualization import visualize_features_map_for_comparision\n",
    "from utils.visualizations.visualize import concat_imgs, preprocess_arrays"
   ]
  },
  {
   "cell_type": "markdown",
   "metadata": {},
   "source": [
    "## Main"
   ]
  },
  {
   "cell_type": "code",
   "execution_count": 3,
   "metadata": {
    "ExecuteTime": {
     "end_time": "2020-07-28T08:19:02.385446Z",
     "start_time": "2020-07-28T08:19:02.362334Z"
    }
   },
   "outputs": [],
   "source": [
    "def main(exp, selected_layer, selected_filter, class_index=950):\n",
    "    num_class = 30\n",
    "    class_index = class_index\n",
    "    print(\"=> class index: {}\".format(class_index))\n",
    "    # Modified here\n",
    "    backbone = \"vgg11\"\n",
    "    resume = \"072200-22\"\n",
    "    \n",
    "    color_map = \"jet\"\n",
    "    model_dir = \"/home/lincolnzjx/Desktop/Interpretation/saved/models\"\n",
    "    device = torch.device(\"cuda:0\" if torch.cuda.is_available() else \"cpu\")\n",
    "    \n",
    "    ## Load modal from dict\n",
    "    \n",
    "    # model\n",
    "    net = model.Network(backbone=backbone, num_classes=1000, \n",
    "                        selected_layer=selected_layer)\n",
    "    net.to(device)\n",
    "    \n",
    "    # resume from model\n",
    "    resume_exp = resume.split(\"-\")[0]\n",
    "    resume_epoch = resume.split(\"-\")[1]\n",
    "    print(\"Resume from model from exp: {} at epoch {}\".format(resume_exp, resume_epoch))\n",
    "    resume_path = os.path.join(model_dir, str(resume_exp), str(resume_epoch))\n",
    "    ckpt = torch.load(resume_path, map_location=device)\n",
    "    net.load_state_dict(ckpt, strict=False) \n",
    "    \n",
    "    summary(net, (1, 224, 224))\n",
    "    \n",
    "    ## Load Original Data \n",
    "    \n",
    "    # Load data\n",
    "    mean, std = (0.1307,), (0.3081,)\n",
    "    reverse_mean = (-0.1307,)\n",
    "    reverse_std = (1/0.3081,)\n",
    "    train_transform = transforms.Compose([                                                                                                                                \n",
    "        transforms.Resize((224, 224), interpolation=Image.BILINEAR),                                                                                              \n",
    "        transforms.ToTensor(),                                                                                                                                            \n",
    "        transforms.Normalize(mean, std)                                                                                                                                   \n",
    "           ])         \n",
    "    trainset = dataset.MNIST(root=\"/media/lincolnzjx/HardDisk/Datasets/\", \n",
    "                              is_train=True, transform=train_transform)\n",
    "    train_transform = transforms.Compose([                                                                                                                                \n",
    "        transforms.Resize((224, 224), interpolation=Image.BILINEAR),                                                                                              \n",
    "        transforms.ToTensor(),                                                                                                                                            \n",
    "        ])         \n",
    "    \n",
    "    trainset.set_data([class_index], num_class)\n",
    "    imgs_path = []                                                                                                                                                            \n",
    "    images = []\n",
    "    labels = []\n",
    "    for img, label, img_path in trainset:                                                                                                                                     \n",
    "        images.append(img.unsqueeze(0))                                                                                                                                       \n",
    "        labels.append(label)                                                                                                                                                  \n",
    "        imgs_path.append(img_path)  \n",
    "    \n",
    "    ## Create some need path\n",
    "    \n",
    "    save_dir = \"../../saved/pack/\"\n",
    "    ################### Hyper-Parameter #######################\n",
    "    # exp = resume_exp\n",
    "    # epoch = resume_epoch\n",
    "    ##########################################################\n",
    "    ab_path = os.path.join(save_dir, exp)\n",
    "    \n",
    "    index2image = {index: item.split(\"/\")[-1].split(\".\")[0] for index, item in enumerate(imgs_path)}\n",
    "    index2image\n",
    "    \n",
    "    images_cpu = np.array([image.detach().clone().cpu().numpy().squeeze() for image in images])\n",
    "    \n",
    "    # Load image\n",
    "    # ext may be different.\n",
    "    optimized_data, valid_imgs_path, valid_imgs_index = load_imgs(ab_path, imgs_path, non_exists_ok=True, ext=\".png\")\n",
    "    valid_imgs, valid_labels = extract_valid(images, labels, valid_imgs_index)\n",
    "    optimized_data_zscore = zscore(optimized_data, mean, std)\n",
    "    images_zscore = zscore(images_cpu, mean, std)\n",
    "    \n",
    "    # Move to device\n",
    "    opt_image = torch.from_numpy(optimized_data_zscore).to(device)\n",
    "    original_image = torch.from_numpy(images_zscore).to(device)\n",
    "    \n",
    "    ## Obtain feature from conv layers.\n",
    "    \n",
    "    ori_activation_maps = net.get_activation_maps(original_image, \n",
    "                                                  selected_layer=selected_layer)[0]\n",
    "    opt_activation_maps = net.get_activation_maps(opt_image, \n",
    "                                                  selected_layer=selected_layer)[0]\n",
    "    \n",
    "    images_cpu, optimized_data_cpu, ori_activation_maps_cpu, \\\n",
    "       opt_activation_maps_cpu, optimized_data_cpu_scale, \\\n",
    "       diff_activation_maps_cpu,\\\n",
    "       ori_activation_maps_cpu_n1e1, opt_activation_maps_cpu_n1e1, \\\n",
    "       diff_activation_maps_cpu_n1e1,\\\n",
    "       ori_activation_maps_cpu_n2e1, opt_activation_maps_cpu_n2e1, \\\n",
    "       diff_activation_maps_cpu_n2e1,\\\n",
    "       ori_activation_maps_cpu_n4e1, opt_activation_maps_cpu_n4e1,\\\n",
    "       diff_activation_maps_cpu_n4e1 = \\\n",
    "       preprocess_arrays(images_cpu, optimized_data,\n",
    "                         ori_activation_maps, opt_activation_maps,\n",
    "                         selected_filter, color_map=color_map)\n",
    "    concated_imgs, concated_fms, concated_imgs_fms, out_not_resize_img = \\\n",
    "      concat_imgs(\n",
    "        images_cpu, optimized_data_cpu,\n",
    "        ori_activation_maps_cpu, opt_activation_maps_cpu,\n",
    "        optimized_data_cpu_scale, diff_activation_maps_cpu,\n",
    "        ori_activation_maps_cpu_n1e1, opt_activation_maps_cpu_n1e1,\n",
    "        diff_activation_maps_cpu_n1e1,\n",
    "        ori_activation_maps_cpu_n2e1, opt_activation_maps_cpu_n2e1,\n",
    "        diff_activation_maps_cpu_n2e1,\n",
    "        ori_activation_maps_cpu_n4e1, opt_activation_maps_cpu_n4e1,\n",
    "        diff_activation_maps_cpu_n4e1)\n",
    "    # imgs\n",
    "    save_imgs_path = os.path.join(\"../../saved/pack/\", exp, \n",
    "                                  \"concat.png\")\n",
    "    concated_imgs.save(save_imgs_path)\n",
    "    # fms \n",
    "    save_fms_path = os.path.join(\"../../saved/pack/\", exp, \n",
    "                                  \"concat_fms.png\")\n",
    "    concated_fms.save(save_fms_path)\n",
    "    # imgs & fms\n",
    "    save_imgs_fms_path = os.path.join(\"../../saved/pack/\", exp, \n",
    "                                      \"concat_imgs_fms.png\")\n",
    "    concated_imgs_fms.save(save_imgs_fms_path)\n",
    "    # not_resize\n",
    "    save_imgs_not_resize_path = os.path.join(\"../../saved/pack/\", exp,\n",
    "                                             \"concat_imgs_fm_not_resize.png\")\n",
    "    out_not_resize_img.save(save_imgs_not_resize_path)\n",
    "    \n",
    "    \n",
    "    save_dict = {\n",
    "        \"save_dir\": \"../../saved/pack/\"+ exp + \"/feature_map/\",\n",
    "        \"index2image\": index2image, \n",
    "        \"save_name\": \"layer-{}-{}.pdf\"\n",
    "    }\n",
    "    try: \n",
    "        os.mkdir(save_dict[\"save_dir\"])\n",
    "    except FileExistsError:\n",
    "        print(\"Directory has been created {}\".format(save_dict[\"save_dir\"]))\n",
    "        \n",
    "    conv_output_indexes_dict = {0:0}\n",
    "    layer_index = 0\n",
    "    print(ori_activation_maps.shape)\n",
    "    visualize_features_map_for_comparision(img_index=0, layer_index=layer_index, \n",
    "                                           features_map=[ori_activation_maps], \n",
    "                                           opt_feature_map=[opt_activation_maps], \n",
    "                                           cols=8, \n",
    "                                           conv_output_index_dict=conv_output_indexes_dict, \n",
    "                                           save_dict=save_dict, is_save=True,\n",
    "                                           #plt_mode=\"img_scale\", \n",
    "                                           plt_mode=\"single\", \n",
    "                                           color_map = color_map,\n",
    "                                           layer_name=selected_layer,\n",
    "                                           selected_filter=selected_filter)"
   ]
  },
  {
   "cell_type": "markdown",
   "metadata": {},
   "source": [
    "## PATH"
   ]
  },
  {
   "cell_type": "code",
   "execution_count": 4,
   "metadata": {
    "ExecuteTime": {
     "end_time": "2020-07-28T08:19:02.405208Z",
     "start_time": "2020-07-28T08:19:02.386489Z"
    }
   },
   "outputs": [],
   "source": [
    "excel_path = \"../../src/exps.xlsx\"\n",
    "sheet = \"baseline_mnist\"\n",
    "excepts = [\"052148\"]"
   ]
  },
  {
   "cell_type": "code",
   "execution_count": 5,
   "metadata": {
    "ExecuteTime": {
     "end_time": "2020-07-28T08:19:02.417080Z",
     "start_time": "2020-07-28T08:19:02.406241Z"
    }
   },
   "outputs": [],
   "source": [
    "exp_index = \"x072800\""
   ]
  },
  {
   "cell_type": "markdown",
   "metadata": {},
   "source": [
    "## RUN"
   ]
  },
  {
   "cell_type": "code",
   "execution_count": 6,
   "metadata": {
    "ExecuteTime": {
     "end_time": "2020-07-28T08:19:05.258083Z",
     "start_time": "2020-07-28T08:19:02.417885Z"
    },
    "scrolled": false
   },
   "outputs": [
    {
     "name": "stdout",
     "output_type": "stream",
     "text": [
      "=> RUN on  5 072800 1 22 0\n",
      "=> class index: 0\n",
      "Only Keep 1th layers before.\n",
      "Resume from model from exp: 072200 at epoch 22\n",
      "----------------------------------------------------------------\n",
      "        Layer (type)               Output Shape         Param #\n",
      "================================================================\n",
      "            Conv2d-1         [-1, 64, 224, 224]             640\n",
      "              ReLU-2         [-1, 64, 224, 224]               0\n",
      "             VGG11-3         [-1, 64, 224, 224]               0\n",
      "================================================================\n",
      "Total params: 640\n",
      "Trainable params: 640\n",
      "Non-trainable params: 0\n",
      "----------------------------------------------------------------\n",
      "Input size (MB): 0.19\n",
      "Forward/backward pass size (MB): 73.50\n",
      "Params size (MB): 0.00\n",
      "Estimated Total Size (MB): 73.69\n",
      "----------------------------------------------------------------\n",
      "Len of new dataset is :30\n",
      "../../saved/pack/072800\n",
      "(30, 224, 224, 3)\n"
     ]
    },
    {
     "ename": "IndexError",
     "evalue": "tuple index out of range",
     "output_type": "error",
     "traceback": [
      "\u001b[0;31m---------------------------------------------------------------------------\u001b[0m",
      "\u001b[0;31mIndexError\u001b[0m                                Traceback (most recent call last)",
      "\u001b[0;32m<ipython-input-6-1731d41b3660>\u001b[0m in \u001b[0;36m<module>\u001b[0;34m\u001b[0m\n\u001b[1;32m     28\u001b[0m                   class_index)\n\u001b[1;32m     29\u001b[0m             main(exp, selected_layer, \n\u001b[0;32m---> 30\u001b[0;31m                  selected_filter, class_index)\n\u001b[0m",
      "\u001b[0;32m<ipython-input-3-8f2a5c0015cb>\u001b[0m in \u001b[0;36mmain\u001b[0;34m(exp, selected_layer, selected_filter, class_index)\u001b[0m\n\u001b[1;32m     73\u001b[0m     \u001b[0moptimized_data\u001b[0m\u001b[0;34m,\u001b[0m \u001b[0mvalid_imgs_path\u001b[0m\u001b[0;34m,\u001b[0m \u001b[0mvalid_imgs_index\u001b[0m \u001b[0;34m=\u001b[0m \u001b[0mload_imgs\u001b[0m\u001b[0;34m(\u001b[0m\u001b[0mab_path\u001b[0m\u001b[0;34m,\u001b[0m \u001b[0mimgs_path\u001b[0m\u001b[0;34m,\u001b[0m \u001b[0mnon_exists_ok\u001b[0m\u001b[0;34m=\u001b[0m\u001b[0;32mTrue\u001b[0m\u001b[0;34m,\u001b[0m \u001b[0mext\u001b[0m\u001b[0;34m=\u001b[0m\u001b[0;34m\".png\"\u001b[0m\u001b[0;34m)\u001b[0m\u001b[0;34m\u001b[0m\u001b[0;34m\u001b[0m\u001b[0m\n\u001b[1;32m     74\u001b[0m     \u001b[0mvalid_imgs\u001b[0m\u001b[0;34m,\u001b[0m \u001b[0mvalid_labels\u001b[0m \u001b[0;34m=\u001b[0m \u001b[0mextract_valid\u001b[0m\u001b[0;34m(\u001b[0m\u001b[0mimages\u001b[0m\u001b[0;34m,\u001b[0m \u001b[0mlabels\u001b[0m\u001b[0;34m,\u001b[0m \u001b[0mvalid_imgs_index\u001b[0m\u001b[0;34m)\u001b[0m\u001b[0;34m\u001b[0m\u001b[0;34m\u001b[0m\u001b[0m\n\u001b[0;32m---> 75\u001b[0;31m     \u001b[0moptimized_data_zscore\u001b[0m \u001b[0;34m=\u001b[0m \u001b[0mzscore\u001b[0m\u001b[0;34m(\u001b[0m\u001b[0moptimized_data\u001b[0m\u001b[0;34m,\u001b[0m \u001b[0mmean\u001b[0m\u001b[0;34m,\u001b[0m \u001b[0mstd\u001b[0m\u001b[0;34m)\u001b[0m\u001b[0;34m\u001b[0m\u001b[0;34m\u001b[0m\u001b[0m\n\u001b[0m\u001b[1;32m     76\u001b[0m     \u001b[0mimages_zscore\u001b[0m \u001b[0;34m=\u001b[0m \u001b[0mzscore\u001b[0m\u001b[0;34m(\u001b[0m\u001b[0mimages_cpu\u001b[0m\u001b[0;34m,\u001b[0m \u001b[0mmean\u001b[0m\u001b[0;34m,\u001b[0m \u001b[0mstd\u001b[0m\u001b[0;34m)\u001b[0m\u001b[0;34m\u001b[0m\u001b[0;34m\u001b[0m\u001b[0m\n\u001b[1;32m     77\u001b[0m \u001b[0;34m\u001b[0m\u001b[0m\n",
      "\u001b[0;32m~/Desktop/Interpretation/jupyter/aux/utils.py\u001b[0m in \u001b[0;36mzscore\u001b[0;34m(optimized_data, mean, std)\u001b[0m\n\u001b[1;32m    202\u001b[0m     \u001b[0;32mfor\u001b[0m \u001b[0mchannel\u001b[0m \u001b[0;32min\u001b[0m \u001b[0mrange\u001b[0m\u001b[0;34m(\u001b[0m\u001b[0mchannels\u001b[0m\u001b[0;34m)\u001b[0m\u001b[0;34m:\u001b[0m\u001b[0;34m\u001b[0m\u001b[0;34m\u001b[0m\u001b[0m\n\u001b[1;32m    203\u001b[0m         \u001b[0moptimized_data\u001b[0m\u001b[0;34m[\u001b[0m\u001b[0;34m:\u001b[0m\u001b[0;34m,\u001b[0m \u001b[0mchannel\u001b[0m\u001b[0;34m,\u001b[0m \u001b[0;34m:\u001b[0m\u001b[0;34m,\u001b[0m \u001b[0;34m:\u001b[0m\u001b[0;34m]\u001b[0m \u001b[0;34m=\u001b[0m \u001b[0moptimized_data\u001b[0m\u001b[0;34m[\u001b[0m\u001b[0;34m:\u001b[0m\u001b[0;34m,\u001b[0m \u001b[0mchannel\u001b[0m\u001b[0;34m,\u001b[0m \u001b[0;34m:\u001b[0m\u001b[0;34m,\u001b[0m \u001b[0;34m:\u001b[0m\u001b[0;34m]\u001b[0m \u001b[0;34m-\u001b[0m\u001b[0;31m\\\u001b[0m\u001b[0;34m\u001b[0m\u001b[0;34m\u001b[0m\u001b[0m\n\u001b[0;32m--> 204\u001b[0;31m             \u001b[0mmean\u001b[0m\u001b[0;34m[\u001b[0m\u001b[0mchannel\u001b[0m\u001b[0;34m]\u001b[0m\u001b[0;34m\u001b[0m\u001b[0;34m\u001b[0m\u001b[0m\n\u001b[0m\u001b[1;32m    205\u001b[0m         \u001b[0moptimized_data\u001b[0m\u001b[0;34m[\u001b[0m\u001b[0;34m:\u001b[0m\u001b[0;34m,\u001b[0m \u001b[0mchannel\u001b[0m\u001b[0;34m,\u001b[0m \u001b[0;34m:\u001b[0m\u001b[0;34m,\u001b[0m \u001b[0;34m:\u001b[0m\u001b[0;34m]\u001b[0m \u001b[0;34m=\u001b[0m \u001b[0moptimized_data\u001b[0m\u001b[0;34m[\u001b[0m\u001b[0;34m:\u001b[0m\u001b[0;34m,\u001b[0m \u001b[0mchannel\u001b[0m\u001b[0;34m,\u001b[0m \u001b[0;34m:\u001b[0m\u001b[0;34m,\u001b[0m \u001b[0;34m:\u001b[0m\u001b[0;34m]\u001b[0m \u001b[0;34m/\u001b[0m\u001b[0;31m\\\u001b[0m\u001b[0;34m\u001b[0m\u001b[0;34m\u001b[0m\u001b[0m\n\u001b[1;32m    206\u001b[0m             \u001b[0mstd\u001b[0m\u001b[0;34m[\u001b[0m\u001b[0mchannel\u001b[0m\u001b[0;34m]\u001b[0m\u001b[0;34m\u001b[0m\u001b[0;34m\u001b[0m\u001b[0m\n",
      "\u001b[0;31mIndexError\u001b[0m: tuple index out of range"
     ]
    }
   ],
   "source": [
    "xlsx = pd.ExcelFile(excel_path)\n",
    "excel = pd.read_excel(xlsx, sheet, Sdtype={\"exp\": str, \n",
    "                                           \"Done\": str,\n",
    "                                           \"selected_layer\": int,\n",
    "                                           \"selected_filter\": int, \n",
    "                                           \"Alpha\": int,\n",
    "                                           \"Beta\": int,\n",
    "                                           \"Gamma\": int,\n",
    "                                           \"cuda\": int,\n",
    "                                           \"class_index\": int,\n",
    "                                           \"num_class\": int,\n",
    "                                           \"re_size\": int,\n",
    "                                           \"dataset\": str,\n",
    "                                           \"backbone\": str}).values\n",
    "\n",
    "for data in excel:\n",
    "    exp, done, selected_layer, selected_filter, alpha, beta, gamma, cuda, \\\n",
    "        class_index, num_class, re_size, dataset_name, backbone = data\n",
    "    if exp != exp_index:\n",
    "        continue\n",
    "        \n",
    "    exp = exp.replace(\"x\", \"\")\n",
    "    if exp in excepts:\n",
    "        print(\"=> Skip\")\n",
    "    else:\n",
    "        if done == \"N\":\n",
    "            print(\"=> RUN on \", cuda, exp, selected_layer, selected_filter, \n",
    "                  class_index)\n",
    "            main(exp, selected_layer, \n",
    "                 selected_filter, class_index)"
   ]
  },
  {
   "cell_type": "code",
   "execution_count": null,
   "metadata": {
    "ExecuteTime": {
     "end_time": "2020-07-28T08:19:05.261340Z",
     "start_time": "2020-07-28T08:19:01.318Z"
    }
   },
   "outputs": [],
   "source": [
    "   mean, std = (0.1307,), (0.3081,)"
   ]
  },
  {
   "cell_type": "code",
   "execution_count": null,
   "metadata": {
    "ExecuteTime": {
     "end_time": "2020-07-28T08:14:14.395857Z",
     "start_time": "2020-07-28T08:14:14.381165Z"
    }
   },
   "outputs": [],
   "source": []
  },
  {
   "cell_type": "code",
   "execution_count": null,
   "metadata": {},
   "outputs": [],
   "source": []
  }
 ],
 "metadata": {
  "kernelspec": {
   "display_name": "Python 3",
   "language": "python",
   "name": "python3"
  },
  "language_info": {
   "codemirror_mode": {
    "name": "ipython",
    "version": 3
   },
   "file_extension": ".py",
   "mimetype": "text/x-python",
   "name": "python",
   "nbconvert_exporter": "python",
   "pygments_lexer": "ipython3",
   "version": "3.6.10"
  },
  "latex_envs": {
   "LaTeX_envs_menu_present": true,
   "autoclose": false,
   "autocomplete": true,
   "bibliofile": "biblio.bib",
   "cite_by": "apalike",
   "current_citInitial": 1,
   "eqLabelWithNumbers": true,
   "eqNumInitial": 1,
   "hotkeys": {
    "equation": "Ctrl-E",
    "itemize": "Ctrl-I"
   },
   "labels_anchors": false,
   "latex_user_defs": false,
   "report_style_numbering": false,
   "user_envs_cfg": false
  },
  "toc": {
   "base_numbering": 1,
   "nav_menu": {},
   "number_sections": true,
   "sideBar": false,
   "skip_h1_title": false,
   "title_cell": "Table of Contents",
   "title_sidebar": "Contents",
   "toc_cell": false,
   "toc_position": {
    "height": "829px",
    "left": "10px",
    "top": "150px",
    "width": "255.344px"
   },
   "toc_section_display": true,
   "toc_window_display": true
  },
  "varInspector": {
   "cols": {
    "lenName": 16,
    "lenType": 16,
    "lenVar": 40
   },
   "kernels_config": {
    "python": {
     "delete_cmd_postfix": "",
     "delete_cmd_prefix": "del ",
     "library": "var_list.py",
     "varRefreshCmd": "print(var_dic_list())"
    },
    "r": {
     "delete_cmd_postfix": ") ",
     "delete_cmd_prefix": "rm(",
     "library": "var_list.r",
     "varRefreshCmd": "cat(var_dic_list()) "
    }
   },
   "position": {
    "height": "258px",
    "left": "1439px",
    "right": "20px",
    "top": "120px",
    "width": "333px"
   },
   "types_to_exclude": [
    "module",
    "function",
    "builtin_function_or_method",
    "instance",
    "_Feature"
   ],
   "window_display": true
  }
 },
 "nbformat": 4,
 "nbformat_minor": 2
}
