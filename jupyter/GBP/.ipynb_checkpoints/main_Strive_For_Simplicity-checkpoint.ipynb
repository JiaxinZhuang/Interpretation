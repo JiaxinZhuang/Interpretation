{
 "cells": [
  {
   "cell_type": "code",
   "execution_count": 1,
   "metadata": {
    "ExecuteTime": {
     "end_time": "2020-10-16T14:28:18.364229Z",
     "start_time": "2020-10-16T14:28:18.312894Z"
    }
   },
   "outputs": [],
   "source": [
    "%load_ext autoreload\n",
    "%autoreload 2\n",
    "%config InlineBackend.figure_format = 'svg'"
   ]
  },
  {
   "cell_type": "code",
   "execution_count": 2,
   "metadata": {
    "ExecuteTime": {
     "end_time": "2020-10-16T14:28:19.744495Z",
     "start_time": "2020-10-16T14:28:18.918226Z"
    }
   },
   "outputs": [],
   "source": [
    "import os\n",
    "os.environ[\"CUDA_DEVICE_ORDER\"] = \"PCI_BUS_ID\"\n",
    "os.environ[\"CUDA_VISIBLE_DEVICES\"] = \"0\"\n",
    "\n",
    "import torch\n",
    "import os\n",
    "import numpy as np\n",
    "from torchsummary import summary\n",
    "from torchvision import transforms                                                                                                                                        \n",
    "from torchvision import models\n",
    "import matplotlib as mpl\n",
    "import torchvision\n",
    "mpl.rcParams['figure.dpi'] = 600\n",
    "from PIL import Image\n",
    "import PIL\n",
    "import matplotlib.pyplot as plt\n",
    "import pandas as pd\n",
    "import numpy\n",
    "\n",
    "import sys\n",
    "sys.path.append(\"../../extra/pytorch-cnn-visualizations/src\")\n",
    "import deep_dream\n",
    "\n",
    "sys.path.append(\"../../src/\")\n",
    "sys.path.append(\"../\")\n",
    "import model\n",
    "from datasets import imagenet\n",
    "from utils.function import recreate_image\n",
    "\n",
    "from layer_activation_with_guided_backprop import GuidedBackprop\n",
    "from misc_functions import save_gradient_images\n",
    "from aux.utils import obtain_features_map, load_imgs, zscore, extract_valid\n",
    "from aux.visualization import visualize_features_map\n",
    "from aux.visualization import visualize_features_map_for_comparision\n",
    "from utils.visualizations.visualize import concat_imgs, preprocess_arrays"
   ]
  },
  {
   "cell_type": "markdown",
   "metadata": {},
   "source": [
    "# Model"
   ]
  },
  {
   "cell_type": "code",
   "execution_count": 3,
   "metadata": {
    "ExecuteTime": {
     "end_time": "2020-10-16T14:09:43.042752Z",
     "start_time": "2020-10-16T14:09:39.715872Z"
    }
   },
   "outputs": [
    {
     "name": "stdout",
     "output_type": "stream",
     "text": [
      "Entire model.\n",
      "Resume from model from exp: 037 at epoch 0\n"
     ]
    },
    {
     "data": {
      "text/plain": [
       "<All keys matched successfully>"
      ]
     },
     "execution_count": 3,
     "metadata": {},
     "output_type": "execute_result"
    }
   ],
   "source": [
    "# model\n",
    "backbone = \"vgg16\"\n",
    "device = torch.device(\"cuda:0\" if torch.cuda.is_available() else \"cpu\")\n",
    "net = model.Network(backbone=backbone, num_classes=1000)\n",
    "net.to(device)\n",
    "# resume from model\n",
    "resume = \"037-0\"\n",
    "model_dir = \"/home/lincolnzjx/Desktop/Interpretation/saved/models\"\n",
    "resume_exp = resume.split(\"-\")[0]\n",
    "resume_epoch = resume.split(\"-\")[1]\n",
    "print(\"Resume from model from exp: {} at epoch {}\".format(resume_exp, resume_epoch))\n",
    "resume_path = os.path.join(model_dir, str(resume_exp), str(resume_epoch))\n",
    "ckpt = torch.load(resume_path, map_location=device)\n",
    "net.load_state_dict(ckpt, strict=False) "
   ]
  },
  {
   "cell_type": "markdown",
   "metadata": {},
   "source": [
    "# GBP"
   ]
  },
  {
   "cell_type": "code",
   "execution_count": 4,
   "metadata": {
    "ExecuteTime": {
     "end_time": "2020-10-16T14:09:43.055996Z",
     "start_time": "2020-10-16T14:09:43.043948Z"
    },
    "scrolled": true
   },
   "outputs": [],
   "source": [
    "def gbp(prep_img, pretrained_model, selected_layer, selected_filter):\n",
    "    device = torch.device(\"cuda:0\" if torch.cuda.is_available() else \"cpu\")\n",
    "    GBP = GuidedBackprop(pretrained_model) \n",
    "    prep_img.requires_grad_(True)\n",
    "    guided_grads = GBP.generate_gradients(prep_img, None, selected_layer, selected_filter)\n",
    "    return guided_grads"
   ]
  },
  {
   "cell_type": "code",
   "execution_count": 5,
   "metadata": {
    "ExecuteTime": {
     "end_time": "2020-10-16T14:09:43.076991Z",
     "start_time": "2020-10-16T14:09:43.057019Z"
    }
   },
   "outputs": [],
   "source": [
    "def main(selected_layer=None, selected_filter=None, class_index=None):\n",
    "    num_class = 30\n",
    "    mean = [0.485, 0.456, 0.406]\n",
    "    std = [0.229, 0.224, 0.225]\n",
    "    reverse_mean = [-0.485, -0.456, -0.406]\n",
    "    reverse_std = [1/0.229, 1/0.224, 1/0.225]\n",
    "    train_transform = transforms.Compose([                                                                                                                                \n",
    "        transforms.Resize((224, 224), interpolation=Image.BILINEAR),                                                                                              \n",
    "        transforms.ToTensor(),                                                                                                                                            \n",
    "           ])         \n",
    "    trainset = imagenet.ImageNet(root=\"/media/lincolnzjx/HardDisk/Datasets/\", \n",
    "                                 is_train=True, transform=train_transform)\n",
    "    trainset.set_data([class_index], num_class)\n",
    "    imgs_path = []                                                                                                                                                            \n",
    "    images = []\n",
    "    labels = []\n",
    "    for img, label, img_path in trainset:                                                                                                                                     \n",
    "        images.append(img.unsqueeze(0))                                                                                                                                       \n",
    "        labels.append(label)                                                                                                                                                  \n",
    "        imgs_path.append(img_path)  \n",
    "    \n",
    "    dirs = \"/home/lincolnzjx/Desktop/Interpretation/saved/generated/GBP/\"\n",
    "    dirs = os.path.join(dirs, str(class_index))\n",
    "    \n",
    "    dir_name = \"opt\"\n",
    "    dir_name_fm = \"fm\"\n",
    "    \n",
    "    dir_path = os.path.join(dirs, dir_name)\n",
    "    dir_path_fm = os.path.join(dirs, dir_name_fm)\n",
    "    \n",
    "    os.makedirs(dir_path, exist_ok=True)\n",
    "    os.makedirs(dir_path_fm, exist_ok=True)\n",
    "    \n",
    "    mean = torch.Tensor([0.485, 0.456, 0.406]).reshape(1,-1,1,1)\n",
    "    std  = torch.Tensor([0.229, 0.224, 0.225]).reshape(1,-1,1,1)\n",
    "    \n",
    "    for img, img_path in zip(images, imgs_path):\n",
    "        img = img[0].permute((1,2,0)).numpy()\n",
    "        X = (torch.FloatTensor(img[numpy.newaxis].transpose([0,3,1,2])*1) - mean) / std\n",
    "        name = img_path.split(\"/\")[-1].split(\".\")[0]\n",
    "        \n",
    "        # Ori\n",
    "        ori_activation_maps = net.get_activation_maps(X.cuda(), selected_layer)\n",
    "        sel_feature_map = ori_activation_maps[0][0,selected_filter]\n",
    "        min_val = sel_feature_map.min()\n",
    "        max_val = sel_feature_map.max()\n",
    "        sel_feature_map -= sel_feature_map.min()\n",
    "        sel_feature_map /= sel_feature_map.max()\n",
    "        ori_fm_path = os.path.join(dir_path_fm, \"ori_\" + name +\".png\")\n",
    "        cm = plt.get_cmap(\"jet\")\n",
    "        sel_feature_map = cm(sel_feature_map)\n",
    "        sel_feature_map = (sel_feature_map[:, :, :3] * 255).astype(np.uint8)\n",
    "        \n",
    "        # GBP \n",
    "        pretrained_model = torchvision.models.vgg16(pretrained=True)\n",
    "        guided_grads = gbp(X.clone().detach(), pretrained_model, selected_layer, selected_filter)\n",
    "        name = (\"layer_{}_filter_\".format(selected_layer, selected_filter)) + name\n",
    "        path = os.path.join(dir_path, name+\".png\")\n",
    "        \n",
    "        dir_path_fm_sub = os.path.join(dir_path_fm, name)\n",
    "        os.makedirs(dir_path_fm_sub, exist_ok=True)\n",
    "        fm_name = \"feature_map_filter_{}\".format(selected_filter)\n",
    "        fm_path = os.path.join(dir_path_fm_sub, fm_name +\".png\")\n",
    "        \n",
    "        # Standalize\n",
    "        # relevance_img = standalize(R[0][0], X.numpy(), path)\n",
    "        # fm = visualize_sel_fm(net, relevance_img.transpose(2,0,1), selected_layer, selected_filter, min_val, max_val)\n",
    "        # fm = (255 * fm).astype(np.uint8)\n",
    "        # Image.fromarray(fm).save(fm_path)\n",
    "        \n",
    "        # Standlize remove negative\n",
    "        # relevance_img = standalize_remove_negative(R[0][0], X.numpy(), path)\n",
    "        # fm = visualize_sel_fm(net, relevance_img.transpose(2,0,1), selected_layer, selected_filter, min_val, max_val)\n",
    "        # fm = (255 * fm).astype(np.uint8)\n",
    "        # Image.fromarray(fm).save(fm_path)\n",
    "        \n",
    "        # Scale positive\n",
    "        # relevance_img = scale_positive(R[0][0], X.numpy(), path)\n",
    "        # fm = visualize_sel_fm(net, relevance_img.transpose(2,0,1), selected_layer, selected_filter, min_val, max_val)\n",
    "        # fm = (255 * fm).astype(np.uint8)\n",
    "        # Image.fromarray(fm).save(fm_path)\n",
    "        \n",
    "        # Scale total\n",
    "        relevance_img = scale_total(guided_grads, X.numpy()[0], path)\n",
    "        fm = visualize_sel_fm(net, relevance_img, selected_layer, selected_filter, min_val, max_val)\n",
    "        fm = (255 * fm).astype(np.uint8)\n",
    "        \n",
    "        plt.imshow(fm)\n",
    "        plt.savefig(fm_path)\n",
    "#         Image.fromarray(fm).save(fm_path)"
   ]
  },
  {
   "cell_type": "code",
   "execution_count": 6,
   "metadata": {
    "ExecuteTime": {
     "end_time": "2020-10-16T14:09:43.088824Z",
     "start_time": "2020-10-16T14:09:43.077847Z"
    }
   },
   "outputs": [],
   "source": [
    "# ori = Image.open(\"/media/lincolnzjx/HardDisk/Datasets/ilsvrc2012/train/n07747607/n07747607_10061.JPEG\").resize((224, 224))\n",
    "# images[0].shape\n",
    "# len(images)"
   ]
  },
  {
   "cell_type": "code",
   "execution_count": 7,
   "metadata": {
    "ExecuteTime": {
     "end_time": "2020-10-16T14:09:43.100508Z",
     "start_time": "2020-10-16T14:09:43.089714Z"
    }
   },
   "outputs": [],
   "source": [
    "# mean = torch.Tensor([0.485, 0.456, 0.406]).reshape(1,-1,1,1)\n",
    "# std  = torch.Tensor([0.229, 0.224, 0.225]).reshape(1,-1,1,1)\n",
    "# img = images[0]\n",
    "# img = img[0].permute((1,2,0)).numpy()\n",
    "# X = (torch.FloatTensor(img[numpy.newaxis].transpose([0,3,1,2])*1) - mean) / std"
   ]
  },
  {
   "cell_type": "code",
   "execution_count": 8,
   "metadata": {
    "ExecuteTime": {
     "end_time": "2020-10-16T14:09:43.111953Z",
     "start_time": "2020-10-16T14:09:43.101266Z"
    },
    "scrolled": true
   },
   "outputs": [],
   "source": [
    "# fm = visualize_sel_fm(net, X[0], selected_layer, selected_filter, min_val, max_val)\n",
    "# print(fm.max(), fm.min())\n",
    "# plt.imshow(fm)"
   ]
  },
  {
   "cell_type": "markdown",
   "metadata": {},
   "source": [
    "# Visualization"
   ]
  },
  {
   "cell_type": "code",
   "execution_count": 9,
   "metadata": {
    "ExecuteTime": {
     "end_time": "2020-10-16T14:09:43.125335Z",
     "start_time": "2020-10-16T14:09:43.113320Z"
    }
   },
   "outputs": [],
   "source": [
    "def visualize_sel_fm(net, relevance_img, selected_layer, selected_filter, min_val, max_val): \n",
    "    cm = plt.get_cmap(\"jet\")\n",
    "    opt_activation_maps = net.get_activation_maps(torch.FloatTensor(relevance_img).unsqueeze(dim=0).cuda(), selected_layer)\n",
    "    opt_sel_feature_map = opt_activation_maps[0][0,selected_filter]\n",
    "    # print(opt_sel_feature_map.max(), opt_sel_feature_map.min())\n",
    "    opt_sel_feature_map -= min_val\n",
    "    opt_sel_feature_map = np.maximum(0, opt_sel_feature_map)\n",
    "    opt_sel_feature_map /= (opt_sel_feature_map.max() + 1e-8)\n",
    "    opt_sel_feature_map = np.minimum(1, opt_sel_feature_map)\n",
    "    # print(opt_sel_feature_map.max())\n",
    "    opt_sel_feature_map = cm(opt_sel_feature_map)\n",
    "    return opt_sel_feature_map"
   ]
  },
  {
   "cell_type": "markdown",
   "metadata": {},
   "source": [
    "## Scale max"
   ]
  },
  {
   "cell_type": "markdown",
   "metadata": {
    "ExecuteTime": {
     "end_time": "2020-09-07T02:17:32.159140Z",
     "start_time": "2020-09-07T02:17:32.140835Z"
    }
   },
   "source": [
    "## Standarization"
   ]
  },
  {
   "cell_type": "code",
   "execution_count": 10,
   "metadata": {
    "ExecuteTime": {
     "end_time": "2020-10-16T14:09:43.137135Z",
     "start_time": "2020-10-16T14:09:43.126451Z"
    },
    "scrolled": false
   },
   "outputs": [],
   "source": [
    "# relevance = np.array(guided_grads)\n",
    "# normalized_img = images_zscore[0]\n",
    "# relevance_img = relevance * normalized_img\n",
    "# new_image = recreate_image(relevance_img, reverse_mean, reverse_std)\n",
    "# print(relevance.max(), relevance.min())\n",
    "# print(new_image.max(), new_image.min())\n",
    "# Image.fromarray(new_image)"
   ]
  },
  {
   "cell_type": "code",
   "execution_count": 11,
   "metadata": {
    "ExecuteTime": {
     "end_time": "2020-10-16T14:09:43.148968Z",
     "start_time": "2020-10-16T14:09:43.137925Z"
    }
   },
   "outputs": [],
   "source": [
    "# def scale_max(relevance, normalized, path=None):\n",
    "#     reverse_mean = [-0.485, -0.456, -0.406]\n",
    "#     reverse_std = [1/0.229, 1/0.224, 1/0.225]\n",
    "#     \n",
    "#     relevance = np.array(relevance)\n",
    "#     relevance /= (np.abs(relevance)).max()\n",
    "#     relevance_img = normalized * relevance\n",
    "#     new_image = recreate_image(relevance_img, reverse_mean, reverse_std)\n",
    "#     print(new_image.max(), new_image.min())\n",
    "#     Image.fromarray(new_image).save(path)\n",
    "#     return relevance_img"
   ]
  },
  {
   "cell_type": "markdown",
   "metadata": {},
   "source": [
    "## Scale total with zero"
   ]
  },
  {
   "cell_type": "code",
   "execution_count": 12,
   "metadata": {
    "ExecuteTime": {
     "end_time": "2020-10-16T14:09:43.160348Z",
     "start_time": "2020-10-16T14:09:43.149813Z"
    }
   },
   "outputs": [],
   "source": [
    "# def scale_total_with_zero(relevance, normalized, path=None):\n",
    "#     reverse_mean = [-0.485, -0.456, -0.406]\n",
    "#     reverse_std = [1/0.229, 1/0.224, 1/0.225]\n",
    "#     \n",
    "#     relevance = np.array(relevance)\n",
    "# #     relevance_img = normalized * (relevance * relevance==0)\n",
    "#     relevance -= relevance.min()\n",
    "#     relevance /= relevance.max()\n",
    "#     relevance_img = relevance_img * relevance\n",
    "#     \n",
    "#     new_image = recreate_image(relevance_img, reverse_mean, reverse_std)\n",
    "# #     print(new_image.max(), new_image.min())\n",
    "#     Image.fromarray(new_image).save(path)\n",
    "#     return relevance_img"
   ]
  },
  {
   "cell_type": "markdown",
   "metadata": {},
   "source": [
    "## Scale total"
   ]
  },
  {
   "cell_type": "code",
   "execution_count": 13,
   "metadata": {
    "ExecuteTime": {
     "end_time": "2020-10-16T14:09:43.172893Z",
     "start_time": "2020-10-16T14:09:43.161054Z"
    }
   },
   "outputs": [],
   "source": [
    "def scale_total(relevance, normalized, path=None):\n",
    "    reverse_mean = [-0.485, -0.456, -0.406]\n",
    "    reverse_std = [1/0.229, 1/0.224, 1/0.225]\n",
    "    \n",
    "    relevance = np.array(relevance)\n",
    "    relevance /= np.max(np.abs(relevance))\n",
    "    relevance_img = normalized * relevance\n",
    "#     relevance -= relevance.min()\n",
    "#     relevance /= relevance.max()\n",
    "    new_image = recreate_image(relevance_img, reverse_mean, reverse_std)\n",
    "    Image.fromarray(new_image).save(path)\n",
    "    return relevance_img"
   ]
  },
  {
   "cell_type": "markdown",
   "metadata": {},
   "source": [
    "# Main"
   ]
  },
  {
   "cell_type": "code",
   "execution_count": 14,
   "metadata": {
    "ExecuteTime": {
     "end_time": "2020-10-16T14:34:52.291204Z",
     "start_time": "2020-10-16T14:34:52.265782Z"
    },
    "scrolled": true
   },
   "outputs": [],
   "source": [
    "csv_file = pd.read_excel(\"../filter.xlsx\", header=None)\n",
    "csv_file = csv_file.values"
   ]
  },
  {
   "cell_type": "code",
   "execution_count": 18,
   "metadata": {
    "ExecuteTime": {
     "end_time": "2020-10-16T14:41:10.537648Z",
     "start_time": "2020-10-16T14:41:10.517560Z"
    }
   },
   "outputs": [
    {
     "data": {
      "text/plain": [
       "array([['class948', nan, nan],\n",
       "       [28, 1.0, '[1,28]'],\n",
       "       [57, 1.0, '[1,57]'],\n",
       "       [41, 3.0, '[3,41]'],\n",
       "       [46, 3.0, '[3,46]'],\n",
       "       [53, 6.0, '[6,53]'],\n",
       "       [64, 6.0, '[6,64]'],\n",
       "       [60, 8.0, '[8,60]'],\n",
       "       [103, 8.0, '[8,103]'],\n",
       "       [202, 11.0, '[11,202]'],\n",
       "       [33, 11.0, '[11,33]'],\n",
       "       [113, 13.0, '[13,113]'],\n",
       "       [254, 13.0, '[13,254]'],\n",
       "       [29, 15.0, '[15,29]'],\n",
       "       [187, 15.0, '[15,187]'],\n",
       "       [34, 18.0, '[18,34]'],\n",
       "       [207, 18.0, '[18,207]'],\n",
       "       [69, 20.0, '[20,69]'],\n",
       "       [101, 20.0, '[20,101]'],\n",
       "       [367, 22.0, '[22,367]'],\n",
       "       [42, 22.0, '[22,42]'],\n",
       "       [19, 25.0, '[25,19]'],\n",
       "       [63, 25.0, '[25,63]'],\n",
       "       [68, 27.0, '[27,68]'],\n",
       "       [213, 27.0, '[27,213]'],\n",
       "       [59, 29.0, '[29,59]'],\n",
       "       [55, 29.0, '[29,55]'],\n",
       "       ['class444', nan, nan],\n",
       "       [57, 1.0, '[1,57]'],\n",
       "       [58, 1.0, '[1,58]'],\n",
       "       [4, 3.0, '[3,4]'],\n",
       "       [22, 3.0, '[3,22]'],\n",
       "       [117, 6.0, '[6,117]'],\n",
       "       [56, 6.0, '[6,56]'],\n",
       "       [7, 8.0, '[8,7]'],\n",
       "       [65, 8.0, '[8,65]'],\n",
       "       [84, 11.0, '[11,84]'],\n",
       "       [21, 11.0, '[11,21]'],\n",
       "       [18, 13.0, '[13,18]'],\n",
       "       [15, 13.0, '[13,15]'],\n",
       "       [20, 15.0, '[15,20]'],\n",
       "       [92, 15.0, '[15,92]'],\n",
       "       [33, 18.0, '[18,33]'],\n",
       "       [69, 18.0, '[18,69]'],\n",
       "       [4, 20.0, '[20,4]'],\n",
       "       [85, 20.0, '[20,85]'],\n",
       "       [13, 22.0, '[22,13]'],\n",
       "       [77, 22.0, '[22,77]'],\n",
       "       [185, 25.0, '[25,185]'],\n",
       "       [83, 25.0, '[25,83]'],\n",
       "       [15, 27.0, '[27,15]'],\n",
       "       [35, 27.0, '[27,35]'],\n",
       "       [49, 29.0, '[29,49]'],\n",
       "       [297, 29.0, '[29,297]'],\n",
       "       ['class522', nan, nan],\n",
       "       [57, 1.0, '[1,57]'],\n",
       "       [58, 1.0, '[1,58]'],\n",
       "       [37, 3.0, '[3,37]'],\n",
       "       [22, 3.0, '[3,22]'],\n",
       "       [85, 6.0, '[6,85]'],\n",
       "       [117, 6.0, '[6,117]'],\n",
       "       [65, 8.0, '[8,65]'],\n",
       "       [77, 8.0, '[8,77]'],\n",
       "       [192, 11.0, '[11,192]'],\n",
       "       [211, 11.0, '[11,211]'],\n",
       "       [59, 13.0, '[13,59]'],\n",
       "       [133, 13.0, '[13,133]'],\n",
       "       [24, 15.0, '[15,24]'],\n",
       "       [90, 15.0, '[15,90]'],\n",
       "       [470, 18.0, '[18,470]'],\n",
       "       [377, 18.0, '[18,377]'],\n",
       "       [78, 20.0, '[20,78]'],\n",
       "       [39, 20.0, '[20,39]'],\n",
       "       [311, 22.0, '[22,311]'],\n",
       "       [337, 22.0, '[22,337]'],\n",
       "       [391, 25.0, '[25,391]'],\n",
       "       [70, 25.0, '[25,70]'],\n",
       "       [281, 27.0, '[27,281]'],\n",
       "       [39, 27.0, '[27,39]'],\n",
       "       [58, 29.0, '[29,58]'],\n",
       "       [292, 29.0, '[29,292]'],\n",
       "       ['class14', nan, nan],\n",
       "       [13, 1.0, '[1,13]'],\n",
       "       [62, 1.0, '[1,62]'],\n",
       "       [23, 3.0, '[3,23]'],\n",
       "       [37, 3.0, '[3,37]'],\n",
       "       [0, 6.0, '[6,0]'],\n",
       "       [93, 6.0, '[6,93]'],\n",
       "       [111, 8.0, '[8,111]'],\n",
       "       [60, 8.0, '[8,60]'],\n",
       "       [241, 11.0, '[11,241]'],\n",
       "       [142, 11.0, '[11,142]'],\n",
       "       [229, 13.0, '[13,229]'],\n",
       "       [32, 13.0, '[13,32]'],\n",
       "       [45, 15.0, '[15,45]'],\n",
       "       [215, 15.0, '[15,215]'],\n",
       "       [59, 18.0, '[18,59]'],\n",
       "       [207, 18.0, '[18,207]'],\n",
       "       [69, 20.0, '[20,69]'],\n",
       "       [353, 20.0, '[20,353]'],\n",
       "       [481, 22.0, '[22,481]'],\n",
       "       [116, 22.0, '[22,116]'],\n",
       "       [318, 25.0, '[25,318]'],\n",
       "       [407, 25.0, '[25,407]'],\n",
       "       [153, 27.0, '[27,153]'],\n",
       "       [170, 27.0, '[27,170]'],\n",
       "       [237, 29.0, '[29,237]'],\n",
       "       [387, 29.0, '[29,387]'],\n",
       "       ['class84', nan, nan],\n",
       "       [13, 1.0, '[1,13]'],\n",
       "       [26, 1.0, '[1,26]'],\n",
       "       [37, 3.0, '[3,37]'],\n",
       "       [19, 3.0, '[3,19]'],\n",
       "       [0, 6.0, '[6,0]'],\n",
       "       [94, 6.0, '[6,94]'],\n",
       "       [38, 8.0, '[8,38]'],\n",
       "       [95, 8.0, '[8,95]'],\n",
       "       [238, 11.0, '[11,238]'],\n",
       "       [84, 11.0, '[11,84]'],\n",
       "       [229, 13.0, '[13,229]'],\n",
       "       [60, 13.0, '[13,60]'],\n",
       "       [45, 15.0, '[15,45]'],\n",
       "       [29, 15.0, '[15,29]'],\n",
       "       [69, 18.0, '[18,69]'],\n",
       "       [91, 18.0, '[18,91]'],\n",
       "       [385, 20.0, '[20,385]'],\n",
       "       [147, 20.0, '[20,147]'],\n",
       "       [58, 22.0, '[22,58]'],\n",
       "       [206, 22.0, '[22,206]'],\n",
       "       [288, 25.0, '[25,288]'],\n",
       "       [327, 25.0, '[25,327]'],\n",
       "       [153, 27.0, '[27,153]'],\n",
       "       [328, 27.0, '[27,328]'],\n",
       "       [237, 29.0, '[29,237]'],\n",
       "       [249, 29.0, '[29,249]']], dtype=object)"
      ]
     },
     "execution_count": 18,
     "metadata": {},
     "output_type": "execute_result"
    }
   ],
   "source": [
    "csv_file"
   ]
  },
  {
   "cell_type": "code",
   "execution_count": 19,
   "metadata": {
    "ExecuteTime": {
     "end_time": "2020-10-16T14:42:07.874057Z",
     "start_time": "2020-10-16T14:42:07.846713Z"
    }
   },
   "outputs": [
    {
     "name": "stdout",
     "output_type": "stream",
     "text": [
      "<class 'float'>\n",
      "<class 'str'>\n",
      "<class 'str'>\n",
      "<class 'str'>\n",
      "<class 'str'>\n",
      "<class 'str'>\n",
      "<class 'str'>\n",
      "<class 'str'>\n",
      "<class 'str'>\n",
      "<class 'str'>\n",
      "<class 'str'>\n",
      "<class 'str'>\n",
      "<class 'str'>\n",
      "<class 'str'>\n",
      "<class 'str'>\n",
      "<class 'str'>\n",
      "<class 'str'>\n",
      "<class 'str'>\n",
      "<class 'str'>\n",
      "<class 'str'>\n",
      "<class 'str'>\n",
      "<class 'str'>\n",
      "<class 'str'>\n",
      "<class 'str'>\n",
      "<class 'str'>\n",
      "<class 'str'>\n",
      "<class 'str'>\n",
      "<class 'float'>\n",
      "<class 'str'>\n",
      "<class 'str'>\n",
      "<class 'str'>\n",
      "<class 'str'>\n",
      "<class 'str'>\n",
      "<class 'str'>\n",
      "<class 'str'>\n",
      "<class 'str'>\n",
      "<class 'str'>\n",
      "<class 'str'>\n",
      "<class 'str'>\n",
      "<class 'str'>\n",
      "<class 'str'>\n",
      "<class 'str'>\n",
      "<class 'str'>\n",
      "<class 'str'>\n",
      "<class 'str'>\n",
      "<class 'str'>\n",
      "<class 'str'>\n",
      "<class 'str'>\n",
      "<class 'str'>\n",
      "<class 'str'>\n",
      "<class 'str'>\n",
      "<class 'str'>\n",
      "<class 'str'>\n",
      "<class 'str'>\n",
      "<class 'float'>\n",
      "<class 'str'>\n",
      "<class 'str'>\n",
      "<class 'str'>\n",
      "<class 'str'>\n",
      "<class 'str'>\n",
      "<class 'str'>\n",
      "<class 'str'>\n",
      "<class 'str'>\n",
      "<class 'str'>\n",
      "<class 'str'>\n",
      "<class 'str'>\n",
      "<class 'str'>\n",
      "<class 'str'>\n",
      "<class 'str'>\n",
      "<class 'str'>\n",
      "<class 'str'>\n",
      "<class 'str'>\n",
      "<class 'str'>\n",
      "<class 'str'>\n",
      "<class 'str'>\n",
      "<class 'str'>\n",
      "<class 'str'>\n",
      "<class 'str'>\n",
      "<class 'str'>\n",
      "<class 'str'>\n",
      "<class 'str'>\n",
      "<class 'float'>\n",
      "<class 'str'>\n",
      "<class 'str'>\n",
      "<class 'str'>\n",
      "<class 'str'>\n",
      "<class 'str'>\n",
      "<class 'str'>\n",
      "<class 'str'>\n",
      "<class 'str'>\n",
      "<class 'str'>\n",
      "<class 'str'>\n",
      "<class 'str'>\n",
      "<class 'str'>\n",
      "<class 'str'>\n",
      "<class 'str'>\n",
      "<class 'str'>\n",
      "<class 'str'>\n",
      "<class 'str'>\n",
      "<class 'str'>\n",
      "<class 'str'>\n",
      "<class 'str'>\n",
      "<class 'str'>\n",
      "<class 'str'>\n",
      "<class 'str'>\n",
      "<class 'str'>\n",
      "<class 'str'>\n",
      "<class 'str'>\n",
      "<class 'float'>\n",
      "<class 'str'>\n",
      "<class 'str'>\n",
      "<class 'str'>\n",
      "<class 'str'>\n",
      "<class 'str'>\n",
      "<class 'str'>\n",
      "<class 'str'>\n",
      "<class 'str'>\n",
      "<class 'str'>\n",
      "<class 'str'>\n",
      "<class 'str'>\n",
      "<class 'str'>\n",
      "<class 'str'>\n",
      "<class 'str'>\n",
      "<class 'str'>\n",
      "<class 'str'>\n",
      "<class 'str'>\n",
      "<class 'str'>\n",
      "<class 'str'>\n",
      "<class 'str'>\n",
      "<class 'str'>\n",
      "<class 'str'>\n",
      "<class 'str'>\n",
      "<class 'str'>\n",
      "<class 'str'>\n",
      "<class 'str'>\n"
     ]
    }
   ],
   "source": [
    "class_index = None\n",
    "for item1, item2, item3 in csv_file:\n",
    "    if isinstance(item1, str) and item1.startswith(\"class\"):\n",
    "        class_index = int(item1.replace(\"class\", \"\"))\n",
    "        continue\n",
    "    selected_layer = int(item1)\n",
    "    selected_filter = int(item2)\n",
    "    img"
   ]
  },
  {
   "cell_type": "code",
   "execution_count": null,
   "metadata": {
    "ExecuteTime": {
     "start_time": "2020-10-16T14:09:38.680Z"
    }
   },
   "outputs": [
    {
     "name": "stdout",
     "output_type": "stream",
     "text": [
      "950 1 47\n",
      "Len of new dataset is :30\n",
      "950 1 16\n",
      "Len of new dataset is :30\n",
      "950 3 20\n",
      "Len of new dataset is :30\n",
      "950 3 41\n",
      "Len of new dataset is :30\n",
      "950 6 114\n",
      "Len of new dataset is :30\n"
     ]
    }
   ],
   "source": [
    "selected = [\n",
    "    [1, 47],\n",
    "    [1, 16],\n",
    "    [3, 20],\n",
    "    [3, 41],\n",
    "    [6, 114],\n",
    "    [6, 76],\n",
    "    [8, 17],\n",
    "    [8, 99],\n",
    "    [11, 174],\n",
    "    [11, 75],\n",
    "    [13, 98],\n",
    "    [13, 21],\n",
    "    [15, 102],\n",
    "    [15, 173],\n",
    "    [18, 458],\n",
    "    [18, 353],\n",
    "    [22, 173],\n",
    "    [22, 485],\n",
    "    [25, 1],\n",
    "    [29, 334]\n",
    "]\n",
    "class_indexes = [950]\n",
    "\n",
    "for class_index in class_indexes:\n",
    "    for selected_layer, selected_filter in selected:\n",
    "        print(class_index, selected_layer, selected_filter)\n",
    "        main(selected_layer, selected_filter, class_index)"
   ]
  },
  {
   "cell_type": "code",
   "execution_count": null,
   "metadata": {
    "ExecuteTime": {
     "start_time": "2020-10-16T14:09:38.682Z"
    },
    "scrolled": false
   },
   "outputs": [],
   "source": [
    "# selected_layer = 25\n",
    "# selected_filter = 1\n",
    "# \n",
    "# # ori = Image.open(\"/media/lincolnzjx/HardDisk/Datasets/ilsvrc2012/train/n07747607/n07747607_10061.JPEG\").resize((224, 224))\n",
    "# \n",
    "# # ori = Image.open(\"/media/lincolnzjx/HardDisk/Datasets/ilsvrc2012/train/n07747607/n07747607_10110.JPEG\").resize((224, 224))\n",
    "# # ori = Image.open(\"/media/lincolnzjx/HardDisk/Datasets/ilsvrc2012/train/n07747607/n07747607_10166.JPEG\").resize((224, 224))\n",
    "# # ori = Image.open(\"/media/lincolnzjx/HardDisk/Datasets/ilsvrc2012/train/n07747607/n07747607_10205.JPEG\").resize((224, 224))\n",
    "# # ori = Image.open(\"/media/lincolnzjx/HardDisk/Datasets/ilsvrc2012/train/n07747607/n07747607_10465.JPEG\").resize((224, 224))\n",
    "# \n",
    "# # ori = Image.open(\"/media/lincolnzjx/HardDisk/Datasets/ilsvrc2012/train/n03134739/n03134739_10258.JPEG\").resize((224, 224))\n",
    "# ori = Image.open(\"/media/lincolnzjx/HardDisk/Datasets/ilsvrc2012/train/n03134739/n03134739_10193.JPEG\").resize((224, 224))\n",
    "# \n",
    "# cm = plt.get_cmap(\"jet\")\n",
    "# ori_arr = np.array(ori)/255\n",
    "# ori_nor = (torch.FloatTensor(ori_arr[numpy.newaxis].transpose([0,3,1,2])*1) - mean) / std\n",
    "# ori_activation_maps = net.get_activation_maps(ori_nor.cuda(), selected_layer)\n",
    "# sel_feature_map = ori_activation_maps[0][0,selected_filter]\n",
    "# min_val = sel_feature_map.min()\n",
    "# sel_feature_map -= min_val\n",
    "# max_val = sel_feature_map.max()\n",
    "# sel_feature_map /= max_val\n",
    "# # plt.imshow(cm(sel_feature_map))\n",
    "# print(\"min, max\" ,min_val, max_val)\n",
    "# \n",
    "# # img = Image.open(\"/home/lincolnzjx/Desktop/Interpretation/saved/pack/7009/149999/n07747607_10061.png\").resize((224, 224))\n",
    "# # img = Image.open(\"/home/lincolnzjx/Desktop/Interpretation/saved/pack/060490/116566/n07747607_10061.png\").resize((224, 224))\n",
    "# \n",
    "# # img = Image.open(\"/home/lincolnzjx/Desktop/Interpretation/saved/pack/060490/116566/n07747607_10166.png\").resize((224, 224))\n",
    "# # img = Image.open(\"/home/lincolnzjx/Desktop/Interpretation/saved/pack/060490/116566/n07747607_10110.png\").resize((224, 224))\n",
    "# # img = Image.open(\"/home/lincolnzjx/Desktop/Interpretation/saved/pack/060490/116566/n07747607_10061.png\").resize((224, 224))\n",
    "# # img = Image.open(\"/home/lincolnzjx/Desktop/Interpretation/saved/pack/060490/116566/n07747607_10166.png\").resize((224, 224))\n",
    "# # img = Image.open(\"/home/lincolnzjx/Desktop/Interpretation/saved/pack/060490/116566/n07747607_10465.png\").resize((224, 224))\n",
    "# \n",
    "# # img = Image.open(\"/home/lincolnzjx/Desktop/Interpretation/saved/generated/deconv_baseline/scale_0_15_173.png\").resize((224, 224))\n",
    "# # img = Image.open(\"/home/lincolnzjx/Desktop/Interpretation/saved/generated/deconv_baseline/scale_0_3_20.png\").resize((224, 224))\n",
    "# # img = Image.open(\"/home/lincolnzjx/Desktop/Interpretation/saved/generated/deconv_baseline/scale_2_3_20.png\").resize((224, 224))\n",
    "# # img = Image.open(\"/home/lincolnzjx/Desktop/Interpretation/saved/generated/deconv_baseline/scale_11_3_20.png\").resize((224, 224))\n",
    "# # img = Image.open(\"/home/lincolnzjx/Desktop/Interpretation/saved/generated/deconv_baseline/scale_25_3_20.png\").resize((224, 224))\n",
    "# # img = Image.open(\"/home/lincolnzjx/Desktop/Interpretation/saved/generated/deconv_baseline/scale_0_3_20.png\").resize((224, 224))\n",
    "# # img = Image.open(\"/home/lincolnzjx/Desktop/Interpretation/saved/generated/deconv_baseline/scale_0_3_20.png\").resize((224, 224))\n",
    "# \n",
    "# # img = Image.open(\"/home/lincolnzjx/Desktop/Interpretation/saved/pack/9008/200000/n03134739_10258.png\").resize((224, 224))\n",
    "# img = Image.open(\"/home/lincolnzjx/Desktop/Interpretation/saved/pack/9008/200000/n03134739_10193.png\").resize((224, 224))\n",
    "# \n",
    "# img = np.array(img) / 255\n",
    "# X = (torch.FloatTensor(img[numpy.newaxis].transpose([0,3,1,2])*1) - mean) / std\n",
    "# fm = visualize_sel_fm(net, X[0], selected_layer, selected_filter, min_val, max_val)\n",
    "# plt.imshow(fm)\n",
    "# # img"
   ]
  }
 ],
 "metadata": {
  "kernelspec": {
   "display_name": "Python 3",
   "language": "python",
   "name": "python3"
  },
  "language_info": {
   "codemirror_mode": {
    "name": "ipython",
    "version": 3
   },
   "file_extension": ".py",
   "mimetype": "text/x-python",
   "name": "python",
   "nbconvert_exporter": "python",
   "pygments_lexer": "ipython3",
   "version": "3.6.10"
  },
  "latex_envs": {
   "LaTeX_envs_menu_present": true,
   "autoclose": false,
   "autocomplete": true,
   "bibliofile": "biblio.bib",
   "cite_by": "apalike",
   "current_citInitial": 1,
   "eqLabelWithNumbers": true,
   "eqNumInitial": 1,
   "hotkeys": {
    "equation": "Ctrl-E",
    "itemize": "Ctrl-I"
   },
   "labels_anchors": false,
   "latex_user_defs": false,
   "report_style_numbering": false,
   "user_envs_cfg": false
  },
  "toc": {
   "base_numbering": 1,
   "nav_menu": {},
   "number_sections": true,
   "sideBar": false,
   "skip_h1_title": false,
   "title_cell": "Table of Contents",
   "title_sidebar": "Contents",
   "toc_cell": false,
   "toc_position": {
    "height": "766.344px",
    "left": "10px",
    "top": "150px",
    "width": "165px"
   },
   "toc_section_display": true,
   "toc_window_display": true
  },
  "varInspector": {
   "cols": {
    "lenName": 16,
    "lenType": 16,
    "lenVar": 40
   },
   "kernels_config": {
    "python": {
     "delete_cmd_postfix": "",
     "delete_cmd_prefix": "del ",
     "library": "var_list.py",
     "varRefreshCmd": "print(var_dic_list())"
    },
    "r": {
     "delete_cmd_postfix": ") ",
     "delete_cmd_prefix": "rm(",
     "library": "var_list.r",
     "varRefreshCmd": "cat(var_dic_list()) "
    }
   },
   "types_to_exclude": [
    "module",
    "function",
    "builtin_function_or_method",
    "instance",
    "_Feature"
   ],
   "window_display": false
  }
 },
 "nbformat": 4,
 "nbformat_minor": 4
}
