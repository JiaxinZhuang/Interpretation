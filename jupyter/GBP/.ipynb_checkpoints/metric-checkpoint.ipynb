{
 "cells": [
  {
   "cell_type": "code",
   "execution_count": 20,
   "metadata": {
    "ExecuteTime": {
     "end_time": "2020-07-30T07:47:12.808500Z",
     "start_time": "2020-07-30T07:47:12.787596Z"
    }
   },
   "outputs": [
    {
     "name": "stdout",
     "output_type": "stream",
     "text": [
      "The autoreload extension is already loaded. To reload it, use:\n",
      "  %reload_ext autoreload\n"
     ]
    }
   ],
   "source": [
    "%load_ext autoreload\n",
    "%autoreload 2\n",
    "%config InlineBackend.figure_format = 'svg'"
   ]
  },
  {
   "cell_type": "code",
   "execution_count": 21,
   "metadata": {
    "ExecuteTime": {
     "end_time": "2020-07-30T07:47:13.022744Z",
     "start_time": "2020-07-30T07:47:13.007533Z"
    }
   },
   "outputs": [],
   "source": [
    "import os\n",
    "os.environ[\"CUDA_DEVICE_ORDER\"] = \"PCI_BUS_ID\"\n",
    "os.environ[\"CUDA_VISIBLE_DEVICES\"] = \"0\"\n",
    "\n",
    "import torch\n",
    "import os\n",
    "import numpy as np\n",
    "from torchsummary import summary\n",
    "from torchvision import transforms                                                                                                                                        \n",
    "import matplotlib as mpl\n",
    "mpl.rcParams['figure.dpi'] = 600\n",
    "from PIL import Image\n",
    "import pandas as pd\n",
    "\n",
    "import sys\n",
    "sys.path.append(\"../../src/\")\n",
    "sys.path.append(\"../\")\n",
    "import model\n",
    "from datasets import imagenet\n",
    "import config\n",
    "from aux.utils import obtain_features_map, load_imgs, zscore, extract_valid\n",
    "from aux.visualization import visualize_features_map\n",
    "from utils.visualizations.visualize import concat_imgs, preprocess_arrays\n",
    "\n",
    "import pandas as pd\n",
    "import numpy as np\n",
    "\n",
    "from utils.myMetric import mMetric_v3"
   ]
  },
  {
   "cell_type": "code",
   "execution_count": 28,
   "metadata": {
    "ExecuteTime": {
     "end_time": "2020-07-30T07:54:01.368866Z",
     "start_time": "2020-07-30T07:54:01.348485Z"
    }
   },
   "outputs": [],
   "source": [
    "def main(exp, cnn_layer, filter_pos, class_index):\n",
    "    print(\"=> class index: {}\".format(class_index))\n",
    "    num_class = 30\n",
    "    mean = [0.485, 0.456, 0.406]\n",
    "    std = [0.229, 0.224, 0.225]\n",
    "    reverse_mean = [-0.485, -0.456, -0.406]\n",
    "    reverse_std = [1/0.229, 1/0.224, 1/0.225]\n",
    "    train_transform = transforms.Compose([                                                                                                                                \n",
    "        transforms.Resize((224, 224), interpolation=Image.BILINEAR),                                                                                              \n",
    "        transforms.ToTensor(),                                                                                                                                            \n",
    "        #transforms.Normalize(mean, std)                                                                                                                                   \n",
    "           ])         \n",
    "    trainset = imagenet.ImageNet(root=\"/media/lincolnzjx/HardDisk/Datasets/\", \n",
    "                                 is_train=True, transform=train_transform)\n",
    "    \n",
    "    backbone = \"vgg16\"\n",
    "    resume = \"037-0\"\n",
    "    color_map = \"jet\"\n",
    "    model_dir = \"/home/lincolnzjx/Desktop/Interpretation/saved/models\"\n",
    "    device = torch.device(\"cuda:0\" if torch.cuda.is_available() else \"cpu\")\n",
    "    # model\n",
    "    net = model.Network(backbone=backbone, num_classes=1000, \n",
    "                        selected_layer=selected_layer)\n",
    "    net.to(device)\n",
    "    # resume from model\n",
    "    resume_exp = resume.split(\"-\")[0]\n",
    "    resume_epoch = resume.split(\"-\")[1]\n",
    "    print(\"Resume from model from exp: {} at epoch {}\".format(resume_exp, resume_epoch))\n",
    "    resume_path = os.path.join(model_dir, str(resume_exp), str(resume_epoch))\n",
    "    ckpt = torch.load(resume_path, map_location=device)\n",
    "    net.load_state_dict(ckpt, strict=False) \n",
    "    \n",
    "    trainset.set_data([class_index], num_class)\n",
    "    imgs_path = []                                                                                                                                                            \n",
    "    images = []\n",
    "    labels = []\n",
    "    for img, label, img_path in trainset:                                                                                                                                     \n",
    "        images.append(img.unsqueeze(0))                                                                                                                                       \n",
    "        labels.append(label)                                                                                                                                                  \n",
    "        imgs_path.append(img_path)  \n",
    "    \n",
    "    ## Create some need path\n",
    "    save_dir = \"./generated\"\n",
    "    ################### Hyper-Parameter #######################\n",
    "    # exp = resume_exp\n",
    "    # epoch = resume_epoch\n",
    "    ##########################################################\n",
    "    images_cpu = np.array([image.detach().clone().cpu().numpy().squeeze() for image in images])\n",
    "\n",
    "    ab_path = os.path.join(save_dir, exp)\n",
    "    optimized_data, valid_imgs_path, valid_imgs_index = load_imgs(ab_path, \n",
    "                                                                  imgs_path, \n",
    "                                                                  non_exists_ok=True, \n",
    "                                                                  ext=\".png\")\n",
    "    valid_imgs, valid_labels = extract_valid(images, labels, valid_imgs_index)\n",
    "    optimized_data_zscore = zscore(optimized_data, mean, std)\n",
    "    images_zscore = zscore(images_cpu, mean, std)\n",
    "    \n",
    "    # Move to device\n",
    "    opt_image = torch.from_numpy(optimized_data_zscore).to(device)\n",
    "    original_image = torch.from_numpy(images_zscore).to(device)\n",
    "    \n",
    "    index2image = {index: item.split(\"/\")[-1].split(\".\")[0] for index, item \n",
    "                   in enumerate(imgs_path)}\n",
    "        \n",
    "    ori_activation_maps = net.get_activation_maps(original_image, \n",
    "                                                  selected_layer=selected_layer)[0]\n",
    "    opt_activation_maps = net.get_activation_maps(opt_image, \n",
    "                                                  selected_layer=selected_layer)[0]\n",
    "    return ori_activation_maps, opt_activation_maps"
   ]
  },
  {
   "cell_type": "markdown",
   "metadata": {},
   "source": [
    "## Class 14"
   ]
  },
  {
   "cell_type": "code",
   "execution_count": 23,
   "metadata": {
    "ExecuteTime": {
     "end_time": "2020-07-30T07:47:13.738600Z",
     "start_time": "2020-07-30T07:47:13.725174Z"
    }
   },
   "outputs": [],
   "source": [
    "excel_path = \"../analysis/week9/Batches.xlsx\"\n",
    "sheet = \"Others\"\n",
    "excepts = [\"052148\"]"
   ]
  },
  {
   "cell_type": "code",
   "execution_count": 31,
   "metadata": {
    "ExecuteTime": {
     "end_time": "2020-07-30T07:55:44.966648Z",
     "start_time": "2020-07-30T07:55:06.524716Z"
    },
    "scrolled": false
   },
   "outputs": [
    {
     "name": "stdout",
     "output_type": "stream",
     "text": [
      "=> Skip\n",
      "=> RUN  052198 3 20 14\n",
      "=> class index: 14\n",
      "Only Keep 3th layers before.\n",
      "Resume from model from exp: 037 at epoch 0\n",
      "Len of new dataset is :30\n",
      "(30, 224, 224, 3)\n",
      "(30, 3, 224, 224)\n",
      "=> Register fhook 3\n",
      "=> Register fhook 3\n",
      "RMSE: 0.6834447979927063 - std 0.13143090903759003\n",
      "SSIM_SEL: 0.08250956982374191 - std 0.11480436474084854\n",
      "SSIM_RES: 0.48464059829711914 - std 0.18294954299926758\n",
      "SSIM_SUM 0.2835750877857208 - std 0.12311797589063644\n",
      "\n",
      "--------------------------------------------------\n",
      "=> RUN  052153 8 99 14\n",
      "=> class index: 14\n",
      "Only Keep 8th layers before.\n",
      "Resume from model from exp: 037 at epoch 0\n",
      "Len of new dataset is :30\n",
      "(30, 224, 224, 3)\n",
      "(30, 3, 224, 224)\n",
      "=> Register fhook 8\n",
      "=> Register fhook 8\n",
      "RMSE: 18.316389083862305 - std 1.1662601232528687\n",
      "SSIM_SEL: 0.014054326340556145 - std 0.005727022420614958\n",
      "SSIM_RES: 0.06479302793741226 - std 0.05876081436872482\n",
      "SSIM_SUM 0.03942367807030678 - std 0.030020764097571373\n",
      "\n",
      "--------------------------------------------------\n",
      "=> RUN  052103 29 334 14\n",
      "=> class index: 14\n",
      "Only Keep 29th layers before.\n",
      "Resume from model from exp: 037 at epoch 0\n",
      "Len of new dataset is :30\n",
      "(30, 224, 224, 3)\n",
      "(30, 3, 224, 224)\n",
      "=> Register fhook 29\n",
      "=> Register fhook 29\n",
      "RMSE: 11.177839279174805 - std 4.3853302001953125\n",
      "SSIM_SEL: 0.011650338768959045 - std 0.020511841401457787\n",
      "SSIM_RES: 0.531343936920166 - std 0.029961640015244484\n",
      "SSIM_SUM 0.27149713039398193 - std 0.017634697258472443\n",
      "\n",
      "--------------------------------------------------\n",
      "=> RUN  052118 22 485 14\n",
      "=> class index: 14\n",
      "Only Keep 22th layers before.\n",
      "Resume from model from exp: 037 at epoch 0\n",
      "Len of new dataset is :30\n",
      "(30, 224, 224, 3)\n",
      "(30, 3, 224, 224)\n",
      "=> Register fhook 22\n",
      "=> Register fhook 22\n",
      "RMSE: 62.551795959472656 - std 7.6004767417907715\n",
      "SSIM_SEL: 0.0004958921344950795 - std 0.0010184143902733922\n",
      "SSIM_RES: 0.5184372067451477 - std 0.029583917930722237\n",
      "SSIM_SUM 0.2594665586948395 - std 0.014599218033254147\n",
      "\n",
      "--------------------------------------------------\n",
      "=> RUN  072500 15 173 14\n",
      "=> class index: 14\n",
      "Only Keep 15th layers before.\n",
      "Resume from model from exp: 037 at epoch 0\n",
      "Len of new dataset is :30\n",
      "(30, 224, 224, 3)\n",
      "(30, 3, 224, 224)\n",
      "=> Register fhook 15\n",
      "=> Register fhook 15\n",
      "RMSE: 76.94339752197266 - std 2.010681390762329\n",
      "SSIM_SEL: 0.0023215615656226873 - std 0.0022885522339493036\n",
      "SSIM_RES: 0.12920793890953064 - std 0.02560562640428543\n",
      "SSIM_SUM 0.06576475501060486 - std 0.013150947168469429\n",
      "\n",
      "--------------------------------------------------\n"
     ]
    }
   ],
   "source": [
    "xlsx = pd.ExcelFile(excel_path)\n",
    "excel = pd.read_excel(xlsx, sheet, Sdtype={\"exp\": str, \n",
    "                                           \"selected_layer\": int,\n",
    "                                           \"selected_filter\": int, \n",
    "                                           \"class_index\": int,\n",
    "                                            \"Done\": str}).values\n",
    "for data in excel:\n",
    "    exp, selected_layer, selected_filter, class_index, done = data[0], data[1], \\\n",
    "        data[2], data[3], data[4]\n",
    "    exp = exp.replace(\"x\", \"\")\n",
    "    if exp in excepts:\n",
    "        print(\"=> Skip\")\n",
    "    else:\n",
    "        if done == \"N\":\n",
    "            print(\"=> RUN \", exp, selected_layer, selected_filter, class_index)\n",
    "            # main(exp, selected_layer, selected_filter, class_index)\n",
    "            ori_activation_maps, opt_activation_maps = main(exp, \n",
    "                                                            selected_layer, \n",
    "                                                            selected_filter, \n",
    "                                                            class_index)\n",
    "            mMetric_v3(ori_activation_maps, opt_activation_maps, \n",
    "                       selected_filter=selected_filter) \n",
    "            print(\"\")\n",
    "            print(\"-\"*50)"
   ]
  },
  {
   "cell_type": "markdown",
   "metadata": {},
   "source": [
    "## 950"
   ]
  },
  {
   "cell_type": "code",
   "execution_count": 32,
   "metadata": {
    "ExecuteTime": {
     "end_time": "2020-07-30T09:54:23.103750Z",
     "start_time": "2020-07-30T09:54:23.089515Z"
    }
   },
   "outputs": [],
   "source": [
    "excel_path = \"../analysis/week9/Batches.xlsx\"\n",
    "sheet = \"950\"\n",
    "excepts = [\"052148\"]"
   ]
  },
  {
   "cell_type": "code",
   "execution_count": 34,
   "metadata": {
    "ExecuteTime": {
     "end_time": "2020-07-30T09:58:00.497639Z",
     "start_time": "2020-07-30T09:57:18.371508Z"
    }
   },
   "outputs": [
    {
     "name": "stdout",
     "output_type": "stream",
     "text": [
      "=> RUN  061300 1 16 950\n",
      "=> class index: 950\n",
      "Only Keep 1th layers before.\n",
      "Resume from model from exp: 037 at epoch 0\n",
      "Len of new dataset is :30\n",
      "['20000']\n",
      "[]\n",
      "(30, 224, 224, 3)\n",
      "(30, 3, 224, 224)\n",
      "=> Register fhook 1\n",
      "=> Register fhook 1\n",
      "RMSE: 1.1201536655426025 - std 0.364773154258728\n",
      "SSIM_SEL: 0.07783007621765137 - std 0.06195209547877312\n",
      "SSIM_RES: 0.8236807584762573 - std 0.11779654771089554\n",
      "SSIM_SUM 0.45075538754463196 - std 0.07796662300825119\n",
      "\n",
      "--------------------------------------------------\n",
      "=> RUN  052490 1 16 950\n",
      "=> class index: 950\n",
      "Only Keep 1th layers before.\n",
      "Resume from model from exp: 037 at epoch 0\n",
      "Len of new dataset is :30\n",
      "['20000']\n",
      "[]\n",
      "(30, 224, 224, 3)\n",
      "(30, 3, 224, 224)\n",
      "=> Register fhook 1\n",
      "=> Register fhook 1\n",
      "RMSE: 1.1201536655426025 - std 0.364773154258728\n",
      "SSIM_SEL: 0.07783007621765137 - std 0.06195209547877312\n",
      "SSIM_RES: 0.8236807584762573 - std 0.11779654771089554\n",
      "SSIM_SUM 0.45075538754463196 - std 0.07796662300825119\n",
      "\n",
      "--------------------------------------------------\n",
      "=> RUN  7005 6 19 950\n",
      "=> class index: 950\n",
      "Only Keep 6th layers before.\n",
      "Resume from model from exp: 037 at epoch 0\n",
      "Len of new dataset is :30\n",
      "['20000']\n",
      "[]\n",
      "(30, 224, 224, 3)\n",
      "(30, 3, 224, 224)\n",
      "=> Register fhook 6\n",
      "=> Register fhook 6\n",
      "RMSE: 26.062213897705078 - std 2.10078501701355\n",
      "SSIM_SEL: 0.011901849880814552 - std 0.007501973304897547\n",
      "SSIM_RES: 0.3411489427089691 - std 0.09301804006099701\n",
      "SSIM_SUM 0.17652538418769836 - std 0.04533499851822853\n",
      "\n",
      "--------------------------------------------------\n",
      "=> RUN  70071 11 75 950\n",
      "=> class index: 950\n",
      "Only Keep 11th layers before.\n",
      "Resume from model from exp: 037 at epoch 0\n",
      "Len of new dataset is :30\n",
      "['20000']\n",
      "[]\n",
      "(30, 224, 224, 3)\n",
      "(30, 3, 224, 224)\n",
      "=> Register fhook 11\n",
      "=> Register fhook 11\n",
      "RMSE: 37.428550720214844 - std 1.5595201253890991\n",
      "SSIM_SEL: 0.01276357565075159 - std 0.011925491504371166\n",
      "SSIM_RES: 0.19995160400867462 - std 0.06389692425727844\n",
      "SSIM_SUM 0.10635758936405182 - std 0.0351257398724556\n",
      "\n",
      "--------------------------------------------------\n",
      "=> RUN  7010 18 49 950\n",
      "=> class index: 950\n",
      "Only Keep 18th layers before.\n",
      "Resume from model from exp: 037 at epoch 0\n",
      "Len of new dataset is :30\n",
      "['20000']\n",
      "[]\n",
      "(30, 224, 224, 3)\n",
      "(30, 3, 224, 224)\n",
      "=> Register fhook 18\n",
      "=> Register fhook 18\n",
      "RMSE: 114.76427459716797 - std 2.472637176513672\n",
      "SSIM_SEL: 0.0019883541390299797 - std 0.0022090093698352575\n",
      "SSIM_RES: 0.3106372654438019 - std 0.07649155706167221\n",
      "SSIM_SUM 0.15631279349327087 - std 0.03871316462755203\n",
      "\n",
      "--------------------------------------------------\n",
      "=> RUN  7013 25 1 950\n",
      "=> class index: 950\n",
      "Only Keep 25th layers before.\n",
      "Resume from model from exp: 037 at epoch 0\n",
      "Len of new dataset is :30\n",
      "['20000']\n",
      "[]\n",
      "(30, 224, 224, 3)\n",
      "(30, 3, 224, 224)\n",
      "=> Register fhook 25\n",
      "=> Register fhook 25\n",
      "RMSE: 46.05606460571289 - std 3.942074775695801\n",
      "SSIM_SEL: 0.023305147886276245 - std 0.019107932224869728\n",
      "SSIM_RES: 0.31034648418426514 - std 0.04418973997235298\n",
      "SSIM_SUM 0.1668258160352707 - std 0.025527726858854294\n",
      "\n",
      "--------------------------------------------------\n"
     ]
    }
   ],
   "source": [
    "xlsx = pd.ExcelFile(excel_path)\n",
    "excel = pd.read_excel(xlsx, sheet, Sdtype={\"exp\": str, \n",
    "                                           \"selected_layer\": int,\n",
    "                                           \"selected_filter\": int, \n",
    "                                           \"class_index\": int,\n",
    "                                            \"Done\": str}).values\n",
    "for data in excel:\n",
    "    exp, selected_layer, selected_filter, class_index, done = data[0], data[1], \\\n",
    "        data[2], data[3], data[4]\n",
    "    exp = exp.replace(\"x\", \"\")\n",
    "    if exp in excepts:\n",
    "        print(\"=> Skip\")\n",
    "    else:\n",
    "        if done == \"N\":\n",
    "            print(\"=> RUN \", exp, selected_layer, selected_filter, class_index)\n",
    "            # main(exp, selected_layer, selected_filter, class_index)\n",
    "            ori_activation_maps, opt_activation_maps = main(exp, \n",
    "                                                            selected_layer, \n",
    "                                                            selected_filter, \n",
    "                                                            class_index)\n",
    "            mMetric_v3(ori_activation_maps, opt_activation_maps, \n",
    "                       selected_filter=selected_filter) \n",
    "            print(\"\")\n",
    "            print(\"-\"*50)"
   ]
  },
  {
   "cell_type": "code",
   "execution_count": null,
   "metadata": {},
   "outputs": [],
   "source": []
  }
 ],
 "metadata": {
  "kernelspec": {
   "display_name": "Python 3",
   "language": "python",
   "name": "python3"
  },
  "language_info": {
   "codemirror_mode": {
    "name": "ipython",
    "version": 3
   },
   "file_extension": ".py",
   "mimetype": "text/x-python",
   "name": "python",
   "nbconvert_exporter": "python",
   "pygments_lexer": "ipython3",
   "version": "3.6.10"
  },
  "latex_envs": {
   "LaTeX_envs_menu_present": true,
   "autoclose": false,
   "autocomplete": true,
   "bibliofile": "biblio.bib",
   "cite_by": "apalike",
   "current_citInitial": 1,
   "eqLabelWithNumbers": true,
   "eqNumInitial": 1,
   "hotkeys": {
    "equation": "Ctrl-E",
    "itemize": "Ctrl-I"
   },
   "labels_anchors": false,
   "latex_user_defs": false,
   "report_style_numbering": false,
   "user_envs_cfg": false
  },
  "toc": {
   "base_numbering": 1,
   "nav_menu": {},
   "number_sections": true,
   "sideBar": false,
   "skip_h1_title": false,
   "title_cell": "Table of Contents",
   "title_sidebar": "Contents",
   "toc_cell": false,
   "toc_position": {},
   "toc_section_display": true,
   "toc_window_display": true
  },
  "varInspector": {
   "cols": {
    "lenName": 16,
    "lenType": 16,
    "lenVar": 40
   },
   "kernels_config": {
    "python": {
     "delete_cmd_postfix": "",
     "delete_cmd_prefix": "del ",
     "library": "var_list.py",
     "varRefreshCmd": "print(var_dic_list())"
    },
    "r": {
     "delete_cmd_postfix": ") ",
     "delete_cmd_prefix": "rm(",
     "library": "var_list.r",
     "varRefreshCmd": "cat(var_dic_list()) "
    }
   },
   "types_to_exclude": [
    "module",
    "function",
    "builtin_function_or_method",
    "instance",
    "_Feature"
   ],
   "window_display": false
  }
 },
 "nbformat": 4,
 "nbformat_minor": 4
}
