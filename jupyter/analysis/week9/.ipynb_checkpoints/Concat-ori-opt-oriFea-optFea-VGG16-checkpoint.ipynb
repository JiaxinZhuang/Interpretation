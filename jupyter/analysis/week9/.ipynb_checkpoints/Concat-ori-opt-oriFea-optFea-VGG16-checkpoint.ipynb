{
 "cells": [
  {
   "cell_type": "code",
   "execution_count": 1,
   "metadata": {
    "ExecuteTime": {
     "end_time": "2020-05-28T11:29:00.403616Z",
     "start_time": "2020-05-28T11:29:00.387244Z"
    },
    "scrolled": false
   },
   "outputs": [],
   "source": [
    "%load_ext autoreload\n",
    "%autoreload 2\n",
    "%config InlineBackend.figure_format = 'svg'"
   ]
  },
  {
   "cell_type": "markdown",
   "metadata": {},
   "source": [
    "## Import module"
   ]
  },
  {
   "cell_type": "code",
   "execution_count": 2,
   "metadata": {
    "ExecuteTime": {
     "end_time": "2020-05-28T11:29:03.200664Z",
     "start_time": "2020-05-28T11:29:01.734341Z"
    }
   },
   "outputs": [],
   "source": [
    "import os\n",
    "os.environ[\"CUDA_DEVICE_ORDER\"] = \"PCI_BUS_ID\"\n",
    "os.environ[\"CUDA_VISIBLE_DEVICES\"] = \"0\"\n",
    "\n",
    "import torch\n",
    "import os\n",
    "from torchsummary import summary\n",
    "from torchvision import transforms                                                                                                                                        \n",
    "import matplotlib as mpl\n",
    "mpl.rcParams['figure.dpi'] = 600\n",
    "from PIL import Image\n",
    "\n",
    "import sys\n",
    "sys.path.append(\"../../../src/\")\n",
    "sys.path.append(\"../../\")\n",
    "import model\n",
    "from datasets import imagenet\n",
    "import config\n",
    "from aux.utils import obtain_features_map, load_imgs, zscore, extract_valid\n",
    "from aux.visualization import visualize_features_map\n",
    "from utils.visualizations.visualize import concat_imgs, preprocess_arrays"
   ]
  },
  {
   "cell_type": "markdown",
   "metadata": {},
   "source": [
    "## Hyperparameter"
   ]
  },
  {
   "cell_type": "code",
   "execution_count": 3,
   "metadata": {
    "ExecuteTime": {
     "end_time": "2020-05-28T11:29:03.451769Z",
     "start_time": "2020-05-28T11:29:03.429844Z"
    }
   },
   "outputs": [],
   "source": [
    "selected_layer = 1\n",
    "selected_filter = 16\n",
    "class_index = 968\n",
    "num_class = 30\n",
    "exp = \"052190\"\n",
    "epoch = \"46448\""
   ]
  },
  {
   "cell_type": "code",
   "execution_count": 4,
   "metadata": {
    "ExecuteTime": {
     "end_time": "2020-05-28T11:29:04.645145Z",
     "start_time": "2020-05-28T11:29:04.618090Z"
    }
   },
   "outputs": [],
   "source": [
    "color_map = \"nipy_spectral\"\n",
    "resume = \"037-0\"\n",
    "model_dir = \"/home/lincolnzjx/Desktop/Interpretation/saved/models\"\n",
    "backbone = \"vgg16\"\n",
    "device = torch.device(\"cuda:0\" if torch.cuda.is_available() else \"cpu\")"
   ]
  },
  {
   "cell_type": "markdown",
   "metadata": {},
   "source": [
    "## Load modal from dict"
   ]
  },
  {
   "cell_type": "code",
   "execution_count": 5,
   "metadata": {
    "ExecuteTime": {
     "end_time": "2020-05-28T11:29:11.768112Z",
     "start_time": "2020-05-28T11:29:05.275669Z"
    },
    "scrolled": true
   },
   "outputs": [
    {
     "name": "stdout",
     "output_type": "stream",
     "text": [
      "Only Keep 1th layers before.\n",
      "Resume from model from exp: 037 at epoch 0\n"
     ]
    },
    {
     "data": {
      "text/plain": [
       "_IncompatibleKeys(missing_keys=[], unexpected_keys=['model.fc.0.weight', 'model.fc.0.bias', 'model.fc.3.weight', 'model.fc.3.bias', 'model.fc.6.weight', 'model.fc.6.bias', 'model.features.2.weight', 'model.features.2.bias', 'model.features.5.weight', 'model.features.5.bias', 'model.features.7.weight', 'model.features.7.bias', 'model.features.10.weight', 'model.features.10.bias', 'model.features.12.weight', 'model.features.12.bias', 'model.features.14.weight', 'model.features.14.bias', 'model.features.17.weight', 'model.features.17.bias', 'model.features.19.weight', 'model.features.19.bias', 'model.features.21.weight', 'model.features.21.bias', 'model.features.24.weight', 'model.features.24.bias', 'model.features.26.weight', 'model.features.26.bias', 'model.features.28.weight', 'model.features.28.bias'])"
      ]
     },
     "execution_count": 5,
     "metadata": {},
     "output_type": "execute_result"
    }
   ],
   "source": [
    "# model\n",
    "net = model.Network(backbone=backbone, num_classes=1000, \n",
    "                    selected_layer=selected_layer)\n",
    "net.to(device)\n",
    "\n",
    "# resume from model\n",
    "resume_exp = resume.split(\"-\")[0]\n",
    "resume_epoch = resume.split(\"-\")[1]\n",
    "print(\"Resume from model from exp: {} at epoch {}\".format(resume_exp, resume_epoch))\n",
    "resume_path = os.path.join(model_dir, str(resume_exp), str(resume_epoch))\n",
    "ckpt = torch.load(resume_path, map_location=device)\n",
    "net.load_state_dict(ckpt, strict=False) "
   ]
  },
  {
   "cell_type": "code",
   "execution_count": 6,
   "metadata": {
    "ExecuteTime": {
     "end_time": "2020-05-28T11:29:27.182048Z",
     "start_time": "2020-05-28T11:29:26.487422Z"
    },
    "scrolled": false
   },
   "outputs": [
    {
     "name": "stdout",
     "output_type": "stream",
     "text": [
      "----------------------------------------------------------------\n",
      "        Layer (type)               Output Shape         Param #\n",
      "================================================================\n",
      "            Conv2d-1         [-1, 64, 224, 224]           1,792\n",
      "              ReLU-2         [-1, 64, 224, 224]               0\n",
      "             VGG16-3         [-1, 64, 224, 224]               0\n",
      "================================================================\n",
      "Total params: 1,792\n",
      "Trainable params: 1,792\n",
      "Non-trainable params: 0\n",
      "----------------------------------------------------------------\n",
      "Input size (MB): 0.57\n",
      "Forward/backward pass size (MB): 73.50\n",
      "Params size (MB): 0.01\n",
      "Estimated Total Size (MB): 74.08\n",
      "----------------------------------------------------------------\n"
     ]
    }
   ],
   "source": [
    "summary(net, (3, 224, 224))"
   ]
  },
  {
   "cell_type": "markdown",
   "metadata": {},
   "source": [
    "## Load Original Data "
   ]
  },
  {
   "cell_type": "code",
   "execution_count": 7,
   "metadata": {
    "ExecuteTime": {
     "end_time": "2020-05-28T11:29:50.916077Z",
     "start_time": "2020-05-28T11:29:43.853489Z"
    },
    "scrolled": true
   },
   "outputs": [
    {
     "name": "stdout",
     "output_type": "stream",
     "text": [
      "Len of new dataset is :30\n"
     ]
    }
   ],
   "source": [
    "# Load data\n",
    "mean = [0.485, 0.456, 0.406]\n",
    "std = [0.229, 0.224, 0.225]\n",
    "reverse_mean = [-0.485, -0.456, -0.406]\n",
    "reverse_std = [1/0.229, 1/0.224, 1/0.225]\n",
    "train_transform = None\n",
    "train_transform = transforms.Compose([                                                                                                                                \n",
    "    transforms.Resize((224, 224), interpolation=Image.BILINEAR),                                                                                              \n",
    "    transforms.ToTensor(),                                                                                                                                            \n",
    "    #transforms.Normalize(mean, std)                                                                                                                                   \n",
    "       ])         \n",
    "trainset = imagenet.ImageNet(root=\"/media/lincolnzjx/HardDisk/Datasets/\", \n",
    "                             is_train=True, transform=train_transform)\n",
    "\n",
    "trainset.set_data([class_index], num_class)\n",
    "imgs_path = []                                                                                                                                                            \n",
    "images = []\n",
    "labels = []\n",
    "for img, label, img_path in trainset:                                                                                                                                     \n",
    "    images.append(img.unsqueeze(0))                                                                                                                                       \n",
    "    labels.append(label)                                                                                                                                                  \n",
    "    imgs_path.append(img_path)  "
   ]
  },
  {
   "cell_type": "markdown",
   "metadata": {},
   "source": [
    "## Create some need path"
   ]
  },
  {
   "cell_type": "code",
   "execution_count": 8,
   "metadata": {
    "ExecuteTime": {
     "end_time": "2020-05-28T11:30:05.571390Z",
     "start_time": "2020-05-28T11:30:05.535867Z"
    }
   },
   "outputs": [],
   "source": [
    "save_dir = \"../../../saved/pack/\"\n",
    "################### Hyper-Parameter #######################\n",
    "# exp = resume_exp\n",
    "# epoch = resume_epoch\n",
    "##########################################################\n",
    "ab_path = os.path.join(save_dir, exp, epoch)"
   ]
  },
  {
   "cell_type": "code",
   "execution_count": 9,
   "metadata": {
    "ExecuteTime": {
     "end_time": "2020-05-28T11:30:21.295576Z",
     "start_time": "2020-05-28T11:30:21.276770Z"
    },
    "scrolled": true
   },
   "outputs": [
    {
     "data": {
      "text/plain": [
       "{0: 'n07930864_1002',\n",
       " 1: 'n07930864_10027',\n",
       " 2: 'n07930864_10037',\n",
       " 3: 'n07930864_10122',\n",
       " 4: 'n07930864_1016',\n",
       " 5: 'n07930864_10165',\n",
       " 6: 'n07930864_10187',\n",
       " 7: 'n07930864_10259',\n",
       " 8: 'n07930864_10276',\n",
       " 9: 'n07930864_10299',\n",
       " 10: 'n07930864_10322',\n",
       " 11: 'n07930864_10435',\n",
       " 12: 'n07930864_10496',\n",
       " 13: 'n07930864_105',\n",
       " 14: 'n07930864_10517',\n",
       " 15: 'n07930864_10538',\n",
       " 16: 'n07930864_10551',\n",
       " 17: 'n07930864_10555',\n",
       " 18: 'n07930864_1058',\n",
       " 19: 'n07930864_10642',\n",
       " 20: 'n07930864_10743',\n",
       " 21: 'n07930864_10773',\n",
       " 22: 'n07930864_10775',\n",
       " 23: 'n07930864_10776',\n",
       " 24: 'n07930864_10811',\n",
       " 25: 'n07930864_10813',\n",
       " 26: 'n07930864_10827',\n",
       " 27: 'n07930864_10909',\n",
       " 28: 'n07930864_10937',\n",
       " 29: 'n07930864_10960'}"
      ]
     },
     "execution_count": 9,
     "metadata": {},
     "output_type": "execute_result"
    }
   ],
   "source": [
    "index2image = {index: item.split(\"/\")[-1].split(\".\")[0] for index, item in enumerate(imgs_path)}\n",
    "index2image"
   ]
  },
  {
   "cell_type": "code",
   "execution_count": 10,
   "metadata": {
    "ExecuteTime": {
     "end_time": "2020-05-28T11:30:36.205119Z",
     "start_time": "2020-05-28T11:30:36.177875Z"
    },
    "scrolled": false
   },
   "outputs": [
    {
     "name": "stdout",
     "output_type": "stream",
     "text": [
      "Directory has been created /home/lincolnzjx/Desktop/Interpretation/saved/pack/052190/feature_map/\n"
     ]
    }
   ],
   "source": [
    "save_dict = {\n",
    "    \"save_dir\": \"/home/lincolnzjx/Desktop/Interpretation/saved/pack/\"+ exp + \"/feature_map/\",\n",
    "    \"index2image\": index2image, \n",
    "    \"save_name\": \"layer-{}-{}.pdf\"\n",
    "}\n",
    "\n",
    "try: \n",
    "    os.mkdir(save_dict[\"save_dir\"])\n",
    "except FileExistsError:\n",
    "    print(\"Directory has been created {}\".format(save_dict[\"save_dir\"]))"
   ]
  },
  {
   "cell_type": "code",
   "execution_count": 11,
   "metadata": {
    "ExecuteTime": {
     "end_time": "2020-05-28T11:31:45.616145Z",
     "start_time": "2020-05-28T11:31:45.560237Z"
    }
   },
   "outputs": [],
   "source": [
    "images_cpu = np.array([image.detach().clone().cpu().numpy().squeeze() for image in images])"
   ]
  },
  {
   "cell_type": "code",
   "execution_count": 13,
   "metadata": {
    "ExecuteTime": {
     "end_time": "2020-05-28T11:33:43.212812Z",
     "start_time": "2020-05-28T11:33:43.044922Z"
    },
    "scrolled": true
   },
   "outputs": [
    {
     "name": "stdout",
     "output_type": "stream",
     "text": [
      "Load from ../../../saved/pack/052190/46448/n07930864_1002.png\n",
      "Load from ../../../saved/pack/052190/46448/n07930864_10027.png\n",
      "Load from ../../../saved/pack/052190/46448/n07930864_10037.png\n",
      "Load from ../../../saved/pack/052190/46448/n07930864_10122.png\n",
      "Load from ../../../saved/pack/052190/46448/n07930864_1016.png\n",
      "Load from ../../../saved/pack/052190/46448/n07930864_10165.png\n",
      "Load from ../../../saved/pack/052190/46448/n07930864_10187.png\n",
      "Load from ../../../saved/pack/052190/46448/n07930864_10259.png\n",
      "Load from ../../../saved/pack/052190/46448/n07930864_10276.png\n",
      "Load from ../../../saved/pack/052190/46448/n07930864_10299.png\n",
      "Load from ../../../saved/pack/052190/46448/n07930864_10322.png\n",
      "Load from ../../../saved/pack/052190/46448/n07930864_10435.png\n",
      "Load from ../../../saved/pack/052190/46448/n07930864_10496.png\n",
      "Load from ../../../saved/pack/052190/46448/n07930864_105.png\n",
      "Load from ../../../saved/pack/052190/46448/n07930864_10517.png\n",
      "Load from ../../../saved/pack/052190/46448/n07930864_10538.png\n",
      "Load from ../../../saved/pack/052190/46448/n07930864_10551.png\n",
      "Load from ../../../saved/pack/052190/46448/n07930864_10555.png\n",
      "Load from ../../../saved/pack/052190/46448/n07930864_1058.png\n",
      "Load from ../../../saved/pack/052190/46448/n07930864_10642.png\n",
      "Load from ../../../saved/pack/052190/46448/n07930864_10743.png\n",
      "Load from ../../../saved/pack/052190/46448/n07930864_10773.png\n",
      "Load from ../../../saved/pack/052190/46448/n07930864_10775.png\n",
      "Load from ../../../saved/pack/052190/46448/n07930864_10776.png\n",
      "Load from ../../../saved/pack/052190/46448/n07930864_10811.png\n",
      "Load from ../../../saved/pack/052190/46448/n07930864_10813.png\n",
      "Load from ../../../saved/pack/052190/46448/n07930864_10827.png\n",
      "Load from ../../../saved/pack/052190/46448/n07930864_10909.png\n",
      "Load from ../../../saved/pack/052190/46448/n07930864_10937.png\n",
      "Load from ../../../saved/pack/052190/46448/n07930864_10960.png\n"
     ]
    }
   ],
   "source": [
    "# Load image\n",
    "optimized_data, valid_imgs_path, valid_imgs_index = load_imgs(ab_path, imgs_path, non_exists_ok=True)\n",
    "valid_imgs, valid_labels = extract_valid(images, labels, valid_imgs_index)\n",
    "optimized_data_zscore = zscore(optimized_data, mean, std)\n",
    "images_zscore = zscore(images_cpu, mean, std)"
   ]
  },
  {
   "cell_type": "code",
   "execution_count": 15,
   "metadata": {
    "ExecuteTime": {
     "end_time": "2020-05-28T11:34:14.637557Z",
     "start_time": "2020-05-28T11:34:14.591356Z"
    }
   },
   "outputs": [],
   "source": [
    "# Move to device\n",
    "opt_image = torch.from_numpy(optimized_data_zscore).to(device)\n",
    "original_image = torch.from_numpy(images_zscore).to(device)"
   ]
  },
  {
   "cell_type": "markdown",
   "metadata": {},
   "source": [
    "## Obtain feature from conv layers."
   ]
  },
  {
   "cell_type": "code",
   "execution_count": 16,
   "metadata": {
    "ExecuteTime": {
     "end_time": "2020-05-28T11:34:34.366082Z",
     "start_time": "2020-05-28T11:34:33.869055Z"
    }
   },
   "outputs": [
    {
     "name": "stdout",
     "output_type": "stream",
     "text": [
      "=> Register fhook 1\n",
      "=> Register fhook 1\n"
     ]
    }
   ],
   "source": [
    "ori_activation_maps = net.get_activation_maps(original_image, \n",
    "                                              selected_layer=selected_layer)[0]\n",
    "opt_activation_maps = net.get_activation_maps(opt_image, \n",
    "                                              selected_layer=selected_layer)[0]"
   ]
  },
  {
   "cell_type": "code",
   "execution_count": 48,
   "metadata": {
    "ExecuteTime": {
     "end_time": "2020-05-28T12:25:11.332240Z",
     "start_time": "2020-05-28T12:25:11.147499Z"
    }
   },
   "outputs": [
    {
     "name": "stdout",
     "output_type": "stream",
     "text": [
      "(30, 224, 224, 3)\n",
      "(30, 224, 224, 3)\n",
      "(30, 224, 224, 3)\n",
      "(30, 224, 224, 3)\n",
      "(30, 224, 224, 3)\n"
     ]
    }
   ],
   "source": [
    "images_cpu_p, optimized_data_cpu, ori_activation_maps_cpu, opt_activation_maps_cpu =\\\n",
    "    preprocess_arrays(images_cpu, optimized_data,\n",
    "                      ori_activation_maps[:, selected_filter], \n",
    "                      opt_activation_maps[:, selected_filter])\n",
    "concated_imgs = concat_imgs(images_cpu_p, optimized_data_cpu,\n",
    "                            ori_activation_maps_cpu, opt_activation_maps_cpu)"
   ]
  },
  {
   "cell_type": "markdown",
   "metadata": {},
   "source": [
    "## Visualization Here."
   ]
  },
  {
   "cell_type": "code",
   "execution_count": 49,
   "metadata": {
    "ExecuteTime": {
     "end_time": "2020-05-28T12:25:31.904110Z",
     "start_time": "2020-05-28T12:25:30.329636Z"
    },
    "scrolled": false
   },
   "outputs": [],
   "source": [
    "concated_imgs.save(\"tmp.png\")"
   ]
  }
 ],
 "metadata": {
  "kernelspec": {
   "display_name": "Python 3",
   "language": "python",
   "name": "python3"
  },
  "language_info": {
   "codemirror_mode": {
    "name": "ipython",
    "version": 3
   },
   "file_extension": ".py",
   "mimetype": "text/x-python",
   "name": "python",
   "nbconvert_exporter": "python",
   "pygments_lexer": "ipython3",
   "version": "3.6.10"
  },
  "latex_envs": {
   "LaTeX_envs_menu_present": true,
   "autoclose": false,
   "autocomplete": true,
   "bibliofile": "biblio.bib",
   "cite_by": "apalike",
   "current_citInitial": 1,
   "eqLabelWithNumbers": true,
   "eqNumInitial": 1,
   "hotkeys": {
    "equation": "Ctrl-E",
    "itemize": "Ctrl-I"
   },
   "labels_anchors": false,
   "latex_user_defs": false,
   "report_style_numbering": false,
   "user_envs_cfg": false
  },
  "toc": {
   "base_numbering": 1,
   "nav_menu": {},
   "number_sections": true,
   "sideBar": false,
   "skip_h1_title": false,
   "title_cell": "Table of Contents",
   "title_sidebar": "Contents",
   "toc_cell": false,
   "toc_position": {
    "height": "829px",
    "left": "10px",
    "top": "150px",
    "width": "283.391px"
   },
   "toc_section_display": true,
   "toc_window_display": true
  },
  "varInspector": {
   "cols": {
    "lenName": 16,
    "lenType": 16,
    "lenVar": 40
   },
   "kernels_config": {
    "python": {
     "delete_cmd_postfix": "",
     "delete_cmd_prefix": "del ",
     "library": "var_list.py",
     "varRefreshCmd": "print(var_dic_list())"
    },
    "r": {
     "delete_cmd_postfix": ") ",
     "delete_cmd_prefix": "rm(",
     "library": "var_list.r",
     "varRefreshCmd": "cat(var_dic_list()) "
    }
   },
   "position": {
    "height": "258px",
    "left": "1439px",
    "right": "20px",
    "top": "120px",
    "width": "333px"
   },
   "types_to_exclude": [
    "module",
    "function",
    "builtin_function_or_method",
    "instance",
    "_Feature"
   ],
   "window_display": true
  }
 },
 "nbformat": 4,
 "nbformat_minor": 2
}
