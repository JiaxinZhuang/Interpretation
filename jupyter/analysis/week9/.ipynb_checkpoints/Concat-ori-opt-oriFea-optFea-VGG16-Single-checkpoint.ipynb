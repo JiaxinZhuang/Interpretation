{
 "cells": [
  {
   "cell_type": "code",
   "execution_count": 1,
   "metadata": {
    "ExecuteTime": {
     "end_time": "2020-05-30T03:31:52.930983Z",
     "start_time": "2020-05-30T03:31:52.915054Z"
    },
    "scrolled": false
   },
   "outputs": [],
   "source": [
    "%load_ext autoreload\n",
    "%autoreload 2\n",
    "%config InlineBackend.figure_format = 'svg'"
   ]
  },
  {
   "cell_type": "markdown",
   "metadata": {},
   "source": [
    "## Import module"
   ]
  },
  {
   "cell_type": "code",
   "execution_count": 2,
   "metadata": {
    "ExecuteTime": {
     "end_time": "2020-05-30T03:31:58.634283Z",
     "start_time": "2020-05-30T03:31:57.688460Z"
    }
   },
   "outputs": [],
   "source": [
    "import os\n",
    "os.environ[\"CUDA_DEVICE_ORDER\"] = \"PCI_BUS_ID\"\n",
    "os.environ[\"CUDA_VISIBLE_DEVICES\"] = \"0\"\n",
    "\n",
    "import torch\n",
    "import os\n",
    "import numpy as np\n",
    "from torchsummary import summary\n",
    "from torchvision import transforms                                                                                                                                        \n",
    "import matplotlib as mpl\n",
    "mpl.rcParams['figure.dpi'] = 600\n",
    "from PIL import Image\n",
    "\n",
    "import sys\n",
    "sys.path.append(\"../../../src/\")\n",
    "sys.path.append(\"../../\")\n",
    "import model\n",
    "from datasets import imagenet\n",
    "import config\n",
    "from aux.utils import obtain_features_map, load_imgs, zscore, extract_valid\n",
    "from aux.visualization import visualize_features_map\n",
    "from utils.visualizations.visualize import concat_imgs, preprocess_arrays"
   ]
  },
  {
   "cell_type": "markdown",
   "metadata": {},
   "source": [
    "## Hyperparameter"
   ]
  },
  {
   "cell_type": "code",
   "execution_count": 5,
   "metadata": {
    "ExecuteTime": {
     "end_time": "2020-05-30T03:35:54.965929Z",
     "start_time": "2020-05-30T03:35:54.952168Z"
    }
   },
   "outputs": [],
   "source": [
    "selected_layer = 6\n",
    "selected_filter = 19\n",
    "num_class = 30\n",
    "exp = \"052510\""
   ]
  },
  {
   "cell_type": "code",
   "execution_count": 6,
   "metadata": {
    "ExecuteTime": {
     "end_time": "2020-05-30T03:35:56.229381Z",
     "start_time": "2020-05-30T03:35:56.206688Z"
    }
   },
   "outputs": [],
   "source": [
    "backbone = \"vgg16\"\n",
    "resume = \"037-0\"\n",
    "color_map = \"nipy_spectral\"\n",
    "model_dir = \"/home/lincolnzjx/Desktop/Interpretation/saved/models\"\n",
    "device = torch.device(\"cuda:0\" if torch.cuda.is_available() else \"cpu\")"
   ]
  },
  {
   "cell_type": "markdown",
   "metadata": {},
   "source": [
    "## Load modal from dict"
   ]
  },
  {
   "cell_type": "code",
   "execution_count": 5,
   "metadata": {
    "ExecuteTime": {
     "end_time": "2020-05-29T12:42:23.106845Z",
     "start_time": "2020-05-29T12:42:20.550946Z"
    },
    "scrolled": true
   },
   "outputs": [
    {
     "name": "stdout",
     "output_type": "stream",
     "text": [
      "Only Keep 6th layers before.\n",
      "Resume from model from exp: 037 at epoch 0\n"
     ]
    },
    {
     "data": {
      "text/plain": [
       "_IncompatibleKeys(missing_keys=[], unexpected_keys=['model.fc.0.weight', 'model.fc.0.bias', 'model.fc.3.weight', 'model.fc.3.bias', 'model.fc.6.weight', 'model.fc.6.bias', 'model.features.7.weight', 'model.features.7.bias', 'model.features.10.weight', 'model.features.10.bias', 'model.features.12.weight', 'model.features.12.bias', 'model.features.14.weight', 'model.features.14.bias', 'model.features.17.weight', 'model.features.17.bias', 'model.features.19.weight', 'model.features.19.bias', 'model.features.21.weight', 'model.features.21.bias', 'model.features.24.weight', 'model.features.24.bias', 'model.features.26.weight', 'model.features.26.bias', 'model.features.28.weight', 'model.features.28.bias'])"
      ]
     },
     "execution_count": 5,
     "metadata": {},
     "output_type": "execute_result"
    }
   ],
   "source": [
    "# model\n",
    "net = model.Network(backbone=backbone, num_classes=1000, \n",
    "                    selected_layer=selected_layer)\n",
    "net.to(device)\n",
    "\n",
    "# resume from model\n",
    "resume_exp = resume.split(\"-\")[0]\n",
    "resume_epoch = resume.split(\"-\")[1]\n",
    "print(\"Resume from model from exp: {} at epoch {}\".format(resume_exp, resume_epoch))\n",
    "resume_path = os.path.join(model_dir, str(resume_exp), str(resume_epoch))\n",
    "ckpt = torch.load(resume_path, map_location=device)\n",
    "net.load_state_dict(ckpt, strict=False) "
   ]
  },
  {
   "cell_type": "code",
   "execution_count": 6,
   "metadata": {
    "ExecuteTime": {
     "end_time": "2020-05-29T12:42:23.236960Z",
     "start_time": "2020-05-29T12:42:23.107802Z"
    },
    "scrolled": false
   },
   "outputs": [
    {
     "name": "stdout",
     "output_type": "stream",
     "text": [
      "----------------------------------------------------------------\n",
      "        Layer (type)               Output Shape         Param #\n",
      "================================================================\n",
      "            Conv2d-1         [-1, 64, 224, 224]           1,792\n",
      "              ReLU-2         [-1, 64, 224, 224]               0\n",
      "            Conv2d-3         [-1, 64, 224, 224]          36,928\n",
      "              ReLU-4         [-1, 64, 224, 224]               0\n",
      "         MaxPool2d-5         [-1, 64, 112, 112]               0\n",
      "            Conv2d-6        [-1, 128, 112, 112]          73,856\n",
      "              ReLU-7        [-1, 128, 112, 112]               0\n",
      "             VGG16-8        [-1, 128, 112, 112]               0\n",
      "================================================================\n",
      "Total params: 112,576\n",
      "Trainable params: 112,576\n",
      "Non-trainable params: 0\n",
      "----------------------------------------------------------------\n",
      "Input size (MB): 0.57\n",
      "Forward/backward pass size (MB): 140.88\n",
      "Params size (MB): 0.43\n",
      "Estimated Total Size (MB): 141.88\n",
      "----------------------------------------------------------------\n"
     ]
    }
   ],
   "source": [
    "summary(net, (3, 224, 224))"
   ]
  },
  {
   "cell_type": "markdown",
   "metadata": {},
   "source": [
    "## Load Original Data "
   ]
  },
  {
   "cell_type": "code",
   "execution_count": 7,
   "metadata": {
    "ExecuteTime": {
     "end_time": "2020-05-29T12:42:27.582442Z",
     "start_time": "2020-05-29T12:42:23.238461Z"
    },
    "scrolled": true
   },
   "outputs": [
    {
     "name": "stdout",
     "output_type": "stream",
     "text": [
      "Len of new dataset is :30\n"
     ]
    }
   ],
   "source": [
    "# Load data\n",
    "mean = [0.485, 0.456, 0.406]\n",
    "std = [0.229, 0.224, 0.225]\n",
    "reverse_mean = [-0.485, -0.456, -0.406]\n",
    "reverse_std = [1/0.229, 1/0.224, 1/0.225]\n",
    "train_transform = None\n",
    "train_transform = transforms.Compose([                                                                                                                                \n",
    "    transforms.Resize((224, 224), interpolation=Image.BILINEAR),                                                                                              \n",
    "    transforms.ToTensor(),                                                                                                                                            \n",
    "    #transforms.Normalize(mean, std)                                                                                                                                   \n",
    "       ])         \n",
    "trainset = imagenet.ImageNet(root=\"/media/lincolnzjx/HardDisk/Datasets/\", \n",
    "                             is_train=True, transform=train_transform)\n",
    "\n",
    "trainset.set_data([class_index], num_class)\n",
    "imgs_path = []                                                                                                                                                            \n",
    "images = []\n",
    "labels = []\n",
    "for img, label, img_path in trainset:                                                                                                                                     \n",
    "    images.append(img.unsqueeze(0))                                                                                                                                       \n",
    "    labels.append(label)                                                                                                                                                  \n",
    "    imgs_path.append(img_path)  "
   ]
  },
  {
   "cell_type": "markdown",
   "metadata": {},
   "source": [
    "## Create some need path"
   ]
  },
  {
   "cell_type": "code",
   "execution_count": 8,
   "metadata": {
    "ExecuteTime": {
     "end_time": "2020-05-30T03:36:05.093902Z",
     "start_time": "2020-05-30T03:36:05.056937Z"
    }
   },
   "outputs": [],
   "source": [
    "save_dir = \"../../../saved/pack/\"\n",
    "################### Hyper-Parameter #######################\n",
    "# exp = resume_exp\n",
    "# epoch = resume_epoch\n",
    "##########################################################\n",
    "ab_path = os.path.join(save_dir, exp)"
   ]
  },
  {
   "cell_type": "code",
   "execution_count": 10,
   "metadata": {
    "ExecuteTime": {
     "end_time": "2020-05-30T03:42:30.847153Z",
     "start_time": "2020-05-30T03:42:30.835243Z"
    }
   },
   "outputs": [],
   "source": [
    "from pathlib import Path"
   ]
  },
  {
   "cell_type": "code",
   "execution_count": 34,
   "metadata": {
    "ExecuteTime": {
     "end_time": "2020-05-30T04:00:20.757011Z",
     "start_time": "2020-05-30T04:00:20.734957Z"
    },
    "scrolled": false
   },
   "outputs": [
    {
     "name": "stdout",
     "output_type": "stream",
     "text": [
      "../../../saved/pack/052510/35908 n07747607_10213.png\n",
      "../../../saved/pack/052510/35605 n07747607_10345.png\n",
      "../../../saved/pack/052510/35599 n07747607_10232.png\n",
      "../../../saved/pack/052510/35985 n07747607_10305.png\n",
      "../../../saved/pack/052510/35851 n07747607_10184.png\n",
      "../../../saved/pack/052510/36009 n07747607_10597.png\n",
      "../../../saved/pack/052510/35761 n07747607_10485.png\n",
      "../../../saved/pack/052510/37133 n07747607_10179.png\n",
      "../../../saved/pack/052510/35854 n07747607_10068.png\n",
      "../../../saved/pack/052510/35548 n07747607_10436.png\n",
      "../../../saved/pack/052510/35676 n07747607_10192.png\n",
      "../../../saved/pack/052510/38566 n07747607_10204.png\n",
      "../../../saved/pack/052510/35712 n07747607_10552.png\n",
      "../../../saved/pack/052510/35950 n07747607_10358.png\n",
      "../../../saved/pack/052510/38665 n07747607_10205.png\n",
      "../../../saved/pack/052510/35664 n07747607_10166.png\n",
      "../../../saved/pack/052510/35608 n07747607_10061.png\n",
      "../../../saved/pack/052510/36198 n07747607_10491.png\n",
      "../../../saved/pack/052510/36064 n07747607_10134.png\n",
      "../../../saved/pack/052510/40244 n07747607_10258.png\n",
      "../../../saved/pack/052510/35687 n07747607_10290.png\n",
      "../../../saved/pack/052510/35497 n07747607_10162.png\n",
      "../../../saved/pack/052510/37046 n07747607_10465.png\n",
      "../../../saved/pack/052510/35651 n07747607_10545.png\n",
      "../../../saved/pack/052510/35572 n07747607_10110.png\n",
      "../../../saved/pack/052510/36266 n07747607_10379.png\n",
      "../../../saved/pack/052510/35591 n07747607_10178.png\n",
      "../../../saved/pack/052510/35921 n07747607_10425.png\n",
      "../../../saved/pack/052510/39405 n07747607_10217.png\n",
      "../../../saved/pack/052510/35550 n07747607_1021.png\n",
      "../../../saved/pack/052510/35550 n07747607_10482.png\n",
      "../../../saved/pack/052510/36025 n07747607_10420.png\n"
     ]
    }
   ],
   "source": [
    "path = []\n",
    "for root, directory, files in os.walk(ab_path):\n",
    "    if len(directory) == 0 and root.split(\"/\")[-1] not in [\"0\", \"feature_map\"]:\n",
    "        for file in files:\n",
    "            if file.endswith(\"png\") or file.endswith(\"JPEG\"):\n",
    "                print(root, file)\n",
    "                img_path = os.path.join(root, file)"
   ]
  },
  {
   "cell_type": "code",
   "execution_count": 17,
   "metadata": {
    "ExecuteTime": {
     "end_time": "2020-05-30T03:49:02.383993Z",
     "start_time": "2020-05-30T03:49:02.369274Z"
    },
    "scrolled": true
   },
   "outputs": [
    {
     "name": "stdout",
     "output_type": "stream",
     "text": [
      "../../../saved/pack/052510/35908\n",
      "../../../saved/pack/052510/35605\n",
      "../../../saved/pack/052510/35599\n",
      "../../../saved/pack/052510/35985\n",
      "../../../saved/pack/052510/35851\n",
      "../../../saved/pack/052510/36009\n",
      "../../../saved/pack/052510/35761\n",
      "../../../saved/pack/052510/37133\n",
      "../../../saved/pack/052510/35854\n",
      "../../../saved/pack/052510/35548\n",
      "../../../saved/pack/052510/35676\n",
      "../../../saved/pack/052510/38566\n",
      "../../../saved/pack/052510/35712\n",
      "../../../saved/pack/052510/35950\n",
      "../../../saved/pack/052510/38665\n",
      "../../../saved/pack/052510/35664\n",
      "../../../saved/pack/052510/35608\n",
      "../../../saved/pack/052510/36198\n",
      "../../../saved/pack/052510/36064\n",
      "../../../saved/pack/052510/40244\n",
      "../../../saved/pack/052510/35687\n",
      "../../../saved/pack/052510/35497\n",
      "../../../saved/pack/052510/feature_map\n",
      "../../../saved/pack/052510/37046\n",
      "../../../saved/pack/052510/35651\n",
      "../../../saved/pack/052510/0\n",
      "../../../saved/pack/052510/35572\n",
      "../../../saved/pack/052510/36266\n",
      "../../../saved/pack/052510/35591\n",
      "../../../saved/pack/052510/35921\n",
      "../../../saved/pack/052510/39405\n",
      "../../../saved/pack/052510/35550\n",
      "../../../saved/pack/052510/36025\n"
     ]
    }
   ],
   "source": [
    "for path in pathlist:\n",
    "    print(str(path))"
   ]
  },
  {
   "cell_type": "code",
   "execution_count": 9,
   "metadata": {
    "ExecuteTime": {
     "end_time": "2020-05-29T12:42:27.616759Z",
     "start_time": "2020-05-29T12:42:27.597630Z"
    },
    "scrolled": true
   },
   "outputs": [
    {
     "data": {
      "text/plain": [
       "{0: 'n07747607_10061',\n",
       " 1: 'n07747607_10068',\n",
       " 2: 'n07747607_10110',\n",
       " 3: 'n07747607_10134',\n",
       " 4: 'n07747607_10162',\n",
       " 5: 'n07747607_10166',\n",
       " 6: 'n07747607_10178',\n",
       " 7: 'n07747607_10179',\n",
       " 8: 'n07747607_10184',\n",
       " 9: 'n07747607_10192',\n",
       " 10: 'n07747607_10204',\n",
       " 11: 'n07747607_10205',\n",
       " 12: 'n07747607_1021',\n",
       " 13: 'n07747607_10213',\n",
       " 14: 'n07747607_10217',\n",
       " 15: 'n07747607_10232',\n",
       " 16: 'n07747607_10258',\n",
       " 17: 'n07747607_10290',\n",
       " 18: 'n07747607_10305',\n",
       " 19: 'n07747607_10345',\n",
       " 20: 'n07747607_10358',\n",
       " 21: 'n07747607_10379',\n",
       " 22: 'n07747607_10420',\n",
       " 23: 'n07747607_10425',\n",
       " 24: 'n07747607_10436',\n",
       " 25: 'n07747607_10465',\n",
       " 26: 'n07747607_10482',\n",
       " 27: 'n07747607_10485',\n",
       " 28: 'n07747607_10491',\n",
       " 29: 'n07747607_10545'}"
      ]
     },
     "execution_count": 9,
     "metadata": {},
     "output_type": "execute_result"
    }
   ],
   "source": [
    "index2image = {index: item.split(\"/\")[-1].split(\".\")[0] for index, item in enumerate(imgs_path)}\n",
    "index2image"
   ]
  },
  {
   "cell_type": "code",
   "execution_count": 10,
   "metadata": {
    "ExecuteTime": {
     "end_time": "2020-05-29T12:42:27.634943Z",
     "start_time": "2020-05-29T12:42:27.617606Z"
    }
   },
   "outputs": [],
   "source": [
    "images_cpu = np.array([image.detach().clone().cpu().numpy().squeeze() for image in images])"
   ]
  },
  {
   "cell_type": "code",
   "execution_count": 11,
   "metadata": {
    "ExecuteTime": {
     "end_time": "2020-05-29T12:42:27.719520Z",
     "start_time": "2020-05-29T12:42:27.635844Z"
    },
    "scrolled": true
   },
   "outputs": [
    {
     "name": "stdout",
     "output_type": "stream",
     "text": [
      "Load from ../../../saved/pack/7005/149999/n07747607_10061.png\n",
      "Load from ../../../saved/pack/7005/149999/n07747607_10068.png\n",
      "Load from ../../../saved/pack/7005/149999/n07747607_10110.png\n",
      "Load from ../../../saved/pack/7005/149999/n07747607_10134.png\n",
      "Load from ../../../saved/pack/7005/149999/n07747607_10162.png\n",
      "Load from ../../../saved/pack/7005/149999/n07747607_10166.png\n",
      "Load from ../../../saved/pack/7005/149999/n07747607_10178.png\n",
      "Load from ../../../saved/pack/7005/149999/n07747607_10179.png\n",
      "Load from ../../../saved/pack/7005/149999/n07747607_10184.png\n",
      "Load from ../../../saved/pack/7005/149999/n07747607_10192.png\n",
      "Load from ../../../saved/pack/7005/149999/n07747607_10204.png\n",
      "Load from ../../../saved/pack/7005/149999/n07747607_10205.png\n",
      "Load from ../../../saved/pack/7005/149999/n07747607_1021.png\n",
      "Load from ../../../saved/pack/7005/149999/n07747607_10213.png\n",
      "Load from ../../../saved/pack/7005/149999/n07747607_10217.png\n",
      "Load from ../../../saved/pack/7005/149999/n07747607_10232.png\n",
      "Load from ../../../saved/pack/7005/149999/n07747607_10258.png\n",
      "Load from ../../../saved/pack/7005/149999/n07747607_10290.png\n",
      "Load from ../../../saved/pack/7005/149999/n07747607_10305.png\n",
      "Load from ../../../saved/pack/7005/149999/n07747607_10345.png\n",
      "Load from ../../../saved/pack/7005/149999/n07747607_10358.png\n",
      "Load from ../../../saved/pack/7005/149999/n07747607_10379.png\n",
      "Load from ../../../saved/pack/7005/149999/n07747607_10420.png\n",
      "Load from ../../../saved/pack/7005/149999/n07747607_10425.png\n",
      "Load from ../../../saved/pack/7005/149999/n07747607_10436.png\n",
      "Load from ../../../saved/pack/7005/149999/n07747607_10465.png\n",
      "Load from ../../../saved/pack/7005/149999/n07747607_10482.png\n",
      "Load from ../../../saved/pack/7005/149999/n07747607_10485.png\n",
      "Load from ../../../saved/pack/7005/149999/n07747607_10491.png\n",
      "Load from ../../../saved/pack/7005/149999/n07747607_10545.png\n"
     ]
    }
   ],
   "source": [
    "# Load image\n",
    "# ext may be different.\n",
    "optimized_data, valid_imgs_path, valid_imgs_index = load_imgs(ab_path, imgs_path, non_exists_ok=True, ext=\".png\")\n",
    "valid_imgs, valid_labels = extract_valid(images, labels, valid_imgs_index)\n",
    "optimized_data_zscore = zscore(optimized_data, mean, std)\n",
    "images_zscore = zscore(images_cpu, mean, std)"
   ]
  },
  {
   "cell_type": "code",
   "execution_count": 12,
   "metadata": {
    "ExecuteTime": {
     "end_time": "2020-05-29T12:42:27.742377Z",
     "start_time": "2020-05-29T12:42:27.720757Z"
    }
   },
   "outputs": [],
   "source": [
    "# Move to device\n",
    "opt_image = torch.from_numpy(optimized_data_zscore).to(device)\n",
    "original_image = torch.from_numpy(images_zscore).to(device)"
   ]
  },
  {
   "cell_type": "markdown",
   "metadata": {},
   "source": [
    "## Obtain feature from conv layers."
   ]
  },
  {
   "cell_type": "code",
   "execution_count": 13,
   "metadata": {
    "ExecuteTime": {
     "end_time": "2020-05-29T12:42:27.970030Z",
     "start_time": "2020-05-29T12:42:27.743472Z"
    }
   },
   "outputs": [
    {
     "name": "stdout",
     "output_type": "stream",
     "text": [
      "=> Register fhook 6\n",
      "=> Register fhook 6\n"
     ]
    }
   ],
   "source": [
    "ori_activation_maps = net.get_activation_maps(original_image, \n",
    "                                              selected_layer=selected_layer)[0]\n",
    "opt_activation_maps = net.get_activation_maps(opt_image, \n",
    "                                              selected_layer=selected_layer)[0]"
   ]
  },
  {
   "cell_type": "code",
   "execution_count": 14,
   "metadata": {
    "ExecuteTime": {
     "end_time": "2020-05-29T12:42:28.101973Z",
     "start_time": "2020-05-29T12:42:27.970953Z"
    }
   },
   "outputs": [],
   "source": [
    "images_cpu_p, optimized_data_cpu, ori_activation_maps_cpu, opt_activation_maps_cpu =\\\n",
    "    preprocess_arrays(images_cpu, optimized_data,\n",
    "                      ori_activation_maps[:, selected_filter], \n",
    "                      opt_activation_maps[:, selected_filter])\n",
    "concated_imgs = concat_imgs(images_cpu_p, optimized_data_cpu,\n",
    "                            ori_activation_maps_cpu, opt_activation_maps_cpu)"
   ]
  },
  {
   "cell_type": "markdown",
   "metadata": {},
   "source": [
    "## Visualization Here."
   ]
  },
  {
   "cell_type": "code",
   "execution_count": 15,
   "metadata": {
    "ExecuteTime": {
     "end_time": "2020-05-29T12:42:29.360918Z",
     "start_time": "2020-05-29T12:42:28.102986Z"
    },
    "scrolled": false
   },
   "outputs": [],
   "source": [
    "save_path = os.path.join(\"../../../saved/pack/\", exp, \n",
    "                         \"concat.png\")\n",
    "concated_imgs.save(save_path)"
   ]
  }
 ],
 "metadata": {
  "kernelspec": {
   "display_name": "Python 3",
   "language": "python",
   "name": "python3"
  },
  "language_info": {
   "codemirror_mode": {
    "name": "ipython",
    "version": 3
   },
   "file_extension": ".py",
   "mimetype": "text/x-python",
   "name": "python",
   "nbconvert_exporter": "python",
   "pygments_lexer": "ipython3",
   "version": "3.6.10"
  },
  "latex_envs": {
   "LaTeX_envs_menu_present": true,
   "autoclose": false,
   "autocomplete": true,
   "bibliofile": "biblio.bib",
   "cite_by": "apalike",
   "current_citInitial": 1,
   "eqLabelWithNumbers": true,
   "eqNumInitial": 1,
   "hotkeys": {
    "equation": "Ctrl-E",
    "itemize": "Ctrl-I"
   },
   "labels_anchors": false,
   "latex_user_defs": false,
   "report_style_numbering": false,
   "user_envs_cfg": false
  },
  "toc": {
   "base_numbering": 1,
   "nav_menu": {},
   "number_sections": true,
   "sideBar": false,
   "skip_h1_title": false,
   "title_cell": "Table of Contents",
   "title_sidebar": "Contents",
   "toc_cell": false,
   "toc_position": {
    "height": "829px",
    "left": "10px",
    "top": "150px",
    "width": "283.391px"
   },
   "toc_section_display": true,
   "toc_window_display": true
  },
  "varInspector": {
   "cols": {
    "lenName": 16,
    "lenType": 16,
    "lenVar": 40
   },
   "kernels_config": {
    "python": {
     "delete_cmd_postfix": "",
     "delete_cmd_prefix": "del ",
     "library": "var_list.py",
     "varRefreshCmd": "print(var_dic_list())"
    },
    "r": {
     "delete_cmd_postfix": ") ",
     "delete_cmd_prefix": "rm(",
     "library": "var_list.r",
     "varRefreshCmd": "cat(var_dic_list()) "
    }
   },
   "position": {
    "height": "258px",
    "left": "1439px",
    "right": "20px",
    "top": "120px",
    "width": "333px"
   },
   "types_to_exclude": [
    "module",
    "function",
    "builtin_function_or_method",
    "instance",
    "_Feature"
   ],
   "window_display": true
  }
 },
 "nbformat": 4,
 "nbformat_minor": 2
}
