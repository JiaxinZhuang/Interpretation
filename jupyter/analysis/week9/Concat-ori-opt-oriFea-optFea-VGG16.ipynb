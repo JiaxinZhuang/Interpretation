{
 "cells": [
  {
   "cell_type": "code",
   "execution_count": 1,
   "metadata": {
    "ExecuteTime": {
     "end_time": "2020-05-28T13:41:08.777334Z",
     "start_time": "2020-05-28T13:41:08.760188Z"
    },
    "scrolled": false
   },
   "outputs": [],
   "source": [
    "%load_ext autoreload\n",
    "%autoreload 2\n",
    "%config InlineBackend.figure_format = 'svg'"
   ]
  },
  {
   "cell_type": "markdown",
   "metadata": {},
   "source": [
    "## Import module"
   ]
  },
  {
   "cell_type": "code",
   "execution_count": 2,
   "metadata": {
    "ExecuteTime": {
     "end_time": "2020-05-28T13:41:10.078645Z",
     "start_time": "2020-05-28T13:41:08.778494Z"
    }
   },
   "outputs": [],
   "source": [
    "import os\n",
    "os.environ[\"CUDA_DEVICE_ORDER\"] = \"PCI_BUS_ID\"\n",
    "os.environ[\"CUDA_VISIBLE_DEVICES\"] = \"0\"\n",
    "\n",
    "import torch\n",
    "import os\n",
    "import numpy as np\n",
    "from torchsummary import summary\n",
    "from torchvision import transforms                                                                                                                                        \n",
    "import matplotlib as mpl\n",
    "mpl.rcParams['figure.dpi'] = 600\n",
    "from PIL import Image\n",
    "\n",
    "import sys\n",
    "sys.path.append(\"../../../src/\")\n",
    "sys.path.append(\"../../\")\n",
    "import model\n",
    "from datasets import imagenet\n",
    "import config\n",
    "from aux.utils import obtain_features_map, load_imgs, zscore, extract_valid\n",
    "from aux.visualization import visualize_features_map\n",
    "from utils.visualizations.visualize import concat_imgs, preprocess_arrays"
   ]
  },
  {
   "cell_type": "markdown",
   "metadata": {},
   "source": [
    "## Hyperparameter"
   ]
  },
  {
   "cell_type": "code",
   "execution_count": 3,
   "metadata": {
    "ExecuteTime": {
     "end_time": "2020-05-28T13:41:10.097496Z",
     "start_time": "2020-05-28T13:41:10.079815Z"
    }
   },
   "outputs": [],
   "source": [
    "selected_layer = 1\n",
    "selected_filter = 16\n",
    "num_class = 30\n",
    "\n",
    "# class_index = 968\n",
    "# exp = \"052190\"\n",
    "# epoch = \"46448\"\n",
    "\n",
    "# class_index = 878\n",
    "# exp = \"052191\"\n",
    "# epoch = \"45632\"\n",
    "\n",
    "# class_index = 90\n",
    "# exp = \"052192\"\n",
    "# epoch = \"50702\"\n",
    "# \n",
    "class_index = 14\n",
    "exp = \"052193\"\n",
    "epoch = \"46907\""
   ]
  },
  {
   "cell_type": "code",
   "execution_count": 4,
   "metadata": {
    "ExecuteTime": {
     "end_time": "2020-05-28T13:41:10.118601Z",
     "start_time": "2020-05-28T13:41:10.098783Z"
    }
   },
   "outputs": [],
   "source": [
    "backbone = \"vgg16\"\n",
    "resume = \"037-0\"\n",
    "color_map = \"nipy_spectral\"\n",
    "model_dir = \"/home/lincolnzjx/Desktop/Interpretation/saved/models\"\n",
    "device = torch.device(\"cuda:0\" if torch.cuda.is_available() else \"cpu\")"
   ]
  },
  {
   "cell_type": "markdown",
   "metadata": {},
   "source": [
    "## Load modal from dict"
   ]
  },
  {
   "cell_type": "code",
   "execution_count": 5,
   "metadata": {
    "ExecuteTime": {
     "end_time": "2020-05-28T13:41:14.438827Z",
     "start_time": "2020-05-28T13:41:10.119798Z"
    },
    "scrolled": true
   },
   "outputs": [
    {
     "name": "stdout",
     "output_type": "stream",
     "text": [
      "Only Keep 1th layers before.\n",
      "Resume from model from exp: 037 at epoch 0\n"
     ]
    },
    {
     "data": {
      "text/plain": [
       "_IncompatibleKeys(missing_keys=[], unexpected_keys=['model.fc.0.weight', 'model.fc.0.bias', 'model.fc.3.weight', 'model.fc.3.bias', 'model.fc.6.weight', 'model.fc.6.bias', 'model.features.2.weight', 'model.features.2.bias', 'model.features.5.weight', 'model.features.5.bias', 'model.features.7.weight', 'model.features.7.bias', 'model.features.10.weight', 'model.features.10.bias', 'model.features.12.weight', 'model.features.12.bias', 'model.features.14.weight', 'model.features.14.bias', 'model.features.17.weight', 'model.features.17.bias', 'model.features.19.weight', 'model.features.19.bias', 'model.features.21.weight', 'model.features.21.bias', 'model.features.24.weight', 'model.features.24.bias', 'model.features.26.weight', 'model.features.26.bias', 'model.features.28.weight', 'model.features.28.bias'])"
      ]
     },
     "execution_count": 5,
     "metadata": {},
     "output_type": "execute_result"
    }
   ],
   "source": [
    "# model\n",
    "net = model.Network(backbone=backbone, num_classes=1000, \n",
    "                    selected_layer=selected_layer)\n",
    "net.to(device)\n",
    "\n",
    "# resume from model\n",
    "resume_exp = resume.split(\"-\")[0]\n",
    "resume_epoch = resume.split(\"-\")[1]\n",
    "print(\"Resume from model from exp: {} at epoch {}\".format(resume_exp, resume_epoch))\n",
    "resume_path = os.path.join(model_dir, str(resume_exp), str(resume_epoch))\n",
    "ckpt = torch.load(resume_path, map_location=device)\n",
    "net.load_state_dict(ckpt, strict=False) "
   ]
  },
  {
   "cell_type": "code",
   "execution_count": 6,
   "metadata": {
    "ExecuteTime": {
     "end_time": "2020-05-28T13:41:14.774423Z",
     "start_time": "2020-05-28T13:41:14.440121Z"
    },
    "scrolled": false
   },
   "outputs": [
    {
     "name": "stdout",
     "output_type": "stream",
     "text": [
      "----------------------------------------------------------------\n",
      "        Layer (type)               Output Shape         Param #\n",
      "================================================================\n",
      "            Conv2d-1         [-1, 64, 224, 224]           1,792\n",
      "              ReLU-2         [-1, 64, 224, 224]               0\n",
      "             VGG16-3         [-1, 64, 224, 224]               0\n",
      "================================================================\n",
      "Total params: 1,792\n",
      "Trainable params: 1,792\n",
      "Non-trainable params: 0\n",
      "----------------------------------------------------------------\n",
      "Input size (MB): 0.57\n",
      "Forward/backward pass size (MB): 73.50\n",
      "Params size (MB): 0.01\n",
      "Estimated Total Size (MB): 74.08\n",
      "----------------------------------------------------------------\n"
     ]
    }
   ],
   "source": [
    "summary(net, (3, 224, 224))"
   ]
  },
  {
   "cell_type": "markdown",
   "metadata": {},
   "source": [
    "## Load Original Data "
   ]
  },
  {
   "cell_type": "code",
   "execution_count": 7,
   "metadata": {
    "ExecuteTime": {
     "end_time": "2020-05-28T13:41:19.995998Z",
     "start_time": "2020-05-28T13:41:14.775477Z"
    },
    "scrolled": true
   },
   "outputs": [
    {
     "name": "stdout",
     "output_type": "stream",
     "text": [
      "Len of new dataset is :30\n"
     ]
    }
   ],
   "source": [
    "# Load data\n",
    "mean = [0.485, 0.456, 0.406]\n",
    "std = [0.229, 0.224, 0.225]\n",
    "reverse_mean = [-0.485, -0.456, -0.406]\n",
    "reverse_std = [1/0.229, 1/0.224, 1/0.225]\n",
    "train_transform = None\n",
    "train_transform = transforms.Compose([                                                                                                                                \n",
    "    transforms.Resize((224, 224), interpolation=Image.BILINEAR),                                                                                              \n",
    "    transforms.ToTensor(),                                                                                                                                            \n",
    "    #transforms.Normalize(mean, std)                                                                                                                                   \n",
    "       ])         \n",
    "trainset = imagenet.ImageNet(root=\"/media/lincolnzjx/HardDisk/Datasets/\", \n",
    "                             is_train=True, transform=train_transform)\n",
    "\n",
    "trainset.set_data([class_index], num_class)\n",
    "imgs_path = []                                                                                                                                                            \n",
    "images = []\n",
    "labels = []\n",
    "for img, label, img_path in trainset:                                                                                                                                     \n",
    "    images.append(img.unsqueeze(0))                                                                                                                                       \n",
    "    labels.append(label)                                                                                                                                                  \n",
    "    imgs_path.append(img_path)  "
   ]
  },
  {
   "cell_type": "markdown",
   "metadata": {},
   "source": [
    "## Create some need path"
   ]
  },
  {
   "cell_type": "code",
   "execution_count": 8,
   "metadata": {
    "ExecuteTime": {
     "end_time": "2020-05-28T13:41:20.013030Z",
     "start_time": "2020-05-28T13:41:19.997066Z"
    }
   },
   "outputs": [],
   "source": [
    "save_dir = \"../../../saved/pack/\"\n",
    "################### Hyper-Parameter #######################\n",
    "# exp = resume_exp\n",
    "# epoch = resume_epoch\n",
    "##########################################################\n",
    "ab_path = os.path.join(save_dir, exp, epoch)"
   ]
  },
  {
   "cell_type": "code",
   "execution_count": 9,
   "metadata": {
    "ExecuteTime": {
     "end_time": "2020-05-28T13:41:20.032705Z",
     "start_time": "2020-05-28T13:41:20.014781Z"
    },
    "scrolled": true
   },
   "outputs": [
    {
     "data": {
      "text/plain": [
       "{0: 'n01537544_1',\n",
       " 1: 'n01537544_10018',\n",
       " 2: 'n01537544_10025',\n",
       " 3: 'n01537544_10033',\n",
       " 4: 'n01537544_10047',\n",
       " 5: 'n01537544_10059',\n",
       " 6: 'n01537544_10064',\n",
       " 7: 'n01537544_10068',\n",
       " 8: 'n01537544_1007',\n",
       " 9: 'n01537544_1008',\n",
       " 10: 'n01537544_10082',\n",
       " 11: 'n01537544_10097',\n",
       " 12: 'n01537544_10110',\n",
       " 13: 'n01537544_1012',\n",
       " 14: 'n01537544_10133',\n",
       " 15: 'n01537544_10135',\n",
       " 16: 'n01537544_10137',\n",
       " 17: 'n01537544_10146',\n",
       " 18: 'n01537544_10148',\n",
       " 19: 'n01537544_10155',\n",
       " 20: 'n01537544_10160',\n",
       " 21: 'n01537544_10170',\n",
       " 22: 'n01537544_10181',\n",
       " 23: 'n01537544_10192',\n",
       " 24: 'n01537544_10193',\n",
       " 25: 'n01537544_10195',\n",
       " 26: 'n01537544_1021',\n",
       " 27: 'n01537544_10216',\n",
       " 28: 'n01537544_10232',\n",
       " 29: 'n01537544_10239'}"
      ]
     },
     "execution_count": 9,
     "metadata": {},
     "output_type": "execute_result"
    }
   ],
   "source": [
    "index2image = {index: item.split(\"/\")[-1].split(\".\")[0] for index, item in enumerate(imgs_path)}\n",
    "index2image"
   ]
  },
  {
   "cell_type": "code",
   "execution_count": 10,
   "metadata": {
    "ExecuteTime": {
     "end_time": "2020-05-28T13:41:20.056767Z",
     "start_time": "2020-05-28T13:41:20.034153Z"
    }
   },
   "outputs": [],
   "source": [
    "images_cpu = np.array([image.detach().clone().cpu().numpy().squeeze() for image in images])"
   ]
  },
  {
   "cell_type": "code",
   "execution_count": 11,
   "metadata": {
    "ExecuteTime": {
     "end_time": "2020-05-28T13:41:20.170643Z",
     "start_time": "2020-05-28T13:41:20.057968Z"
    },
    "scrolled": true
   },
   "outputs": [
    {
     "name": "stdout",
     "output_type": "stream",
     "text": [
      "Load from ../../../saved/pack/052193/46907/n01537544_1.png\n",
      "Load from ../../../saved/pack/052193/46907/n01537544_10018.png\n",
      "Load from ../../../saved/pack/052193/46907/n01537544_10025.png\n",
      "Load from ../../../saved/pack/052193/46907/n01537544_10033.png\n",
      "Load from ../../../saved/pack/052193/46907/n01537544_10047.png\n",
      "Load from ../../../saved/pack/052193/46907/n01537544_10059.png\n",
      "Load from ../../../saved/pack/052193/46907/n01537544_10064.png\n",
      "Load from ../../../saved/pack/052193/46907/n01537544_10068.png\n",
      "Load from ../../../saved/pack/052193/46907/n01537544_1007.png\n",
      "Load from ../../../saved/pack/052193/46907/n01537544_1008.png\n",
      "Load from ../../../saved/pack/052193/46907/n01537544_10082.png\n",
      "Load from ../../../saved/pack/052193/46907/n01537544_10097.png\n",
      "Load from ../../../saved/pack/052193/46907/n01537544_10110.png\n",
      "Load from ../../../saved/pack/052193/46907/n01537544_1012.png\n",
      "Load from ../../../saved/pack/052193/46907/n01537544_10133.png\n",
      "Load from ../../../saved/pack/052193/46907/n01537544_10135.png\n",
      "Load from ../../../saved/pack/052193/46907/n01537544_10137.png\n",
      "Load from ../../../saved/pack/052193/46907/n01537544_10146.png\n",
      "Load from ../../../saved/pack/052193/46907/n01537544_10148.png\n",
      "Load from ../../../saved/pack/052193/46907/n01537544_10155.png\n",
      "Load from ../../../saved/pack/052193/46907/n01537544_10160.png\n",
      "Load from ../../../saved/pack/052193/46907/n01537544_10170.png\n",
      "Load from ../../../saved/pack/052193/46907/n01537544_10181.png\n",
      "Load from ../../../saved/pack/052193/46907/n01537544_10192.png\n",
      "Load from ../../../saved/pack/052193/46907/n01537544_10193.png\n",
      "Load from ../../../saved/pack/052193/46907/n01537544_10195.png\n",
      "Load from ../../../saved/pack/052193/46907/n01537544_1021.png\n",
      "Load from ../../../saved/pack/052193/46907/n01537544_10216.png\n",
      "Load from ../../../saved/pack/052193/46907/n01537544_10232.png\n",
      "Load from ../../../saved/pack/052193/46907/n01537544_10239.png\n"
     ]
    }
   ],
   "source": [
    "# Load image\n",
    "optimized_data, valid_imgs_path, valid_imgs_index = load_imgs(ab_path, imgs_path, non_exists_ok=True)\n",
    "valid_imgs, valid_labels = extract_valid(images, labels, valid_imgs_index)\n",
    "optimized_data_zscore = zscore(optimized_data, mean, std)\n",
    "images_zscore = zscore(images_cpu, mean, std)"
   ]
  },
  {
   "cell_type": "code",
   "execution_count": 12,
   "metadata": {
    "ExecuteTime": {
     "end_time": "2020-05-28T13:41:20.202923Z",
     "start_time": "2020-05-28T13:41:20.171805Z"
    }
   },
   "outputs": [],
   "source": [
    "# Move to device\n",
    "opt_image = torch.from_numpy(optimized_data_zscore).to(device)\n",
    "original_image = torch.from_numpy(images_zscore).to(device)"
   ]
  },
  {
   "cell_type": "markdown",
   "metadata": {},
   "source": [
    "## Obtain feature from conv layers."
   ]
  },
  {
   "cell_type": "code",
   "execution_count": 13,
   "metadata": {
    "ExecuteTime": {
     "end_time": "2020-05-28T13:41:20.603692Z",
     "start_time": "2020-05-28T13:41:20.204115Z"
    }
   },
   "outputs": [
    {
     "name": "stdout",
     "output_type": "stream",
     "text": [
      "=> Register fhook 1\n",
      "=> Register fhook 1\n"
     ]
    }
   ],
   "source": [
    "ori_activation_maps = net.get_activation_maps(original_image, \n",
    "                                              selected_layer=selected_layer)[0]\n",
    "opt_activation_maps = net.get_activation_maps(opt_image, \n",
    "                                              selected_layer=selected_layer)[0]"
   ]
  },
  {
   "cell_type": "code",
   "execution_count": 14,
   "metadata": {
    "ExecuteTime": {
     "end_time": "2020-05-28T13:41:20.810942Z",
     "start_time": "2020-05-28T13:41:20.604733Z"
    }
   },
   "outputs": [
    {
     "name": "stdout",
     "output_type": "stream",
     "text": [
      "(30, 224, 224, 3)\n"
     ]
    }
   ],
   "source": [
    "images_cpu_p, optimized_data_cpu, ori_activation_maps_cpu, opt_activation_maps_cpu =\\\n",
    "    preprocess_arrays(images_cpu, optimized_data,\n",
    "                      ori_activation_maps[:, selected_filter], \n",
    "                      opt_activation_maps[:, selected_filter])\n",
    "concated_imgs = concat_imgs(images_cpu_p, optimized_data_cpu,\n",
    "                            ori_activation_maps_cpu, opt_activation_maps_cpu)"
   ]
  },
  {
   "cell_type": "markdown",
   "metadata": {},
   "source": [
    "## Visualization Here."
   ]
  },
  {
   "cell_type": "code",
   "execution_count": 15,
   "metadata": {
    "ExecuteTime": {
     "end_time": "2020-05-28T13:41:22.236647Z",
     "start_time": "2020-05-28T13:41:20.811973Z"
    },
    "scrolled": false
   },
   "outputs": [],
   "source": [
    "save_path = os.path.join(\"../../../saved/pack/\", exp, \n",
    "                         \"concat.png\")\n",
    "concated_imgs.save(save_path)"
   ]
  }
 ],
 "metadata": {
  "kernelspec": {
   "display_name": "Python 3",
   "language": "python",
   "name": "python3"
  },
  "language_info": {
   "codemirror_mode": {
    "name": "ipython",
    "version": 3
   },
   "file_extension": ".py",
   "mimetype": "text/x-python",
   "name": "python",
   "nbconvert_exporter": "python",
   "pygments_lexer": "ipython3",
   "version": "3.6.10"
  },
  "latex_envs": {
   "LaTeX_envs_menu_present": true,
   "autoclose": false,
   "autocomplete": true,
   "bibliofile": "biblio.bib",
   "cite_by": "apalike",
   "current_citInitial": 1,
   "eqLabelWithNumbers": true,
   "eqNumInitial": 1,
   "hotkeys": {
    "equation": "Ctrl-E",
    "itemize": "Ctrl-I"
   },
   "labels_anchors": false,
   "latex_user_defs": false,
   "report_style_numbering": false,
   "user_envs_cfg": false
  },
  "toc": {
   "base_numbering": 1,
   "nav_menu": {},
   "number_sections": true,
   "sideBar": false,
   "skip_h1_title": false,
   "title_cell": "Table of Contents",
   "title_sidebar": "Contents",
   "toc_cell": false,
   "toc_position": {
    "height": "829px",
    "left": "10px",
    "top": "150px",
    "width": "283.391px"
   },
   "toc_section_display": true,
   "toc_window_display": true
  },
  "varInspector": {
   "cols": {
    "lenName": 16,
    "lenType": 16,
    "lenVar": 40
   },
   "kernels_config": {
    "python": {
     "delete_cmd_postfix": "",
     "delete_cmd_prefix": "del ",
     "library": "var_list.py",
     "varRefreshCmd": "print(var_dic_list())"
    },
    "r": {
     "delete_cmd_postfix": ") ",
     "delete_cmd_prefix": "rm(",
     "library": "var_list.r",
     "varRefreshCmd": "cat(var_dic_list()) "
    }
   },
   "position": {
    "height": "258px",
    "left": "1439px",
    "right": "20px",
    "top": "120px",
    "width": "333px"
   },
   "types_to_exclude": [
    "module",
    "function",
    "builtin_function_or_method",
    "instance",
    "_Feature"
   ],
   "window_display": true
  }
 },
 "nbformat": 4,
 "nbformat_minor": 2
}
