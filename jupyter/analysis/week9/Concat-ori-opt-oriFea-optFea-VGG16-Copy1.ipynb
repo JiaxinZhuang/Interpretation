{
 "cells": [
  {
   "cell_type": "code",
   "execution_count": 1,
   "metadata": {
    "ExecuteTime": {
     "end_time": "2020-06-17T08:45:44.499901Z",
     "start_time": "2020-06-17T08:45:44.475500Z"
    },
    "scrolled": false
   },
   "outputs": [],
   "source": [
    "%load_ext autoreload\n",
    "%autoreload 2\n",
    "%config InlineBackend.figure_format = 'svg'"
   ]
  },
  {
   "cell_type": "markdown",
   "metadata": {},
   "source": [
    "## Import module"
   ]
  },
  {
   "cell_type": "code",
   "execution_count": 2,
   "metadata": {
    "ExecuteTime": {
     "end_time": "2020-06-17T08:45:48.547767Z",
     "start_time": "2020-06-17T08:45:47.086771Z"
    }
   },
   "outputs": [],
   "source": [
    "import os\n",
    "os.environ[\"CUDA_DEVICE_ORDER\"] = \"PCI_BUS_ID\"\n",
    "os.environ[\"CUDA_VISIBLE_DEVICES\"] = \"0\"\n",
    "\n",
    "import torch\n",
    "import os\n",
    "import numpy as np\n",
    "from torchsummary import summary\n",
    "from torchvision import transforms                                                                                                                                        \n",
    "import matplotlib as mpl\n",
    "mpl.rcParams['figure.dpi'] = 600\n",
    "from PIL import Image\n",
    "import pandas as pd\n",
    "\n",
    "import sys\n",
    "sys.path.append(\"../../../src/\")\n",
    "sys.path.append(\"../../\")\n",
    "import model\n",
    "from datasets import imagenet\n",
    "import config\n",
    "from aux.utils import obtain_features_map, load_imgs, zscore, extract_valid\n",
    "from aux.visualization import visualize_features_map\n",
    "from utils.visualizations.visualize import concat_imgs, preprocess_arrays"
   ]
  },
  {
   "cell_type": "markdown",
   "metadata": {},
   "source": [
    "## Hyperparameter"
   ]
  },
  {
   "cell_type": "code",
   "execution_count": 16,
   "metadata": {
    "ExecuteTime": {
     "end_time": "2020-06-09T08:00:28.888666Z",
     "start_time": "2020-06-09T08:00:28.871968Z"
    }
   },
   "outputs": [],
   "source": [
    "excel_path = \"ALL.xlsx\"\n",
    "excel = pd.read_excel(\"ALL.xlsx\", dtype={\"exp\": str, \"selected_layer\": int,\n",
    "                                   \"selected_filter\": int}).values"
   ]
  },
  {
   "cell_type": "code",
   "execution_count": 32,
   "metadata": {
    "ExecuteTime": {
     "end_time": "2020-06-09T08:09:42.517380Z",
     "start_time": "2020-06-09T08:09:42.501643Z"
    }
   },
   "outputs": [
    {
     "name": "stdout",
     "output_type": "stream",
     "text": [
      "x052490 1 16\n",
      "x7001 1 47\n",
      "x7004 3 28\n",
      "x060490 3 20\n",
      "x7005 6 19\n",
      "x7006 8 99\n",
      "x70071 11 75\n",
      "x70081 13 91\n",
      "x7010 15 173\n",
      "x7010 18 49\n",
      "x060493 18 101\n",
      "x7011 20 398\n",
      "x7012 22 485\n",
      "x7013 25 1\n"
     ]
    }
   ],
   "source": [
    "for data in excel:\n",
    "    exp, selected_layer, selected_filter = data[0], data[1], data[2]\n",
    "    print(exp, selected_layer, selected_filter)"
   ]
  },
  {
   "cell_type": "code",
   "execution_count": 3,
   "metadata": {
    "ExecuteTime": {
     "end_time": "2020-06-09T07:36:07.859115Z",
     "start_time": "2020-06-09T07:36:07.847554Z"
    }
   },
   "outputs": [],
   "source": [
    "# exp = \"052490\"\n",
    "# selected_layer = 1\n",
    "# selected_filter = 16\n",
    "\n",
    "# exp = \"7001\"\n",
    "# selected_layer = 1\n",
    "# selected_filter = 47\n",
    "\n",
    "# exp = \"7006\"\n",
    "# selected_layer = 8\n",
    "# selected_filter = 99\n",
    "\n",
    "# exp = \"7013\"\n",
    "# selected_layer = 25\n",
    "# selected_filter = 1"
   ]
  },
  {
   "cell_type": "code",
   "execution_count": 4,
   "metadata": {
    "ExecuteTime": {
     "end_time": "2020-06-09T07:36:07.873044Z",
     "start_time": "2020-06-09T07:36:07.860030Z"
    }
   },
   "outputs": [],
   "source": [
    "# selected_layer = 6\n",
    "# selected_filter = 16\n",
    "\n",
    "# class_index = 968\n",
    "# exp = \"052190\"\n",
    "# epoch = \"46448\"\n",
    "\n",
    "# class_index = 878\n",
    "# exp = \"052191\"\n",
    "# epoch = \"45632\"\n",
    "\n",
    "# class_index = 90\n",
    "# exp = \"052192\"\n",
    "# epoch = \"50702\"\n",
    "# \n",
    "# class_index = 14\n",
    "# exp = \"052193\"\n",
    "# epoch = \"46907\"\n",
    "\n",
    "# class_index = 950\n",
    "# exp = \"033104\"\n",
    "# epoch = \"99900\"\n",
    "\n",
    "# exp = \"040104\"\n",
    "# epoch = \"99900\"\n",
    "\n",
    "\n",
    "\n",
    "# exp = \"70071\"\n",
    "# exp = \"9408\"\n",
    "# exp = \"9409\"\n",
    "# selected_layer = 11\n",
    "# selected_filter = 75\n",
    "\n",
    "# exp = \"70081\"\n",
    "# epoch = \"149999\"\n",
    "# selected_layer = 13\n",
    "# selected_filter = 91\n",
    "\n",
    "# exp = \"7009\"\n",
    "# epoch = \"149999\"\n",
    "# selected_layer = 15\n",
    "# selected_filter = 173\n",
    "\n",
    "# exp = \"7010\"\n",
    "# epoch = \"149999\"\n",
    "# selected_layer = 18\n",
    "# selected_filter = 49\n",
    "\n",
    "# exp = \"7011\"\n",
    "# epoch = \"75129\"\n",
    "# selected_layer = 20\n",
    "# selected_filter = 398\n",
    "\n",
    "# exp = \"7012\"\n",
    "# epoch = \"79405\"\n",
    "# selected_layer = 22\n",
    "# selected_filter = 485\n",
    "\n",
    "# exp = \"7004\"\n",
    "# exp = \"70041\"\n",
    "# exp = \"70042\"\n",
    "# epoch = \"127203\"\n",
    "# selected_layer = 3\n",
    "# selected_filter = 28\n",
    "\n",
    "# exp = \"7006\"\n",
    "# epoch = \"149999\"\n",
    "# selected_layer = 8\n",
    "# selected_filter = 99\n",
    "\n",
    "# exp = \"7000\"\n",
    "# epoch = \"46785\"\n",
    "# selected_layer = 1\n",
    "# selected_filter = 16\n",
    "\n",
    "\n",
    "# exp = \"060490\"\n",
    "# epoch = \"116566\"\n",
    "# selected_layer = 3\n",
    "# selected_filter = 20\n",
    "\n",
    "# exp = \"060491\"\n",
    "# epoch = \"116566\"\n",
    "# selected_layer = 3\n",
    "# selected_filter = 20\n",
    "# \n",
    "# exp = \"060492\"\n",
    "# epoch = \"116566\"\n",
    "# selected_layer = 3\n",
    "# selected_filter = 20\n",
    "# \n",
    "# exp = \"060493\"\n",
    "# epoch = \"116566\"\n",
    "# selected_layer = 3\n",
    "# selected_filter = 20\n",
    "\n",
    "# exp = \"060493\"\n",
    "# epoch = \"61521\"\n",
    "# selected_layer = 18\n",
    "# selected_filter = 101\n",
    "\n",
    "# exp = \"060301\"\n",
    "# exp = \"052195\"\n",
    "# exp = \"052196\"\n",
    "# exp = \"052197\"\n",
    "# exp = \"052198\"\n",
    "# selected_layer = 3\n",
    "# selected_filter = 20\n",
    "\n",
    "# exp = \"060302\"\n",
    "# exp = \"9400\"\n",
    "# exp = \"9401\"\n",
    "# exp = \"9402\"\n",
    "# exp = \"9403\"\n",
    "# selected_layer = 6\n",
    "# selected_filter = 19\n",
    "\n",
    "# exp = \"060304\"\n",
    "# selected_layer = 1\n",
    "# selected_filter = 6\n",
    "\n",
    "# exp = \"060305\"\n",
    "# selected_layer = 1\n",
    "# selected_filter = 6\n",
    "\n",
    "# exp = \"70002\"\n",
    "# exp = \"70001\"\n",
    "# selected_layer = 1\n",
    "# selected_filter = 16\n",
    "\n",
    "# exp = \"70011\"\n",
    "# exp = \"70012\"\n",
    "# exp = \"052201\"\n",
    "# exp = \"052202\"\n",
    "# exp = \"052203\"\n",
    "# exp = \"052204\"\n",
    "# exp = \"052190\"\n",
    "# selected_layer = 1\n",
    "# selected_filter = 47\n",
    "\n",
    "class_index = 950\n",
    "# class_index = 968\n",
    "# class_index = 878\n",
    "# class_index = 90\n",
    "# class_index = 14\n",
    "num_class = 30"
   ]
  },
  {
   "cell_type": "code",
   "execution_count": 3,
   "metadata": {
    "ExecuteTime": {
     "end_time": "2020-06-17T08:45:56.688197Z",
     "start_time": "2020-06-17T08:45:56.362256Z"
    }
   },
   "outputs": [],
   "source": [
    "backbone = \"vgg16\"\n",
    "resume = \"037-0\"\n",
    "# color_map = \"nipy_spectral\"\n",
    "color_map = \"jet\"\n",
    "model_dir = \"/home/lincolnzjx/Desktop/Interpretation/saved/models\"\n",
    "device = torch.device(\"cuda:0\" if torch.cuda.is_available() else \"cpu\")"
   ]
  },
  {
   "cell_type": "markdown",
   "metadata": {},
   "source": [
    "## Load modal from dict"
   ]
  },
  {
   "cell_type": "code",
   "execution_count": 5,
   "metadata": {
    "ExecuteTime": {
     "end_time": "2020-06-17T08:46:24.898872Z",
     "start_time": "2020-06-17T08:46:21.803542Z"
    },
    "scrolled": true
   },
   "outputs": [
    {
     "name": "stdout",
     "output_type": "stream",
     "text": [
      "Only Keep 27th layers before.\n",
      "Resume from model from exp: 037 at epoch 0\n"
     ]
    },
    {
     "data": {
      "text/plain": [
       "_IncompatibleKeys(missing_keys=[], unexpected_keys=['model.fc.0.weight', 'model.fc.0.bias', 'model.fc.3.weight', 'model.fc.3.bias', 'model.fc.6.weight', 'model.fc.6.bias', 'model.features.28.weight', 'model.features.28.bias'])"
      ]
     },
     "execution_count": 5,
     "metadata": {},
     "output_type": "execute_result"
    }
   ],
   "source": [
    "# model\n",
    "net = model.Network(backbone=backbone, num_classes=1000, \n",
    "                    selected_layer=27)\n",
    "net.to(device)\n",
    "\n",
    "# resume from model\n",
    "resume_exp = resume.split(\"-\")[0]\n",
    "resume_epoch = resume.split(\"-\")[1]\n",
    "print(\"Resume from model from exp: {} at epoch {}\".format(resume_exp, resume_epoch))\n",
    "resume_path = os.path.join(model_dir, str(resume_exp), str(resume_epoch))\n",
    "ckpt = torch.load(resume_path, map_location=device)\n",
    "net.load_state_dict(ckpt, strict=False) "
   ]
  },
  {
   "cell_type": "code",
   "execution_count": 12,
   "metadata": {
    "ExecuteTime": {
     "end_time": "2020-06-17T08:47:16.490807Z",
     "start_time": "2020-06-17T08:47:16.435755Z"
    }
   },
   "outputs": [
    {
     "data": {
      "text/plain": [
       "tensor(-0.0650, device='cuda:0', grad_fn=<MeanBackward0>)"
      ]
     },
     "execution_count": 12,
     "metadata": {},
     "output_type": "execute_result"
    }
   ],
   "source": [
    "torch.mean(net.model.features[0].bias)"
   ]
  },
  {
   "cell_type": "code",
   "execution_count": 7,
   "metadata": {
    "ExecuteTime": {
     "end_time": "2020-06-09T07:36:10.590914Z",
     "start_time": "2020-06-09T07:36:10.464635Z"
    },
    "scrolled": false
   },
   "outputs": [
    {
     "name": "stdout",
     "output_type": "stream",
     "text": [
      "----------------------------------------------------------------\n",
      "        Layer (type)               Output Shape         Param #\n",
      "================================================================\n",
      "            Conv2d-1         [-1, 64, 224, 224]           1,792\n",
      "              ReLU-2         [-1, 64, 224, 224]               0\n",
      "            Conv2d-3         [-1, 64, 224, 224]          36,928\n",
      "              ReLU-4         [-1, 64, 224, 224]               0\n",
      "         MaxPool2d-5         [-1, 64, 112, 112]               0\n",
      "            Conv2d-6        [-1, 128, 112, 112]          73,856\n",
      "              ReLU-7        [-1, 128, 112, 112]               0\n",
      "            Conv2d-8        [-1, 128, 112, 112]         147,584\n",
      "              ReLU-9        [-1, 128, 112, 112]               0\n",
      "        MaxPool2d-10          [-1, 128, 56, 56]               0\n",
      "           Conv2d-11          [-1, 256, 56, 56]         295,168\n",
      "             ReLU-12          [-1, 256, 56, 56]               0\n",
      "           Conv2d-13          [-1, 256, 56, 56]         590,080\n",
      "             ReLU-14          [-1, 256, 56, 56]               0\n",
      "           Conv2d-15          [-1, 256, 56, 56]         590,080\n",
      "             ReLU-16          [-1, 256, 56, 56]               0\n",
      "        MaxPool2d-17          [-1, 256, 28, 28]               0\n",
      "           Conv2d-18          [-1, 512, 28, 28]       1,180,160\n",
      "             ReLU-19          [-1, 512, 28, 28]               0\n",
      "           Conv2d-20          [-1, 512, 28, 28]       2,359,808\n",
      "             ReLU-21          [-1, 512, 28, 28]               0\n",
      "           Conv2d-22          [-1, 512, 28, 28]       2,359,808\n",
      "             ReLU-23          [-1, 512, 28, 28]               0\n",
      "        MaxPool2d-24          [-1, 512, 14, 14]               0\n",
      "           Conv2d-25          [-1, 512, 14, 14]       2,359,808\n",
      "             ReLU-26          [-1, 512, 14, 14]               0\n",
      "            VGG16-27          [-1, 512, 14, 14]               0\n",
      "================================================================\n",
      "Total params: 9,995,072\n",
      "Trainable params: 9,995,072\n",
      "Non-trainable params: 0\n",
      "----------------------------------------------------------------\n",
      "Input size (MB): 0.57\n",
      "Forward/backward pass size (MB): 215.91\n",
      "Params size (MB): 38.13\n",
      "Estimated Total Size (MB): 254.61\n",
      "----------------------------------------------------------------\n"
     ]
    }
   ],
   "source": [
    "summary(net, (3, 224, 224))"
   ]
  },
  {
   "cell_type": "markdown",
   "metadata": {},
   "source": [
    "## Load Original Data "
   ]
  },
  {
   "cell_type": "code",
   "execution_count": 8,
   "metadata": {
    "ExecuteTime": {
     "end_time": "2020-06-09T07:36:14.835287Z",
     "start_time": "2020-06-09T07:36:10.591799Z"
    },
    "scrolled": true
   },
   "outputs": [
    {
     "name": "stdout",
     "output_type": "stream",
     "text": [
      "Len of new dataset is :30\n"
     ]
    }
   ],
   "source": [
    "# Load data\n",
    "mean = [0.485, 0.456, 0.406]\n",
    "std = [0.229, 0.224, 0.225]\n",
    "reverse_mean = [-0.485, -0.456, -0.406]\n",
    "reverse_std = [1/0.229, 1/0.224, 1/0.225]\n",
    "train_transform = None\n",
    "train_transform = transforms.Compose([                                                                                                                                \n",
    "    transforms.Resize((224, 224), interpolation=Image.BILINEAR),                                                                                              \n",
    "    transforms.ToTensor(),                                                                                                                                            \n",
    "    #transforms.Normalize(mean, std)                                                                                                                                   \n",
    "       ])         \n",
    "trainset = imagenet.ImageNet(root=\"/media/lincolnzjx/HardDisk/Datasets/\", \n",
    "                             is_train=True, transform=train_transform)\n",
    "\n",
    "trainset.set_data([class_index], num_class)\n",
    "imgs_path = []                                                                                                                                                            \n",
    "images = []\n",
    "labels = []\n",
    "for img, label, img_path in trainset:                                                                                                                                     \n",
    "    images.append(img.unsqueeze(0))                                                                                                                                       \n",
    "    labels.append(label)                                                                                                                                                  \n",
    "    imgs_path.append(img_path)  "
   ]
  },
  {
   "cell_type": "markdown",
   "metadata": {},
   "source": [
    "## Create some need path"
   ]
  },
  {
   "cell_type": "code",
   "execution_count": 9,
   "metadata": {
    "ExecuteTime": {
     "end_time": "2020-06-09T07:36:14.849487Z",
     "start_time": "2020-06-09T07:36:14.837493Z"
    }
   },
   "outputs": [],
   "source": [
    "save_dir = \"../../../saved/pack/\"\n",
    "################### Hyper-Parameter #######################\n",
    "# exp = resume_exp\n",
    "# epoch = resume_epoch\n",
    "##########################################################\n",
    "# ab_path = os.path.join(save_dir, exp, epoch)\n",
    "ab_path = os.path.join(save_dir, exp)"
   ]
  },
  {
   "cell_type": "code",
   "execution_count": 10,
   "metadata": {
    "ExecuteTime": {
     "end_time": "2020-06-09T07:36:14.870526Z",
     "start_time": "2020-06-09T07:36:14.850472Z"
    },
    "scrolled": false
   },
   "outputs": [
    {
     "data": {
      "text/plain": [
       "{0: 'n07747607_10061',\n",
       " 1: 'n07747607_10068',\n",
       " 2: 'n07747607_10110',\n",
       " 3: 'n07747607_10134',\n",
       " 4: 'n07747607_10162',\n",
       " 5: 'n07747607_10166',\n",
       " 6: 'n07747607_10178',\n",
       " 7: 'n07747607_10179',\n",
       " 8: 'n07747607_10184',\n",
       " 9: 'n07747607_10192',\n",
       " 10: 'n07747607_10204',\n",
       " 11: 'n07747607_10205',\n",
       " 12: 'n07747607_1021',\n",
       " 13: 'n07747607_10213',\n",
       " 14: 'n07747607_10217',\n",
       " 15: 'n07747607_10232',\n",
       " 16: 'n07747607_10258',\n",
       " 17: 'n07747607_10290',\n",
       " 18: 'n07747607_10305',\n",
       " 19: 'n07747607_10345',\n",
       " 20: 'n07747607_10358',\n",
       " 21: 'n07747607_10379',\n",
       " 22: 'n07747607_10420',\n",
       " 23: 'n07747607_10425',\n",
       " 24: 'n07747607_10436',\n",
       " 25: 'n07747607_10465',\n",
       " 26: 'n07747607_10482',\n",
       " 27: 'n07747607_10485',\n",
       " 28: 'n07747607_10491',\n",
       " 29: 'n07747607_10545'}"
      ]
     },
     "execution_count": 10,
     "metadata": {},
     "output_type": "execute_result"
    }
   ],
   "source": [
    "index2image = {index: item.split(\"/\")[-1].split(\".\")[0] for index, item in enumerate(imgs_path)}\n",
    "index2image"
   ]
  },
  {
   "cell_type": "code",
   "execution_count": 11,
   "metadata": {
    "ExecuteTime": {
     "end_time": "2020-06-09T07:36:14.890129Z",
     "start_time": "2020-06-09T07:36:14.871426Z"
    }
   },
   "outputs": [],
   "source": [
    "images_cpu = np.array([image.detach().clone().cpu().numpy().squeeze() for image in images])"
   ]
  },
  {
   "cell_type": "code",
   "execution_count": 12,
   "metadata": {
    "ExecuteTime": {
     "end_time": "2020-06-09T07:36:15.005737Z",
     "start_time": "2020-06-09T07:36:14.891146Z"
    },
    "scrolled": true
   },
   "outputs": [
    {
     "name": "stdout",
     "output_type": "stream",
     "text": [
      "Load from ../../../saved/pack/7013/149999/n07747607_10061.png\n",
      "Load from ../../../saved/pack/7013/149999/n07747607_10068.png\n",
      "Load from ../../../saved/pack/7013/149999/n07747607_10110.png\n",
      "Load from ../../../saved/pack/7013/149999/n07747607_10134.png\n",
      "Load from ../../../saved/pack/7013/149999/n07747607_10162.png\n",
      "Load from ../../../saved/pack/7013/149999/n07747607_10166.png\n",
      "Load from ../../../saved/pack/7013/149999/n07747607_10178.png\n",
      "Load from ../../../saved/pack/7013/149999/n07747607_10179.png\n",
      "Load from ../../../saved/pack/7013/149999/n07747607_10184.png\n",
      "Load from ../../../saved/pack/7013/149999/n07747607_10192.png\n",
      "Load from ../../../saved/pack/7013/149999/n07747607_10204.png\n",
      "Load from ../../../saved/pack/7013/149999/n07747607_10205.png\n",
      "Load from ../../../saved/pack/7013/149999/n07747607_1021.png\n",
      "Load from ../../../saved/pack/7013/149999/n07747607_10213.png\n",
      "Load from ../../../saved/pack/7013/149999/n07747607_10217.png\n",
      "Load from ../../../saved/pack/7013/149999/n07747607_10232.png\n",
      "Load from ../../../saved/pack/7013/149999/n07747607_10258.png\n",
      "Load from ../../../saved/pack/7013/149999/n07747607_10290.png\n",
      "Load from ../../../saved/pack/7013/149999/n07747607_10305.png\n",
      "Load from ../../../saved/pack/7013/149999/n07747607_10345.png\n",
      "Load from ../../../saved/pack/7013/149999/n07747607_10358.png\n",
      "Load from ../../../saved/pack/7013/149999/n07747607_10379.png\n",
      "Load from ../../../saved/pack/7013/149999/n07747607_10420.png\n",
      "Load from ../../../saved/pack/7013/149999/n07747607_10425.png\n",
      "Load from ../../../saved/pack/7013/149999/n07747607_10436.png\n",
      "Load from ../../../saved/pack/7013/149999/n07747607_10465.png\n",
      "Load from ../../../saved/pack/7013/149999/n07747607_10482.png\n",
      "Load from ../../../saved/pack/7013/149999/n07747607_10485.png\n",
      "Load from ../../../saved/pack/7013/149999/n07747607_10491.png\n",
      "Load from ../../../saved/pack/7013/149999/n07747607_10545.png\n"
     ]
    }
   ],
   "source": [
    "# Load image\n",
    "# ext may be different.\n",
    "optimized_data, valid_imgs_path, valid_imgs_index = load_imgs(ab_path, imgs_path, non_exists_ok=True, ext=\".png\")\n",
    "valid_imgs, valid_labels = extract_valid(images, labels, valid_imgs_index)\n",
    "optimized_data_zscore = zscore(optimized_data, mean, std)\n",
    "images_zscore = zscore(images_cpu, mean, std)"
   ]
  },
  {
   "cell_type": "code",
   "execution_count": 13,
   "metadata": {
    "ExecuteTime": {
     "end_time": "2020-06-09T07:36:15.027876Z",
     "start_time": "2020-06-09T07:36:15.006642Z"
    }
   },
   "outputs": [],
   "source": [
    "# Move to device\n",
    "opt_image = torch.from_numpy(optimized_data_zscore).to(device)\n",
    "original_image = torch.from_numpy(images_zscore).to(device)"
   ]
  },
  {
   "cell_type": "markdown",
   "metadata": {},
   "source": [
    "## Obtain feature from conv layers."
   ]
  },
  {
   "cell_type": "code",
   "execution_count": 14,
   "metadata": {
    "ExecuteTime": {
     "end_time": "2020-06-09T07:36:15.200290Z",
     "start_time": "2020-06-09T07:36:15.028985Z"
    }
   },
   "outputs": [
    {
     "name": "stdout",
     "output_type": "stream",
     "text": [
      "=> Register fhook 25\n",
      "=> Register fhook 25\n"
     ]
    }
   ],
   "source": [
    "ori_activation_maps = net.get_activation_maps(original_image, \n",
    "                                              selected_layer=selected_layer)[0]\n",
    "opt_activation_maps = net.get_activation_maps(opt_image, \n",
    "                                              selected_layer=selected_layer)[0]\n",
    "\n",
    "images_cpu_p, optimized_data_cpu, ori_activation_maps_cpu, \\\n",
    "    opt_activation_maps_cpu, optimized_data_cpu_scale, \\\n",
    "    diff_activation_maps_cpu = \\\n",
    "    preprocess_arrays(images_cpu, optimized_data,\n",
    "                      ori_activation_maps, opt_activation_maps,\n",
    "                      selected_filter, color_map=color_map)\n",
    "concated_imgs = concat_imgs(images_cpu_p, optimized_data_cpu,\n",
    "                            ori_activation_maps_cpu, opt_activation_maps_cpu,\n",
    "                            optimized_data_cpu_scale, diff_activation_maps_cpu)"
   ]
  },
  {
   "cell_type": "markdown",
   "metadata": {},
   "source": [
    "## Visualization Here."
   ]
  },
  {
   "cell_type": "code",
   "execution_count": 16,
   "metadata": {
    "ExecuteTime": {
     "end_time": "2020-06-09T07:36:17.546365Z",
     "start_time": "2020-06-09T07:36:15.396897Z"
    },
    "scrolled": false
   },
   "outputs": [],
   "source": [
    "save_path = os.path.join(\"../../../saved/pack/\", exp, \n",
    "                         \"concat.png\")\n",
    "concated_imgs.save(save_path)"
   ]
  },
  {
   "cell_type": "code",
   "execution_count": null,
   "metadata": {},
   "outputs": [],
   "source": [
    "def main()"
   ]
  }
 ],
 "metadata": {
  "kernelspec": {
   "display_name": "Python 3",
   "language": "python",
   "name": "python3"
  },
  "language_info": {
   "codemirror_mode": {
    "name": "ipython",
    "version": 3
   },
   "file_extension": ".py",
   "mimetype": "text/x-python",
   "name": "python",
   "nbconvert_exporter": "python",
   "pygments_lexer": "ipython3",
   "version": "3.6.10"
  },
  "latex_envs": {
   "LaTeX_envs_menu_present": true,
   "autoclose": false,
   "autocomplete": true,
   "bibliofile": "biblio.bib",
   "cite_by": "apalike",
   "current_citInitial": 1,
   "eqLabelWithNumbers": true,
   "eqNumInitial": 1,
   "hotkeys": {
    "equation": "Ctrl-E",
    "itemize": "Ctrl-I"
   },
   "labels_anchors": false,
   "latex_user_defs": false,
   "report_style_numbering": false,
   "user_envs_cfg": false
  },
  "toc": {
   "base_numbering": 1,
   "nav_menu": {},
   "number_sections": true,
   "sideBar": false,
   "skip_h1_title": false,
   "title_cell": "Table of Contents",
   "title_sidebar": "Contents",
   "toc_cell": false,
   "toc_position": {
    "height": "829px",
    "left": "10px",
    "top": "150px",
    "width": "283.391px"
   },
   "toc_section_display": true,
   "toc_window_display": true
  },
  "varInspector": {
   "cols": {
    "lenName": 16,
    "lenType": 16,
    "lenVar": 40
   },
   "kernels_config": {
    "python": {
     "delete_cmd_postfix": "",
     "delete_cmd_prefix": "del ",
     "library": "var_list.py",
     "varRefreshCmd": "print(var_dic_list())"
    },
    "r": {
     "delete_cmd_postfix": ") ",
     "delete_cmd_prefix": "rm(",
     "library": "var_list.r",
     "varRefreshCmd": "cat(var_dic_list()) "
    }
   },
   "position": {
    "height": "258px",
    "left": "1439px",
    "right": "20px",
    "top": "120px",
    "width": "333px"
   },
   "types_to_exclude": [
    "module",
    "function",
    "builtin_function_or_method",
    "instance",
    "_Feature"
   ],
   "window_display": true
  }
 },
 "nbformat": 4,
 "nbformat_minor": 2
}
