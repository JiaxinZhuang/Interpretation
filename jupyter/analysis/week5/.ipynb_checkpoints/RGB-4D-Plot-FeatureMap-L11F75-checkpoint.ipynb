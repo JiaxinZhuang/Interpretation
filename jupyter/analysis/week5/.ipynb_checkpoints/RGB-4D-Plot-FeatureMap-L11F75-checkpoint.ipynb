{
 "cells": [
  {
   "cell_type": "code",
   "execution_count": 2,
   "metadata": {
    "ExecuteTime": {
     "end_time": "2020-05-03T11:06:09.868829Z",
     "start_time": "2020-05-03T11:06:09.856584Z"
    },
    "scrolled": true
   },
   "outputs": [
    {
     "name": "stdout",
     "output_type": "stream",
     "text": [
      "The autoreload extension is already loaded. To reload it, use:\n",
      "  %reload_ext autoreload\n"
     ]
    }
   ],
   "source": [
    "%load_ext autoreload\n",
    "%autoreload 2\n",
    "%config InlineBackend.figure_format = 'svg'"
   ]
  },
  {
   "cell_type": "markdown",
   "metadata": {},
   "source": [
    "## Import module"
   ]
  },
  {
   "cell_type": "code",
   "execution_count": 3,
   "metadata": {
    "ExecuteTime": {
     "end_time": "2020-05-03T11:06:12.823944Z",
     "start_time": "2020-05-03T11:06:11.900271Z"
    }
   },
   "outputs": [],
   "source": [
    "import os\n",
    "import sys\n",
    "os.environ[\"CUDA_DEVICE_ORDER\"] = \"PCI_BUS_ID\"\n",
    "os.environ[\"CUDA_VISIBLE_DEVICES\"] = \"0\"\n",
    "\n",
    "import torch\n",
    "from torchsummary import summary\n",
    "from torchvision import transforms                                                                                                                                        \n",
    "import matplotlib as mpl\n",
    "mpl.rcParams['figure.dpi'] = 600\n",
    "from PIL import Image\n",
    "import matplotlib.pyplot as plt\n",
    "from matplotlib import cm\n",
    "from matplotlib.ticker import LinearLocator, FormatStrFormatter\n",
    "from mpl_toolkits.mplot3d import Axes3D\n",
    "import pandas as pd\n",
    "from scipy.interpolate import griddata\n",
    "import numpy as np\n",
    "import math\n",
    "import plotly.graph_objects as go\n",
    "\n",
    "sys.path.append(\"../../../src/\")\n",
    "sys.path.append(\"../../\")\n",
    "import model\n",
    "from aux.utils import obtain_selected_4D_featureMap\n",
    "from aux.visualization import plot4DFigure\n",
    "from utils.function import timethis"
   ]
  },
  {
   "cell_type": "markdown",
   "metadata": {},
   "source": [
    "# 1. Load Model"
   ]
  },
  {
   "cell_type": "code",
   "execution_count": 4,
   "metadata": {
    "ExecuteTime": {
     "end_time": "2020-05-03T11:06:17.334614Z",
     "start_time": "2020-05-03T11:06:14.704645Z"
    }
   },
   "outputs": [
    {
     "name": "stdout",
     "output_type": "stream",
     "text": [
      "> Use original fc\n",
      "Resume from model from exp: 037 at epoch 0\n"
     ]
    },
    {
     "data": {
      "text/plain": [
       "<All keys matched successfully>"
      ]
     },
     "execution_count": 4,
     "metadata": {},
     "output_type": "execute_result"
    }
   ],
   "source": [
    "resume = \"037-0\"\n",
    "model_dir = \"/home/lincolnzjx/Desktop/Interpretation/saved/models\"\n",
    "backbone = \"vgg16\"\n",
    "# Load model\n",
    "device = torch.device(\"cuda:0\" if torch.cuda.is_available() else \"cpu\")\n",
    "net = model.Network(backbone=backbone, num_classes=1000)\n",
    "net.to(device)\n",
    "# resume from model\n",
    "resume_exp = resume.split(\"-\")[0]\n",
    "resume_epoch = resume.split(\"-\")[1]\n",
    "print(\"Resume from model from exp: {} at epoch {}\".format(resume_exp, resume_epoch))\n",
    "resume_path = os.path.join(model_dir, str(resume_exp), str(resume_epoch))\n",
    "ckpt = torch.load(resume_path, map_location=device)\n",
    "net.load_state_dict(ckpt) "
   ]
  },
  {
   "cell_type": "markdown",
   "metadata": {},
   "source": [
    "# Color Point Generated\n",
    "* RGB Points, 256 * 256 * 256\n",
    "* Feature Map Points"
   ]
  },
  {
   "cell_type": "markdown",
   "metadata": {},
   "source": [
    "# Plot 4D Figure"
   ]
  },
  {
   "cell_type": "markdown",
   "metadata": {},
   "source": [
    "### hyper-parameters setting here!!"
   ]
  },
  {
   "cell_type": "code",
   "execution_count": 5,
   "metadata": {
    "ExecuteTime": {
     "end_time": "2020-05-03T11:06:30.335405Z",
     "start_time": "2020-05-03T11:06:30.316188Z"
    }
   },
   "outputs": [],
   "source": [
    "layer_output_indexes = [13]\n",
    "selected_filter = 112\n",
    "batch_size = 16\n",
    "step = 15 # [5,15,17,51]"
   ]
  },
  {
   "cell_type": "markdown",
   "metadata": {},
   "source": [
    "### Max"
   ]
  },
  {
   "cell_type": "code",
   "execution_count": null,
   "metadata": {
    "ExecuteTime": {
     "start_time": "2020-05-03T11:06:31.477Z"
    },
    "scrolled": false
   },
   "outputs": [
    {
     "name": "stdout",
     "output_type": "stream",
     "text": [
      "[0/365]\n",
      "[10/365]\n",
      "[20/365]\n",
      "[30/365]\n",
      "[40/365]\n",
      "[50/365]\n",
      "[60/365]\n",
      "[70/365]\n",
      "[80/365]\n",
      "[90/365]\n"
     ]
    }
   ],
   "source": [
    "method=\"max\"\n",
    "xs, ys, zs, rets = obtain_selected_4D_featureMap(\n",
    "    net=net,\n",
    "    layer_output_indexes=layer_output_indexes,\n",
    "    selected_filter=selected_filter,\n",
    "    batch_size=batch_size, \n",
    "    step=step,\n",
    "    method=method,\n",
    "    device=device)"
   ]
  },
  {
   "cell_type": "code",
   "execution_count": null,
   "metadata": {
    "ExecuteTime": {
     "start_time": "2020-05-03T11:06:32.207Z"
    },
    "scrolled": true
   },
   "outputs": [],
   "source": [
    "plot4DFigure(X=xs, Y=ys, Z=zs, values=rets, \n",
    "             set_one=False, opacity=0.4, cap=True, normalize=True,\n",
    "             color=\"RdBu_r\",\n",
    "             title=\"RGB-Activation by {}{} via {} and set one {}\".\\\n",
    "             format(method, layer_output_indexes[0], selected_filter, \"False\"))"
   ]
  },
  {
   "cell_type": "code",
   "execution_count": null,
   "metadata": {
    "ExecuteTime": {
     "start_time": "2020-05-03T11:06:32.422Z"
    },
    "scrolled": true
   },
   "outputs": [],
   "source": [
    "plot4DFigure(X=xs, Y=ys, Z=zs, values=rets, \n",
    "             set_one=True, opacity=1.0, cap=False,\n",
    "             color=\"RdBu_r\",\n",
    "             title=\"RGB-Activation by {}{} via {} and set one {}\".\\\n",
    "             format(method, layer_output_indexes[0], selected_filter, \"True\"))"
   ]
  },
  {
   "cell_type": "markdown",
   "metadata": {},
   "source": [
    "### Mean"
   ]
  },
  {
   "cell_type": "code",
   "execution_count": null,
   "metadata": {
    "ExecuteTime": {
     "start_time": "2020-05-03T11:06:32.785Z"
    },
    "scrolled": false
   },
   "outputs": [],
   "source": [
    "method = \"mean\"\n",
    "xs, ys, zs, rets = obtain_selected_4D_featureMap(\n",
    "    net=net,\n",
    "    layer_output_indexes=layer_output_indexes,\n",
    "    selected_filter=selected_filter,\n",
    "    batch_size=batch_size, \n",
    "    step=step,\n",
    "    method=method,\n",
    "    device=device)"
   ]
  },
  {
   "cell_type": "code",
   "execution_count": null,
   "metadata": {
    "ExecuteTime": {
     "start_time": "2020-05-03T11:06:32.979Z"
    },
    "scrolled": true
   },
   "outputs": [],
   "source": [
    "plot4DFigure(X=xs, Y=ys, Z=zs, values=rets, \n",
    "             set_one=False, opacity=0.4, cap=True, normalize=True,\n",
    "             color=\"RdBu_r\",\n",
    "             title=\"RGB-Activation by {}{} via {} and set one {}\".\\\n",
    "             format(method, layer_output_indexes[0], selected_filter, \"False\"))"
   ]
  },
  {
   "cell_type": "code",
   "execution_count": null,
   "metadata": {
    "ExecuteTime": {
     "start_time": "2020-05-03T11:06:33.748Z"
    },
    "scrolled": true
   },
   "outputs": [],
   "source": [
    "plot4DFigure(X=xs, Y=ys, Z=zs, values=rets, \n",
    "             set_one=True, opacity=1.0, cap=False,\n",
    "             color=\"RdBu_r\",\n",
    "             title=\"RGB-Activation by {}{} via {} and set one {}\".\\\n",
    "             format(method, layer_output_indexes[0], selected_filter, \"True\"))"
   ]
  },
  {
   "cell_type": "markdown",
   "metadata": {},
   "source": [
    "### Median"
   ]
  },
  {
   "cell_type": "code",
   "execution_count": null,
   "metadata": {
    "ExecuteTime": {
     "start_time": "2020-05-03T11:06:34.133Z"
    },
    "scrolled": true
   },
   "outputs": [],
   "source": [
    "method=\"median\"\n",
    "xs, ys, zs, rets = obtain_selected_4D_featureMap(\n",
    "    net=net,\n",
    "    layer_output_indexes=layer_output_indexes,\n",
    "    selected_filter=selected_filter,\n",
    "    batch_size=batch_size, \n",
    "    step=step,\n",
    "    method=method,\n",
    "    device=device)"
   ]
  },
  {
   "cell_type": "code",
   "execution_count": null,
   "metadata": {
    "ExecuteTime": {
     "start_time": "2020-05-03T11:06:34.389Z"
    },
    "scrolled": true
   },
   "outputs": [],
   "source": [
    "plot4DFigure(X=xs, Y=ys, Z=zs, values=rets, \n",
    "             set_one=False, opacity=0.4, cap=True, normalize=True,\n",
    "             color=\"RdBu_r\",\n",
    "             title=\"RGB-Activation by {}{} via {} and set one {}\".\\\n",
    "             format(method, layer_output_indexes[0], selected_filter, \"False\"))"
   ]
  },
  {
   "cell_type": "code",
   "execution_count": null,
   "metadata": {
    "ExecuteTime": {
     "start_time": "2020-05-03T11:06:34.589Z"
    },
    "scrolled": true
   },
   "outputs": [],
   "source": [
    "plot4DFigure(X=xs, Y=ys, Z=zs, values=rets, \n",
    "             set_one=True, opacity=1.0, cap=False,\n",
    "             color=\"RdBu_r\",\n",
    "             title=\"RGB-Activation by {}{} via {} and set one {}\".\\\n",
    "             format(method, layer_output_indexes[0], selected_filter, \"True\"))"
   ]
  },
  {
   "cell_type": "code",
   "execution_count": null,
   "metadata": {},
   "outputs": [],
   "source": []
  },
  {
   "cell_type": "code",
   "execution_count": null,
   "metadata": {},
   "outputs": [],
   "source": []
  },
  {
   "cell_type": "code",
   "execution_count": null,
   "metadata": {},
   "outputs": [],
   "source": []
  }
 ],
 "metadata": {
  "kernelspec": {
   "display_name": "Python 3",
   "language": "python",
   "name": "python3"
  },
  "language_info": {
   "codemirror_mode": {
    "name": "ipython",
    "version": 3
   },
   "file_extension": ".py",
   "mimetype": "text/x-python",
   "name": "python",
   "nbconvert_exporter": "python",
   "pygments_lexer": "ipython3",
   "version": "3.6.10"
  },
  "latex_envs": {
   "LaTeX_envs_menu_present": true,
   "autoclose": false,
   "autocomplete": true,
   "bibliofile": "biblio.bib",
   "cite_by": "apalike",
   "current_citInitial": 1,
   "eqLabelWithNumbers": true,
   "eqNumInitial": 1,
   "hotkeys": {
    "equation": "Ctrl-E",
    "itemize": "Ctrl-I"
   },
   "labels_anchors": false,
   "latex_user_defs": false,
   "report_style_numbering": false,
   "user_envs_cfg": false
  },
  "toc": {
   "base_numbering": 1,
   "nav_menu": {},
   "number_sections": true,
   "sideBar": false,
   "skip_h1_title": false,
   "title_cell": "Table of Contents",
   "title_sidebar": "Contents",
   "toc_cell": false,
   "toc_position": {
    "height": "829px",
    "left": "10px",
    "top": "150px",
    "width": "262.391px"
   },
   "toc_section_display": true,
   "toc_window_display": true
  },
  "varInspector": {
   "cols": {
    "lenName": 16,
    "lenType": 16,
    "lenVar": 40
   },
   "kernels_config": {
    "python": {
     "delete_cmd_postfix": "",
     "delete_cmd_prefix": "del ",
     "library": "var_list.py",
     "varRefreshCmd": "print(var_dic_list())"
    },
    "r": {
     "delete_cmd_postfix": ") ",
     "delete_cmd_prefix": "rm(",
     "library": "var_list.r",
     "varRefreshCmd": "cat(var_dic_list()) "
    }
   },
   "position": {
    "height": "343px",
    "left": "1473px",
    "right": "20px",
    "top": "119px",
    "width": "339px"
   },
   "types_to_exclude": [
    "module",
    "function",
    "builtin_function_or_method",
    "instance",
    "_Feature"
   ],
   "window_display": true
  }
 },
 "nbformat": 4,
 "nbformat_minor": 4
}
