{
 "cells": [
  {
   "cell_type": "code",
   "execution_count": 1,
   "metadata": {},
   "outputs": [
    {
     "name": "stdout",
     "output_type": "stream",
     "text": [
      "Populating the interactive namespace from numpy and matplotlib\n"
     ]
    }
   ],
   "source": [
    "%load_ext autoreload\n",
    "%autoreload 2\n",
    "%pylab inline\n",
    "%matplotlib inline"
   ]
  },
  {
   "cell_type": "markdown",
   "metadata": {},
   "source": [
    "## 0. Import module"
   ]
  },
  {
   "cell_type": "code",
   "execution_count": 2,
   "metadata": {},
   "outputs": [],
   "source": [
    "import os\n",
    "os.environ[\"CUDA_DEVICE_ORDER\"] = \"PCI_BUS_ID\"\n",
    "os.environ[\"CUDA_VISIBLE_DEVICES\"] = \"0\"\n",
    "\n",
    "import torch\n",
    "import os\n",
    "from torchsummary import summary\n",
    "from torchvision import transforms                                                                                                                                        \n",
    "import matplotlib as mpl\n",
    "mpl.rcParams['figure.dpi'] = 600\n",
    "from PIL import Image\n",
    "\n",
    "import sys\n",
    "sys.path.append(\"../../../src/\")\n",
    "sys.path.append(\"../../\")\n",
    "import model\n",
    "from datasets import imagenet\n",
    "from loss import FileterLoss\n",
    "import config\n",
    "#from utils.function import init_logging, init_environment, preprocess_image,\\\n",
    "#         recreate_image, get_lr, save_image\n",
    "from aux.utils import obtain_features_map, load_imgs, zscore, extract_valid\n",
    "from aux.visualization import visualize_features_map_for_comparision\n",
    "from utils.function import timethis\n",
    "\n",
    "import matplotlib.pyplot as plt\n",
    "from matplotlib import cm\n",
    "from matplotlib.ticker import LinearLocator, FormatStrFormatter\n",
    "from mpl_toolkits.mplot3d import Axes3D\n",
    "\n",
    "import pandas as pd\n",
    "from scipy.interpolate import griddata"
   ]
  },
  {
   "cell_type": "markdown",
   "metadata": {},
   "source": [
    "# 1. Load Model"
   ]
  },
  {
   "cell_type": "code",
   "execution_count": 3,
   "metadata": {},
   "outputs": [
    {
     "name": "stdout",
     "output_type": "stream",
     "text": [
      "> Use original fc\n",
      "Resume from model from exp: 037 at epoch 0\n"
     ]
    },
    {
     "data": {
      "text/plain": [
       "<All keys matched successfully>"
      ]
     },
     "execution_count": 3,
     "metadata": {},
     "output_type": "execute_result"
    }
   ],
   "source": [
    "resume = \"037-0\"\n",
    "model_dir = \"/home/lincolnzjx/Desktop/Interpretation/saved/models\"\n",
    "backbone = \"vgg16\"\n",
    "# Load model\n",
    "device = torch.device(\"cuda:0\" if torch.cuda.is_available() else \"cpu\")\n",
    "net = model.Network(backbone=backbone, num_classes=1000)\n",
    "net.to(device)\n",
    "# resume from model\n",
    "resume_exp = resume.split(\"-\")[0]\n",
    "resume_epoch = resume.split(\"-\")[1]\n",
    "print(\"Resume from model from exp: {} at epoch {}\".format(resume_exp, resume_epoch))\n",
    "resume_path = os.path.join(model_dir, str(resume_exp), str(resume_epoch))\n",
    "ckpt = torch.load(resume_path, map_location=device)\n",
    "net.load_state_dict(ckpt) "
   ]
  },
  {
   "cell_type": "markdown",
   "metadata": {},
   "source": [
    "# 2. Color Point Generated\n",
    "* RGB Points, 3 * (64*64)\n",
    "* Feature Map Points"
   ]
  },
  {
   "cell_type": "code",
   "execution_count": 4,
   "metadata": {},
   "outputs": [],
   "source": [
    "@timethis\n",
    "def permutations_all(R, G, B):\n",
    "    combinations = []\n",
    "    R = set(R)\n",
    "    G = set(G)\n",
    "    B = set(B)\n",
    "    for r in R:\n",
    "        for g in G:\n",
    "            for b in B:\n",
    "                combinations.append([r, g, b])\n",
    "    return combinations\n",
    "\n",
    "def fill_AArray_under_resolution(value, width, height):\n",
    "    aCol = np.repeat(value, height, axis=0)\n",
    "    array = np.repeat([aCol], width, axis=0)\n",
    "    return array\n",
    "\n",
    "@timethis\n",
    "def fill_3DArray_under_same_resolution(values, width, height):\n",
    "    \"\"\"Args\n",
    "        values: RGB, \n",
    "    Returns:\n",
    "        result: [batch_size, height, width, 3]\n",
    "    \"\"\"\n",
    "    imgs = []\n",
    "    for (R, G, B) in values:\n",
    "        rs = fill_AArray_under_resolution(R, width, height)\n",
    "        gs = fill_AArray_under_resolution(G, width, height)\n",
    "        bs = fill_AArray_under_resolution(B, width, height)\n",
    "        imgs.append(np.dstack((rs, gs, bs)))\n",
    "    imgs = np.array(imgs)\n",
    "    return imgs"
   ]
  },
  {
   "cell_type": "code",
   "execution_count": 5,
   "metadata": {
    "scrolled": true
   },
   "outputs": [
    {
     "name": "stdout",
     "output_type": "stream",
     "text": [
      ">> Functoin: permutations_all costs 0.0079s\n",
      ">> Functoin: permutations_all costs 0.0464s\n",
      ">> Functoin: permutations_all costs 0.0545s\n"
     ]
    }
   ],
   "source": [
    "# RGB\n",
    "fixR = 125\n",
    "fixG = 115\n",
    "fixB = 107\n",
    "\n",
    "num = 256\n",
    "start = 0\n",
    "stop = 255\n",
    "dtype = np.float32\n",
    "height = width = 224\n",
    "all_num = num * num\n",
    "\n",
    "# FixR\n",
    "R_FixedR = np.ones(num, dtype=dtype) * fixR\n",
    "G_FixedR = np.linspace(start=start, stop=stop, num=num, dtype=dtype)\n",
    "B_FixedR = np.linspace(start=start, stop=stop, num=num, dtype=dtype) \n",
    "PermutationFixedR = permutations_all(R_FixedR, G_FixedR, B_FixedR)\n",
    "Gp_FixedR = [item[1] for item in PermutationFixedR]\n",
    "Bp_FixedR = [item[2] for item in PermutationFixedR]\n",
    "\n",
    "# FixG\n",
    "R_FixedG = np.linspace(start=start, stop=stop, num=num, dtype=dtype)\n",
    "G_FixedG = np.ones(num, dtype=dtype) * fixG\n",
    "B_FixedG = np.linspace(start=start, stop=stop, num=num, dtype=dtype) \n",
    "PermutationFixedG = permutations_all(R_FixedG, G_FixedG, B_FixedG)\n",
    "Rp_FixedG = [item[0] for item in PermutationFixedG]\n",
    "Bp_FixedG = [item[2] for item in PermutationFixedG]\n",
    "\n",
    "# FixB\n",
    "R_FixedB = np.linspace(start=start, stop=stop, num=num, dtype=dtype)\n",
    "G_FixedB = np.linspace(start=start, stop=stop, num=num, dtype=dtype) \n",
    "B_FixedB = np.ones(num, dtype=dtype) * fixB\n",
    "PermutationFixedB = permutations_all(R_FixedB, G_FixedB, B_FixedB)\n",
    "Rp_FixedB = [item[0] for item in PermutationFixedB]\n",
    "Gp_FixedB = [item[1] for item in PermutationFixedB]"
   ]
  },
  {
   "cell_type": "code",
   "execution_count": null,
   "metadata": {
    "scrolled": true
   },
   "outputs": [],
   "source": [
    "imgs_FixedR = fill_3DArray_under_same_resolution(PermutationFixedR, width, height) / 255.0\n",
    "imgs_FixedG = fill_3DArray_under_same_resolution(PermutationFixedG, width, height) / 255.0\n",
    "imgs_FixedB = fill_3DArray_under_same_resolution(PermutationFixedB, width, height) / 255.0\n",
    "print(imgs_FixedR.shape, imgs_FixedG.shape, imgs_FixedB.shape)\n",
    "\n",
    "mean = [0.485, 0.456, 0.406]\n",
    "std = [0.229, 0.224, 0.225]\n",
    "imgsPost_FixedR = zscore(imgs_FixedR, mean, std)\n",
    "imgsPost_FixedR = torch.tensor(imgsPost_FixedR).to(device)\n",
    "\n",
    "imgsPost_FixedG = zscore(imgs_FixedG, mean, std)\n",
    "imgsPost_FixedG = torch.tensor(imgsPost_FixedG).to(device)\n",
    "\n",
    "imgsPost_FixedB = zscore(imgs_FixedB, mean, std)\n",
    "imgsPost_FixedB = torch.tensor(imgsPost_FixedB).to(device)"
   ]
  },
  {
   "cell_type": "code",
   "execution_count": null,
   "metadata": {
    "scrolled": true
   },
   "outputs": [],
   "source": [
    "@timethis\n",
    "def obtain_selected_featureMap(imgsPost=None, layer_output_indexes=None, \n",
    "                               selected_filter=None, \n",
    "                               batch_size=64, all_num=4096, method=\"max\"):\n",
    "    \"\"\"Args:\n",
    "        method: [max, median, mean]\n",
    "    \"\"\"\n",
    "    rets = []\n",
    "    if method == \"max\":\n",
    "        sel = np.max\n",
    "    elif method == \"median\":\n",
    "        sel = np.median\n",
    "    elif method == \"mean\":\n",
    "        sel = mp.mean\n",
    "    else:\n",
    "        print(\"No method\")\n",
    "        sys.exit(-1)\n",
    "        \n",
    "        \n",
    "    max_iter = all_num // batch_size\n",
    "    ret = []\n",
    "    for index in range(max_iter):\n",
    "        start = index * batch_size\n",
    "        end = (index + 1) * batch_size\n",
    "        data = imgsPost[start: end]\n",
    "        layer_output, _ = obtain_features_map(data, net.model.features, \n",
    "                                              layer_output_indexes=layer_output_indexes) \n",
    "        ret = sel(layer_output[0][:, selected_filter], axis=(1, 2))\n",
    "        rets.extend(ret)\n",
    "    return rets"
   ]
  },
  {
   "cell_type": "code",
   "execution_count": null,
   "metadata": {
    "scrolled": true
   },
   "outputs": [],
   "source": [
    "layer_output_indexes = [1]\n",
    "selected_filter = 16\n",
    "batch_size = 64\n",
    "\n",
    "activation_FixedR = obtain_selected_featureMap(imgsPost=imgsPost_FixedR, \n",
    "                                      layer_output_indexes=layer_output_indexes,\n",
    "                                      selected_filter=selected_filter, \n",
    "                                      batch_size=batch_size, \n",
    "                                      all_num=all_num, method=\"max\")\n",
    "\n",
    "activation_FixedG = obtain_selected_featureMap(imgsPost=imgsPost_FixedG, \n",
    "                                      layer_output_indexes=layer_output_indexes,\n",
    "                                      selected_filter=selected_filter, \n",
    "                                      batch_size=batch_size, \n",
    "                                      all_num=all_num, method=\"max\")\n",
    "\n",
    "activation_FixedB = obtain_selected_featureMap(imgsPost=imgsPost_FixedB, \n",
    "                                      layer_output_indexes=layer_output_indexes,\n",
    "                                      selected_filter=selected_filter, \n",
    "                                      batch_size=batch_size, \n",
    "                                      all_num=all_num, method=\"max\")"
   ]
  },
  {
   "cell_type": "markdown",
   "metadata": {},
   "source": [
    "# 3. Plot 3D Figure"
   ]
  },
  {
   "cell_type": "code",
   "execution_count": null,
   "metadata": {},
   "outputs": [],
   "source": [
    "def plot3DFigure(X=None, Y=None, Z=None, cmap='viridis', fixWho=\"Red\", \n",
    "                 title=None):\n",
    "    # Font size\n",
    "    font = {'family': 'normal', 'size': 6}\n",
    "    fontsize = 4\n",
    "\n",
    "    # create 1D-arrays from the 2D-arrays\n",
    "    xyz = {'x': X, 'y': Y, 'z': Z}\n",
    "    \n",
    "    # put the data into a pandas DataFrame (this is what my data looks like)\n",
    "    df = pd.DataFrame(xyz, index=range(len(xyz['x']))) \n",
    "    # re-create the 2D-arrays\n",
    "    x1 = np.linspace(df['x'].min(), df['x'].max(), len(df['x'].unique()))\n",
    "    y1 = np.linspace(df['y'].min(), df['y'].max(), len(df['y'].unique()))\n",
    "    x2, y2 = np.meshgrid(x1, y1)\n",
    "    z2 = griddata((df['x'], df['y']), df['z'], (x2, y2), method='cubic')\n",
    "    \n",
    "    fig = plt.figure()\n",
    "    ax = fig.gca(projection='3d')\n",
    "    \n",
    "    # Plot the surface\n",
    "    surf = ax.plot_surface(x2, y2, z2, cmap=cmap, linewidth=0, \n",
    "                           antialiased=False)\n",
    "    # ax.set_zlim(0, 255)\n",
    "    fig.colorbar(surf, shrink=0.5, aspect=5)\n",
    "    \n",
    "    if fixWho == \"Red\":\n",
    "        xlabel = \"Green\"\n",
    "        ylabel = \"Blue\"\n",
    "    elif fixWho == \"Green\":\n",
    "        xlabel = \"Red\"\n",
    "        ylabel = \"Blue\"\n",
    "    elif fixWho == \"Blue\":\n",
    "        xlabel = \"Red\"\n",
    "        ylabel = \"Green\"\n",
    "        \n",
    "    ax.set_xlabel(xlabel,fontsize=fontsize)\n",
    "    ax.set_ylabel(ylabel, fontsize=fontsize)\n",
    "    ax.set_zlabel(\"Activation\", fontsize=fontsize)\n",
    "    \n",
    "    ax.zaxis.set_major_locator(LinearLocator(10))\n",
    "    ax.zaxis.set_major_formatter(FormatStrFormatter('%.01f'))\n",
    "    \n",
    "    # font size\n",
    "    ax.tick_params(axis='both', which='major', labelsize=fontsize)\n",
    "    ax.set_title(title, fontdict=font)\n",
    "    \n",
    "    plt.show()"
   ]
  },
  {
   "cell_type": "code",
   "execution_count": null,
   "metadata": {
    "scrolled": false
   },
   "outputs": [],
   "source": [
    "# Fixed Red\n",
    "plot3DFigure(X=Gp_FixedR, Y=Bp_FixedR, Z=activation_FixedR, fixWho=\"Red\", \n",
    "             cmap=cm.coolwarm, title=\"FixedRed@125\")"
   ]
  },
  {
   "cell_type": "code",
   "execution_count": null,
   "metadata": {
    "scrolled": false
   },
   "outputs": [],
   "source": [
    "# Fixed Green\n",
    "plot3DFigure(X=Rp_FixedG, Y=Bp_FixedG, Z=activation_FixedG, fixWho=\"Green\",\n",
    "             cmap=cm.coolwarm, title=\"FixedGreen@115\")"
   ]
  },
  {
   "cell_type": "code",
   "execution_count": null,
   "metadata": {
    "scrolled": false
   },
   "outputs": [],
   "source": [
    "# Fixed Blue\n",
    "plot3DFigure(X=Rp_FixedB, Y=Gp_FixedB, Z=activation_FixedB, fixWho=\"Blue\",\n",
    "             cmap=cm.coolwarm, title=\"FixedBlue@107\")"
   ]
  },
  {
   "cell_type": "code",
   "execution_count": null,
   "metadata": {},
   "outputs": [],
   "source": []
  }
 ],
 "metadata": {
  "kernelspec": {
   "display_name": "Python 3",
   "language": "python",
   "name": "python3"
  },
  "language_info": {
   "codemirror_mode": {
    "name": "ipython",
    "version": 3
   },
   "file_extension": ".py",
   "mimetype": "text/x-python",
   "name": "python",
   "nbconvert_exporter": "python",
   "pygments_lexer": "ipython3",
   "version": "3.6.10"
  }
 },
 "nbformat": 4,
 "nbformat_minor": 4
}
