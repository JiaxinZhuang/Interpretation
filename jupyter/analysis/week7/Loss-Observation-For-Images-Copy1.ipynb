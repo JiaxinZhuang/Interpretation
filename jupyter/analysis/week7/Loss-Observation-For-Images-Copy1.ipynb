{
 "cells": [
  {
   "cell_type": "markdown",
   "metadata": {},
   "source": [
    "## Instruction\n",
    "1. Comparision for batch of images, need to specify the path"
   ]
  },
  {
   "cell_type": "code",
   "execution_count": 4,
   "metadata": {
    "ExecuteTime": {
     "end_time": "2020-05-13T08:01:02.148683Z",
     "start_time": "2020-05-13T08:01:02.134096Z"
    }
   },
   "outputs": [
    {
     "name": "stdout",
     "output_type": "stream",
     "text": [
      "The autoreload extension is already loaded. To reload it, use:\n",
      "  %reload_ext autoreload\n",
      "Populating the interactive namespace from numpy and matplotlib\n"
     ]
    },
    {
     "name": "stderr",
     "output_type": "stream",
     "text": [
      "/home/lincolnzjx/anaconda3/envs/Py36/lib/python3.6/site-packages/IPython/core/magics/pylab.py:160: UserWarning: pylab import has clobbered these variables: ['std', 'mean']\n",
      "`%matplotlib` prevents importing * from pylab and numpy\n",
      "  \"\\n`%matplotlib` prevents importing * from pylab and numpy\"\n"
     ]
    }
   ],
   "source": [
    "%load_ext autoreload\n",
    "%autoreload 2\n",
    "%pylab inline"
   ]
  },
  {
   "cell_type": "markdown",
   "metadata": {},
   "source": [
    "## 0. Import module"
   ]
  },
  {
   "cell_type": "code",
   "execution_count": 5,
   "metadata": {
    "ExecuteTime": {
     "end_time": "2020-05-13T08:01:03.446085Z",
     "start_time": "2020-05-13T08:01:03.431198Z"
    }
   },
   "outputs": [],
   "source": [
    "import sys\n",
    "sys.path.append(\"../../../src/\")\n",
    "sys.path.append(\"../../\")\n",
    "\n",
    "from torchvision import transforms\n",
    "# from aux.visualization import visualize_features_map_for_comparision\n",
    "from aux.utils import obtain_features_map, load_imgs, zscore, extract_valid\n",
    "import config\n",
    "from loss import FilterLoss\n",
    "from datasets import imagenet\n",
    "import model\n",
    "import sys\n",
    "from PIL import Image\n",
    "import matplotlib as mpl\n",
    "from torchsummary import summary\n",
    "import torch\n",
    "import os\n",
    "os.environ[\"CUDA_DEVICE_ORDER\"] = \"PCI_BUS_ID\"\n",
    "os.environ[\"CUDA_VISIBLE_DEVICES\"] = \"0\"\n",
    "\n",
    "mpl.rcParams['figure.dpi'] = 600"
   ]
  },
  {
   "cell_type": "code",
   "execution_count": 6,
   "metadata": {
    "ExecuteTime": {
     "end_time": "2020-05-13T08:01:09.672846Z",
     "start_time": "2020-05-13T08:01:05.464190Z"
    }
   },
   "outputs": [
    {
     "name": "stdout",
     "output_type": "stream",
     "text": [
      "Len of new dataset is :30\n"
     ]
    }
   ],
   "source": [
    "# Load data\n",
    "mean = [0.485, 0.456, 0.406]\n",
    "std = [0.229, 0.224, 0.225]\n",
    "reverse_mean = [-0.485, -0.456, -0.406]\n",
    "reverse_std = [1/0.229, 1/0.224, 1/0.225]\n",
    "train_transform = None\n",
    "train_transform = transforms.Compose([                                                                                                                                \n",
    "    transforms.Resize((224, 224), interpolation=Image.BILINEAR),                                                                                              \n",
    "    transforms.ToTensor(),                                                                                                                                            \n",
    "    transforms.Normalize(mean, std)                                                                                                                                   \n",
    "       ])         \n",
    "trainset = imagenet.ImageNet(root=\"/media/lincolnzjx/HardDisk/Datasets/\", is_train=True, transform=train_transform)\n",
    "\n",
    "trainset.set_data([950], 30)\n",
    "imgs_path = []                                                                                                                                                            \n",
    "images = []\n",
    "labels = []\n",
    "for img, label, img_path in trainset:                                                                                                                                     \n",
    "    images.append(img.unsqueeze(0))                                                                                                                                       \n",
    "    labels.append(label)                                                                                                                                                  \n",
    "    imgs_path.append(img_path)  "
   ]
  },
  {
   "cell_type": "code",
   "execution_count": 31,
   "metadata": {
    "ExecuteTime": {
     "end_time": "2020-05-13T08:11:11.992889Z",
     "start_time": "2020-05-13T08:11:11.975649Z"
    }
   },
   "outputs": [],
   "source": [
    "save_dir = \"/home/lincolnzjx/Desktop/Interpretation/saved/pack\"\n",
    "################### Hyper-Parameter #######################\n",
    "exp = \"033004\"\n",
    "epoch = \"99900\"\n",
    "##########################################################\n",
    "ab_path = os.path.join(save_dir, exp, epoch)"
   ]
  },
  {
   "cell_type": "code",
   "execution_count": 32,
   "metadata": {
    "ExecuteTime": {
     "end_time": "2020-05-13T08:11:14.110463Z",
     "start_time": "2020-05-13T08:11:12.698924Z"
    }
   },
   "outputs": [
    {
     "name": "stdout",
     "output_type": "stream",
     "text": [
      "Only Keep 1th layers before.\n",
      "Resume from model from exp: 037 at epoch 0\n"
     ]
    },
    {
     "data": {
      "text/plain": [
       "_IncompatibleKeys(missing_keys=[], unexpected_keys=['model.fc.0.weight', 'model.fc.0.bias', 'model.fc.3.weight', 'model.fc.3.bias', 'model.fc.6.weight', 'model.fc.6.bias', 'model.features.2.weight', 'model.features.2.bias', 'model.features.5.weight', 'model.features.5.bias', 'model.features.7.weight', 'model.features.7.bias', 'model.features.10.weight', 'model.features.10.bias', 'model.features.12.weight', 'model.features.12.bias', 'model.features.14.weight', 'model.features.14.bias', 'model.features.17.weight', 'model.features.17.bias', 'model.features.19.weight', 'model.features.19.bias', 'model.features.21.weight', 'model.features.21.bias', 'model.features.24.weight', 'model.features.24.bias', 'model.features.26.weight', 'model.features.26.bias', 'model.features.28.weight', 'model.features.28.bias'])"
      ]
     },
     "execution_count": 32,
     "metadata": {},
     "output_type": "execute_result"
    }
   ],
   "source": [
    "resume = \"037-0\"\n",
    "model_dir = \"/home/lincolnzjx/Desktop/Interpretation/saved/models\"\n",
    "backbone = \"vgg16\"\n",
    "\n",
    "# Load model\n",
    "device = torch.device(\"cuda:0\" if torch.cuda.is_available() else \"cpu\")\n",
    "net = model.Network(backbone=backbone, num_classes=1000, selected_layer=1)\n",
    "net.to(device)\n",
    "# resume from model\n",
    "resume_exp = resume.split(\"-\")[0]\n",
    "resume_epoch = resume.split(\"-\")[1]\n",
    "print(\"Resume from model from exp: {} at epoch {}\".format(resume_exp, resume_epoch))\n",
    "resume_path = os.path.join(model_dir, str(resume_exp), str(resume_epoch))\n",
    "ckpt = torch.load(resume_path, map_location=device)\n",
    "net.load_state_dict(ckpt, strict=False) "
   ]
  },
  {
   "cell_type": "code",
   "execution_count": 33,
   "metadata": {
    "ExecuteTime": {
     "end_time": "2020-05-13T08:11:14.700720Z",
     "start_time": "2020-05-13T08:11:14.689252Z"
    }
   },
   "outputs": [
    {
     "data": {
      "text/plain": [
       "Network(\n",
       "  (model): VGG16(\n",
       "    (features): Sequential(\n",
       "      (0): Conv2d(3, 64, kernel_size=(3, 3), stride=(1, 1), padding=(1, 1))\n",
       "      (1): ReLU(inplace=True)\n",
       "    )\n",
       "  )\n",
       ")"
      ]
     },
     "execution_count": 33,
     "metadata": {},
     "output_type": "execute_result"
    }
   ],
   "source": [
    "net"
   ]
  },
  {
   "cell_type": "code",
   "execution_count": 34,
   "metadata": {
    "ExecuteTime": {
     "end_time": "2020-05-13T08:11:15.356708Z",
     "start_time": "2020-05-13T08:11:15.303365Z"
    },
    "scrolled": true
   },
   "outputs": [
    {
     "name": "stdout",
     "output_type": "stream",
     "text": [
      "Load from /home/lincolnzjx/Desktop/Interpretation/saved/pack/033004/99900/n07747607_10061.JPEG\n",
      "Load from /home/lincolnzjx/Desktop/Interpretation/saved/pack/033004/99900/n07747607_10068.JPEG\n",
      "Load from /home/lincolnzjx/Desktop/Interpretation/saved/pack/033004/99900/n07747607_10110.JPEG\n",
      "Load from /home/lincolnzjx/Desktop/Interpretation/saved/pack/033004/99900/n07747607_10134.JPEG\n",
      "Load from /home/lincolnzjx/Desktop/Interpretation/saved/pack/033004/99900/n07747607_10162.JPEG\n",
      "Load from /home/lincolnzjx/Desktop/Interpretation/saved/pack/033004/99900/n07747607_10166.JPEG\n",
      "Load from /home/lincolnzjx/Desktop/Interpretation/saved/pack/033004/99900/n07747607_10178.JPEG\n",
      "Load from /home/lincolnzjx/Desktop/Interpretation/saved/pack/033004/99900/n07747607_10179.JPEG\n",
      "Load from /home/lincolnzjx/Desktop/Interpretation/saved/pack/033004/99900/n07747607_10184.JPEG\n",
      "Load from /home/lincolnzjx/Desktop/Interpretation/saved/pack/033004/99900/n07747607_10192.JPEG\n",
      "Load from /home/lincolnzjx/Desktop/Interpretation/saved/pack/033004/99900/n07747607_10204.JPEG\n",
      "Load from /home/lincolnzjx/Desktop/Interpretation/saved/pack/033004/99900/n07747607_10205.JPEG\n",
      "Load from /home/lincolnzjx/Desktop/Interpretation/saved/pack/033004/99900/n07747607_1021.JPEG\n",
      "Load from /home/lincolnzjx/Desktop/Interpretation/saved/pack/033004/99900/n07747607_10213.JPEG\n",
      "Load from /home/lincolnzjx/Desktop/Interpretation/saved/pack/033004/99900/n07747607_10217.JPEG\n",
      "Load from /home/lincolnzjx/Desktop/Interpretation/saved/pack/033004/99900/n07747607_10232.JPEG\n",
      "Load from /home/lincolnzjx/Desktop/Interpretation/saved/pack/033004/99900/n07747607_10258.JPEG\n",
      "Load from /home/lincolnzjx/Desktop/Interpretation/saved/pack/033004/99900/n07747607_10290.JPEG\n",
      "Load from /home/lincolnzjx/Desktop/Interpretation/saved/pack/033004/99900/n07747607_10305.JPEG\n",
      "Load from /home/lincolnzjx/Desktop/Interpretation/saved/pack/033004/99900/n07747607_10345.JPEG\n",
      "Load from /home/lincolnzjx/Desktop/Interpretation/saved/pack/033004/99900/n07747607_10358.JPEG\n",
      "Load from /home/lincolnzjx/Desktop/Interpretation/saved/pack/033004/99900/n07747607_10379.JPEG\n",
      "Load from /home/lincolnzjx/Desktop/Interpretation/saved/pack/033004/99900/n07747607_10420.JPEG\n",
      "Load from /home/lincolnzjx/Desktop/Interpretation/saved/pack/033004/99900/n07747607_10425.JPEG\n",
      "Load from /home/lincolnzjx/Desktop/Interpretation/saved/pack/033004/99900/n07747607_10436.JPEG\n",
      "Load from /home/lincolnzjx/Desktop/Interpretation/saved/pack/033004/99900/n07747607_10465.JPEG\n",
      "Load from /home/lincolnzjx/Desktop/Interpretation/saved/pack/033004/99900/n07747607_10482.JPEG\n",
      "Load from /home/lincolnzjx/Desktop/Interpretation/saved/pack/033004/99900/n07747607_10485.JPEG\n",
      "Load from /home/lincolnzjx/Desktop/Interpretation/saved/pack/033004/99900/n07747607_10491.JPEG\n",
      "Load from /home/lincolnzjx/Desktop/Interpretation/saved/pack/033004/99900/n07747607_10545.JPEG\n"
     ]
    }
   ],
   "source": [
    "# Load image\n",
    "optimized_data, valid_imgs_path, valid_imgs_index = load_imgs(ab_path, imgs_path, non_exists_ok=True)\n",
    "valid_imgs, valid_labels = extract_valid(images, labels, valid_imgs_index)\n",
    "optimized_data = zscore(optimized_data, mean, std)"
   ]
  },
  {
   "cell_type": "code",
   "execution_count": 35,
   "metadata": {
    "ExecuteTime": {
     "end_time": "2020-05-13T08:11:15.951192Z",
     "start_time": "2020-05-13T08:11:15.932702Z"
    }
   },
   "outputs": [],
   "source": [
    "# Move to device\n",
    "opt_image = torch.from_numpy(optimized_data).to(device)\n",
    "original_image = torch.cat(valid_imgs, dim=0).to(device)"
   ]
  },
  {
   "cell_type": "code",
   "execution_count": 36,
   "metadata": {
    "ExecuteTime": {
     "end_time": "2020-05-13T08:11:16.536495Z",
     "start_time": "2020-05-13T08:11:16.526032Z"
    }
   },
   "outputs": [],
   "source": [
    "selected_layer = 1\n",
    "selected_filter = 47\n",
    "mode = \"keep\"\n",
    "inter = False\n",
    "rho = 0\n",
    "regularization = \"L1\"\n",
    "smoothing = \"None\"\n",
    "regular_ex = 2\n",
    "alpha = 1\n",
    "beta = 1\n",
    "gamma = 1\n",
    "delta = 0"
   ]
  },
  {
   "cell_type": "code",
   "execution_count": 37,
   "metadata": {
    "ExecuteTime": {
     "end_time": "2020-05-13T08:11:17.118671Z",
     "start_time": "2020-05-13T08:11:17.106652Z"
    },
    "scrolled": true
   },
   "outputs": [],
   "source": [
    "# 2.Calculate Loss\n",
    "criterion = FilterLoss(net, selected_layer, selected_filter, mode,\n",
    "                        inter=inter, rho=rho,\n",
    "                        regularization=regularization,\n",
    "                        smoothing=smoothing, p=regular_ex, _print=print)"
   ]
  },
  {
   "cell_type": "code",
   "execution_count": 38,
   "metadata": {
    "ExecuteTime": {
     "end_time": "2020-05-13T08:11:17.705133Z",
     "start_time": "2020-05-13T08:11:17.676430Z"
    },
    "scrolled": true
   },
   "outputs": [
    {
     "name": "stdout",
     "output_type": "stream",
     "text": [
      "tensor(0.0458, device='cuda:0', grad_fn=<MeanBackward0>)\n",
      "tensor(0.2403, device='cuda:0', grad_fn=<MeanBackward0>)\n",
      "tensor(0.2797, device='cuda:0')\n",
      "0.0\n"
     ]
    }
   ],
   "source": [
    "selected_filter_loss, rest_fileter_loss, regularization_loss,  \\\n",
    "      smoothing_loss = criterion(opt_image, original_image)\n",
    "print(selected_filter_loss)\n",
    "print(rest_fileter_loss)\n",
    "print(regularization_loss)\n",
    "print(smoothing_loss)"
   ]
  },
  {
   "cell_type": "code",
   "execution_count": 22,
   "metadata": {
    "ExecuteTime": {
     "end_time": "2020-05-13T08:08:34.683785Z",
     "start_time": "2020-05-13T08:08:34.673893Z"
    }
   },
   "outputs": [],
   "source": [
    "import numpy as np"
   ]
  },
  {
   "cell_type": "code",
   "execution_count": 15,
   "metadata": {
    "ExecuteTime": {
     "end_time": "2020-05-13T07:55:40.034192Z",
     "start_time": "2020-05-13T07:55:40.018470Z"
    }
   },
   "outputs": [],
   "source": [
    "matrix = np.load(os.path.join(ab_path, \"45000.npy\"))"
   ]
  },
  {
   "cell_type": "code",
   "execution_count": 16,
   "metadata": {
    "ExecuteTime": {
     "end_time": "2020-05-13T07:55:44.242676Z",
     "start_time": "2020-05-13T07:55:44.119512Z"
    }
   },
   "outputs": [
    {
     "name": "stdout",
     "output_type": "stream",
     "text": [
      "tensor(0.0091, device='cuda:0', grad_fn=<MeanBackward0>)\n",
      "tensor(0.3533, device='cuda:0', grad_fn=<MeanBackward0>)\n",
      "tensor(0.0204, device='cuda:0')\n",
      "0.0\n"
     ]
    }
   ],
   "source": [
    "#del selected_filter_loss, rest_fileter_loss, regularization_loss, smoothing_loss\n",
    "opt_image = torch.from_numpy(matrix).to(device)\n",
    "selected_filter_loss, rest_fileter_loss, regularization_loss,  \\\n",
    "      smoothing_loss = criterion(opt_image, original_image)\n",
    "print(selected_filter_loss)\n",
    "print(rest_fileter_loss)\n",
    "print(regularization_loss)\n",
    "print(smoothing_loss)"
   ]
  },
  {
   "cell_type": "code",
   "execution_count": 20,
   "metadata": {
    "ExecuteTime": {
     "end_time": "2020-05-13T07:40:17.467229Z",
     "start_time": "2020-05-13T07:40:17.443677Z"
    }
   },
   "outputs": [
    {
     "data": {
      "text/plain": [
       "0.021081386"
      ]
     },
     "execution_count": 20,
     "metadata": {},
     "output_type": "execute_result"
    }
   ],
   "source": [
    "np.mean(np.abs(optimized_data))"
   ]
  },
  {
   "cell_type": "code",
   "execution_count": 21,
   "metadata": {
    "ExecuteTime": {
     "end_time": "2020-05-13T07:40:34.888851Z",
     "start_time": "2020-05-13T07:40:34.870133Z"
    }
   },
   "outputs": [
    {
     "data": {
      "text/plain": [
       "0.02035715"
      ]
     },
     "execution_count": 21,
     "metadata": {},
     "output_type": "execute_result"
    }
   ],
   "source": [
    "np.mean(np.abs(matrix))"
   ]
  },
  {
   "cell_type": "code",
   "execution_count": 19,
   "metadata": {
    "ExecuteTime": {
     "end_time": "2020-05-13T07:50:59.724960Z",
     "start_time": "2020-05-13T07:50:59.707185Z"
    },
    "scrolled": true
   },
   "outputs": [
    {
     "data": {
      "text/plain": [
       "Network(\n",
       "  (model): VGG16(\n",
       "    (features): Sequential(\n",
       "      (0): Conv2d(3, 64, kernel_size=(3, 3), stride=(1, 1), padding=(1, 1))\n",
       "      (1): ReLU(inplace=True)\n",
       "      (2): Conv2d(64, 64, kernel_size=(3, 3), stride=(1, 1), padding=(1, 1))\n",
       "      (3): ReLU(inplace=True)\n",
       "      (4): MaxPool2d(kernel_size=2, stride=2, padding=0, dilation=1, ceil_mode=False)\n",
       "      (5): Conv2d(64, 128, kernel_size=(3, 3), stride=(1, 1), padding=(1, 1))\n",
       "      (6): ReLU(inplace=True)\n",
       "      (7): Conv2d(128, 128, kernel_size=(3, 3), stride=(1, 1), padding=(1, 1))\n",
       "      (8): ReLU(inplace=True)\n",
       "      (9): MaxPool2d(kernel_size=2, stride=2, padding=0, dilation=1, ceil_mode=False)\n",
       "      (10): Conv2d(128, 256, kernel_size=(3, 3), stride=(1, 1), padding=(1, 1))\n",
       "      (11): ReLU(inplace=True)\n",
       "      (12): Conv2d(256, 256, kernel_size=(3, 3), stride=(1, 1), padding=(1, 1))\n",
       "      (13): ReLU(inplace=True)\n",
       "      (14): Conv2d(256, 256, kernel_size=(3, 3), stride=(1, 1), padding=(1, 1))\n",
       "      (15): ReLU(inplace=True)\n",
       "      (16): MaxPool2d(kernel_size=2, stride=2, padding=0, dilation=1, ceil_mode=False)\n",
       "      (17): Conv2d(256, 512, kernel_size=(3, 3), stride=(1, 1), padding=(1, 1))\n",
       "      (18): ReLU(inplace=True)\n",
       "      (19): Conv2d(512, 512, kernel_size=(3, 3), stride=(1, 1), padding=(1, 1))\n",
       "      (20): ReLU(inplace=True)\n",
       "      (21): Conv2d(512, 512, kernel_size=(3, 3), stride=(1, 1), padding=(1, 1))\n",
       "      (22): ReLU(inplace=True)\n",
       "      (23): MaxPool2d(kernel_size=2, stride=2, padding=0, dilation=1, ceil_mode=False)\n",
       "      (24): Conv2d(512, 512, kernel_size=(3, 3), stride=(1, 1), padding=(1, 1))\n",
       "      (25): ReLU(inplace=True)\n",
       "      (26): Conv2d(512, 512, kernel_size=(3, 3), stride=(1, 1), padding=(1, 1))\n",
       "      (27): ReLU(inplace=True)\n",
       "      (28): Conv2d(512, 512, kernel_size=(3, 3), stride=(1, 1), padding=(1, 1))\n",
       "      (29): ReLU(inplace=True)\n",
       "      (30): MaxPool2d(kernel_size=2, stride=2, padding=0, dilation=1, ceil_mode=False)\n",
       "    )\n",
       "    (avgpool): AdaptiveAvgPool2d(output_size=(7, 7))\n",
       "    (fc): Sequential(\n",
       "      (0): Linear(in_features=25088, out_features=4096, bias=True)\n",
       "      (1): ReLU(inplace=True)\n",
       "      (2): Dropout(p=0.5, inplace=False)\n",
       "      (3): Linear(in_features=4096, out_features=4096, bias=True)\n",
       "      (4): ReLU(inplace=True)\n",
       "      (5): Dropout(p=0.5, inplace=False)\n",
       "      (6): Linear(in_features=4096, out_features=1000, bias=True)\n",
       "    )\n",
       "  )\n",
       ")"
      ]
     },
     "execution_count": 19,
     "metadata": {},
     "output_type": "execute_result"
    }
   ],
   "source": [
    "net"
   ]
  },
  {
   "cell_type": "code",
   "execution_count": 46,
   "metadata": {
    "ExecuteTime": {
     "end_time": "2020-05-13T08:27:30.355459Z",
     "start_time": "2020-05-13T08:27:30.340691Z"
    }
   },
   "outputs": [
    {
     "ename": "ValueError",
     "evalue": "invalid __array_struct__",
     "output_type": "error",
     "traceback": [
      "\u001b[0;31m---------------------------------------------------------------------------\u001b[0m",
      "\u001b[0;31mValueError\u001b[0m                                Traceback (most recent call last)",
      "\u001b[0;32m<ipython-input-46-3243df9f3cb9>\u001b[0m in \u001b[0;36m<module>\u001b[0;34m\u001b[0m\n\u001b[0;32m----> 1\u001b[0;31m \u001b[0moptimized_data\u001b[0m \u001b[0;34m-\u001b[0m \u001b[0mmatrix\u001b[0m\u001b[0;34m\u001b[0m\u001b[0;34m\u001b[0m\u001b[0m\n\u001b[0m",
      "\u001b[0;31mValueError\u001b[0m: invalid __array_struct__"
     ]
    }
   ],
   "source": [
    "optimized_data - matrix"
   ]
  },
  {
   "cell_type": "code",
   "execution_count": 44,
   "metadata": {
    "ExecuteTime": {
     "end_time": "2020-05-13T08:27:12.542601Z",
     "start_time": "2020-05-13T08:27:12.525383Z"
    }
   },
   "outputs": [
    {
     "data": {
      "text/plain": [
       "type"
      ]
     },
     "execution_count": 44,
     "metadata": {},
     "output_type": "execute_result"
    }
   ],
   "source": []
  },
  {
   "cell_type": "code",
   "execution_count": 45,
   "metadata": {
    "ExecuteTime": {
     "end_time": "2020-05-13T08:27:17.344912Z",
     "start_time": "2020-05-13T08:27:17.327507Z"
    }
   },
   "outputs": [
    {
     "data": {
      "text/plain": [
       "numpy.matrix"
      ]
     },
     "execution_count": 45,
     "metadata": {},
     "output_type": "execute_result"
    }
   ],
   "source": []
  },
  {
   "cell_type": "code",
   "execution_count": null,
   "metadata": {},
   "outputs": [],
   "source": []
  }
 ],
 "metadata": {
  "kernelspec": {
   "display_name": "Python 3",
   "language": "python",
   "name": "python3"
  },
  "language_info": {
   "codemirror_mode": {
    "name": "ipython",
    "version": 3
   },
   "file_extension": ".py",
   "mimetype": "text/x-python",
   "name": "python",
   "nbconvert_exporter": "python",
   "pygments_lexer": "ipython3",
   "version": "3.6.10"
  },
  "latex_envs": {
   "LaTeX_envs_menu_present": true,
   "autoclose": false,
   "autocomplete": true,
   "bibliofile": "biblio.bib",
   "cite_by": "apalike",
   "current_citInitial": 1,
   "eqLabelWithNumbers": true,
   "eqNumInitial": 1,
   "hotkeys": {
    "equation": "Ctrl-E",
    "itemize": "Ctrl-I"
   },
   "labels_anchors": false,
   "latex_user_defs": false,
   "report_style_numbering": false,
   "user_envs_cfg": false
  },
  "toc": {
   "base_numbering": 1,
   "nav_menu": {},
   "number_sections": true,
   "sideBar": false,
   "skip_h1_title": false,
   "title_cell": "Table of Contents",
   "title_sidebar": "Contents",
   "toc_cell": false,
   "toc_position": {},
   "toc_section_display": true,
   "toc_window_display": false
  },
  "varInspector": {
   "cols": {
    "lenName": 16,
    "lenType": 16,
    "lenVar": 40
   },
   "kernels_config": {
    "python": {
     "delete_cmd_postfix": "",
     "delete_cmd_prefix": "del ",
     "library": "var_list.py",
     "varRefreshCmd": "print(var_dic_list())"
    },
    "r": {
     "delete_cmd_postfix": ") ",
     "delete_cmd_prefix": "rm(",
     "library": "var_list.r",
     "varRefreshCmd": "cat(var_dic_list()) "
    }
   },
   "types_to_exclude": [
    "module",
    "function",
    "builtin_function_or_method",
    "instance",
    "_Feature"
   ],
   "window_display": false
  }
 },
 "nbformat": 4,
 "nbformat_minor": 2
}
