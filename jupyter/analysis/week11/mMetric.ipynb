{
 "cells": [
  {
   "cell_type": "code",
   "execution_count": 1,
   "metadata": {
    "ExecuteTime": {
     "end_time": "2020-07-29T14:06:11.114696Z",
     "start_time": "2020-07-29T14:06:11.102817Z"
    }
   },
   "outputs": [],
   "source": [
    "%load_ext autoreload\n",
    "%autoreload 2\n",
    "%config InlineBackend.figure_format = 'svg'"
   ]
  },
  {
   "cell_type": "markdown",
   "metadata": {},
   "source": [
    "## Import module"
   ]
  },
  {
   "cell_type": "code",
   "execution_count": 2,
   "metadata": {
    "ExecuteTime": {
     "end_time": "2020-07-29T14:06:12.086488Z",
     "start_time": "2020-07-29T14:06:11.139209Z"
    }
   },
   "outputs": [],
   "source": [
    "import os\n",
    "os.environ[\"CUDA_DEVICE_ORDER\"] = \"PCI_BUS_ID\"\n",
    "os.environ[\"CUDA_VISIBLE_DEVICES\"] = \"0\"\n",
    "\n",
    "import torch\n",
    "import os\n",
    "import numpy as np\n",
    "from torchsummary import summary\n",
    "from torchvision import transforms                                                                                                                                        \n",
    "import matplotlib as mpl\n",
    "mpl.rcParams['figure.dpi'] = 600\n",
    "from PIL import Image\n",
    "import pandas as pd\n",
    "\n",
    "import sys\n",
    "sys.path.append(\"../../../src/\")\n",
    "sys.path.append(\"../../\")\n",
    "import model\n",
    "from datasets import imagenet\n",
    "import config\n",
    "from aux.utils import obtain_features_map, load_imgs, zscore, extract_valid\n",
    "from aux.visualization import visualize_features_map\n",
    "from utils.visualizations.visualize import concat_imgs, preprocess_arrays\n",
    "\n",
    "import pytorch_ssim\n",
    "import pandas as pd\n",
    "import numpy as np"
   ]
  },
  {
   "cell_type": "markdown",
   "metadata": {},
   "source": [
    "## Test function"
   ]
  },
  {
   "cell_type": "markdown",
   "metadata": {},
   "source": [
    "#### mMetric_v1"
   ]
  },
  {
   "cell_type": "code",
   "execution_count": 3,
   "metadata": {
    "ExecuteTime": {
     "end_time": "2020-07-29T14:06:12.103611Z",
     "start_time": "2020-07-29T14:06:12.087564Z"
    }
   },
   "outputs": [],
   "source": [
    "def mMetric_v1(ori_activation_maps, opt_activation_maps, selected_filter,\n",
    "               co1=1, co2=10000):\n",
    "    \"\"\"Metric, the first version.\n",
    "    Args:\n",
    "        ori_activation_maps: [batch_size, channels, height, width]\n",
    "        opt_activation_maps: [batch_size, channels, height, width]\n",
    "    \"\"\"\n",
    "    ori = ori_activation_maps.copy()\n",
    "    opt = opt_activation_maps.copy()\n",
    "    diff = ori_activation_maps-opt_activation_maps\n",
    "\n",
    "    diff_sel = diff[:, selected_filter]\n",
    "    ori_sel = ori[:, selected_filter]\n",
    "    opt_sel = opt[:, selected_filter]\n",
    "    opt_res = np.concatenate((opt[:, : selected_filter],\n",
    "                              opt[:, selected_filter+1:]), axis=1)\n",
    "    ori_res = np.concatenate((ori[:, : selected_filter],\n",
    "                              ori[:, selected_filter+1:]), axis=1)\n",
    "\n",
    "    (batch_size, channels, height, width) = ori.shape\n",
    "\n",
    "    # SF term.\n",
    "    SF_0 = np.sum(diff_sel == 0, axis=(1, 2))\n",
    "    pixel_per_image = height * width\n",
    "    SF_term = SF_0 / pixel_per_image\n",
    "    print(\"=> SF_0: {}\".format(SF_0))\n",
    "    print(\"=> pixel_per_image: {}\".format(pixel_per_image))\n",
    "    print(\"=> SF_term: {}\".format(SF_term))\n",
    "\n",
    "    # RF term.\n",
    "    ori_sel = np.expand_dims(ori_sel, axis=1)\n",
    "#     print(\"ori_sel: \", ori_sel.shape)\n",
    "    ori_sel = np.repeat(ori_sel, channels-1, axis=1)\n",
    "#     print(\"ori_sel: \", ori_sel.shape)\n",
    "    ori_sel_mask = ori_sel == 0\n",
    "    opt_res = opt_res == 0\n",
    "    opt_res = opt_res * ori_sel_mask\n",
    "    pixel_per_image = np.sum(ori_sel_mask, axis=(1, 2, 3))\n",
    "    RF_0_non_overlap = np.sum(opt_res == 1, axis=(1, 2, 3))\n",
    "    RF_term = RF_0_non_overlap / pixel_per_image\n",
    "    print(\"=> FF_0: {}\".format(RF_0_non_overlap))\n",
    "    print(\"=> pixel_per_image: {}\".format(pixel_per_image))\n",
    "    print(\"=> FF_term: {}\".format(RF_term))\n",
    "\n",
    "    over_metric = (co1 * SF_term + co2 * RF_term) / (co1 + co2)\n",
    "    return over_metric"
   ]
  },
  {
   "cell_type": "markdown",
   "metadata": {},
   "source": [
    "#### mMetirc_v2"
   ]
  },
  {
   "cell_type": "code",
   "execution_count": 4,
   "metadata": {
    "ExecuteTime": {
     "end_time": "2020-07-29T14:06:12.123941Z",
     "start_time": "2020-07-29T14:06:12.104773Z"
    }
   },
   "outputs": [],
   "source": [
    "def mMetric_v2(ori_activation_maps, opt_activation_maps, selected_filter,\n",
    "               co1=1, co2=1):\n",
    "    \"\"\"Metric, the first version.\n",
    "    Args:\n",
    "        ori_activation_maps: [batch_size, channels, height, width]\n",
    "        opt_activation_maps: [batch_size, channels, height, width]\n",
    "    \"\"\"\n",
    "    ori = ori_activation_maps.copy()\n",
    "    opt = opt_activation_maps.copy()\n",
    "    diff = ori_activation_maps-opt_activation_maps\n",
    "\n",
    "    diff_sel = diff[:, selected_filter]\n",
    "    ori_sel = ori[:, selected_filter]\n",
    "    opt_sel = opt[:, selected_filter]\n",
    "    opt_res = np.concatenate((opt[:, : selected_filter],\n",
    "                              opt[:, selected_filter+1:]), axis=1)\n",
    "    ori_res = np.concatenate((ori[:, : selected_filter],\n",
    "                              ori[:, selected_filter+1:]), axis=1)\n",
    "\n",
    "    (batch_size, channels, height, width) = ori.shape\n",
    "    pixel_per_image = height * width\n",
    "\n",
    "    # SF term.\n",
    "    \n",
    "    diff_sel = np.reshape(diff_sel, (batch_size, -1))\n",
    "    diff_sel = diff_sel - np.amax(diff_sel, axis=1, keepdims=True)\n",
    "    diff_sel = np.exp(diff_sel)\n",
    "    print(diff_sel)\n",
    "    SF_0 = (diff_sel / diff_sel.sum(axis=1, keepdims=True)).mean(axis=1)\n",
    "    SF_term = 1 - SF_0 / pixel_per_image\n",
    "    print(\"=> SF_0: {}\".format(SF_0))\n",
    "    print(\"=> pixel_per_image: {}\".format(pixel_per_image))\n",
    "    print(\"=> SF_term: {}\".format(SF_term))\n",
    "\n",
    "    # RF term.\n",
    "    ori_sel = np.expand_dims(ori_sel, axis=1)\n",
    "    print(\"ori_sel: \", ori_sel.shape)\n",
    "    ori_sel = np.repeat(ori_sel, channels-1, axis=1)\n",
    "    print(\"ori_sel: \", ori_sel.shape)\n",
    "    ori_sel_mask = ori_sel == 0\n",
    "    opt_res = opt_res == 0\n",
    "    opt_res = opt_res * ori_sel_mask\n",
    "    pixel_per_image = np.sum(ori_sel_mask, axis=(1, 2, 3))\n",
    "    RF_0_non_overlap = np.sum(opt_res == 1, axis=(1, 2, 3))\n",
    "    RF_term = RF_0_non_overlap / pixel_per_image\n",
    "    print(\"=> FF_0: {}\".format(RF_0_non_overlap))\n",
    "    print(\"=> pixel_per_image: {}\".format(pixel_per_image))\n",
    "    print(\"=> FF_term: {}\".format(RF_term))\n",
    "\n",
    "    over_metric = (co1 * SF_term + co2 * RF_term) / (co1 + co2)\n",
    "    return over_metric"
   ]
  },
  {
   "cell_type": "markdown",
   "metadata": {},
   "source": [
    "#### mMetric_v3"
   ]
  },
  {
   "cell_type": "code",
   "execution_count": 5,
   "metadata": {
    "ExecuteTime": {
     "end_time": "2020-07-29T14:06:12.143339Z",
     "start_time": "2020-07-29T14:06:12.125070Z"
    }
   },
   "outputs": [],
   "source": [
    "def mMetric_v3(ori_activation_maps, opt_activation_maps, selected_filter,\n",
    "               co1=1, co2=1):\n",
    "    ori = ori_activation_maps.copy()\n",
    "    opt = opt_activation_maps.copy()\n",
    "    diff = ori_activation_maps-opt_activation_maps\n",
    "\n",
    "    diff_sel = diff[:, selected_filter]\n",
    "    ori_sel = ori[:, selected_filter]\n",
    "    opt_sel = opt[:, selected_filter]\n",
    "    opt_res = np.concatenate((opt[:, : selected_filter],\n",
    "                              opt[:, selected_filter+1:]), axis=1)\n",
    "    ori_res = np.concatenate((ori[:, : selected_filter],\n",
    "                              ori[:, selected_filter+1:]), axis=1)\n",
    "\n",
    "    (batch_size, channels, height, width) = ori.shape\n",
    "\n",
    "    ori_sel_ts = torch.from_numpy(ori_sel).unsqueeze(dim=1).cuda()\n",
    "    opt_sel_ts = torch.from_numpy(opt_sel).unsqueeze(dim=1).cuda()\n",
    "    \n",
    "    ssim_sel = []\n",
    "    rmses = []\n",
    "    for index in range(30):\n",
    "        ssim = pytorch_ssim.ssim(ori_sel_ts[index].unsqueeze(dim=0), \n",
    "                                 opt_sel_ts[index].unsqueeze(dim=0)).cpu().numpy()\n",
    "        rmse = torch.sqrt(((ori_sel_ts[index].unsqueeze(dim=0)-\n",
    "                         opt_sel_ts[index].unsqueeze(dim=0)) ** 2).mean()).cpu().numpy()\n",
    "        ssim_sel.append(ssim)\n",
    "        rmses.append(rmse)\n",
    "        # ssim_loss = pytorch_ssim.SSIM(window_size=11)\n",
    "        # print(ssim_loss(ori_sel, opt_sel))\n",
    "\n",
    "    # RF\n",
    "    ori_sel = np.expand_dims(ori_sel, axis=1)\n",
    "    #print(\"ori_sel: \", ori_sel.shape)\n",
    "    ori_sel = np.repeat(ori_sel, channels-1, axis=1)\n",
    "    #print(\"ori_sel: \", ori_sel.shape)\n",
    "    ori_sel_mask = ori_sel == 0\n",
    "    opt_res_mask = opt_res != 0\n",
    "    new_opt_res = opt_res * ori_sel_mask * opt_res_mask\n",
    "    opt_res_ts = torch.from_numpy(new_opt_res).cuda()\n",
    "    #print(opt_res_ts.shape)\n",
    "    zero_mask = torch.zeros_like(opt_res_ts).cuda()\n",
    "    \n",
    "    ssim_res = []\n",
    "    for index in range(30):\n",
    "        ssim = pytorch_ssim.ssim(opt_res_ts[index].unsqueeze(dim=0), \n",
    "                                 zero_mask[index].unsqueeze(dim=0)).cpu().numpy()\n",
    "        ssim_res.append(ssim)\n",
    "    print(\"RMSE: {} - std {}\".format(np.mean(rmses), np.std(rmses)))\n",
    "    print(\"SSIM_SEL: {} - std {}\".format(np.mean(ssim_sel), np.std(ssim_sel)))\n",
    "    print(\"SSIM_RES: {} - std {}\".format(np.mean(ssim_res), np.std(ssim_res)))\n",
    "    lamba1 = 0.5\n",
    "    lamba2 = 0.5\n",
    "    ssim_sum = lamba1 * np.array(ssim_sel) + lamba2 * np.array(ssim_res)\n",
    "    print(\"SSIM_SUM {} - std {}\".format(np.mean(ssim_sum), np.std(ssim_sum)))"
   ]
  },
  {
   "cell_type": "markdown",
   "metadata": {},
   "source": [
    "## Main"
   ]
  },
  {
   "cell_type": "code",
   "execution_count": 25,
   "metadata": {
    "ExecuteTime": {
     "end_time": "2020-07-30T05:18:39.698986Z",
     "start_time": "2020-07-30T05:18:39.679486Z"
    }
   },
   "outputs": [],
   "source": [
    "def main(exp, selected_layer, selected_filter, class_index=950):\n",
    "    num_class = 30\n",
    "    class_index = class_index\n",
    "    print(\"=> class index: {}\".format(class_index))\n",
    "    backbone = \"vgg16\"\n",
    "    resume = \"037-0\"\n",
    "    color_map = \"jet\"\n",
    "    model_dir = \"/home/lincolnzjx/Desktop/Interpretation/saved/models\"\n",
    "    device = torch.device(\"cuda:0\" if torch.cuda.is_available() else \"cpu\")\n",
    "    \n",
    "    ## Load modal from dict\n",
    "    \n",
    "    # model\n",
    "    net = model.Network(backbone=backbone, num_classes=1000, \n",
    "                        selected_layer=selected_layer)\n",
    "    net.to(device)\n",
    "    \n",
    "    # resume from model\n",
    "    resume_exp = resume.split(\"-\")[0]\n",
    "    resume_epoch = resume.split(\"-\")[1]\n",
    "    print(\"Resume from model from exp: {} at epoch {}\".format(resume_exp, resume_epoch))\n",
    "    resume_path = os.path.join(model_dir, str(resume_exp), str(resume_epoch))\n",
    "    ckpt = torch.load(resume_path, map_location=device)\n",
    "    net.load_state_dict(ckpt, strict=False) \n",
    "    \n",
    "    #summary(net, (3, 224, 224))\n",
    "    \n",
    "    ## Load Original Data \n",
    "    \n",
    "    # Load data\n",
    "    mean = [0.485, 0.456, 0.406]\n",
    "    std = [0.229, 0.224, 0.225]\n",
    "    reverse_mean = [-0.485, -0.456, -0.406]\n",
    "    reverse_std = [1/0.229, 1/0.224, 1/0.225]\n",
    "    train_transform = None\n",
    "    train_transform = transforms.Compose([                                                                                                                                \n",
    "        transforms.Resize((224, 224), interpolation=Image.BILINEAR),                                                                                              \n",
    "        transforms.ToTensor(),                                                                                                                                            \n",
    "        #transforms.Normalize(mean, std)                                                                                                                                   \n",
    "           ])         \n",
    "    trainset = imagenet.ImageNet(root=\"/media/lincolnzjx/HardDisk/Datasets/\", \n",
    "                                 is_train=True, transform=train_transform)\n",
    "    \n",
    "    trainset.set_data([class_index], num_class)\n",
    "    imgs_path = []                                                                                                                                                            \n",
    "    images = []\n",
    "    labels = []\n",
    "    for img, label, img_path in trainset:                                                                                                                                     \n",
    "        images.append(img.unsqueeze(0))                                                                                                                                       \n",
    "        labels.append(label)                                                                                                                                                  \n",
    "        imgs_path.append(img_path)  \n",
    "    \n",
    "    ## Create some need path\n",
    "    \n",
    "    save_dir = \"../../../saved/pack/\"\n",
    "    ################### Hyper-Parameter #######################\n",
    "    # exp = resume_exp\n",
    "    # epoch = resume_epoch\n",
    "    ##########################################################\n",
    "    ab_path = os.path.join(save_dir, exp)\n",
    "    \n",
    "    index2image = {index: item.split(\"/\")[-1].split(\".\")[0] for index, item in enumerate(imgs_path)}\n",
    "    \n",
    "    images_cpu = np.array([image.detach().clone().cpu().numpy().squeeze() for image in images])\n",
    "    \n",
    "    # Load image\n",
    "    # ext may be different.\n",
    "    optimized_data, valid_imgs_path, valid_imgs_index = load_imgs(ab_path, imgs_path, non_exists_ok=True, ext=\".png\")\n",
    "    valid_imgs, valid_labels = extract_valid(images, labels, valid_imgs_index)\n",
    "    optimized_data_zscore = zscore(optimized_data, mean, std)\n",
    "    images_zscore = zscore(images_cpu, mean, std)\n",
    "    \n",
    "    # Move to device\n",
    "    opt_image = torch.from_numpy(optimized_data_zscore).to(device)\n",
    "    original_image = torch.from_numpy(images_zscore).to(device)\n",
    "    \n",
    "    ## Obtain feature from conv layers.\n",
    "    \n",
    "    ori_activation_maps = net.get_activation_maps(original_image, \n",
    "                                                  selected_layer=selected_layer)[0]\n",
    "    opt_activation_maps = net.get_activation_maps(opt_image, \n",
    "                                                  selected_layer=selected_layer)[0]\n",
    "    return ori_activation_maps, opt_activation_maps\n",
    "    "
   ]
  },
  {
   "cell_type": "markdown",
   "metadata": {},
   "source": [
    "#### L1F16"
   ]
  },
  {
   "cell_type": "code",
   "execution_count": 7,
   "metadata": {
    "ExecuteTime": {
     "end_time": "2020-07-29T14:06:19.982495Z",
     "start_time": "2020-07-29T14:06:12.164972Z"
    },
    "scrolled": true
   },
   "outputs": [
    {
     "name": "stdout",
     "output_type": "stream",
     "text": [
      "=> class index: 950\n",
      "Only Keep 1th layers before.\n",
      "Resume from model from exp: 037 at epoch 0\n",
      "Len of new dataset is :30\n",
      "../../../saved/pack/052490\n",
      "(30, 224, 224, 3)\n",
      "(30, 3, 224, 224)\n",
      "=> Register fhook 1\n",
      "=> Register fhook 1\n"
     ]
    }
   ],
   "source": [
    "exp = \"052490\"\n",
    "selected_layer = 1\n",
    "selected_filter = 16\n",
    "class_index = 950\n",
    "ori_activation_maps, opt_activation_maps = main(exp, selected_layer, \n",
    "                                                selected_filter, class_index)"
   ]
  },
  {
   "cell_type": "markdown",
   "metadata": {},
   "source": [
    "##### mMetric_v1"
   ]
  },
  {
   "cell_type": "code",
   "execution_count": 8,
   "metadata": {
    "ExecuteTime": {
     "end_time": "2020-07-29T14:06:21.464315Z",
     "start_time": "2020-07-29T14:06:19.983304Z"
    }
   },
   "outputs": [
    {
     "name": "stdout",
     "output_type": "stream",
     "text": [
      "=> SF_0: [50176 50176 50176 50176 50176 50176 50176 50176 50176 50176 50176 50176\n",
      " 50176 50176 50176 50176 50176 50176 50176 50176 50176 50176 50176 50176\n",
      " 50176 50176 50176 50176 50176 50176]\n",
      "=> pixel_per_image: 50176\n",
      "=> SF_term: [1. 1. 1. 1. 1. 1. 1. 1. 1. 1. 1. 1. 1. 1. 1. 1. 1. 1. 1. 1. 1. 1. 1. 1.\n",
      " 1. 1. 1. 1. 1. 1.]\n",
      "=> FF_0: [453395 109037  12123 452315  14013 663615 583531  96544 670105  39951\n",
      " 288965 376549 219015 858200 264397   8197 226341   5847 569514 240148\n",
      "  69362 167154  56745 228009  13814  19998 268259 300016 221406 214275]\n",
      "=> pixel_per_image: [1151136  216972   27405  986769   31185 1849680 1665468  236439 1653057\n",
      "   78876  650412  910476  638190 2529639  718956   18585  587727   13167\n",
      " 1435959  660240  191331  436779  134505  496314   31626   41706  626535\n",
      "  664587  741951  503181]\n",
      "=> FF_term: [0.39386745 0.5025395  0.44236453 0.45837982 0.44935065 0.35877287\n",
      " 0.35037059 0.40832519 0.4053732  0.50650388 0.44427993 0.41357378\n",
      " 0.3431815  0.33925789 0.36775129 0.44105461 0.38511248 0.44406471\n",
      " 0.39660882 0.36372834 0.36252358 0.38269697 0.42188023 0.45940473\n",
      " 0.43679251 0.47949935 0.42816283 0.45143224 0.29841054 0.4258408 ]\n",
      "[0.39392806 0.50258924 0.44242029 0.45843398 0.44940571 0.35883699\n",
      " 0.35043554 0.40838435 0.40543265 0.50655322 0.4443355  0.41363242\n",
      " 0.34324717 0.33932396 0.36781451 0.4411105  0.38517396 0.4441203\n",
      " 0.39666915 0.36379196 0.36258733 0.38275869 0.42193803 0.45945879\n",
      " 0.43684883 0.4795514  0.42822001 0.45148709 0.29848069 0.42589821]\n",
      "0.41209561797940425\n"
     ]
    }
   ],
   "source": [
    "over_metric = mMetric_v1(ori_activation_maps, ori_activation_maps, selected_filter=selected_filter)\n",
    "print(over_metric)\n",
    "print(np.mean(over_metric))"
   ]
  },
  {
   "cell_type": "code",
   "execution_count": 9,
   "metadata": {
    "ExecuteTime": {
     "end_time": "2020-07-29T14:06:22.835709Z",
     "start_time": "2020-07-29T14:06:21.465785Z"
    },
    "scrolled": true
   },
   "outputs": [
    {
     "name": "stdout",
     "output_type": "stream",
     "text": [
      "=> SF_0: [2817 1620   40 5115  111 1354  964  990 3058  724 3262 3116  378 1118\n",
      " 1709    0 2487  100 1817 2145  993 1148  606 2447   69  294  488 4355\n",
      " 1703 2795]\n",
      "=> pixel_per_image: 50176\n",
      "=> SF_term: [0.05614238 0.03228635 0.00079719 0.10194117 0.00221221 0.02698501\n",
      " 0.01921237 0.01973055 0.06094547 0.01442921 0.06501116 0.0621014\n",
      " 0.00753348 0.02228157 0.03406011 0.         0.04956553 0.00199298\n",
      " 0.03621253 0.04274952 0.01979034 0.02287946 0.01207749 0.04876834\n",
      " 0.00137516 0.00585938 0.00972577 0.08679448 0.03394053 0.05570392]\n",
      "=> FF_0: [ 492798   97594   12228  427263   14617  794739  713764  104945  712065\n",
      "   37374  283250  392341  273604 1084886  313137    8365  262264    5968\n",
      "  615317  284171   83449  188036   58512  215085   14763   18907  268688\n",
      "  286829  319588  220010]\n",
      "=> pixel_per_image: [1151136  216972   27405  986769   31185 1849680 1665468  236439 1653057\n",
      "   78876  650412  910476  638190 2529639  718956   18585  587727   13167\n",
      " 1435959  660240  191331  436779  134505  496314   31626   41706  626535\n",
      "  664587  741951  503181]\n",
      "=> FF_term: [0.42809711 0.44979997 0.44619595 0.43299192 0.46871894 0.42966297\n",
      " 0.42856663 0.44385655 0.43075647 0.47383234 0.4354932  0.43091855\n",
      " 0.42871872 0.42886989 0.43554404 0.45009416 0.44623439 0.45325435\n",
      " 0.42850597 0.43040561 0.43614992 0.43050605 0.43501729 0.43336477\n",
      " 0.46679947 0.45334005 0.42884755 0.43158984 0.43074004 0.43723829]\n",
      "[0.42805992 0.44975823 0.44615141 0.43295881 0.46867229 0.4296227\n",
      " 0.42852569 0.44381415 0.43071949 0.47378641 0.43545615 0.43088167\n",
      " 0.42867661 0.42882924 0.43550389 0.45004916 0.44619473 0.45320923\n",
      " 0.42846674 0.43036685 0.43610829 0.43046529 0.434975   0.43332631\n",
      " 0.46675293 0.4532953  0.42880564 0.43155537 0.43070036 0.43720014]\n",
      "0.4394296000410893\n"
     ]
    }
   ],
   "source": [
    "over_metric = mMetric_v1(ori_activation_maps, opt_activation_maps, selected_filter=selected_filter)\n",
    "print(over_metric)\n",
    "print(np.mean(over_metric))"
   ]
  },
  {
   "cell_type": "markdown",
   "metadata": {},
   "source": [
    "##### mMetric_v2"
   ]
  },
  {
   "cell_type": "code",
   "execution_count": 10,
   "metadata": {
    "ExecuteTime": {
     "end_time": "2020-07-29T14:06:23.563340Z",
     "start_time": "2020-07-29T14:06:22.837211Z"
    },
    "scrolled": true
   },
   "outputs": [
    {
     "name": "stdout",
     "output_type": "stream",
     "text": [
      "[[1. 1. 1. ... 1. 1. 1.]\n",
      " [1. 1. 1. ... 1. 1. 1.]\n",
      " [1. 1. 1. ... 1. 1. 1.]\n",
      " ...\n",
      " [1. 1. 1. ... 1. 1. 1.]\n",
      " [1. 1. 1. ... 1. 1. 1.]\n",
      " [1. 1. 1. ... 1. 1. 1.]]\n",
      "=> SF_0: [1.9929847e-05 1.9929847e-05 1.9929847e-05 1.9929847e-05 1.9929847e-05\n",
      " 1.9929847e-05 1.9929847e-05 1.9929847e-05 1.9929847e-05 1.9929847e-05\n",
      " 1.9929847e-05 1.9929847e-05 1.9929847e-05 1.9929847e-05 1.9929847e-05\n",
      " 1.9929847e-05 1.9929847e-05 1.9929847e-05 1.9929847e-05 1.9929847e-05\n",
      " 1.9929847e-05 1.9929847e-05 1.9929847e-05 1.9929847e-05 1.9929847e-05\n",
      " 1.9929847e-05 1.9929847e-05 1.9929847e-05 1.9929847e-05 1.9929847e-05]\n",
      "=> pixel_per_image: 50176\n",
      "=> SF_term: [1. 1. 1. 1. 1. 1. 1. 1. 1. 1. 1. 1. 1. 1. 1. 1. 1. 1. 1. 1. 1. 1. 1. 1.\n",
      " 1. 1. 1. 1. 1. 1.]\n",
      "ori_sel:  (30, 1, 224, 224)\n",
      "ori_sel:  (30, 63, 224, 224)\n",
      "=> FF_0: [453395 109037  12123 452315  14013 663615 583531  96544 670105  39951\n",
      " 288965 376549 219015 858200 264397   8197 226341   5847 569514 240148\n",
      "  69362 167154  56745 228009  13814  19998 268259 300016 221406 214275]\n",
      "=> pixel_per_image: [1151136  216972   27405  986769   31185 1849680 1665468  236439 1653057\n",
      "   78876  650412  910476  638190 2529639  718956   18585  587727   13167\n",
      " 1435959  660240  191331  436779  134505  496314   31626   41706  626535\n",
      "  664587  741951  503181]\n",
      "=> FF_term: [0.39386745 0.5025395  0.44236453 0.45837982 0.44935065 0.35877287\n",
      " 0.35037059 0.40832519 0.4053732  0.50650388 0.44427993 0.41357378\n",
      " 0.3431815  0.33925789 0.36775129 0.44105461 0.38511248 0.44406471\n",
      " 0.39660882 0.36372834 0.36252358 0.38269697 0.42188023 0.45940473\n",
      " 0.43679251 0.47949935 0.42816283 0.45143224 0.29841054 0.4258408 ]\n",
      "[0.69693372 0.75126975 0.72118227 0.72918991 0.72467532 0.67938643\n",
      " 0.67518529 0.7041626  0.7026866  0.75325194 0.72213997 0.70678689\n",
      " 0.67159075 0.66962895 0.68387565 0.72052731 0.69255624 0.72203235\n",
      " 0.69830441 0.68186417 0.68126179 0.69134849 0.71094011 0.72970237\n",
      " 0.71839626 0.73974968 0.71408142 0.72571612 0.64920527 0.7129204 ]\n"
     ]
    }
   ],
   "source": [
    "over_metric = mMetric_v2(ori_activation_maps, ori_activation_maps, selected_filter=selected_filter)\n",
    "print(over_metric)"
   ]
  },
  {
   "cell_type": "code",
   "execution_count": 11,
   "metadata": {
    "ExecuteTime": {
     "end_time": "2020-07-29T14:06:24.176642Z",
     "start_time": "2020-07-29T14:06:23.564576Z"
    },
    "scrolled": true
   },
   "outputs": [
    {
     "name": "stdout",
     "output_type": "stream",
     "text": [
      "[[0.50780404 0.5092825  0.5071508  ... 0.5260068  0.5130839  0.5076022 ]\n",
      " [0.43216452 0.42466876 0.42422515 ... 0.42543408 0.4303236  0.42432106]\n",
      " [0.16058587 0.16749926 0.16849303 ... 0.17126307 0.17901869 0.16740999]\n",
      " ...\n",
      " [0.3918673  0.41037104 0.40676403 ... 0.4118166  0.42114702 0.4018169 ]\n",
      " [0.46618858 0.48951557 0.49279281 ... 0.5152079  0.5159618  0.48156777]\n",
      " [0.23295479 0.23363301 0.2326551  ... 0.23018847 0.23404068 0.23428014]]\n",
      "=> SF_0: [1.9929845e-05 1.9929850e-05 1.9929847e-05 1.9929850e-05 1.9929847e-05\n",
      " 1.9929847e-05 1.9929850e-05 1.9929850e-05 1.9929847e-05 1.9929847e-05\n",
      " 1.9929850e-05 1.9929847e-05 1.9929847e-05 1.9929847e-05 1.9929845e-05\n",
      " 1.9929847e-05 1.9929850e-05 1.9929847e-05 1.9929847e-05 1.9929847e-05\n",
      " 1.9929847e-05 1.9929847e-05 1.9929847e-05 1.9929845e-05 1.9929847e-05\n",
      " 1.9929847e-05 1.9929847e-05 1.9929845e-05 1.9929850e-05 1.9929850e-05]\n",
      "=> pixel_per_image: 50176\n",
      "=> SF_term: [1. 1. 1. 1. 1. 1. 1. 1. 1. 1. 1. 1. 1. 1. 1. 1. 1. 1. 1. 1. 1. 1. 1. 1.\n",
      " 1. 1. 1. 1. 1. 1.]\n",
      "ori_sel:  (30, 1, 224, 224)\n",
      "ori_sel:  (30, 63, 224, 224)\n",
      "=> FF_0: [ 492798   97594   12228  427263   14617  794739  713764  104945  712065\n",
      "   37374  283250  392341  273604 1084886  313137    8365  262264    5968\n",
      "  615317  284171   83449  188036   58512  215085   14763   18907  268688\n",
      "  286829  319588  220010]\n",
      "=> pixel_per_image: [1151136  216972   27405  986769   31185 1849680 1665468  236439 1653057\n",
      "   78876  650412  910476  638190 2529639  718956   18585  587727   13167\n",
      " 1435959  660240  191331  436779  134505  496314   31626   41706  626535\n",
      "  664587  741951  503181]\n",
      "=> FF_term: [0.42809711 0.44979997 0.44619595 0.43299192 0.46871894 0.42966297\n",
      " 0.42856663 0.44385655 0.43075647 0.47383234 0.4354932  0.43091855\n",
      " 0.42871872 0.42886989 0.43554404 0.45009416 0.44623439 0.45325435\n",
      " 0.42850597 0.43040561 0.43614992 0.43050605 0.43501729 0.43336477\n",
      " 0.46679947 0.45334005 0.42884755 0.43158984 0.43074004 0.43723829]\n",
      "[0.71404856 0.72489999 0.72309797 0.71649596 0.73435947 0.71483148\n",
      " 0.71428331 0.72192828 0.71537824 0.73691617 0.7177466  0.71545928\n",
      " 0.71435936 0.71443495 0.71777202 0.72504708 0.7231172  0.72662717\n",
      " 0.71425298 0.71520281 0.71807496 0.71525302 0.71750864 0.71668238\n",
      " 0.73339973 0.72667002 0.71442378 0.71579492 0.71537002 0.71861914]\n"
     ]
    }
   ],
   "source": [
    "over_metric = mMetric_v2(ori_activation_maps, opt_activation_maps, selected_filter=selected_filter)\n",
    "print(over_metric)"
   ]
  },
  {
   "cell_type": "markdown",
   "metadata": {},
   "source": [
    "##### mMetric_v3"
   ]
  },
  {
   "cell_type": "code",
   "execution_count": 12,
   "metadata": {
    "ExecuteTime": {
     "end_time": "2020-07-29T14:06:25.793451Z",
     "start_time": "2020-07-29T14:06:24.177889Z"
    }
   },
   "outputs": [
    {
     "name": "stdout",
     "output_type": "stream",
     "text": [
      "RMSE: 0.0 - std 0.0\n",
      "SSIM_SEL: 1.0 - std 0.0\n",
      "SSIM_RES: 0.7475038170814514 - std 0.16919776797294617\n",
      "SSIM_SUM 0.8737518787384033 - std 0.08459888398647308\n"
     ]
    }
   ],
   "source": [
    "#over_metric = \n",
    "mMetric_v3(ori_activation_maps, ori_activation_maps, selected_filter=selected_filter)\n",
    "#print(over_metric)\n",
    "#print(np.mean(over_metric))"
   ]
  },
  {
   "cell_type": "code",
   "execution_count": 13,
   "metadata": {
    "ExecuteTime": {
     "end_time": "2020-07-29T14:06:27.279615Z",
     "start_time": "2020-07-29T14:06:25.794407Z"
    }
   },
   "outputs": [
    {
     "name": "stdout",
     "output_type": "stream",
     "text": [
      "RMSE: 0.17237147688865662 - std 0.17498500645160675\n",
      "SSIM_SEL: 0.9007095098495483 - std 0.06958510726690292\n",
      "SSIM_RES: 0.8071271777153015 - std 0.13045555353164673\n",
      "SSIM_SUM 0.8539183139801025 - std 0.06818907707929611\n"
     ]
    }
   ],
   "source": [
    "mMetric_v3(ori_activation_maps, opt_activation_maps, selected_filter=selected_filter)"
   ]
  },
  {
   "cell_type": "markdown",
   "metadata": {},
   "source": [
    "### L3F28"
   ]
  },
  {
   "cell_type": "code",
   "execution_count": 14,
   "metadata": {
    "ExecuteTime": {
     "end_time": "2020-07-29T14:06:33.729666Z",
     "start_time": "2020-07-29T14:06:27.280698Z"
    },
    "scrolled": true
   },
   "outputs": [
    {
     "name": "stdout",
     "output_type": "stream",
     "text": [
      "=> class index: 950\n",
      "Only Keep 3th layers before.\n",
      "Resume from model from exp: 037 at epoch 0\n",
      "Len of new dataset is :30\n",
      "../../../saved/pack/7004\n",
      "(30, 224, 224, 3)\n",
      "(30, 3, 224, 224)\n",
      "=> Register fhook 3\n",
      "=> Register fhook 3\n"
     ]
    }
   ],
   "source": [
    "exp = \"7004\"\n",
    "selected_layer = 3\n",
    "selected_filter = 28\n",
    "class_index = 950\n",
    "ori_activation_maps, opt_activation_maps = main(exp, selected_layer, \n",
    "                                                selected_filter, class_index)"
   ]
  },
  {
   "cell_type": "markdown",
   "metadata": {},
   "source": [
    "#### mMetric_v1"
   ]
  },
  {
   "cell_type": "code",
   "execution_count": 15,
   "metadata": {
    "ExecuteTime": {
     "end_time": "2020-07-29T14:06:34.289428Z",
     "start_time": "2020-07-29T14:06:33.730682Z"
    }
   },
   "outputs": [
    {
     "name": "stdout",
     "output_type": "stream",
     "text": [
      "=> SF_0: [50176 50176 50176 50176 50176 50176 50176 50176 50176 50176 50176 50176\n",
      " 50176 50176 50176 50176 50176 50176 50176 50176 50176 50176 50176 50176\n",
      " 50176 50176 50176 50176 50176 50176]\n",
      "=> pixel_per_image: 50176\n",
      "=> SF_term: [1. 1. 1. 1. 1. 1. 1. 1. 1. 1. 1. 1. 1. 1. 1. 1. 1. 1. 1. 1. 1. 1. 1. 1.\n",
      " 1. 1. 1. 1. 1. 1.]\n",
      "=> FF_0: [ 912666  773575  264145  608296  726332  941569  982697 1056030  680586\n",
      "   48262 1513034 1197917  519385 1253848  351201   29712 1491286  327659\n",
      "  291539  234548  556699  322950  827831  180334   53659   46614   13855\n",
      " 1079197  528770  436783]\n",
      "=> pixel_per_image: [1649403 1440684  526302 1130346 1348137 1804824 1628109 1970514 1270962\n",
      "   91728 2681658 2119824  911673 2279214  600516   64386 2685312  624582\n",
      "  551439  452466 1050147  608265 1541988  342153  107730   95634   24003\n",
      " 1987335 1047249  779562]\n",
      "=> FF_term: [0.55333111 0.53694981 0.50188865 0.53815027 0.5387672  0.52169574\n",
      " 0.60358182 0.53591601 0.53548887 0.52614251 0.56421587 0.5651021\n",
      " 0.56970537 0.55012298 0.58483204 0.46146678 0.55534925 0.52460526\n",
      " 0.52868767 0.51837707 0.53011531 0.53093635 0.53685956 0.52705661\n",
      " 0.49808781 0.48742079 0.57721951 0.54303728 0.50491335 0.56029283]\n",
      "[0.55337578 0.53699611 0.50193846 0.53819645 0.53881332 0.52174357\n",
      " 0.60362146 0.53596241 0.53553531 0.52618989 0.56425944 0.56514559\n",
      " 0.56974839 0.55016796 0.58487356 0.46152063 0.55539371 0.52465279\n",
      " 0.5287348  0.51842523 0.53016229 0.53098325 0.53690587 0.5271039\n",
      " 0.498138   0.48747204 0.57726179 0.54308298 0.50496285 0.5603368 ]\n",
      "0.5370568207350875\n"
     ]
    }
   ],
   "source": [
    "over_metric = mMetric_v1(ori_activation_maps, ori_activation_maps, selected_filter=selected_filter)\n",
    "print(over_metric)\n",
    "print(np.mean(over_metric))"
   ]
  },
  {
   "cell_type": "code",
   "execution_count": 16,
   "metadata": {
    "ExecuteTime": {
     "end_time": "2020-07-29T14:06:35.016130Z",
     "start_time": "2020-07-29T14:06:34.290472Z"
    },
    "scrolled": true
   },
   "outputs": [
    {
     "name": "stdout",
     "output_type": "stream",
     "text": [
      "=> SF_0: [11706 15159  5769 12004 16805 20958 20047 18794  9970  1218 24296 23768\n",
      " 10262 29914  5682   631 23694  6254  4257  3588 11609  5008 13686  3662\n",
      "  1201  1064   319 18847 10358  6258]\n",
      "=> pixel_per_image: 50176\n",
      "=> SF_term: [0.23329879 0.30211655 0.11497529 0.23923788 0.33492108 0.41768973\n",
      " 0.39953364 0.37456154 0.19870057 0.02427455 0.48421556 0.4736926\n",
      " 0.20452009 0.59618144 0.11324139 0.01257573 0.47221779 0.12464126\n",
      " 0.08484136 0.07150829 0.23136559 0.09980867 0.27275989 0.0729831\n",
      " 0.02393575 0.02120536 0.00635762 0.37561783 0.20643335 0.12472098]\n",
      "=> FF_0: [ 957967  804719  309991  629867  819066 1097031  990218 1106851  731939\n",
      "   49524 1570361 1257823  548208 1392729  354060   35098 1538888  354944\n",
      "  318225  262445  623550  348101  889568  191442   60169   52728   14028\n",
      " 1103962  620492  446338]\n",
      "=> pixel_per_image: [1649403 1440684  526302 1130346 1348137 1804824 1628109 1970514 1270962\n",
      "   91728 2681658 2119824  911673 2279214  600516   64386 2685312  624582\n",
      "  551439  452466 1050147  608265 1541988  342153  107730   95634   24003\n",
      " 1987335 1047249  779562]\n",
      "=> FF_term: [0.5807962  0.55856732 0.58899833 0.5572338  0.60755398 0.60783268\n",
      " 0.60820129 0.56170674 0.57589369 0.53990058 0.58559332 0.593362\n",
      " 0.60132087 0.61105671 0.58959295 0.5451185  0.57307605 0.56829047\n",
      " 0.57708106 0.58003253 0.59377401 0.57228511 0.57689684 0.55952162\n",
      " 0.55851666 0.55135203 0.58442695 0.5554987  0.5924971  0.57254971]\n",
      "[0.58076146 0.55854168 0.58895093 0.55720201 0.60752672 0.60781366\n",
      " 0.60818043 0.56168803 0.57585598 0.53984902 0.58558318 0.59335003\n",
      " 0.60128119 0.61105522 0.58954532 0.54506526 0.57306597 0.56824611\n",
      " 0.57703184 0.57998169 0.59373778 0.57223786 0.57686643 0.55947297\n",
      " 0.55846321 0.55129902 0.58436915 0.55548071 0.5924585  0.57250494]\n",
      "0.5775822088163314\n"
     ]
    }
   ],
   "source": [
    "over_metric = mMetric_v1(ori_activation_maps, opt_activation_maps, selected_filter=selected_filter)\n",
    "print(over_metric)\n",
    "print(np.mean(over_metric))"
   ]
  },
  {
   "cell_type": "code",
   "execution_count": 17,
   "metadata": {
    "ExecuteTime": {
     "end_time": "2020-07-29T14:06:35.779091Z",
     "start_time": "2020-07-29T14:06:35.017184Z"
    },
    "scrolled": true
   },
   "outputs": [
    {
     "name": "stdout",
     "output_type": "stream",
     "text": [
      "=> SF_0: [50176 50176 50176 50176 50176 50176 50176 50176 50176 50176 50176 50176\n",
      " 50176 50176 50176 50176 50176 50176 50176 50176 50176 50176 50176 50176\n",
      " 50176 50176 50176 50176 50176 50176]\n",
      "=> pixel_per_image: 50176\n",
      "=> SF_term: [1. 1. 1. 1. 1. 1. 1. 1. 1. 1. 1. 1. 1. 1. 1. 1. 1. 1. 1. 1. 1. 1. 1. 1.\n",
      " 1. 1. 1. 1. 1. 1.]\n",
      "=> FF_0: [ 912666  773575  264145  608296  726332  941569  982697 1056030  680586\n",
      "   48262 1513034 1197917  519385 1253848  351201   29712 1491286  327659\n",
      "  291539  234548  556699  322950  827831  180334   53659   46614   13855\n",
      " 1079197  528770  436783]\n",
      "=> pixel_per_image: [1649403 1440684  526302 1130346 1348137 1804824 1628109 1970514 1270962\n",
      "   91728 2681658 2119824  911673 2279214  600516   64386 2685312  624582\n",
      "  551439  452466 1050147  608265 1541988  342153  107730   95634   24003\n",
      " 1987335 1047249  779562]\n",
      "=> FF_term: [0.55333111 0.53694981 0.50188865 0.53815027 0.5387672  0.52169574\n",
      " 0.60358182 0.53591601 0.53548887 0.52614251 0.56421587 0.5651021\n",
      " 0.56970537 0.55012298 0.58483204 0.46146678 0.55534925 0.52460526\n",
      " 0.52868767 0.51837707 0.53011531 0.53093635 0.53685956 0.52705661\n",
      " 0.49808781 0.48742079 0.57721951 0.54303728 0.50491335 0.56029283]\n"
     ]
    },
    {
     "data": {
      "text/plain": [
       "array([0.55337578, 0.53699611, 0.50193846, 0.53819645, 0.53881332,\n",
       "       0.52174357, 0.60362146, 0.53596241, 0.53553531, 0.52618989,\n",
       "       0.56425944, 0.56514559, 0.56974839, 0.55016796, 0.58487356,\n",
       "       0.46152063, 0.55539371, 0.52465279, 0.5287348 , 0.51842523,\n",
       "       0.53016229, 0.53098325, 0.53690587, 0.5271039 , 0.498138  ,\n",
       "       0.48747204, 0.57726179, 0.54308298, 0.50496285, 0.5603368 ])"
      ]
     },
     "execution_count": 17,
     "metadata": {},
     "output_type": "execute_result"
    }
   ],
   "source": [
    "mMetric_v1(ori_activation_maps, ori_activation_maps, selected_filter=selected_filter)"
   ]
  },
  {
   "cell_type": "markdown",
   "metadata": {},
   "source": [
    "#### mMetric_v3"
   ]
  },
  {
   "cell_type": "code",
   "execution_count": 18,
   "metadata": {
    "ExecuteTime": {
     "end_time": "2020-07-29T14:06:37.244105Z",
     "start_time": "2020-07-29T14:06:35.779942Z"
    }
   },
   "outputs": [
    {
     "name": "stdout",
     "output_type": "stream",
     "text": [
      "RMSE: 0.0 - std 0.0\n",
      "SSIM_SEL: 1.0 - std 0.0\n",
      "SSIM_RES: 0.5647532343864441 - std 0.25219565629959106\n",
      "SSIM_SUM 0.7823765277862549 - std 0.12609782814979553\n"
     ]
    }
   ],
   "source": [
    "mMetric_v3(ori_activation_maps, ori_activation_maps, selected_filter=selected_filter)"
   ]
  },
  {
   "cell_type": "code",
   "execution_count": 19,
   "metadata": {
    "ExecuteTime": {
     "end_time": "2020-07-29T14:06:38.600340Z",
     "start_time": "2020-07-29T14:06:37.244962Z"
    }
   },
   "outputs": [
    {
     "name": "stdout",
     "output_type": "stream",
     "text": [
      "RMSE: 0.02223447896540165 - std 0.0416872501373291\n",
      "SSIM_SEL: 0.9449495673179626 - std 0.0456419475376606\n",
      "SSIM_RES: 0.6600590348243713 - std 0.20269908010959625\n",
      "SSIM_SUM 0.8025043606758118 - std 0.11545631289482117\n"
     ]
    }
   ],
   "source": [
    "mMetric_v3(ori_activation_maps, opt_activation_maps, selected_filter=selected_filter)"
   ]
  },
  {
   "cell_type": "code",
   "execution_count": 20,
   "metadata": {
    "ExecuteTime": {
     "end_time": "2020-07-29T14:06:44.669776Z",
     "start_time": "2020-07-29T14:06:38.601333Z"
    },
    "scrolled": true
   },
   "outputs": [
    {
     "name": "stdout",
     "output_type": "stream",
     "text": [
      "=> class index: 950\n",
      "Only Keep 11th layers before.\n",
      "Resume from model from exp: 037 at epoch 0\n",
      "Len of new dataset is :30\n",
      "../../../saved/pack/70071\n",
      "(30, 224, 224, 3)\n",
      "(30, 3, 224, 224)\n",
      "=> Register fhook 11\n",
      "=> Register fhook 11\n",
      "[[0.4509385  0.5174543  0.51204765 ... 0.53229564 0.53229564 0.5130155 ]\n",
      " [0.6353132  0.5080299  0.4040832  ... 0.5240482  0.45730838 0.557446  ]\n",
      " [0.4708292  0.45609426 0.3894385  ... 0.4584903  0.4584903  0.4584903 ]\n",
      " ...\n",
      " [0.48606756 0.4900254  0.45741907 ... 0.49626678 0.49626678 0.49626678]\n",
      " [0.62298566 0.56547374 0.42631465 ... 0.51337975 0.51337975 0.51337975]\n",
      " [0.41632107 0.43036243 0.4783737  ... 0.5309491  0.5309491  0.5309491 ]]\n",
      "=> SF_0: [0.00031888 0.00031888 0.00031888 0.00031888 0.00031888 0.00031888\n",
      " 0.00031888 0.00031888 0.00031888 0.00031888 0.00031888 0.00031888\n",
      " 0.00031888 0.00031888 0.00031888 0.00031888 0.00031888 0.00031888\n",
      " 0.00031888 0.00031888 0.00031888 0.00031888 0.00031888 0.00031888\n",
      " 0.00031888 0.00031888 0.00031888 0.00031888 0.00031888 0.00031888]\n",
      "=> pixel_per_image: 3136\n",
      "=> SF_term: [0.9999999 0.9999999 0.9999999 0.9999999 0.9999999 0.9999999 0.9999999\n",
      " 0.9999999 0.9999999 0.9999999 0.9999999 0.9999999 0.9999999 0.9999999\n",
      " 0.9999999 0.9999999 0.9999999 0.9999999 0.9999999 0.9999999 0.9999999\n",
      " 0.9999999 0.9999999 0.9999999 0.9999999 0.9999999 0.9999999 0.9999999\n",
      " 0.9999999 0.9999999]\n",
      "ori_sel:  (30, 1, 56, 56)\n",
      "ori_sel:  (30, 255, 56, 56)\n",
      "=> FF_0: [263920 443049 205347 410691 246472 339756 220523 477355 303956 189534\n",
      " 399551 223654 179213 138382 158963 178708 457892 329268 283070 200500\n",
      " 240329 321771 271160 273202 136233 229448  82555 356041 285079 264241]\n",
      "=> pixel_per_image: [424065 697170 325635 650250 387345 554625 355725 785145 480420 292485\n",
      " 643875 355725 289680 225930 241740 285345 737460 514845 453645 311865\n",
      " 377400 512295 427635 423045 218025 361590 132600 569160 454665 406980]\n",
      "=> FF_term: [0.62235742 0.63549636 0.63060482 0.63158939 0.6363113  0.61258688\n",
      " 0.6199255  0.60798324 0.63268806 0.64801272 0.62054125 0.62872725\n",
      " 0.61865852 0.61249945 0.65757839 0.62628748 0.62090418 0.63954783\n",
      " 0.62399012 0.64290639 0.6368018  0.62809709 0.63409216 0.64579891\n",
      " 0.62485036 0.63455295 0.62258673 0.6255552  0.6270089  0.64927269]\n",
      "[0.81117865 0.81774812 0.81530235 0.81579463 0.81815559 0.80629338\n",
      " 0.80996269 0.80399156 0.81634397 0.8240063  0.81027057 0.81436356\n",
      " 0.8093292  0.80624966 0.82878914 0.81314368 0.81045203 0.81977385\n",
      " 0.811995   0.82145313 0.81840084 0.81404849 0.81704602 0.8228994\n",
      " 0.81242512 0.81727641 0.8112933  0.81277754 0.81350439 0.82463629]\n"
     ]
    }
   ],
   "source": [
    "exp = \"70071\"\n",
    "selected_layer = 11\n",
    "selected_filter = 75\n",
    "class_index = 950\n",
    "ori_activation_maps, opt_activation_maps = main(exp, selected_layer, \n",
    "                                                selected_filter, class_index)\n",
    "#over_metric = mMetric_v1(ori_activation_maps, opt_activation_maps, selected_filter=selected_filter)\n",
    "over_metric = mMetric_v2(ori_activation_maps, opt_activation_maps, selected_filter=selected_filter)\n",
    "print(over_metric)"
   ]
  },
  {
   "cell_type": "markdown",
   "metadata": {},
   "source": [
    "## Main"
   ]
  },
  {
   "cell_type": "code",
   "execution_count": 21,
   "metadata": {
    "ExecuteTime": {
     "end_time": "2020-07-29T14:06:44.684105Z",
     "start_time": "2020-07-29T14:06:44.670762Z"
    }
   },
   "outputs": [],
   "source": [
    "# excel_path = \"Single.xlsx\"\n",
    "excel_path = \"../week9/Batches.xlsx\"\n",
    "sheet = \"950\"\n",
    "# sheet = \"950\"\n",
    "excepts = [\"052148\"]"
   ]
  },
  {
   "cell_type": "code",
   "execution_count": 22,
   "metadata": {
    "ExecuteTime": {
     "end_time": "2020-07-29T14:07:25.022916Z",
     "start_time": "2020-07-29T14:06:44.685065Z"
    },
    "scrolled": false
   },
   "outputs": [
    {
     "name": "stdout",
     "output_type": "stream",
     "text": [
      "=> RUN  061300 1 16 950\n",
      "=> class index: 950\n",
      "Only Keep 1th layers before.\n",
      "Resume from model from exp: 037 at epoch 0\n",
      "Len of new dataset is :30\n",
      "../../../saved/pack/061300\n",
      "(30, 224, 224, 3)\n",
      "(30, 3, 224, 224)\n",
      "=> Register fhook 1\n",
      "=> Register fhook 1\n",
      "RMSE: 0.17237147688865662 - std 0.17498500645160675\n",
      "SSIM_SEL: 0.9007095098495483 - std 0.06958510726690292\n",
      "SSIM_RES: 0.8071271777153015 - std 0.13045555353164673\n",
      "SSIM_SUM 0.8539183139801025 - std 0.06818907707929611\n",
      "\n",
      "--------------------------------------------------\n",
      "=> RUN  052490 1 16 950\n",
      "=> class index: 950\n",
      "Only Keep 1th layers before.\n",
      "Resume from model from exp: 037 at epoch 0\n",
      "Len of new dataset is :30\n",
      "../../../saved/pack/052490\n",
      "(30, 224, 224, 3)\n",
      "(30, 3, 224, 224)\n",
      "=> Register fhook 1\n",
      "=> Register fhook 1\n",
      "RMSE: 0.17237147688865662 - std 0.17498500645160675\n",
      "SSIM_SEL: 0.9007095098495483 - std 0.06958510726690292\n",
      "SSIM_RES: 0.8071271777153015 - std 0.13045555353164673\n",
      "SSIM_SUM 0.8539183139801025 - std 0.06818907707929611\n",
      "\n",
      "--------------------------------------------------\n",
      "=> RUN  7005 6 19 950\n",
      "=> class index: 950\n",
      "Only Keep 6th layers before.\n",
      "Resume from model from exp: 037 at epoch 0\n",
      "Len of new dataset is :30\n",
      "../../../saved/pack/7005\n",
      "(30, 224, 224, 3)\n",
      "(30, 3, 224, 224)\n",
      "=> Register fhook 6\n",
      "=> Register fhook 6\n",
      "RMSE: 0.046198520809412 - std 0.00381540902890265\n",
      "SSIM_SEL: 0.9870871305465698 - std 0.02630532719194889\n",
      "SSIM_RES: 0.3345000147819519 - std 0.11762900650501251\n",
      "SSIM_SUM 0.6607935428619385 - std 0.05776342377066612\n",
      "\n",
      "--------------------------------------------------\n",
      "=> RUN  70071 11 75 950\n",
      "=> class index: 950\n",
      "Only Keep 11th layers before.\n",
      "Resume from model from exp: 037 at epoch 0\n",
      "Len of new dataset is :30\n",
      "../../../saved/pack/70071\n",
      "(30, 224, 224, 3)\n",
      "(30, 3, 224, 224)\n",
      "=> Register fhook 11\n",
      "=> Register fhook 11\n",
      "RMSE: 0.18589788675308228 - std 0.02041848562657833\n",
      "SSIM_SEL: 0.8869537711143494 - std 0.15722256898880005\n",
      "SSIM_RES: 0.28897374868392944 - std 0.08477682620286942\n",
      "SSIM_SUM 0.5879638195037842 - std 0.09368332475423813\n",
      "\n",
      "--------------------------------------------------\n",
      "=> RUN  7010 18 49 950\n",
      "=> class index: 950\n",
      "Only Keep 18th layers before.\n",
      "Resume from model from exp: 037 at epoch 0\n",
      "Len of new dataset is :30\n",
      "../../../saved/pack/7010\n",
      "(30, 224, 224, 3)\n",
      "(30, 3, 224, 224)\n",
      "=> Register fhook 18\n",
      "=> Register fhook 18\n",
      "RMSE: 0.22939448058605194 - std 0.021254703402519226\n",
      "SSIM_SEL: 0.8282991647720337 - std 0.2329346388578415\n",
      "SSIM_RES: 0.6541967988014221 - std 0.08339130878448486\n",
      "SSIM_SUM 0.7412480711936951 - std 0.1444862186908722\n",
      "\n",
      "--------------------------------------------------\n",
      "=> RUN  7013 25 1 950\n",
      "=> class index: 950\n",
      "Only Keep 25th layers before.\n",
      "Resume from model from exp: 037 at epoch 0\n",
      "Len of new dataset is :30\n",
      "../../../saved/pack/7013\n",
      "(30, 224, 224, 3)\n",
      "(30, 3, 224, 224)\n",
      "=> Register fhook 25\n",
      "=> Register fhook 25\n",
      "RMSE: 0.6103444695472717 - std 0.14802564680576324\n",
      "SSIM_SEL: 0.9659446477890015 - std 0.022404005751013756\n",
      "SSIM_RES: 0.6077806949615479 - std 0.05381431430578232\n",
      "SSIM_SUM 0.7868627309799194 - std 0.027599550783634186\n",
      "\n",
      "--------------------------------------------------\n"
     ]
    }
   ],
   "source": [
    "xlsx = pd.ExcelFile(excel_path)\n",
    "excel = pd.read_excel(xlsx, sheet, Sdtype={\"exp\": str, \n",
    "                                           \"selected_layer\": int,\n",
    "                                           \"selected_filter\": int, \n",
    "                                           \"class_index\": int,\n",
    "                                            \"Done\": str}).values\n",
    "for data in excel:\n",
    "    exp, selected_layer, selected_filter, class_index, done = data[0], data[1], \\\n",
    "        data[2], data[3], data[4]\n",
    "    exp = exp.replace(\"x\", \"\")\n",
    "    if exp in excepts:\n",
    "        print(\"=> Skip\")\n",
    "    else:\n",
    "        if done == \"N\":\n",
    "            print(\"=> RUN \", exp, selected_layer, selected_filter, class_index)\n",
    "            # main(exp, selected_layer, selected_filter, class_index)\n",
    "            ori_activation_maps, opt_activation_maps = main(exp, \n",
    "                                                            selected_layer, \n",
    "                                                            selected_filter, \n",
    "                                                            class_index)\n",
    "            mMetric_v3(ori_activation_maps, opt_activation_maps, \n",
    "                       selected_filter=selected_filter) \n",
    "            print(\"\")\n",
    "            print(\"-\"*50)"
   ]
  },
  {
   "cell_type": "markdown",
   "metadata": {},
   "source": [
    "### Class 14"
   ]
  },
  {
   "cell_type": "code",
   "execution_count": 23,
   "metadata": {
    "ExecuteTime": {
     "end_time": "2020-07-29T14:07:25.036182Z",
     "start_time": "2020-07-29T14:07:25.023965Z"
    }
   },
   "outputs": [],
   "source": [
    "excel_path = \"../week9/Batches.xlsx\"\n",
    "sheet = \"Others\"\n",
    "excepts = [\"052148\"]"
   ]
  },
  {
   "cell_type": "code",
   "execution_count": 24,
   "metadata": {
    "ExecuteTime": {
     "end_time": "2020-07-29T14:07:58.061171Z",
     "start_time": "2020-07-29T14:07:25.038609Z"
    },
    "scrolled": true
   },
   "outputs": [
    {
     "name": "stdout",
     "output_type": "stream",
     "text": [
      "=> Skip\n",
      "=> RUN  052198 3 20 14\n",
      "=> class index: 14\n",
      "Only Keep 3th layers before.\n",
      "Resume from model from exp: 037 at epoch 0\n",
      "Len of new dataset is :30\n",
      "../../../saved/pack/052198\n",
      "(30, 224, 224, 3)\n",
      "(30, 3, 224, 224)\n",
      "=> Register fhook 3\n",
      "=> Register fhook 3\n",
      "RMSE: 0.00472487835213542 - std 0.0019272961653769016\n",
      "SSIM_SEL: 0.9984177350997925 - std 0.0018025805475190282\n",
      "SSIM_RES: 0.5318509340286255 - std 0.16216303408145905\n",
      "SSIM_SUM 0.7651342153549194 - std 0.08068732917308807\n",
      "\n",
      "--------------------------------------------------\n",
      "=> RUN  052153 8 99 14\n",
      "=> class index: 14\n",
      "Only Keep 8th layers before.\n",
      "Resume from model from exp: 037 at epoch 0\n",
      "Len of new dataset is :30\n",
      "../../../saved/pack/052153\n",
      "(30, 224, 224, 3)\n",
      "(30, 3, 224, 224)\n",
      "=> Register fhook 8\n",
      "=> Register fhook 8\n",
      "RMSE: 0.07299831509590149 - std 0.005768651608377695\n",
      "SSIM_SEL: 0.9140456914901733 - std 0.12776099145412445\n",
      "SSIM_RES: 0.3435554802417755 - std 0.10967403650283813\n",
      "SSIM_SUM 0.6288005113601685 - std 0.07082974165678024\n",
      "\n",
      "--------------------------------------------------\n",
      "=> RUN  052103 29 334 14\n",
      "=> class index: 14\n",
      "Only Keep 29th layers before.\n",
      "Resume from model from exp: 037 at epoch 0\n",
      "Len of new dataset is :30\n",
      "../../../saved/pack/052103\n",
      "(30, 224, 224, 3)\n",
      "(30, 3, 224, 224)\n",
      "=> Register fhook 29\n",
      "=> Register fhook 29\n",
      "RMSE: 0.2540377676486969 - std 0.16776616871356964\n",
      "SSIM_SEL: 0.8214017748832703 - std 0.1284390687942505\n",
      "SSIM_RES: 0.9043479561805725 - std 0.021509870886802673\n",
      "SSIM_SUM 0.8628748655319214 - std 0.06285174936056137\n",
      "\n",
      "--------------------------------------------------\n",
      "=> RUN  052118 22 485 14\n",
      "=> class index: 14\n",
      "Only Keep 22th layers before.\n",
      "Resume from model from exp: 037 at epoch 0\n",
      "Len of new dataset is :30\n",
      "../../../saved/pack/052118\n",
      "(30, 224, 224, 3)\n",
      "(30, 3, 224, 224)\n",
      "=> Register fhook 22\n",
      "=> Register fhook 22\n",
      "RMSE: 0.14643660187721252 - std 0.08911339938640594\n",
      "SSIM_SEL: 0.9214086532592773 - std 0.0337655283510685\n",
      "SSIM_RES: 0.8613256216049194 - std 0.01595275104045868\n",
      "SSIM_SUM 0.8913671970367432 - std 0.015912793576717377\n",
      "\n",
      "--------------------------------------------------\n",
      "=> RUN  072500 15 173 14\n",
      "=> class index: 14\n",
      "Only Keep 15th layers before.\n",
      "Resume from model from exp: 037 at epoch 0\n",
      "Len of new dataset is :30\n",
      "../../../saved/pack/072500\n",
      "(30, 224, 224, 3)\n",
      "(30, 3, 224, 224)\n",
      "=> Register fhook 15\n",
      "=> Register fhook 15\n",
      "RMSE: 0.2158878594636917 - std 0.04017592594027519\n",
      "SSIM_SEL: 0.9465593695640564 - std 0.02987469919025898\n",
      "SSIM_RES: 0.6603148579597473 - std 0.06410932540893555\n",
      "SSIM_SUM 0.8034371733665466 - std 0.02962351217865944\n",
      "\n",
      "--------------------------------------------------\n"
     ]
    }
   ],
   "source": [
    "xlsx = pd.ExcelFile(excel_path)\n",
    "excel = pd.read_excel(xlsx, sheet, Sdtype={\"exp\": str, \n",
    "                                           \"selected_layer\": int,\n",
    "                                           \"selected_filter\": int, \n",
    "                                           \"class_index\": int,\n",
    "                                            \"Done\": str}).values\n",
    "for data in excel:\n",
    "    exp, selected_layer, selected_filter, class_index, done = data[0], data[1], \\\n",
    "        data[2], data[3], data[4]\n",
    "    exp = exp.replace(\"x\", \"\")\n",
    "    if exp in excepts:\n",
    "        print(\"=> Skip\")\n",
    "    else:\n",
    "        if done == \"N\":\n",
    "            print(\"=> RUN \", exp, selected_layer, selected_filter, class_index)\n",
    "            # main(exp, selected_layer, selected_filter, class_index)\n",
    "            ori_activation_maps, opt_activation_maps = main(exp, \n",
    "                                                            selected_layer, \n",
    "                                                            selected_filter, \n",
    "                                                            class_index)\n",
    "            mMetric_v3(ori_activation_maps, opt_activation_maps, \n",
    "                       selected_filter=selected_filter) \n",
    "            print(\"\")\n",
    "            print(\"-\"*50)"
   ]
  },
  {
   "cell_type": "code",
   "execution_count": null,
   "metadata": {},
   "outputs": [],
   "source": []
  }
 ],
 "metadata": {
  "kernelspec": {
   "display_name": "Python 3",
   "language": "python",
   "name": "python3"
  },
  "language_info": {
   "codemirror_mode": {
    "name": "ipython",
    "version": 3
   },
   "file_extension": ".py",
   "mimetype": "text/x-python",
   "name": "python",
   "nbconvert_exporter": "python",
   "pygments_lexer": "ipython3",
   "version": "3.6.10"
  },
  "latex_envs": {
   "LaTeX_envs_menu_present": true,
   "autoclose": false,
   "autocomplete": true,
   "bibliofile": "biblio.bib",
   "cite_by": "apalike",
   "current_citInitial": 1,
   "eqLabelWithNumbers": true,
   "eqNumInitial": 1,
   "hotkeys": {
    "equation": "Ctrl-E",
    "itemize": "Ctrl-I"
   },
   "labels_anchors": false,
   "latex_user_defs": false,
   "report_style_numbering": false,
   "user_envs_cfg": false
  },
  "toc": {
   "base_numbering": 1,
   "nav_menu": {},
   "number_sections": true,
   "sideBar": false,
   "skip_h1_title": false,
   "title_cell": "Table of Contents",
   "title_sidebar": "Contents",
   "toc_cell": false,
   "toc_position": {
    "height": "772px",
    "left": "10px",
    "top": "150px",
    "width": "287px"
   },
   "toc_section_display": true,
   "toc_window_display": true
  },
  "varInspector": {
   "cols": {
    "lenName": 16,
    "lenType": 16,
    "lenVar": 40
   },
   "kernels_config": {
    "python": {
     "delete_cmd_postfix": "",
     "delete_cmd_prefix": "del ",
     "library": "var_list.py",
     "varRefreshCmd": "print(var_dic_list())"
    },
    "r": {
     "delete_cmd_postfix": ") ",
     "delete_cmd_prefix": "rm(",
     "library": "var_list.r",
     "varRefreshCmd": "cat(var_dic_list()) "
    }
   },
   "position": {
    "height": "460px",
    "left": "1523px",
    "right": "20px",
    "top": "120px",
    "width": "249px"
   },
   "types_to_exclude": [
    "module",
    "function",
    "builtin_function_or_method",
    "instance",
    "_Feature"
   ],
   "window_display": true
  }
 },
 "nbformat": 4,
 "nbformat_minor": 4
}
