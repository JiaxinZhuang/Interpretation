{
 "cells": [
  {
   "cell_type": "code",
   "execution_count": 1,
   "metadata": {
    "ExecuteTime": {
     "end_time": "2020-10-06T03:31:45.151169Z",
     "start_time": "2020-10-06T03:31:45.139020Z"
    }
   },
   "outputs": [],
   "source": [
    "%load_ext autoreload\n",
    "%autoreload 2\n",
    "%config InlineBackend.figure_format = 'svg'"
   ]
  },
  {
   "cell_type": "markdown",
   "metadata": {},
   "source": [
    "## Import module"
   ]
  },
  {
   "cell_type": "code",
   "execution_count": 2,
   "metadata": {
    "ExecuteTime": {
     "end_time": "2020-10-06T03:31:46.269047Z",
     "start_time": "2020-10-06T03:31:45.250441Z"
    }
   },
   "outputs": [],
   "source": [
    "import os\n",
    "os.environ[\"CUDA_DEVICE_ORDER\"] = \"PCI_BUS_ID\"\n",
    "os.environ[\"CUDA_VISIBLE_DEVICES\"] = \"0\"\n",
    "\n",
    "import torch\n",
    "import os\n",
    "import numpy as np\n",
    "from torchsummary import summary\n",
    "from torchvision import transforms                                                                                                                                        \n",
    "import matplotlib as mpl\n",
    "mpl.rcParams['figure.dpi'] = 600\n",
    "from PIL import Image\n",
    "import pandas as pd\n",
    "\n",
    "import sys\n",
    "sys.path.append(\"../../../src/\")\n",
    "sys.path.append(\"../../\")\n",
    "import model\n",
    "from datasets import imagenet\n",
    "import config\n",
    "from aux.utils import obtain_features_map, load_imgs, zscore, extract_valid\n",
    "from aux.visualization import visualize_features_map\n",
    "from utils.visualizations.visualize import concat_imgs, preprocess_arrays\n",
    "\n",
    "import pytorch_ssim\n",
    "import pandas as pd\n",
    "import numpy as np"
   ]
  },
  {
   "cell_type": "markdown",
   "metadata": {},
   "source": [
    "## Test function"
   ]
  },
  {
   "cell_type": "markdown",
   "metadata": {},
   "source": [
    "#### mMetric_v1"
   ]
  },
  {
   "cell_type": "code",
   "execution_count": 3,
   "metadata": {
    "ExecuteTime": {
     "end_time": "2020-10-06T03:31:46.287214Z",
     "start_time": "2020-10-06T03:31:46.270130Z"
    }
   },
   "outputs": [],
   "source": [
    "def mMetric_v1(ori_activation_maps, opt_activation_maps, selected_filter,\n",
    "               co1=1, co2=10000):\n",
    "    \"\"\"Metric, the first version.\n",
    "    Args:\n",
    "        ori_activation_maps: [batch_size, channels, height, width]\n",
    "        opt_activation_maps: [batch_size, channels, height, width]\n",
    "    \"\"\"\n",
    "    ori = ori_activation_maps.copy()\n",
    "    opt = opt_activation_maps.copy()\n",
    "    diff = ori_activation_maps-opt_activation_maps\n",
    "\n",
    "    diff_sel = diff[:, selected_filter]\n",
    "    ori_sel = ori[:, selected_filter]\n",
    "    opt_sel = opt[:, selected_filter]\n",
    "    opt_res = np.concatenate((opt[:, : selected_filter],\n",
    "                              opt[:, selected_filter+1:]), axis=1)\n",
    "    ori_res = np.concatenate((ori[:, : selected_filter],\n",
    "                              ori[:, selected_filter+1:]), axis=1)\n",
    "\n",
    "    (batch_size, channels, height, width) = ori.shape\n",
    "\n",
    "    # SF term.\n",
    "    SF_0 = np.sum(diff_sel == 0, axis=(1, 2))\n",
    "    pixel_per_image = height * width\n",
    "    SF_term = SF_0 / pixel_per_image\n",
    "    print(\"=> SF_0: {}\".format(SF_0))\n",
    "    print(\"=> pixel_per_image: {}\".format(pixel_per_image))\n",
    "    print(\"=> SF_term: {}\".format(SF_term))\n",
    "\n",
    "    # RF term.\n",
    "    ori_sel = np.expand_dims(ori_sel, axis=1)\n",
    "#     print(\"ori_sel: \", ori_sel.shape)\n",
    "    ori_sel = np.repeat(ori_sel, channels-1, axis=1)\n",
    "#     print(\"ori_sel: \", ori_sel.shape)\n",
    "    ori_sel_mask = ori_sel == 0\n",
    "    opt_res = opt_res == 0\n",
    "    opt_res = opt_res * ori_sel_mask\n",
    "    pixel_per_image = np.sum(ori_sel_mask, axis=(1, 2, 3))\n",
    "    RF_0_non_overlap = np.sum(opt_res == 1, axis=(1, 2, 3))\n",
    "    RF_term = RF_0_non_overlap / pixel_per_image\n",
    "    print(\"=> FF_0: {}\".format(RF_0_non_overlap))\n",
    "    print(\"=> pixel_per_image: {}\".format(pixel_per_image))\n",
    "    print(\"=> FF_term: {}\".format(RF_term))\n",
    "\n",
    "    over_metric = (co1 * SF_term + co2 * RF_term) / (co1 + co2)\n",
    "    return over_metric"
   ]
  },
  {
   "cell_type": "markdown",
   "metadata": {},
   "source": [
    "#### mMetirc_v2"
   ]
  },
  {
   "cell_type": "code",
   "execution_count": 4,
   "metadata": {
    "ExecuteTime": {
     "end_time": "2020-10-06T03:31:46.307451Z",
     "start_time": "2020-10-06T03:31:46.288352Z"
    }
   },
   "outputs": [],
   "source": [
    "def mMetric_v2(ori_activation_maps, opt_activation_maps, selected_filter,\n",
    "               co1=1, co2=1):\n",
    "    \"\"\"Metric, the first version.\n",
    "    Args:\n",
    "        ori_activation_maps: [batch_size, channels, height, width]\n",
    "        opt_activation_maps: [batch_size, channels, height, width]\n",
    "    \"\"\"\n",
    "    ori = ori_activation_maps.copy()\n",
    "    opt = opt_activation_maps.copy()\n",
    "    diff = ori_activation_maps-opt_activation_maps\n",
    "\n",
    "    diff_sel = diff[:, selected_filter]\n",
    "    ori_sel = ori[:, selected_filter]\n",
    "    opt_sel = opt[:, selected_filter]\n",
    "    opt_res = np.concatenate((opt[:, : selected_filter],\n",
    "                              opt[:, selected_filter+1:]), axis=1)\n",
    "    ori_res = np.concatenate((ori[:, : selected_filter],\n",
    "                              ori[:, selected_filter+1:]), axis=1)\n",
    "\n",
    "    (batch_size, channels, height, width) = ori.shape\n",
    "    pixel_per_image = height * width\n",
    "\n",
    "    # SF term.\n",
    "    \n",
    "    diff_sel = np.reshape(diff_sel, (batch_size, -1))\n",
    "    diff_sel = diff_sel - np.amax(diff_sel, axis=1, keepdims=True)\n",
    "    diff_sel = np.exp(diff_sel)\n",
    "    print(diff_sel)\n",
    "    SF_0 = (diff_sel / diff_sel.sum(axis=1, keepdims=True)).mean(axis=1)\n",
    "    SF_term = 1 - SF_0 / pixel_per_image\n",
    "    print(\"=> SF_0: {}\".format(SF_0))\n",
    "    print(\"=> pixel_per_image: {}\".format(pixel_per_image))\n",
    "    print(\"=> SF_term: {}\".format(SF_term))\n",
    "\n",
    "    # RF term.\n",
    "    ori_sel = np.expand_dims(ori_sel, axis=1)\n",
    "    print(\"ori_sel: \", ori_sel.shape)\n",
    "    ori_sel = np.repeat(ori_sel, channels-1, axis=1)\n",
    "    print(\"ori_sel: \", ori_sel.shape)\n",
    "    ori_sel_mask = ori_sel == 0\n",
    "    opt_res = opt_res == 0\n",
    "    opt_res = opt_res * ori_sel_mask\n",
    "    pixel_per_image = np.sum(ori_sel_mask, axis=(1, 2, 3))\n",
    "    RF_0_non_overlap = np.sum(opt_res == 1, axis=(1, 2, 3))\n",
    "    RF_term = RF_0_non_overlap / pixel_per_image\n",
    "    print(\"=> FF_0: {}\".format(RF_0_non_overlap))\n",
    "    print(\"=> pixel_per_image: {}\".format(pixel_per_image))\n",
    "    print(\"=> FF_term: {}\".format(RF_term))\n",
    "\n",
    "    over_metric = (co1 * SF_term + co2 * RF_term) / (co1 + co2)\n",
    "    return over_metric"
   ]
  },
  {
   "cell_type": "markdown",
   "metadata": {},
   "source": [
    "#### mMetric_v3"
   ]
  },
  {
   "cell_type": "code",
   "execution_count": 5,
   "metadata": {
    "ExecuteTime": {
     "end_time": "2020-10-06T03:31:46.327385Z",
     "start_time": "2020-10-06T03:31:46.308526Z"
    }
   },
   "outputs": [],
   "source": [
    "def mMetric_v3(ori_activation_maps, opt_activation_maps, selected_filter,\n",
    "               co1=1, co2=1):\n",
    "    ori = ori_activation_maps.copy()\n",
    "    opt = opt_activation_maps.copy()\n",
    "    diff = ori_activation_maps-opt_activation_maps\n",
    "\n",
    "    diff_sel = diff[:, selected_filter]\n",
    "    ori_sel = ori[:, selected_filter]\n",
    "    opt_sel = opt[:, selected_filter]\n",
    "    opt_res = np.concatenate((opt[:, : selected_filter],\n",
    "                              opt[:, selected_filter+1:]), axis=1)\n",
    "    ori_res = np.concatenate((ori[:, : selected_filter],\n",
    "                              ori[:, selected_filter+1:]), axis=1)\n",
    "\n",
    "    (batch_size, channels, height, width) = ori.shape\n",
    "\n",
    "    ori_sel_ts = torch.from_numpy(ori_sel).unsqueeze(dim=1).cuda()\n",
    "    opt_sel_ts = torch.from_numpy(opt_sel).unsqueeze(dim=1).cuda()\n",
    "    \n",
    "    ssim_sel = []\n",
    "    rmses = []\n",
    "    for index in range(30):\n",
    "        ssim = pytorch_ssim.ssim(ori_sel_ts[index].unsqueeze(dim=0), \n",
    "                                 opt_sel_ts[index].unsqueeze(dim=0)).cpu().numpy()\n",
    "        rmse = torch.sqrt(((ori_sel_ts[index].unsqueeze(dim=0)-\n",
    "                         opt_sel_ts[index].unsqueeze(dim=0)) ** 2).mean()).cpu().numpy()\n",
    "        ssim_sel.append(ssim)\n",
    "        rmses.append(rmse)\n",
    "        # ssim_loss = pytorch_ssim.SSIM(window_size=11)\n",
    "        # print(ssim_loss(ori_sel, opt_sel))\n",
    "\n",
    "    # RF\n",
    "    ori_sel = np.expand_dims(ori_sel, axis=1)\n",
    "    #print(\"ori_sel: \", ori_sel.shape)\n",
    "    ori_sel = np.repeat(ori_sel, channels-1, axis=1)\n",
    "    #print(\"ori_sel: \", ori_sel.shape)\n",
    "    ori_sel_mask = ori_sel == 0\n",
    "    opt_res_mask = opt_res != 0\n",
    "    new_opt_res = opt_res * ori_sel_mask * opt_res_mask\n",
    "    opt_res_ts = torch.from_numpy(new_opt_res).cuda()\n",
    "    #print(opt_res_ts.shape)\n",
    "    zero_mask = torch.zeros_like(opt_res_ts).cuda()\n",
    "    \n",
    "    ssim_res = []\n",
    "    for index in range(30):\n",
    "        ssim = pytorch_ssim.ssim(opt_res_ts[index].unsqueeze(dim=0), \n",
    "                                 zero_mask[index].unsqueeze(dim=0)).cpu().numpy()\n",
    "        ssim_res.append(ssim)\n",
    "    print(\"RMSE: {} - std {}\".format(np.mean(rmses), np.std(rmses)))\n",
    "    print(\"SSIM_SEL: {} - std {}\".format(np.mean(ssim_sel), np.std(ssim_sel)))\n",
    "    print(\"SSIM_RES: {} - std {}\".format(np.mean(ssim_res), np.std(ssim_res)))\n",
    "    lamba1 = 0.5\n",
    "    lamba2 = 0.5\n",
    "    ssim_sum = lamba1 * np.array(ssim_sel) + lamba2 * np.array(ssim_res)\n",
    "    print(\"SSIM_SUM {} - std {}\".format(np.mean(ssim_sum), np.std(ssim_sum)))"
   ]
  },
  {
   "cell_type": "markdown",
   "metadata": {},
   "source": [
    "## Main"
   ]
  },
  {
   "cell_type": "code",
   "execution_count": 6,
   "metadata": {
    "ExecuteTime": {
     "end_time": "2020-10-06T03:31:46.349167Z",
     "start_time": "2020-10-06T03:31:46.328348Z"
    }
   },
   "outputs": [],
   "source": [
    "def main(exp, selected_layer, selected_filter, class_index=950):\n",
    "    num_class = 30\n",
    "    class_index = class_index\n",
    "    print(\"=> class index: {}\".format(class_index))\n",
    "    backbone = \"vgg16\"\n",
    "    resume = \"037-0\"\n",
    "    color_map = \"jet\"\n",
    "    model_dir = \"/home/lincolnzjx/Desktop/Interpretation/saved/models\"\n",
    "    device = torch.device(\"cuda:0\" if torch.cuda.is_available() else \"cpu\")\n",
    "    \n",
    "    ## Load modal from dict\n",
    "    \n",
    "    # model\n",
    "    net = model.Network(backbone=backbone, num_classes=1000, \n",
    "                        selected_layer=selected_layer)\n",
    "    net.to(device)\n",
    "    \n",
    "    # resume from model\n",
    "    resume_exp = resume.split(\"-\")[0]\n",
    "    resume_epoch = resume.split(\"-\")[1]\n",
    "    print(\"Resume from model from exp: {} at epoch {}\".format(resume_exp, resume_epoch))\n",
    "    resume_path = os.path.join(model_dir, str(resume_exp), str(resume_epoch))\n",
    "    ckpt = torch.load(resume_path, map_location=device)\n",
    "    net.load_state_dict(ckpt, strict=False) \n",
    "    \n",
    "    #summary(net, (3, 224, 224))\n",
    "    \n",
    "    ## Load Original Data \n",
    "    \n",
    "    # Load data\n",
    "    mean = [0.485, 0.456, 0.406]\n",
    "    std = [0.229, 0.224, 0.225]\n",
    "    reverse_mean = [-0.485, -0.456, -0.406]\n",
    "    reverse_std = [1/0.229, 1/0.224, 1/0.225]\n",
    "    train_transform = None\n",
    "    train_transform = transforms.Compose([                                                                                                                                \n",
    "        transforms.Resize((224, 224), interpolation=Image.BILINEAR),                                                                                              \n",
    "        transforms.ToTensor(),                                                                                                                                            \n",
    "        #transforms.Normalize(mean, std)                                                                                                                                   \n",
    "           ])         \n",
    "    trainset = imagenet.ImageNet(root=\"/media/lincolnzjx/HardDisk/Datasets/\", \n",
    "                                 is_train=True, transform=train_transform)\n",
    "    \n",
    "    trainset.set_data([class_index], num_class)\n",
    "    imgs_path = []                                                                                                                                                            \n",
    "    images = []\n",
    "    labels = []\n",
    "    for img, label, img_path in trainset:                                                                                                                                     \n",
    "        images.append(img.unsqueeze(0))                                                                                                                                       \n",
    "        labels.append(label)                                                                                                                                                  \n",
    "        imgs_path.append(img_path)  \n",
    "    \n",
    "    ## Create some need path\n",
    "    \n",
    "    save_dir = \"../../../saved/pack/\"\n",
    "    ################### Hyper-Parameter #######################\n",
    "    # exp = resume_exp\n",
    "    # epoch = resume_epoch\n",
    "    ##########################################################\n",
    "    ab_path = os.path.join(save_dir, exp)\n",
    "    \n",
    "    index2image = {index: item.split(\"/\")[-1].split(\".\")[0] for index, item in enumerate(imgs_path)}\n",
    "    \n",
    "    images_cpu = np.array([image.detach().clone().cpu().numpy().squeeze() for image in images])\n",
    "    \n",
    "    # Load image\n",
    "    # ext may be different.\n",
    "    optimized_data, valid_imgs_path, valid_imgs_index = load_imgs(ab_path, imgs_path, non_exists_ok=True, ext=\".png\")\n",
    "    valid_imgs, valid_labels = extract_valid(images, labels, valid_imgs_index)\n",
    "    optimized_data_zscore = zscore(optimized_data, mean, std)\n",
    "    images_zscore = zscore(images_cpu, mean, std)\n",
    "    \n",
    "    # Move to device\n",
    "    opt_image = torch.from_numpy(optimized_data_zscore).to(device)\n",
    "    original_image = torch.from_numpy(images_zscore).to(device)\n",
    "    \n",
    "    ## Obtain feature from conv layers.\n",
    "    \n",
    "    ori_activation_maps = net.get_activation_maps(original_image, \n",
    "                                                  selected_layer=selected_layer)[0]\n",
    "    opt_activation_maps = net.get_activation_maps(opt_image, \n",
    "                                                  selected_layer=selected_layer)[0]\n",
    "    return ori_activation_maps, opt_activation_maps\n",
    "    "
   ]
  },
  {
   "cell_type": "markdown",
   "metadata": {},
   "source": [
    "#### L1F16"
   ]
  },
  {
   "cell_type": "code",
   "execution_count": 7,
   "metadata": {
    "ExecuteTime": {
     "end_time": "2020-10-06T03:31:54.289661Z",
     "start_time": "2020-10-06T03:31:46.350193Z"
    },
    "scrolled": true
   },
   "outputs": [
    {
     "name": "stdout",
     "output_type": "stream",
     "text": [
      "=> class index: 950\n",
      "Only Keep 1th layers before.\n",
      "Resume from model from exp: 037 at epoch 0\n",
      "Len of new dataset is :30\n",
      "['46785', 'feature_map', '0']\n",
      "[]\n",
      "[]\n",
      "[]\n",
      "(30, 224, 224, 3)\n",
      "(30, 3, 224, 224)\n"
     ]
    }
   ],
   "source": [
    "exp = \"052490\"\n",
    "selected_layer = 1\n",
    "selected_filter = 16\n",
    "class_index = 950\n",
    "ori_activation_maps, opt_activation_maps = main(exp, selected_layer, \n",
    "                                                selected_filter, class_index)"
   ]
  },
  {
   "cell_type": "markdown",
   "metadata": {},
   "source": [
    "##### mMetric_v1"
   ]
  },
  {
   "cell_type": "code",
   "execution_count": 8,
   "metadata": {
    "ExecuteTime": {
     "end_time": "2020-10-06T03:31:54.874750Z",
     "start_time": "2020-10-06T03:31:54.290725Z"
    }
   },
   "outputs": [
    {
     "name": "stdout",
     "output_type": "stream",
     "text": [
      "=> SF_0: [50176 50176 50176 50176 50176 50176 50176 50176 50176 50176 50176 50176\n",
      " 50176 50176 50176 50176 50176 50176 50176 50176 50176 50176 50176 50176\n",
      " 50176 50176 50176 50176 50176 50176]\n",
      "=> pixel_per_image: 50176\n",
      "=> SF_term: [1. 1. 1. 1. 1. 1. 1. 1. 1. 1. 1. 1. 1. 1. 1. 1. 1. 1. 1. 1. 1. 1. 1. 1.\n",
      " 1. 1. 1. 1. 1. 1.]\n",
      "=> FF_0: [453395 109037  12123 452315  14013 663615 583531  96544 670105  39951\n",
      " 288965 376549 219015 858200 264397   8197 226341   5847 569514 240148\n",
      "  69362 167154  56745 228009  13814  19998 268259 300016 221406 214275]\n",
      "=> pixel_per_image: [1151136  216972   27405  986769   31185 1849680 1665468  236439 1653057\n",
      "   78876  650412  910476  638190 2529639  718956   18585  587727   13167\n",
      " 1435959  660240  191331  436779  134505  496314   31626   41706  626535\n",
      "  664587  741951  503181]\n",
      "=> FF_term: [0.39386745 0.5025395  0.44236453 0.45837982 0.44935065 0.35877287\n",
      " 0.35037059 0.40832519 0.4053732  0.50650388 0.44427993 0.41357378\n",
      " 0.3431815  0.33925789 0.36775129 0.44105461 0.38511248 0.44406471\n",
      " 0.39660882 0.36372834 0.36252358 0.38269697 0.42188023 0.45940473\n",
      " 0.43679251 0.47949935 0.42816283 0.45143224 0.29841054 0.4258408 ]\n",
      "[0.39392806 0.50258924 0.44242029 0.45843398 0.44940571 0.35883699\n",
      " 0.35043554 0.40838435 0.40543265 0.50655322 0.4443355  0.41363242\n",
      " 0.34324717 0.33932396 0.36781451 0.4411105  0.38517396 0.4441203\n",
      " 0.39666915 0.36379196 0.36258733 0.38275869 0.42193803 0.45945879\n",
      " 0.43684883 0.4795514  0.42822001 0.45148709 0.29848069 0.42589821]\n",
      "0.41209561797940425\n"
     ]
    }
   ],
   "source": [
    "over_metric = mMetric_v1(ori_activation_maps, ori_activation_maps, selected_filter=selected_filter)\n",
    "print(over_metric)\n",
    "print(np.mean(over_metric))"
   ]
  },
  {
   "cell_type": "code",
   "execution_count": 9,
   "metadata": {
    "ExecuteTime": {
     "end_time": "2020-10-06T03:31:56.128724Z",
     "start_time": "2020-10-06T03:31:54.876369Z"
    },
    "scrolled": true
   },
   "outputs": [
    {
     "name": "stdout",
     "output_type": "stream",
     "text": [
      "=> SF_0: [2817 1620   40 5115  111 1354  964  990 3058  724 3262 3116  378 1118\n",
      " 1709    0 2487  100 1817 2145  993 1148  606 2446   69  294  488 4355\n",
      " 1703 2795]\n",
      "=> pixel_per_image: 50176\n",
      "=> SF_term: [0.05614238 0.03228635 0.00079719 0.10194117 0.00221221 0.02698501\n",
      " 0.01921237 0.01973055 0.06094547 0.01442921 0.06501116 0.0621014\n",
      " 0.00753348 0.02228157 0.03406011 0.         0.04956553 0.00199298\n",
      " 0.03621253 0.04274952 0.01979034 0.02287946 0.01207749 0.04874841\n",
      " 0.00137516 0.00585938 0.00972577 0.08679448 0.03394053 0.05570392]\n",
      "=> FF_0: [ 492798   97594   12228  427263   14617  794739  713764  104945  712065\n",
      "   37374  283250  392341  273604 1084886  313137    8365  262264    5968\n",
      "  615317  284171   83449  188036   58512  215085   14763   18907  268688\n",
      "  286829  319588  220010]\n",
      "=> pixel_per_image: [1151136  216972   27405  986769   31185 1849680 1665468  236439 1653057\n",
      "   78876  650412  910476  638190 2529639  718956   18585  587727   13167\n",
      " 1435959  660240  191331  436779  134505  496314   31626   41706  626535\n",
      "  664587  741951  503181]\n",
      "=> FF_term: [0.42809711 0.44979997 0.44619595 0.43299192 0.46871894 0.42966297\n",
      " 0.42856663 0.44385655 0.43075647 0.47383234 0.4354932  0.43091855\n",
      " 0.42871872 0.42886989 0.43554404 0.45009416 0.44623439 0.45325435\n",
      " 0.42850597 0.43040561 0.43614992 0.43050605 0.43501729 0.43336477\n",
      " 0.46679947 0.45334005 0.42884755 0.43158984 0.43074004 0.43723829]\n",
      "[0.42805992 0.44975823 0.44615141 0.43295881 0.46867229 0.4296227\n",
      " 0.42852569 0.44381415 0.43071949 0.47378641 0.43545615 0.43088167\n",
      " 0.42867661 0.42882924 0.43550389 0.45004916 0.44619473 0.45320923\n",
      " 0.42846674 0.43036685 0.43610829 0.43046529 0.434975   0.43332631\n",
      " 0.46675293 0.4532953  0.42880564 0.43155537 0.43070036 0.43720014]\n",
      "0.43942959997466313\n"
     ]
    }
   ],
   "source": [
    "over_metric = mMetric_v1(ori_activation_maps, opt_activation_maps, selected_filter=selected_filter)\n",
    "print(over_metric)\n",
    "print(np.mean(over_metric))"
   ]
  },
  {
   "cell_type": "markdown",
   "metadata": {},
   "source": [
    "##### mMetric_v2"
   ]
  },
  {
   "cell_type": "code",
   "execution_count": 10,
   "metadata": {
    "ExecuteTime": {
     "end_time": "2020-10-06T03:31:56.720755Z",
     "start_time": "2020-10-06T03:31:56.129993Z"
    },
    "scrolled": true
   },
   "outputs": [
    {
     "name": "stdout",
     "output_type": "stream",
     "text": [
      "[[1. 1. 1. ... 1. 1. 1.]\n",
      " [1. 1. 1. ... 1. 1. 1.]\n",
      " [1. 1. 1. ... 1. 1. 1.]\n",
      " ...\n",
      " [1. 1. 1. ... 1. 1. 1.]\n",
      " [1. 1. 1. ... 1. 1. 1.]\n",
      " [1. 1. 1. ... 1. 1. 1.]]\n",
      "=> SF_0: [1.9929847e-05 1.9929847e-05 1.9929847e-05 1.9929847e-05 1.9929847e-05\n",
      " 1.9929847e-05 1.9929847e-05 1.9929847e-05 1.9929847e-05 1.9929847e-05\n",
      " 1.9929847e-05 1.9929847e-05 1.9929847e-05 1.9929847e-05 1.9929847e-05\n",
      " 1.9929847e-05 1.9929847e-05 1.9929847e-05 1.9929847e-05 1.9929847e-05\n",
      " 1.9929847e-05 1.9929847e-05 1.9929847e-05 1.9929847e-05 1.9929847e-05\n",
      " 1.9929847e-05 1.9929847e-05 1.9929847e-05 1.9929847e-05 1.9929847e-05]\n",
      "=> pixel_per_image: 50176\n",
      "=> SF_term: [1. 1. 1. 1. 1. 1. 1. 1. 1. 1. 1. 1. 1. 1. 1. 1. 1. 1. 1. 1. 1. 1. 1. 1.\n",
      " 1. 1. 1. 1. 1. 1.]\n",
      "ori_sel:  (30, 1, 224, 224)\n",
      "ori_sel:  (30, 63, 224, 224)\n",
      "=> FF_0: [453395 109037  12123 452315  14013 663615 583531  96544 670105  39951\n",
      " 288965 376549 219015 858200 264397   8197 226341   5847 569514 240148\n",
      "  69362 167154  56745 228009  13814  19998 268259 300016 221406 214275]\n",
      "=> pixel_per_image: [1151136  216972   27405  986769   31185 1849680 1665468  236439 1653057\n",
      "   78876  650412  910476  638190 2529639  718956   18585  587727   13167\n",
      " 1435959  660240  191331  436779  134505  496314   31626   41706  626535\n",
      "  664587  741951  503181]\n",
      "=> FF_term: [0.39386745 0.5025395  0.44236453 0.45837982 0.44935065 0.35877287\n",
      " 0.35037059 0.40832519 0.4053732  0.50650388 0.44427993 0.41357378\n",
      " 0.3431815  0.33925789 0.36775129 0.44105461 0.38511248 0.44406471\n",
      " 0.39660882 0.36372834 0.36252358 0.38269697 0.42188023 0.45940473\n",
      " 0.43679251 0.47949935 0.42816283 0.45143224 0.29841054 0.4258408 ]\n",
      "[0.69693372 0.75126975 0.72118227 0.72918991 0.72467532 0.67938643\n",
      " 0.67518529 0.7041626  0.7026866  0.75325194 0.72213997 0.70678689\n",
      " 0.67159075 0.66962895 0.68387565 0.72052731 0.69255624 0.72203235\n",
      " 0.69830441 0.68186417 0.68126179 0.69134849 0.71094011 0.72970237\n",
      " 0.71839626 0.73974968 0.71408142 0.72571612 0.64920527 0.7129204 ]\n"
     ]
    }
   ],
   "source": [
    "over_metric = mMetric_v2(ori_activation_maps, ori_activation_maps, selected_filter=selected_filter)\n",
    "print(over_metric)"
   ]
  },
  {
   "cell_type": "code",
   "execution_count": 11,
   "metadata": {
    "ExecuteTime": {
     "end_time": "2020-10-06T03:31:57.992005Z",
     "start_time": "2020-10-06T03:31:56.721821Z"
    },
    "scrolled": true
   },
   "outputs": [
    {
     "name": "stdout",
     "output_type": "stream",
     "text": [
      "[[0.50780416 0.50928265 0.50715095 ... 0.526007   0.51308405 0.50760233]\n",
      " [0.43216464 0.42466888 0.4242252  ... 0.42543423 0.43032372 0.42432117]\n",
      " [0.16058591 0.1674993  0.16849306 ... 0.17126311 0.17901875 0.16741003]\n",
      " ...\n",
      " [0.39186737 0.41037112 0.40676415 ... 0.4118167  0.4211471  0.40181702]\n",
      " [0.46618858 0.48951557 0.49279281 ... 0.5152079  0.5159618  0.48156777]\n",
      " [0.23295482 0.23363307 0.23265517 ... 0.23018853 0.23404075 0.23428018]]\n",
      "=> SF_0: [1.9929847e-05 1.9929850e-05 1.9929847e-05 1.9929850e-05 1.9929845e-05\n",
      " 1.9929850e-05 1.9929845e-05 1.9929847e-05 1.9929845e-05 1.9929850e-05\n",
      " 1.9929847e-05 1.9929847e-05 1.9929847e-05 1.9929847e-05 1.9929847e-05\n",
      " 1.9929847e-05 1.9929847e-05 1.9929847e-05 1.9929847e-05 1.9929847e-05\n",
      " 1.9929847e-05 1.9929850e-05 1.9929847e-05 1.9929847e-05 1.9929847e-05\n",
      " 1.9929847e-05 1.9929850e-05 1.9929850e-05 1.9929847e-05 1.9929850e-05]\n",
      "=> pixel_per_image: 50176\n",
      "=> SF_term: [1. 1. 1. 1. 1. 1. 1. 1. 1. 1. 1. 1. 1. 1. 1. 1. 1. 1. 1. 1. 1. 1. 1. 1.\n",
      " 1. 1. 1. 1. 1. 1.]\n",
      "ori_sel:  (30, 1, 224, 224)\n",
      "ori_sel:  (30, 63, 224, 224)\n",
      "=> FF_0: [ 492798   97594   12228  427263   14617  794739  713764  104945  712065\n",
      "   37374  283250  392341  273604 1084886  313137    8365  262264    5968\n",
      "  615317  284171   83449  188036   58512  215085   14763   18907  268688\n",
      "  286829  319588  220010]\n",
      "=> pixel_per_image: [1151136  216972   27405  986769   31185 1849680 1665468  236439 1653057\n",
      "   78876  650412  910476  638190 2529639  718956   18585  587727   13167\n",
      " 1435959  660240  191331  436779  134505  496314   31626   41706  626535\n",
      "  664587  741951  503181]\n",
      "=> FF_term: [0.42809711 0.44979997 0.44619595 0.43299192 0.46871894 0.42966297\n",
      " 0.42856663 0.44385655 0.43075647 0.47383234 0.4354932  0.43091855\n",
      " 0.42871872 0.42886989 0.43554404 0.45009416 0.44623439 0.45325435\n",
      " 0.42850597 0.43040561 0.43614992 0.43050605 0.43501729 0.43336477\n",
      " 0.46679947 0.45334005 0.42884755 0.43158984 0.43074004 0.43723829]\n",
      "[0.71404856 0.72489999 0.72309797 0.71649596 0.73435947 0.71483148\n",
      " 0.71428331 0.72192828 0.71537824 0.73691617 0.7177466  0.71545928\n",
      " 0.71435936 0.71443495 0.71777202 0.72504708 0.7231172  0.72662717\n",
      " 0.71425298 0.71520281 0.71807496 0.71525302 0.71750864 0.71668238\n",
      " 0.73339973 0.72667002 0.71442378 0.71579492 0.71537002 0.71861914]\n"
     ]
    }
   ],
   "source": [
    "over_metric = mMetric_v2(ori_activation_maps, opt_activation_maps, selected_filter=selected_filter)\n",
    "print(over_metric)"
   ]
  },
  {
   "cell_type": "markdown",
   "metadata": {},
   "source": [
    "##### mMetric_v3"
   ]
  },
  {
   "cell_type": "code",
   "execution_count": 12,
   "metadata": {
    "ExecuteTime": {
     "end_time": "2020-10-06T03:31:59.413578Z",
     "start_time": "2020-10-06T03:31:57.992878Z"
    }
   },
   "outputs": [
    {
     "name": "stdout",
     "output_type": "stream",
     "text": [
      "RMSE: 0.0 - std 0.0\n",
      "SSIM_SEL: 1.0 - std 0.0\n",
      "SSIM_RES: 0.7475038766860962 - std 0.16919778287410736\n",
      "SSIM_SUM 0.8737518787384033 - std 0.08459888398647308\n"
     ]
    }
   ],
   "source": [
    "#over_metric = \n",
    "mMetric_v3(ori_activation_maps, ori_activation_maps, selected_filter=selected_filter)\n",
    "#print(over_metric)\n",
    "#print(np.mean(over_metric))"
   ]
  },
  {
   "cell_type": "code",
   "execution_count": 13,
   "metadata": {
    "ExecuteTime": {
     "end_time": "2020-10-06T03:32:01.462748Z",
     "start_time": "2020-10-06T03:31:59.414765Z"
    }
   },
   "outputs": [
    {
     "name": "stdout",
     "output_type": "stream",
     "text": [
      "RMSE: 0.17237141728401184 - std 0.17498499155044556\n",
      "SSIM_SEL: 0.900709867477417 - std 0.06958461552858353\n",
      "SSIM_RES: 0.8071272373199463 - std 0.13045555353164673\n",
      "SSIM_SUM 0.8539184927940369 - std 0.0681890919804573\n"
     ]
    }
   ],
   "source": [
    "mMetric_v3(ori_activation_maps, opt_activation_maps, selected_filter=selected_filter)"
   ]
  },
  {
   "cell_type": "markdown",
   "metadata": {},
   "source": [
    "### L3F28"
   ]
  },
  {
   "cell_type": "code",
   "execution_count": 14,
   "metadata": {
    "ExecuteTime": {
     "end_time": "2020-10-06T03:32:07.562948Z",
     "start_time": "2020-10-06T03:32:01.463931Z"
    },
    "scrolled": true
   },
   "outputs": [
    {
     "name": "stdout",
     "output_type": "stream",
     "text": [
      "=> class index: 950\n",
      "Only Keep 3th layers before.\n",
      "Resume from model from exp: 037 at epoch 0\n",
      "Len of new dataset is :30\n",
      "['127203', 'feature_map']\n",
      "[]\n",
      "[]\n",
      "(30, 224, 224, 3)\n",
      "(30, 3, 224, 224)\n"
     ]
    }
   ],
   "source": [
    "exp = \"7004\"\n",
    "selected_layer = 3\n",
    "selected_filter = 28\n",
    "class_index = 950\n",
    "ori_activation_maps, opt_activation_maps = main(exp, selected_layer, \n",
    "                                                selected_filter, class_index)"
   ]
  },
  {
   "cell_type": "markdown",
   "metadata": {},
   "source": [
    "#### mMetric_v1"
   ]
  },
  {
   "cell_type": "code",
   "execution_count": 15,
   "metadata": {
    "ExecuteTime": {
     "end_time": "2020-10-06T03:32:08.144087Z",
     "start_time": "2020-10-06T03:32:07.564022Z"
    }
   },
   "outputs": [
    {
     "name": "stdout",
     "output_type": "stream",
     "text": [
      "=> SF_0: [50176 50176 50176 50176 50176 50176 50176 50176 50176 50176 50176 50176\n",
      " 50176 50176 50176 50176 50176 50176 50176 50176 50176 50176 50176 50176\n",
      " 50176 50176 50176 50176 50176 50176]\n",
      "=> pixel_per_image: 50176\n",
      "=> SF_term: [1. 1. 1. 1. 1. 1. 1. 1. 1. 1. 1. 1. 1. 1. 1. 1. 1. 1. 1. 1. 1. 1. 1. 1.\n",
      " 1. 1. 1. 1. 1. 1.]\n",
      "=> FF_0: [ 912666  773575  264145  608296  726332  941569  982697 1056030  680586\n",
      "   48262 1513034 1197917  519385 1253848  351201   29712 1491286  327659\n",
      "  291539  234548  556699  322950  827831  180334   53659   46614   13855\n",
      " 1079197  528770  436783]\n",
      "=> pixel_per_image: [1649403 1440684  526302 1130346 1348137 1804824 1628109 1970514 1270962\n",
      "   91728 2681658 2119824  911673 2279214  600516   64386 2685312  624582\n",
      "  551439  452466 1050147  608265 1541988  342153  107730   95634   24003\n",
      " 1987335 1047249  779562]\n",
      "=> FF_term: [0.55333111 0.53694981 0.50188865 0.53815027 0.5387672  0.52169574\n",
      " 0.60358182 0.53591601 0.53548887 0.52614251 0.56421587 0.5651021\n",
      " 0.56970537 0.55012298 0.58483204 0.46146678 0.55534925 0.52460526\n",
      " 0.52868767 0.51837707 0.53011531 0.53093635 0.53685956 0.52705661\n",
      " 0.49808781 0.48742079 0.57721951 0.54303728 0.50491335 0.56029283]\n",
      "[0.55337578 0.53699611 0.50193846 0.53819645 0.53881332 0.52174357\n",
      " 0.60362146 0.53596241 0.53553531 0.52618989 0.56425944 0.56514559\n",
      " 0.56974839 0.55016796 0.58487356 0.46152063 0.55539371 0.52465279\n",
      " 0.5287348  0.51842523 0.53016229 0.53098325 0.53690587 0.5271039\n",
      " 0.498138   0.48747204 0.57726179 0.54308298 0.50496285 0.5603368 ]\n",
      "0.5370568207350875\n"
     ]
    }
   ],
   "source": [
    "over_metric = mMetric_v1(ori_activation_maps, ori_activation_maps, selected_filter=selected_filter)\n",
    "print(over_metric)\n",
    "print(np.mean(over_metric))"
   ]
  },
  {
   "cell_type": "code",
   "execution_count": 16,
   "metadata": {
    "ExecuteTime": {
     "end_time": "2020-10-06T03:32:09.403114Z",
     "start_time": "2020-10-06T03:32:08.144956Z"
    },
    "scrolled": true
   },
   "outputs": [
    {
     "name": "stdout",
     "output_type": "stream",
     "text": [
      "=> SF_0: [11707 15159  5769 12004 16805 20958 20047 18794  9970  1219 24296 23767\n",
      " 10262 29914  5682   633 23694  6256  4257  3588 11609  5008 13686  3662\n",
      "  1202  1065   319 18847 10358  6256]\n",
      "=> pixel_per_image: 50176\n",
      "=> SF_term: [0.23331872 0.30211655 0.11497529 0.23923788 0.33492108 0.41768973\n",
      " 0.39953364 0.37456154 0.19870057 0.02429448 0.48421556 0.47367267\n",
      " 0.20452009 0.59618144 0.11324139 0.01261559 0.47221779 0.12468112\n",
      " 0.08484136 0.07150829 0.23136559 0.09980867 0.27275989 0.0729831\n",
      " 0.02395568 0.02122529 0.00635762 0.37561783 0.20643335 0.12468112]\n",
      "=> FF_0: [ 957967  804719  309991  629867  819066 1097031  990218 1106851  731939\n",
      "   49524 1570361 1257824  548208 1392729  354060   35098 1538888  354944\n",
      "  318225  262445  623550  348101  889568  191442   60169   52728   14028\n",
      " 1103962  620492  446338]\n",
      "=> pixel_per_image: [1649403 1440684  526302 1130346 1348137 1804824 1628109 1970514 1270962\n",
      "   91728 2681658 2119824  911673 2279214  600516   64386 2685312  624582\n",
      "  551439  452466 1050147  608265 1541988  342153  107730   95634   24003\n",
      " 1987335 1047249  779562]\n",
      "=> FF_term: [0.5807962  0.55856732 0.58899833 0.5572338  0.60755398 0.60783268\n",
      " 0.60820129 0.56170674 0.57589369 0.53990058 0.58559332 0.59336247\n",
      " 0.60132087 0.61105671 0.58959295 0.5451185  0.57307605 0.56829047\n",
      " 0.57708106 0.58003253 0.59377401 0.57228511 0.57689684 0.55952162\n",
      " 0.55851666 0.55135203 0.58442695 0.5554987  0.5924971  0.57254971]\n",
      "[0.58076146 0.55854168 0.58895093 0.55720201 0.60752672 0.60781366\n",
      " 0.60818043 0.56168803 0.57585598 0.53984902 0.58558318 0.5933505\n",
      " 0.60128119 0.61105522 0.58954532 0.54506526 0.57306597 0.56824612\n",
      " 0.57703184 0.57998169 0.59373778 0.57223786 0.57686643 0.55947297\n",
      " 0.55846321 0.55129902 0.58436915 0.55548071 0.5924585  0.57250493]\n",
      "0.577582224871466\n"
     ]
    }
   ],
   "source": [
    "over_metric = mMetric_v1(ori_activation_maps, opt_activation_maps, selected_filter=selected_filter)\n",
    "print(over_metric)\n",
    "print(np.mean(over_metric))"
   ]
  },
  {
   "cell_type": "code",
   "execution_count": 17,
   "metadata": {
    "ExecuteTime": {
     "end_time": "2020-10-06T03:32:09.990799Z",
     "start_time": "2020-10-06T03:32:09.404075Z"
    },
    "scrolled": true
   },
   "outputs": [
    {
     "name": "stdout",
     "output_type": "stream",
     "text": [
      "=> SF_0: [50176 50176 50176 50176 50176 50176 50176 50176 50176 50176 50176 50176\n",
      " 50176 50176 50176 50176 50176 50176 50176 50176 50176 50176 50176 50176\n",
      " 50176 50176 50176 50176 50176 50176]\n",
      "=> pixel_per_image: 50176\n",
      "=> SF_term: [1. 1. 1. 1. 1. 1. 1. 1. 1. 1. 1. 1. 1. 1. 1. 1. 1. 1. 1. 1. 1. 1. 1. 1.\n",
      " 1. 1. 1. 1. 1. 1.]\n",
      "=> FF_0: [ 912666  773575  264145  608296  726332  941569  982697 1056030  680586\n",
      "   48262 1513034 1197917  519385 1253848  351201   29712 1491286  327659\n",
      "  291539  234548  556699  322950  827831  180334   53659   46614   13855\n",
      " 1079197  528770  436783]\n",
      "=> pixel_per_image: [1649403 1440684  526302 1130346 1348137 1804824 1628109 1970514 1270962\n",
      "   91728 2681658 2119824  911673 2279214  600516   64386 2685312  624582\n",
      "  551439  452466 1050147  608265 1541988  342153  107730   95634   24003\n",
      " 1987335 1047249  779562]\n",
      "=> FF_term: [0.55333111 0.53694981 0.50188865 0.53815027 0.5387672  0.52169574\n",
      " 0.60358182 0.53591601 0.53548887 0.52614251 0.56421587 0.5651021\n",
      " 0.56970537 0.55012298 0.58483204 0.46146678 0.55534925 0.52460526\n",
      " 0.52868767 0.51837707 0.53011531 0.53093635 0.53685956 0.52705661\n",
      " 0.49808781 0.48742079 0.57721951 0.54303728 0.50491335 0.56029283]\n"
     ]
    },
    {
     "data": {
      "text/plain": [
       "array([0.55337578, 0.53699611, 0.50193846, 0.53819645, 0.53881332,\n",
       "       0.52174357, 0.60362146, 0.53596241, 0.53553531, 0.52618989,\n",
       "       0.56425944, 0.56514559, 0.56974839, 0.55016796, 0.58487356,\n",
       "       0.46152063, 0.55539371, 0.52465279, 0.5287348 , 0.51842523,\n",
       "       0.53016229, 0.53098325, 0.53690587, 0.5271039 , 0.498138  ,\n",
       "       0.48747204, 0.57726179, 0.54308298, 0.50496285, 0.5603368 ])"
      ]
     },
     "execution_count": 17,
     "metadata": {},
     "output_type": "execute_result"
    }
   ],
   "source": [
    "mMetric_v1(ori_activation_maps, ori_activation_maps, selected_filter=selected_filter)"
   ]
  },
  {
   "cell_type": "markdown",
   "metadata": {},
   "source": [
    "#### mMetric_v3"
   ]
  },
  {
   "cell_type": "code",
   "execution_count": 18,
   "metadata": {
    "ExecuteTime": {
     "end_time": "2020-10-06T03:32:11.365163Z",
     "start_time": "2020-10-06T03:32:09.991669Z"
    }
   },
   "outputs": [
    {
     "name": "stdout",
     "output_type": "stream",
     "text": [
      "RMSE: 0.0 - std 0.0\n",
      "SSIM_SEL: 1.0 - std 0.0\n",
      "SSIM_RES: 0.5647531151771545 - std 0.25219565629959106\n",
      "SSIM_SUM 0.7823765277862549 - std 0.12609782814979553\n"
     ]
    }
   ],
   "source": [
    "mMetric_v3(ori_activation_maps, ori_activation_maps, selected_filter=selected_filter)"
   ]
  },
  {
   "cell_type": "code",
   "execution_count": 19,
   "metadata": {
    "ExecuteTime": {
     "end_time": "2020-10-06T03:32:13.395243Z",
     "start_time": "2020-10-06T03:32:11.366044Z"
    }
   },
   "outputs": [
    {
     "name": "stdout",
     "output_type": "stream",
     "text": [
      "RMSE: 0.022234471514821053 - std 0.041687242686748505\n",
      "SSIM_SEL: 0.9449495673179626 - std 0.045641977339982986\n",
      "SSIM_RES: 0.6600590348243713 - std 0.20269906520843506\n",
      "SSIM_SUM 0.8025043606758118 - std 0.11545632779598236\n"
     ]
    }
   ],
   "source": [
    "mMetric_v3(ori_activation_maps, opt_activation_maps, selected_filter=selected_filter)"
   ]
  },
  {
   "cell_type": "code",
   "execution_count": 20,
   "metadata": {
    "ExecuteTime": {
     "end_time": "2020-10-06T03:32:19.765734Z",
     "start_time": "2020-10-06T03:32:13.396665Z"
    },
    "scrolled": true
   },
   "outputs": [
    {
     "name": "stdout",
     "output_type": "stream",
     "text": [
      "=> class index: 950\n",
      "Only Keep 11th layers before.\n",
      "Resume from model from exp: 037 at epoch 0\n",
      "Len of new dataset is :30\n",
      "['283777', 'feature_map']\n",
      "[]\n",
      "[]\n",
      "(30, 224, 224, 3)\n",
      "(30, 3, 224, 224)\n",
      "[[0.45093963 0.51745635 0.5120489  ... 0.5322968  0.5322968  0.5130162 ]\n",
      " [0.6353187  0.5080332  0.40408492 ... 0.5240507  0.4573105  0.55744785]\n",
      " [0.47082984 0.45609432 0.38943925 ... 0.45849118 0.45849118 0.45849118]\n",
      " ...\n",
      " [0.486068   0.49002632 0.45741975 ... 0.49626818 0.49626818 0.49626818]\n",
      " [0.62298626 0.5654744  0.42631504 ... 0.5133802  0.5133802  0.5133802 ]\n",
      " [0.41631845 0.43036    0.4783712  ... 0.5309461  0.5309461  0.5309461 ]]\n",
      "=> SF_0: [0.00031888 0.00031888 0.00031888 0.00031888 0.00031888 0.00031888\n",
      " 0.00031888 0.00031888 0.00031888 0.00031888 0.00031888 0.00031888\n",
      " 0.00031888 0.00031888 0.00031888 0.00031888 0.00031888 0.00031888\n",
      " 0.00031888 0.00031888 0.00031888 0.00031888 0.00031888 0.00031888\n",
      " 0.00031888 0.00031888 0.00031888 0.00031888 0.00031888 0.00031888]\n",
      "=> pixel_per_image: 3136\n",
      "=> SF_term: [0.9999999 0.9999999 0.9999999 0.9999999 0.9999999 0.9999999 0.9999999\n",
      " 0.9999999 0.9999999 0.9999999 0.9999999 0.9999999 0.9999999 0.9999999\n",
      " 0.9999999 0.9999999 0.9999999 0.9999999 0.9999999 0.9999999 0.9999999\n",
      " 0.9999999 0.9999999 0.9999999 0.9999999 0.9999999 0.9999999 0.9999999\n",
      " 0.9999999 0.9999999]\n",
      "ori_sel:  (30, 1, 56, 56)\n",
      "ori_sel:  (30, 255, 56, 56)\n",
      "=> FF_0: [263920 443049 205347 410691 246472 339756 220523 477355 303956 189534\n",
      " 399551 223654 179213 138382 158963 178708 457892 329267 283070 200500\n",
      " 240329 321771 271160 273202 136233 229448  82555 356041 285079 264241]\n",
      "=> pixel_per_image: [424065 697170 325635 650250 387345 554625 355725 785145 480420 292485\n",
      " 643875 355725 289680 225930 241740 285345 737460 514845 453645 311865\n",
      " 377400 512295 427635 423045 218025 361590 132600 569160 454665 406980]\n",
      "=> FF_term: [0.62235742 0.63549636 0.63060482 0.63158939 0.6363113  0.61258688\n",
      " 0.6199255  0.60798324 0.63268806 0.64801272 0.62054125 0.62872725\n",
      " 0.61865852 0.61249945 0.65757839 0.62628748 0.62090418 0.63954588\n",
      " 0.62399012 0.64290639 0.6368018  0.62809709 0.63409216 0.64579891\n",
      " 0.62485036 0.63455295 0.62258673 0.6255552  0.6270089  0.64927269]\n",
      "[0.81117865 0.81774812 0.81530235 0.81579463 0.81815559 0.80629338\n",
      " 0.80996269 0.80399156 0.81634397 0.8240063  0.81027057 0.81436356\n",
      " 0.8093292  0.80624966 0.82878914 0.81314368 0.81045203 0.81977288\n",
      " 0.811995   0.82145313 0.81840084 0.81404849 0.81704602 0.8228994\n",
      " 0.81242512 0.81727641 0.8112933  0.81277754 0.81350439 0.82463629]\n"
     ]
    }
   ],
   "source": [
    "exp = \"70071\"\n",
    "selected_layer = 11\n",
    "selected_filter = 75\n",
    "class_index = 950\n",
    "ori_activation_maps, opt_activation_maps = main(exp, selected_layer, \n",
    "                                                selected_filter, class_index)\n",
    "#over_metric = mMetric_v1(ori_activation_maps, opt_activation_maps, selected_filter=selected_filter)\n",
    "over_metric = mMetric_v2(ori_activation_maps, opt_activation_maps, selected_filter=selected_filter)\n",
    "print(over_metric)"
   ]
  },
  {
   "cell_type": "markdown",
   "metadata": {},
   "source": [
    "## Main"
   ]
  },
  {
   "cell_type": "code",
   "execution_count": 21,
   "metadata": {
    "ExecuteTime": {
     "end_time": "2020-10-06T03:32:19.781849Z",
     "start_time": "2020-10-06T03:32:19.766881Z"
    }
   },
   "outputs": [],
   "source": [
    "# excel_path = \"Single.xlsx\"\n",
    "excel_path = \"../week9/Batches.xlsx\"\n",
    "sheet = \"950\"\n",
    "# sheet = \"950\"\n",
    "excepts = [\"052148\"]"
   ]
  },
  {
   "cell_type": "code",
   "execution_count": 22,
   "metadata": {
    "ExecuteTime": {
     "end_time": "2020-10-06T03:32:39.750319Z",
     "start_time": "2020-10-06T03:32:19.783081Z"
    },
    "scrolled": false
   },
   "outputs": [
    {
     "name": "stdout",
     "output_type": "stream",
     "text": [
      "=> RUN  061300 1 16 950\n",
      "=> class index: 950\n",
      "Only Keep 1th layers before.\n",
      "Resume from model from exp: 037 at epoch 0\n",
      "Len of new dataset is :30\n",
      "['46785', 'feature_map', '0']\n",
      "[]\n",
      "[]\n",
      "[]\n",
      "(30, 224, 224, 3)\n",
      "(30, 3, 224, 224)\n",
      "RMSE: 0.17237141728401184 - std 0.17498499155044556\n",
      "SSIM_SEL: 0.900709867477417 - std 0.06958461552858353\n",
      "SSIM_RES: 0.8071272373199463 - std 0.13045555353164673\n",
      "SSIM_SUM 0.8539184927940369 - std 0.0681890919804573\n",
      "\n",
      "--------------------------------------------------\n",
      "=> RUN  052490 1 16 950\n",
      "=> class index: 950\n",
      "Only Keep 1th layers before.\n",
      "Resume from model from exp: 037 at epoch 0\n",
      "Len of new dataset is :30\n",
      "['46785', 'feature_map', '0']\n",
      "[]\n",
      "[]\n",
      "[]\n",
      "(30, 224, 224, 3)\n",
      "(30, 3, 224, 224)\n",
      "RMSE: 0.17237141728401184 - std 0.17498499155044556\n",
      "SSIM_SEL: 0.900709867477417 - std 0.06958461552858353\n",
      "SSIM_RES: 0.8071272373199463 - std 0.13045555353164673\n",
      "SSIM_SUM 0.8539184927940369 - std 0.0681890919804573\n",
      "\n",
      "--------------------------------------------------\n",
      "=> RUN  7001 1 47 950\n",
      "=> class index: 950\n",
      "Only Keep 1th layers before.\n",
      "Resume from model from exp: 037 at epoch 0\n"
     ]
    },
    {
     "ename": "KeyboardInterrupt",
     "evalue": "",
     "output_type": "error",
     "traceback": [
      "\u001b[0;31m---------------------------------------------------------------------------\u001b[0m",
      "\u001b[0;31mKeyboardInterrupt\u001b[0m                         Traceback (most recent call last)",
      "\u001b[0;32m<ipython-input-22-eaab71579a28>\u001b[0m in \u001b[0;36m<module>\u001b[0;34m\u001b[0m\n\u001b[1;32m     18\u001b[0m                                                             \u001b[0mselected_layer\u001b[0m\u001b[0;34m,\u001b[0m\u001b[0;34m\u001b[0m\u001b[0;34m\u001b[0m\u001b[0m\n\u001b[1;32m     19\u001b[0m                                                             \u001b[0mselected_filter\u001b[0m\u001b[0;34m,\u001b[0m\u001b[0;34m\u001b[0m\u001b[0;34m\u001b[0m\u001b[0m\n\u001b[0;32m---> 20\u001b[0;31m                                                             class_index)\n\u001b[0m\u001b[1;32m     21\u001b[0m             mMetric_v3(ori_activation_maps, opt_activation_maps, \n\u001b[1;32m     22\u001b[0m                        selected_filter=selected_filter) \n",
      "\u001b[0;32m<ipython-input-6-7b0cf9cc55de>\u001b[0m in \u001b[0;36mmain\u001b[0;34m(exp, selected_layer, selected_filter, class_index)\u001b[0m\n\u001b[1;32m     40\u001b[0m            ])         \n\u001b[1;32m     41\u001b[0m     trainset = imagenet.ImageNet(root=\"/media/lincolnzjx/HardDisk/Datasets/\", \n\u001b[0;32m---> 42\u001b[0;31m                                  is_train=True, transform=train_transform)\n\u001b[0m\u001b[1;32m     43\u001b[0m \u001b[0;34m\u001b[0m\u001b[0m\n\u001b[1;32m     44\u001b[0m     \u001b[0mtrainset\u001b[0m\u001b[0;34m.\u001b[0m\u001b[0mset_data\u001b[0m\u001b[0;34m(\u001b[0m\u001b[0;34m[\u001b[0m\u001b[0mclass_index\u001b[0m\u001b[0;34m]\u001b[0m\u001b[0;34m,\u001b[0m \u001b[0mnum_class\u001b[0m\u001b[0;34m)\u001b[0m\u001b[0;34m\u001b[0m\u001b[0;34m\u001b[0m\u001b[0m\n",
      "\u001b[0;32m~/Desktop/Interpretation/src/datasets/imagenet.py\u001b[0m in \u001b[0;36m__init__\u001b[0;34m(self, root, is_train, transform, _print)\u001b[0m\n\u001b[1;32m     32\u001b[0m         \u001b[0mself\u001b[0m\u001b[0;34m.\u001b[0m\u001b[0mis_train\u001b[0m \u001b[0;34m=\u001b[0m \u001b[0mis_train\u001b[0m\u001b[0;34m\u001b[0m\u001b[0;34m\u001b[0m\u001b[0m\n\u001b[1;32m     33\u001b[0m         \u001b[0mwnid_to_classes\u001b[0m \u001b[0;34m=\u001b[0m \u001b[0mload_meta_file\u001b[0m\u001b[0;34m(\u001b[0m\u001b[0mos\u001b[0m\u001b[0;34m.\u001b[0m\u001b[0mpath\u001b[0m\u001b[0;34m.\u001b[0m\u001b[0mjoin\u001b[0m\u001b[0;34m(\u001b[0m\u001b[0mself\u001b[0m\u001b[0;34m.\u001b[0m\u001b[0mroot\u001b[0m\u001b[0;34m,\u001b[0m \u001b[0mMETA_FILE\u001b[0m\u001b[0;34m)\u001b[0m\u001b[0;34m)\u001b[0m\u001b[0;34m[\u001b[0m\u001b[0;36m0\u001b[0m\u001b[0;34m]\u001b[0m\u001b[0;34m\u001b[0m\u001b[0;34m\u001b[0m\u001b[0m\n\u001b[0;32m---> 34\u001b[0;31m         \u001b[0msuper\u001b[0m\u001b[0;34m(\u001b[0m\u001b[0mImageNet\u001b[0m\u001b[0;34m,\u001b[0m \u001b[0mself\u001b[0m\u001b[0;34m)\u001b[0m\u001b[0;34m.\u001b[0m\u001b[0m__init__\u001b[0m\u001b[0;34m(\u001b[0m\u001b[0mself\u001b[0m\u001b[0;34m.\u001b[0m\u001b[0msplit_folder\u001b[0m\u001b[0;34m)\u001b[0m\u001b[0;34m\u001b[0m\u001b[0;34m\u001b[0m\u001b[0m\n\u001b[0m\u001b[1;32m     35\u001b[0m \u001b[0;34m\u001b[0m\u001b[0m\n\u001b[1;32m     36\u001b[0m         \u001b[0mself\u001b[0m\u001b[0;34m.\u001b[0m\u001b[0mtransform\u001b[0m \u001b[0;34m=\u001b[0m \u001b[0mtransform\u001b[0m\u001b[0;34m\u001b[0m\u001b[0;34m\u001b[0m\u001b[0m\n",
      "\u001b[0;32m~/anaconda3/envs/Py36/lib/python3.6/site-packages/torchvision/datasets/folder.py\u001b[0m in \u001b[0;36m__init__\u001b[0;34m(self, root, transform, target_transform, loader, is_valid_file)\u001b[0m\n\u001b[1;32m    206\u001b[0m                                           \u001b[0mtransform\u001b[0m\u001b[0;34m=\u001b[0m\u001b[0mtransform\u001b[0m\u001b[0;34m,\u001b[0m\u001b[0;34m\u001b[0m\u001b[0;34m\u001b[0m\u001b[0m\n\u001b[1;32m    207\u001b[0m                                           \u001b[0mtarget_transform\u001b[0m\u001b[0;34m=\u001b[0m\u001b[0mtarget_transform\u001b[0m\u001b[0;34m,\u001b[0m\u001b[0;34m\u001b[0m\u001b[0;34m\u001b[0m\u001b[0m\n\u001b[0;32m--> 208\u001b[0;31m                                           is_valid_file=is_valid_file)\n\u001b[0m\u001b[1;32m    209\u001b[0m         \u001b[0mself\u001b[0m\u001b[0;34m.\u001b[0m\u001b[0mimgs\u001b[0m \u001b[0;34m=\u001b[0m \u001b[0mself\u001b[0m\u001b[0;34m.\u001b[0m\u001b[0msamples\u001b[0m\u001b[0;34m\u001b[0m\u001b[0;34m\u001b[0m\u001b[0m\n",
      "\u001b[0;32m~/anaconda3/envs/Py36/lib/python3.6/site-packages/torchvision/datasets/folder.py\u001b[0m in \u001b[0;36m__init__\u001b[0;34m(self, root, loader, extensions, transform, target_transform, is_valid_file)\u001b[0m\n\u001b[1;32m     93\u001b[0m                                             target_transform=target_transform)\n\u001b[1;32m     94\u001b[0m         \u001b[0mclasses\u001b[0m\u001b[0;34m,\u001b[0m \u001b[0mclass_to_idx\u001b[0m \u001b[0;34m=\u001b[0m \u001b[0mself\u001b[0m\u001b[0;34m.\u001b[0m\u001b[0m_find_classes\u001b[0m\u001b[0;34m(\u001b[0m\u001b[0mself\u001b[0m\u001b[0;34m.\u001b[0m\u001b[0mroot\u001b[0m\u001b[0;34m)\u001b[0m\u001b[0;34m\u001b[0m\u001b[0;34m\u001b[0m\u001b[0m\n\u001b[0;32m---> 95\u001b[0;31m         \u001b[0msamples\u001b[0m \u001b[0;34m=\u001b[0m \u001b[0mmake_dataset\u001b[0m\u001b[0;34m(\u001b[0m\u001b[0mself\u001b[0m\u001b[0;34m.\u001b[0m\u001b[0mroot\u001b[0m\u001b[0;34m,\u001b[0m \u001b[0mclass_to_idx\u001b[0m\u001b[0;34m,\u001b[0m \u001b[0mextensions\u001b[0m\u001b[0;34m,\u001b[0m \u001b[0mis_valid_file\u001b[0m\u001b[0;34m)\u001b[0m\u001b[0;34m\u001b[0m\u001b[0;34m\u001b[0m\u001b[0m\n\u001b[0m\u001b[1;32m     96\u001b[0m         \u001b[0;32mif\u001b[0m \u001b[0mlen\u001b[0m\u001b[0;34m(\u001b[0m\u001b[0msamples\u001b[0m\u001b[0;34m)\u001b[0m \u001b[0;34m==\u001b[0m \u001b[0;36m0\u001b[0m\u001b[0;34m:\u001b[0m\u001b[0;34m\u001b[0m\u001b[0;34m\u001b[0m\u001b[0m\n\u001b[1;32m     97\u001b[0m             \u001b[0mmsg\u001b[0m \u001b[0;34m=\u001b[0m \u001b[0;34m\"Found 0 files in subfolders of: {}\\n\"\u001b[0m\u001b[0;34m.\u001b[0m\u001b[0mformat\u001b[0m\u001b[0;34m(\u001b[0m\u001b[0mself\u001b[0m\u001b[0;34m.\u001b[0m\u001b[0mroot\u001b[0m\u001b[0;34m)\u001b[0m\u001b[0;34m\u001b[0m\u001b[0;34m\u001b[0m\u001b[0m\n",
      "\u001b[0;32m~/anaconda3/envs/Py36/lib/python3.6/site-packages/torchvision/datasets/folder.py\u001b[0m in \u001b[0;36mmake_dataset\u001b[0;34m(directory, class_to_idx, extensions, is_valid_file)\u001b[0m\n\u001b[1;32m     49\u001b[0m         \u001b[0;32mfor\u001b[0m \u001b[0mroot\u001b[0m\u001b[0;34m,\u001b[0m \u001b[0m_\u001b[0m\u001b[0;34m,\u001b[0m \u001b[0mfnames\u001b[0m \u001b[0;32min\u001b[0m \u001b[0msorted\u001b[0m\u001b[0;34m(\u001b[0m\u001b[0mos\u001b[0m\u001b[0;34m.\u001b[0m\u001b[0mwalk\u001b[0m\u001b[0;34m(\u001b[0m\u001b[0mtarget_dir\u001b[0m\u001b[0;34m,\u001b[0m \u001b[0mfollowlinks\u001b[0m\u001b[0;34m=\u001b[0m\u001b[0;32mTrue\u001b[0m\u001b[0;34m)\u001b[0m\u001b[0;34m)\u001b[0m\u001b[0;34m:\u001b[0m\u001b[0;34m\u001b[0m\u001b[0;34m\u001b[0m\u001b[0m\n\u001b[1;32m     50\u001b[0m             \u001b[0;32mfor\u001b[0m \u001b[0mfname\u001b[0m \u001b[0;32min\u001b[0m \u001b[0msorted\u001b[0m\u001b[0;34m(\u001b[0m\u001b[0mfnames\u001b[0m\u001b[0;34m)\u001b[0m\u001b[0;34m:\u001b[0m\u001b[0;34m\u001b[0m\u001b[0;34m\u001b[0m\u001b[0m\n\u001b[0;32m---> 51\u001b[0;31m                 \u001b[0mpath\u001b[0m \u001b[0;34m=\u001b[0m \u001b[0mos\u001b[0m\u001b[0;34m.\u001b[0m\u001b[0mpath\u001b[0m\u001b[0;34m.\u001b[0m\u001b[0mjoin\u001b[0m\u001b[0;34m(\u001b[0m\u001b[0mroot\u001b[0m\u001b[0;34m,\u001b[0m \u001b[0mfname\u001b[0m\u001b[0;34m)\u001b[0m\u001b[0;34m\u001b[0m\u001b[0;34m\u001b[0m\u001b[0m\n\u001b[0m\u001b[1;32m     52\u001b[0m                 \u001b[0;32mif\u001b[0m \u001b[0mis_valid_file\u001b[0m\u001b[0;34m(\u001b[0m\u001b[0mpath\u001b[0m\u001b[0;34m)\u001b[0m\u001b[0;34m:\u001b[0m\u001b[0;34m\u001b[0m\u001b[0;34m\u001b[0m\u001b[0m\n\u001b[1;32m     53\u001b[0m                     \u001b[0mitem\u001b[0m \u001b[0;34m=\u001b[0m \u001b[0mpath\u001b[0m\u001b[0;34m,\u001b[0m \u001b[0mclass_index\u001b[0m\u001b[0;34m\u001b[0m\u001b[0;34m\u001b[0m\u001b[0m\n",
      "\u001b[0;32m~/anaconda3/envs/Py36/lib/python3.6/posixpath.py\u001b[0m in \u001b[0;36mjoin\u001b[0;34m(a, *p)\u001b[0m\n\u001b[1;32m     79\u001b[0m     ends with a separator.\"\"\"\n\u001b[1;32m     80\u001b[0m     \u001b[0ma\u001b[0m \u001b[0;34m=\u001b[0m \u001b[0mos\u001b[0m\u001b[0;34m.\u001b[0m\u001b[0mfspath\u001b[0m\u001b[0;34m(\u001b[0m\u001b[0ma\u001b[0m\u001b[0;34m)\u001b[0m\u001b[0;34m\u001b[0m\u001b[0;34m\u001b[0m\u001b[0m\n\u001b[0;32m---> 81\u001b[0;31m     \u001b[0msep\u001b[0m \u001b[0;34m=\u001b[0m \u001b[0m_get_sep\u001b[0m\u001b[0;34m(\u001b[0m\u001b[0ma\u001b[0m\u001b[0;34m)\u001b[0m\u001b[0;34m\u001b[0m\u001b[0;34m\u001b[0m\u001b[0m\n\u001b[0m\u001b[1;32m     82\u001b[0m     \u001b[0mpath\u001b[0m \u001b[0;34m=\u001b[0m \u001b[0ma\u001b[0m\u001b[0;34m\u001b[0m\u001b[0;34m\u001b[0m\u001b[0m\n\u001b[1;32m     83\u001b[0m     \u001b[0;32mtry\u001b[0m\u001b[0;34m:\u001b[0m\u001b[0;34m\u001b[0m\u001b[0;34m\u001b[0m\u001b[0m\n",
      "\u001b[0;31mKeyboardInterrupt\u001b[0m: "
     ]
    }
   ],
   "source": [
    "xlsx = pd.ExcelFile(excel_path)\n",
    "excel = pd.read_excel(xlsx, sheet, Sdtype={\"exp\": str, \n",
    "                                           \"selected_layer\": int,\n",
    "                                           \"selected_filter\": int, \n",
    "                                           \"class_index\": int,\n",
    "                                            \"Done\": str}).values\n",
    "for data in excel:\n",
    "    exp, selected_layer, selected_filter, class_index, done = data[0], data[1], \\\n",
    "        data[2], data[3], data[4]\n",
    "    exp = exp.replace(\"x\", \"\")\n",
    "    if exp in excepts:\n",
    "        print(\"=> Skip\")\n",
    "    else:\n",
    "        if done == \"N\":\n",
    "            print(\"=> RUN \", exp, selected_layer, selected_filter, class_index)\n",
    "            # main(exp, selected_layer, selected_filter, class_index)\n",
    "            ori_activation_maps, opt_activation_maps = main(exp, \n",
    "                                                            selected_layer, \n",
    "                                                            selected_filter, \n",
    "                                                            class_index)\n",
    "            mMetric_v3(ori_activation_maps, opt_activation_maps, \n",
    "                       selected_filter=selected_filter) \n",
    "            print(\"\")\n",
    "            print(\"-\"*50)"
   ]
  },
  {
   "cell_type": "markdown",
   "metadata": {},
   "source": [
    "### Class 14"
   ]
  },
  {
   "cell_type": "code",
   "execution_count": null,
   "metadata": {
    "ExecuteTime": {
     "end_time": "2020-10-06T03:32:39.760091Z",
     "start_time": "2020-10-06T03:31:46.854Z"
    }
   },
   "outputs": [],
   "source": [
    "excel_path = \"../week9/Batches.xlsx\"\n",
    "sheet = \"Others\"\n",
    "excepts = [\"052148\"]"
   ]
  },
  {
   "cell_type": "code",
   "execution_count": null,
   "metadata": {
    "ExecuteTime": {
     "end_time": "2020-10-06T03:32:39.761433Z",
     "start_time": "2020-10-06T03:31:46.859Z"
    },
    "scrolled": true
   },
   "outputs": [],
   "source": [
    "xlsx = pd.ExcelFile(excel_path)\n",
    "excel = pd.read_excel(xlsx, sheet, Sdtype={\"exp\": str, \n",
    "                                           \"selected_layer\": int,\n",
    "                                           \"selected_filter\": int, \n",
    "                                           \"class_index\": int,\n",
    "                                            \"Done\": str}).values\n",
    "for data in excel:\n",
    "    exp, selected_layer, selected_filter, class_index, done = data[0], data[1], \\\n",
    "        data[2], data[3], data[4]\n",
    "    exp = exp.replace(\"x\", \"\")\n",
    "    if exp in excepts:\n",
    "        print(\"=> Skip\")\n",
    "    else:\n",
    "        if done == \"N\":\n",
    "            print(\"=> RUN \", exp, selected_layer, selected_filter, class_index)\n",
    "            # main(exp, selected_layer, selected_filter, class_index)\n",
    "            ori_activation_maps, opt_activation_maps = main(exp, \n",
    "                                                            selected_layer, \n",
    "                                                            selected_filter, \n",
    "                                                            class_index)\n",
    "            mMetric_v3(ori_activation_maps, opt_activation_maps, \n",
    "                       selected_filter=selected_filter) \n",
    "            print(\"\")\n",
    "            print(\"-\"*50)"
   ]
  },
  {
   "cell_type": "code",
   "execution_count": null,
   "metadata": {
    "ExecuteTime": {
     "end_time": "2020-10-06T03:32:39.762602Z",
     "start_time": "2020-10-06T03:31:46.864Z"
    }
   },
   "outputs": [],
   "source": [
    "# resume from model\n",
    "resume = \"037-0\"\n",
    "backbone = \"vgg16\"\n",
    "selected_layer = None\n",
    "device = torch.device(\"cuda:0\" if torch.cuda.is_available() else \"cpu\")\n",
    "model_dir = \"/home/lincolnzjx/Desktop/Interpretation/saved/models\"\n",
    "resume_exp = resume.split(\"-\")[0]\n",
    "resume_epoch = resume.split(\"-\")[1]\n",
    "print(\"Resume from model from exp: {} at epoch {}\".format(resume_exp, resume_epoch))\n",
    "resume_path = os.path.join(model_dir, str(resume_exp), str(resume_epoch))\n",
    "ckpt = torch.load(resume_path, map_location=device)\n",
    "net = model.Network(backbone=backbone, num_classes=1000, \n",
    "                    selected_layer=selected_layer)\n",
    "net.to(device)\n",
    "net.load_state_dict(ckpt, strict=False) "
   ]
  },
  {
   "cell_type": "code",
   "execution_count": null,
   "metadata": {
    "ExecuteTime": {
     "end_time": "2020-10-06T03:32:39.763764Z",
     "start_time": "2020-10-06T03:31:46.869Z"
    }
   },
   "outputs": [],
   "source": [
    "import matplotlib.pyplot as plt"
   ]
  },
  {
   "cell_type": "code",
   "execution_count": null,
   "metadata": {
    "ExecuteTime": {
     "end_time": "2020-10-06T03:32:39.764909Z",
     "start_time": "2020-10-06T03:31:46.880Z"
    },
    "scrolled": true
   },
   "outputs": [],
   "source": [
    "fig, ax = plt.subplots(13, 1, sharex=True)\n",
    "i = 0\n",
    "weights = []\n",
    "biases = []\n",
    "for index, layer in enumerate(net.model.features.children()):\n",
    "    if isinstance(layer, torch.nn.Conv2d):\n",
    "        print(index, layer)\n",
    "        weight = (torch.sum(layer.weight)/layer.out_channels).item()\n",
    "        bias = (torch.sum(layer.bias)/layer.out_channels).item()\n",
    "        print(\"mean of weight:\", weight)\n",
    "        print(\"mean of bias:\", bias)\n",
    "        weights.append(weight)\n",
    "        biases.append(bias)\n",
    "        ax[i].hist(layer.bias.detach().cpu().numpy().reshape(-1), label=index, alpha=0.5, bins=64)\n",
    "#         plt.legend(loc=\"best\")\n",
    "        i = i+1\n",
    "        print(\"-\"*50)"
   ]
  },
  {
   "cell_type": "code",
   "execution_count": null,
   "metadata": {
    "ExecuteTime": {
     "end_time": "2020-10-06T03:32:39.766225Z",
     "start_time": "2020-10-06T03:31:46.885Z"
    }
   },
   "outputs": [],
   "source": [
    "import numpy as np\n",
    "import seaborn as sns\n",
    "import matplotlib.pyplot as plt"
   ]
  },
  {
   "cell_type": "code",
   "execution_count": null,
   "metadata": {
    "ExecuteTime": {
     "end_time": "2020-10-06T03:32:39.767248Z",
     "start_time": "2020-10-06T03:31:46.889Z"
    }
   },
   "outputs": [],
   "source": [
    "sns.set(color_codes=True)"
   ]
  },
  {
   "cell_type": "code",
   "execution_count": null,
   "metadata": {
    "ExecuteTime": {
     "end_time": "2020-10-06T03:32:39.768199Z",
     "start_time": "2020-10-06T03:31:46.894Z"
    }
   },
   "outputs": [],
   "source": [
    "import pandas\n",
    "df = pandas.DataFrame(data={\"weight\": weights, \"bias\": biases})"
   ]
  },
  {
   "cell_type": "code",
   "execution_count": null,
   "metadata": {
    "ExecuteTime": {
     "end_time": "2020-10-06T03:32:39.769120Z",
     "start_time": "2020-10-06T03:31:46.899Z"
    }
   },
   "outputs": [],
   "source": [
    "sns.regplot(x=\"weight\", y=\"bias\", data=df);"
   ]
  },
  {
   "cell_type": "code",
   "execution_count": null,
   "metadata": {
    "ExecuteTime": {
     "end_time": "2020-10-06T03:32:39.770109Z",
     "start_time": "2020-10-06T03:31:46.905Z"
    }
   },
   "outputs": [],
   "source": [
    "ckpt"
   ]
  },
  {
   "cell_type": "code",
   "execution_count": null,
   "metadata": {
    "ExecuteTime": {
     "end_time": "2020-10-06T03:32:39.771004Z",
     "start_time": "2020-10-06T03:31:46.912Z"
    },
    "scrolled": true
   },
   "outputs": [],
   "source": [
    "torchvision.models.vgg16(pretrained=True).state_dict()"
   ]
  },
  {
   "cell_type": "code",
   "execution_count": null,
   "metadata": {
    "ExecuteTime": {
     "end_time": "2020-10-06T03:32:39.771743Z",
     "start_time": "2020-10-06T03:31:46.919Z"
    }
   },
   "outputs": [],
   "source": [
    "import torchvision"
   ]
  },
  {
   "cell_type": "code",
   "execution_count": null,
   "metadata": {
    "ExecuteTime": {
     "end_time": "2020-10-06T03:32:39.772468Z",
     "start_time": "2020-10-06T03:31:46.925Z"
    }
   },
   "outputs": [],
   "source": [
    "vgg11 = torchvision.models.vgg11()"
   ]
  },
  {
   "cell_type": "code",
   "execution_count": null,
   "metadata": {
    "ExecuteTime": {
     "end_time": "2020-10-06T03:32:39.773191Z",
     "start_time": "2020-10-06T03:31:46.931Z"
    }
   },
   "outputs": [],
   "source": [
    "summary(vgg11.cuda(), (3, 224, 224))"
   ]
  },
  {
   "cell_type": "code",
   "execution_count": null,
   "metadata": {},
   "outputs": [],
   "source": []
  }
 ],
 "metadata": {
  "kernelspec": {
   "display_name": "Python 3",
   "language": "python",
   "name": "python3"
  },
  "language_info": {
   "codemirror_mode": {
    "name": "ipython",
    "version": 3
   },
   "file_extension": ".py",
   "mimetype": "text/x-python",
   "name": "python",
   "nbconvert_exporter": "python",
   "pygments_lexer": "ipython3",
   "version": "3.6.10"
  },
  "latex_envs": {
   "LaTeX_envs_menu_present": true,
   "autoclose": false,
   "autocomplete": true,
   "bibliofile": "biblio.bib",
   "cite_by": "apalike",
   "current_citInitial": 1,
   "eqLabelWithNumbers": true,
   "eqNumInitial": 1,
   "hotkeys": {
    "equation": "Ctrl-E",
    "itemize": "Ctrl-I"
   },
   "labels_anchors": false,
   "latex_user_defs": false,
   "report_style_numbering": false,
   "user_envs_cfg": false
  },
  "toc": {
   "base_numbering": 1,
   "nav_menu": {},
   "number_sections": true,
   "sideBar": false,
   "skip_h1_title": false,
   "title_cell": "Table of Contents",
   "title_sidebar": "Contents",
   "toc_cell": false,
   "toc_position": {
    "height": "772px",
    "left": "10px",
    "top": "150px",
    "width": "250px"
   },
   "toc_section_display": true,
   "toc_window_display": true
  },
  "varInspector": {
   "cols": {
    "lenName": 16,
    "lenType": 16,
    "lenVar": 40
   },
   "kernels_config": {
    "python": {
     "delete_cmd_postfix": "",
     "delete_cmd_prefix": "del ",
     "library": "var_list.py",
     "varRefreshCmd": "print(var_dic_list())"
    },
    "r": {
     "delete_cmd_postfix": ") ",
     "delete_cmd_prefix": "rm(",
     "library": "var_list.r",
     "varRefreshCmd": "cat(var_dic_list()) "
    }
   },
   "position": {
    "height": "460px",
    "left": "1885.99px",
    "right": "20px",
    "top": "144px",
    "width": "248.965px"
   },
   "types_to_exclude": [
    "module",
    "function",
    "builtin_function_or_method",
    "instance",
    "_Feature"
   ],
   "window_display": true
  }
 },
 "nbformat": 4,
 "nbformat_minor": 4
}
