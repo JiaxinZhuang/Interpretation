{
 "cells": [
  {
   "cell_type": "code",
   "execution_count": 2,
   "metadata": {
    "ExecuteTime": {
     "end_time": "2019-09-27T05:48:10.749700Z",
     "start_time": "2019-09-27T05:48:10.608174Z"
    }
   },
   "outputs": [
    {
     "name": "stdout",
     "output_type": "stream",
     "text": [
      "Populating the interactive namespace from numpy and matplotlib\n"
     ]
    }
   ],
   "source": [
    "%load_ext autoreload\n",
    "%autoreload 2\n",
    "%matplotlib inline\n",
    "%pylab inline"
   ]
  },
  {
   "cell_type": "code",
   "execution_count": 54,
   "metadata": {
    "ExecuteTime": {
     "end_time": "2019-09-27T07:51:36.693559Z",
     "start_time": "2019-09-27T07:51:36.669382Z"
    }
   },
   "outputs": [],
   "source": [
    "import os\n",
    "os.environ[\"CUDA_DEVICE_ORDER\"] = \"PCI_BUS_ID\"\n",
    "os.environ[\"CUDA_VISIBLE_DEVICES\"] = \"0\"\n",
    "\n",
    "import torch\n",
    "import torch.nn as nn\n",
    "import torchvision\n",
    "import numpy as np\n",
    "from matplotlib import pyplot\n",
    "from torchsummary import summary\n",
    "import matplotlib as mpl\n",
    "mpl.rcParams['figure.dpi'] = 300\n",
    "from PIL import Image\n",
    "\n",
    "import sys\n",
    "sys.path.append(\"../src/\")\n",
    "import model\n",
    "import dataset\n",
    "import config\n",
    "from utils.function import init_logging, init_environment, preprocess_image,\\\n",
    "         recreate_image, get_lr, save_image"
   ]
  },
  {
   "cell_type": "code",
   "execution_count": 47,
   "metadata": {
    "ExecuteTime": {
     "end_time": "2019-09-27T07:44:17.623278Z",
     "start_time": "2019-09-27T07:44:17.614480Z"
    },
    "scrolled": true
   },
   "outputs": [],
   "source": [
    "# hyper parameter\n",
    "resume = \"001-215\"\n",
    "#model_dir = \"/data15/jiaxin/Interpretation/saved/models\"\n",
    "model_dir = \"/media/lincolnzjx/Disk21/interpretation/saved/models\"\n",
    "generated_dir = \"/media/lincolnzjx/Disk21/interpretation/saved/generated/\"\n",
    "backbone = \"convNet\"\n",
    "#generated_dir = \n",
    "#selected_layer = configs_dict[\"selected_layer\"]\n",
    "#selected_filter = configs_dict[\"selected_filter\"]\n",
    "\n",
    "device = torch.device(\"cuda:0\" if torch.cuda.is_available() else \"cpu\")"
   ]
  },
  {
   "cell_type": "code",
   "execution_count": 5,
   "metadata": {
    "ExecuteTime": {
     "end_time": "2019-09-27T05:48:15.964473Z",
     "start_time": "2019-09-27T05:48:13.097582Z"
    },
    "scrolled": true
   },
   "outputs": [
    {
     "data": {
      "text/plain": [
       "Network(\n",
       "  (model): convNet(\n",
       "    (features): Sequential(\n",
       "      (0): Conv2d(1, 20, kernel_size=(5, 5), stride=(1, 1))\n",
       "      (1): ReLU()\n",
       "      (2): MaxPool2d(kernel_size=2, stride=2, padding=0, dilation=1, ceil_mode=False)\n",
       "      (3): Conv2d(20, 50, kernel_size=(5, 5), stride=(1, 1))\n",
       "      (4): ReLU()\n",
       "      (5): MaxPool2d(kernel_size=2, stride=2, padding=0, dilation=1, ceil_mode=False)\n",
       "    )\n",
       "    (fc): Sequential(\n",
       "      (0): Linear(in_features=800, out_features=500, bias=True)\n",
       "      (1): ReLU()\n",
       "      (2): Linear(in_features=500, out_features=10, bias=True)\n",
       "    )\n",
       "  )\n",
       ")"
      ]
     },
     "execution_count": 5,
     "metadata": {},
     "output_type": "execute_result"
    }
   ],
   "source": [
    "# model\n",
    "net = model.Network(backbone=backbone)\n",
    "net.to(device)"
   ]
  },
  {
   "cell_type": "code",
   "execution_count": 6,
   "metadata": {
    "ExecuteTime": {
     "end_time": "2019-09-27T05:48:15.983746Z",
     "start_time": "2019-09-27T05:48:15.965865Z"
    },
    "scrolled": true
   },
   "outputs": [
    {
     "name": "stdout",
     "output_type": "stream",
     "text": [
      "Resume from model from exp: 001 at epoch 215\n"
     ]
    },
    {
     "data": {
      "text/plain": [
       "<All keys matched successfully>"
      ]
     },
     "execution_count": 6,
     "metadata": {},
     "output_type": "execute_result"
    }
   ],
   "source": [
    "# resume from model\n",
    "resume_exp = resume.split(\"-\")[0]\n",
    "resume_epoch = resume.split(\"-\")[1]\n",
    "print(\"Resume from model from exp: {} at epoch {}\".format(resume_exp, resume_epoch))\n",
    "resume_path = os.path.join(model_dir, str(resume_exp), str(resume_epoch))\n",
    "ckpt = torch.load(resume_path)\n",
    "net.load_state_dict(ckpt) "
   ]
  },
  {
   "cell_type": "code",
   "execution_count": 7,
   "metadata": {
    "ExecuteTime": {
     "end_time": "2019-09-27T05:48:17.157997Z",
     "start_time": "2019-09-27T05:48:17.137019Z"
    }
   },
   "outputs": [
    {
     "name": "stdout",
     "output_type": "stream",
     "text": [
      "model.features.0.weight torch.Size([20, 1, 5, 5])\n",
      "model.features.0.bias torch.Size([20])\n",
      "model.features.3.weight torch.Size([50, 20, 5, 5])\n",
      "model.features.3.bias torch.Size([50])\n",
      "model.fc.0.weight torch.Size([500, 800])\n",
      "model.fc.0.bias torch.Size([500])\n",
      "model.fc.2.weight torch.Size([10, 500])\n",
      "model.fc.2.bias torch.Size([10])\n"
     ]
    }
   ],
   "source": [
    "for name, param in net.named_parameters():\n",
    "    print(name, param.size())"
   ]
  },
  {
   "cell_type": "code",
   "execution_count": 9,
   "metadata": {
    "ExecuteTime": {
     "end_time": "2019-09-27T05:48:30.462908Z",
     "start_time": "2019-09-27T05:48:30.453071Z"
    },
    "scrolled": true
   },
   "outputs": [
    {
     "name": "stdout",
     "output_type": "stream",
     "text": [
      "0 Conv2d(1, 20, kernel_size=(5, 5), stride=(1, 1))\n",
      "1 ReLU()\n",
      "2 MaxPool2d(kernel_size=2, stride=2, padding=0, dilation=1, ceil_mode=False)\n",
      "3 Conv2d(20, 50, kernel_size=(5, 5), stride=(1, 1))\n",
      "4 ReLU()\n",
      "5 MaxPool2d(kernel_size=2, stride=2, padding=0, dilation=1, ceil_mode=False)\n"
     ]
    }
   ],
   "source": [
    "for index, layer in enumerate(net.model.features):\n",
    "    print(index, layer)"
   ]
  },
  {
   "cell_type": "code",
   "execution_count": 10,
   "metadata": {
    "ExecuteTime": {
     "end_time": "2019-09-27T05:48:31.272727Z",
     "start_time": "2019-09-27T05:48:31.211827Z"
    },
    "scrolled": true
   },
   "outputs": [
    {
     "name": "stdout",
     "output_type": "stream",
     "text": [
      "----------------------------------------------------------------\n",
      "        Layer (type)               Output Shape         Param #\n",
      "================================================================\n",
      "            Conv2d-1           [-1, 20, 24, 24]             520\n",
      "              ReLU-2           [-1, 20, 24, 24]               0\n",
      "         MaxPool2d-3           [-1, 20, 12, 12]               0\n",
      "            Conv2d-4             [-1, 50, 8, 8]          25,050\n",
      "              ReLU-5             [-1, 50, 8, 8]               0\n",
      "         MaxPool2d-6             [-1, 50, 4, 4]               0\n",
      "            Linear-7                  [-1, 500]         400,500\n",
      "              ReLU-8                  [-1, 500]               0\n",
      "            Linear-9                   [-1, 10]           5,010\n",
      "          convNet-10                   [-1, 10]               0\n",
      "================================================================\n",
      "Total params: 431,080\n",
      "Trainable params: 431,080\n",
      "Non-trainable params: 0\n",
      "----------------------------------------------------------------\n",
      "Input size (MB): 0.00\n",
      "Forward/backward pass size (MB): 0.26\n",
      "Params size (MB): 1.64\n",
      "Estimated Total Size (MB): 1.91\n",
      "----------------------------------------------------------------\n"
     ]
    }
   ],
   "source": [
    "summary(net, (1, 28, 28))"
   ]
  },
  {
   "cell_type": "code",
   "execution_count": 11,
   "metadata": {
    "ExecuteTime": {
     "end_time": "2019-09-27T05:48:31.837552Z",
     "start_time": "2019-09-27T05:48:31.815810Z"
    }
   },
   "outputs": [],
   "source": [
    "def visualize_filters(filters, n_filters, n_channels):\n",
    "    \"\"\"Visualize filters. \n",
    "    \n",
    "    \"\"\"\n",
    "    index = 1\n",
    "    # get the feature map of specify channels\n",
    "    for row in range(n_filters):\n",
    "        fs = filters[:, :, :, row]\n",
    "        for col in range(n_channels):\n",
    "            # specify subplot and turn off axis\n",
    "            ax = pyplot.subplot(n_filters, n_channels, index)\n",
    "            ax.set_xticks([])\n",
    "            ax.set_yticks([])\n",
    "            # plot filter channel in gray scale\n",
    "            pyplot.imshow(fs[:, :, col], cmap=\"gray\")\n",
    "            index += 1\n",
    "    # show the figure\n",
    "    pyplot.show()"
   ]
  },
  {
   "cell_type": "code",
   "execution_count": 12,
   "metadata": {
    "ExecuteTime": {
     "end_time": "2019-09-27T05:48:32.434694Z",
     "start_time": "2019-09-27T05:48:32.414125Z"
    }
   },
   "outputs": [],
   "source": [
    "def visualize_features_map(features_map, n_filters, n_channels):\n",
    "    \"\"\"Visulize feature map.\n",
    "    \"\"\"\n",
    "    index = 1\n",
    "    features_map = features_map.transpose((0, 2, 3, 1))\n",
    "    for _ in range(n_filters):\n",
    "        for _ in range(n_channels):\n",
    "            # specify subplot and turn off axis\n",
    "            ax = pyplot.subplot(n_filters, n_channels, index)\n",
    "            ax.set_xticks([])\n",
    "            ax.set_yticks([])\n",
    "            # plot feature maps in grayscale\n",
    "            pyplot.imshow(features_map[0, :, :, index-1], cmap=\"gray\")\n",
    "            index += 1\n",
    "    # show figure\n",
    "    pyplot.show()"
   ]
  },
  {
   "cell_type": "code",
   "execution_count": 13,
   "metadata": {
    "ExecuteTime": {
     "end_time": "2019-09-27T05:48:32.967545Z",
     "start_time": "2019-09-27T05:48:32.950623Z"
    }
   },
   "outputs": [],
   "source": [
    "def obtain_features_map(image, model, conv_output_indexes=None):\n",
    "    \"\"\"Obtain feature map\n",
    "    \"\"\"\n",
    "    results = []\n",
    "    conv_output = []\n",
    "    out = image\n",
    "    for index, layer in enumerate(model):\n",
    "        out = layer(out)\n",
    "        if index in conv_output_indexes:\n",
    "            conv_output.append(out.cpu().detach().numpy())\n",
    "            print(index, out.size()) \n",
    "    return conv_output"
   ]
  },
  {
   "cell_type": "code",
   "execution_count": 14,
   "metadata": {
    "ExecuteTime": {
     "end_time": "2019-09-27T05:48:33.438065Z",
     "start_time": "2019-09-27T05:48:33.370814Z"
    }
   },
   "outputs": [
    {
     "data": {
      "image/png": "[encoded data removed]",
      "text/plain": [
       "<PIL.Image.Image image mode=L size=28x28 at 0x7FAB2F105160>"
      ]
     },
     "execution_count": 14,
     "metadata": {},
     "output_type": "execute_result"
    }
   ],
   "source": [
    "# Load data\n",
    "mean, std = (0.1307,), (0.3081,)\n",
    "reverse_mean = (-0.1307,)\n",
    "reverse_std = (1/0.3081,)\n",
    "train_transform = None\n",
    "trainset = dataset.MNIST(root=\"../data/\", is_train=True, transform=train_transform)\n",
    "image, label = trainset[0]\n",
    "image"
   ]
  },
  {
   "cell_type": "code",
   "execution_count": 15,
   "metadata": {
    "ExecuteTime": {
     "end_time": "2019-09-27T05:48:33.846425Z",
     "start_time": "2019-09-27T05:48:33.825040Z"
    },
    "scrolled": true
   },
   "outputs": [],
   "source": [
    "processed_image = preprocess_image(image, mean=mean, std=std, resize_im=True, resize=28, device=device)\n",
    "original_image = processed_image.clone().detach()"
   ]
  },
  {
   "cell_type": "code",
   "execution_count": 16,
   "metadata": {
    "ExecuteTime": {
     "end_time": "2019-09-27T05:48:34.337803Z",
     "start_time": "2019-09-27T05:48:34.322489Z"
    },
    "scrolled": true
   },
   "outputs": [
    {
     "name": "stdout",
     "output_type": "stream",
     "text": [
      "1 torch.Size([1, 20, 24, 24])\n",
      "4 torch.Size([1, 50, 8, 8])\n"
     ]
    }
   ],
   "source": [
    "conv_output = obtain_features_map(original_image, net.model.features, conv_output_indexes=[1,4])"
   ]
  },
  {
   "cell_type": "code",
   "execution_count": 17,
   "metadata": {
    "ExecuteTime": {
     "end_time": "2019-09-27T05:48:35.346511Z",
     "start_time": "2019-09-27T05:48:34.807289Z"
    },
    "scrolled": false
   },
   "outputs": [
    {
     "data": {
      "image/png": "[encoded data removed]",
      "text/plain": [
       "<Figure size 1800x1200 with 20 Axes>"
      ]
     },
     "metadata": {},
     "output_type": "display_data"
    }
   ],
   "source": [
    "visualize_features_map(conv_output[0], n_filters=20, n_channels=1)"
   ]
  },
  {
   "cell_type": "code",
   "execution_count": 18,
   "metadata": {
    "ExecuteTime": {
     "end_time": "2019-09-27T05:48:36.904822Z",
     "start_time": "2019-09-27T05:48:35.905621Z"
    },
    "scrolled": true
   },
   "outputs": [
    {
     "data": {
      "image/png": "[encoded data removed]",
      "text/plain": [
       "<Figure size 1800x1200 with 50 Axes>"
      ]
     },
     "metadata": {},
     "output_type": "display_data"
    }
   ],
   "source": [
    "visualize_features_map(conv_output[1], n_filters=50, n_channels=1)"
   ]
  },
  {
   "cell_type": "code",
   "execution_count": 27,
   "metadata": {
    "ExecuteTime": {
     "end_time": "2019-09-27T05:51:24.041072Z",
     "start_time": "2019-09-27T05:51:24.024161Z"
    }
   },
   "outputs": [
    {
     "data": {
      "text/plain": [
       "(20, 24, 24)"
      ]
     },
     "execution_count": 27,
     "metadata": {},
     "output_type": "execute_result"
    }
   ],
   "source": [
    "np.squeeze(conv_output[0]).shape"
   ]
  },
  {
   "cell_type": "code",
   "execution_count": 40,
   "metadata": {
    "ExecuteTime": {
     "end_time": "2019-09-27T06:02:41.157531Z",
     "start_time": "2019-09-27T06:02:41.143584Z"
    }
   },
   "outputs": [],
   "source": [
    "def find_max_activation(conv_output):\n",
    "    \"\"\"Find thr max activation and return its index.\n",
    "    \n",
    "    Args:\n",
    "        conv_output: (1, channel, height, width)\n",
    "        \n",
    "    Returns:\n",
    "        max_index(int): \n",
    "    \"\"\"\n",
    "    conv_output = np.squeeze(conv_output)\n",
    "    (channel, height, width) = conv_output.shape\n",
    "    conv_output = np.reshape(conv_output, (channel, height * width))\n",
    "    max_value = np.argmax(conv_output, axis=1)\n",
    "    max_conv_index = np.argmax(max_value)\n",
    "    return max_conv_index"
   ]
  },
  {
   "cell_type": "code",
   "execution_count": 42,
   "metadata": {
    "ExecuteTime": {
     "end_time": "2019-09-27T06:04:12.958050Z",
     "start_time": "2019-09-27T06:04:12.949618Z"
    }
   },
   "outputs": [
    {
     "data": {
      "text/plain": [
       "17"
      ]
     },
     "execution_count": 42,
     "metadata": {},
     "output_type": "execute_result"
    }
   ],
   "source": [
    "# selected filter 17 after layer 4 as the max activation\n",
    "find_max_activation(conv_output[1])"
   ]
  },
  {
   "cell_type": "code",
   "execution_count": 59,
   "metadata": {
    "ExecuteTime": {
     "end_time": "2019-09-27T07:56:04.739872Z",
     "start_time": "2019-09-27T07:56:04.719653Z"
    },
    "scrolled": true
   },
   "outputs": [
    {
     "name": "stdout",
     "output_type": "stream",
     "text": [
      "/media/lincolnzjx/Disk21/interpretation/saved/generated/105\n",
      "/media/lincolnzjx/Disk21/interpretation/saved/generated/105/19900.jpg\n",
      "[[ 65   9   0   6  12 184   0   3 217 249  10   0   4 226 255   0   4   2\n",
      "  255 255   0 168   1  74  95 137   6  16]\n",
      " [ 36  57   5  47   0 192  36   0  43 183  14  35   0 255  70  12  11 134\n",
      "  208   0 249  11 184   9   0  10   0   0]\n",
      " [ 83  32   1   0  32  71   0  73 255   5  10 119 178 157 166   0  70 120\n",
      "  168  95  14   0 172   0 255   4  74   7]\n",
      " [ 33 141   0  22  86 150   0 147  52  63   5   0   0  78   0  23   0  96\n",
      "    0   0   0 165   1 255   0 173   0 248]\n",
      " [114   0 211   0   0   9   0 158   3 127 236   0 195 229   0   8 255   0\n",
      "  255  39 138   0   7 244  11   0 206 255]\n",
      " [ 83  19 104   0  21 142   0 205   3   5   5   7   0  67  11 141   0 160\n",
      "    0   0   0  27 108   9  20  15 223 255]\n",
      " [245  21 232   2   0  57 141   0 190 254   0 217 121   0 207   0  19 253\n",
      "    5   0 156   0   0 248   9 255   0 237]\n",
      " [182   0  11 231   0  10 109   0  11  46  30   0 255   4 115   8   0 253\n",
      "    0   2 255   1 184 255   0   6   0 182]\n",
      " [  8 150  11   0   0   1 246   5 237   0   7  83   0   0   6 152   2   1\n",
      "    0   1 253   2   0   0   0 255   0 207]\n",
      " [  0   2 197   1  45 140   0 255   0 255   0 255 255   0   0 202  53 199\n",
      "  126 115   0 222  21 140 191  72  41 254]\n",
      " [  7 255   0   3 133   0  94   0 250   5  90   0   2 195  11   0   0   6\n",
      "  130  11   0   4 154   0 121   0 113 141]\n",
      " [ 44 181   2   6 255  11 138 185  13  78  62 198   0   0 255  13 234 110\n",
      "    0 255   0 252  29  23 247 111 124   0]\n",
      " [  0 160   0 133  17 164   0 189   0   1 247   2  99  13  62   0   7  75\n",
      "   10   0  64   0   0   7   1 213   0  61]\n",
      " [ 11  32 143 107   0  16  59   0   4  44   0 181   0 247   7  11 242   5\n",
      "  253 162   0 255   6  10 194 149   0   0]\n",
      " [  0   3 138  11   0 106   0   0  22 134   7   0  14   4   0  63  14  13\n",
      "    0  15  18   0  10   0   0 255   5 169]\n",
      " [177   0 205 139  17   8 255   0 255   0   0 251  35  89  19  20 138   0\n",
      "  255   0   0 169 105 100   9 248   1   0]\n",
      " [255   8 242   0  60   1 154   9   0 255   2 166   0   0  75   0   0 241\n",
      "    0 255   2   0 153   8   0   8  64   0]\n",
      " [143 186 223   0  90   6  57  12  10 119  81   0 184   1 157  21  19   0\n",
      "   29  25 220  14 204   0   8 247  14 255]\n",
      " [  0 108 143   0 255   4   0  14 120   5   0   0 255   3  19   0   0 127\n",
      "    0   0   0   0   9   3   0   0  24   0]\n",
      " [  1  14  10  42  23  88   3 252   0 126  34 120   0 133  25 255   5 255\n",
      "    0 255   0 131 240   0 224 248   0   0]\n",
      " [ 65 132   0  99   0   0  20  97   0  10 246   7 124   5 132   0 255   0\n",
      "  255   0 136   0   7  13   0  80   6  70]\n",
      " [230  19 136 148   0  54   0 177  15  96  51   0   0 115   0  19   0   5\n",
      "    0   5  23  98   0   0   0  64   0   0]\n",
      " [123   0  88   0   0   0 253   0   0 124   0   0  15   0   8   0   0   5\n",
      "   14   0   0  99   1  46 100 213  58   0]\n",
      " [  1   0 154 129 123 225   0  12 152   0  17  86 108  90   5 251   0   0\n",
      "   70 252  75 235  21 110   0 126 149   1]\n",
      " [  0 244 147   0   0  85   0 105   8 168 115  15   0   5 153   2   0   6\n",
      "  243   0   7   0  13   0   0  11   0   0]\n",
      " [  4  54   0 101  37  31  14   0 103 191  20   9 186   0  13   0  58   0\n",
      "   20   0 215   0  49   1  59 255   0   9]\n",
      " [  0   7 202 116   1   5   0   7   0  66  23  14   0  14 245   9   0 242\n",
      "    0   7  35 252 148   0  22   0  13   0]\n",
      " [ 45  77 255  68  15   0   0   0   0 254  33   0   5   0  80   0  39   0\n",
      "    3 109 225  36   0  12  95 164   0   0]]\n"
     ]
    }
   ],
   "source": [
    "# Visualize image value\n",
    "\n",
    "generated_path = os.path.join(generated_dir, \"105\")\n",
    "print(generated_path)\n",
    "\n",
    "def convert_file_name(file):\n",
    "    return int(file.split(\".\")[0])\n",
    "\n",
    "result = sorted(list(os.listdir(generated_path)), reverse=True, key=convert_file_name)[0]\n",
    "result = os.path.join(generated_path, result)\n",
    "print(result)\n",
    "\n",
    "image = Image.open(result)\n",
    "print(np.array(image))"
   ]
  },
  {
   "cell_type": "code",
   "execution_count": null,
   "metadata": {},
   "outputs": [],
   "source": []
  }
 ],
 "metadata": {
  "kernelspec": {
   "display_name": "Python 3",
   "language": "python",
   "name": "python3"
  },
  "language_info": {
   "codemirror_mode": {
    "name": "ipython",
    "version": 3
   },
   "file_extension": ".py",
   "mimetype": "text/x-python",
   "name": "python",
   "nbconvert_exporter": "python",
   "pygments_lexer": "ipython3",
   "version": "3.6.8"
  }
 },
 "nbformat": 4,
 "nbformat_minor": 2
}
