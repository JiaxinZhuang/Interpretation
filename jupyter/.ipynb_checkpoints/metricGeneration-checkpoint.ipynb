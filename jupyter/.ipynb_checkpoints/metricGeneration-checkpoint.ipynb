{
 "cells": [
  {
   "cell_type": "code",
   "execution_count": 1,
   "metadata": {
    "ExecuteTime": {
     "end_time": "2020-11-02T13:17:00.621386Z",
     "start_time": "2020-11-02T13:17:00.478767Z"
    }
   },
   "outputs": [
    {
     "name": "stdout",
     "output_type": "stream",
     "text": [
      "Populating the interactive namespace from numpy and matplotlib\n"
     ]
    }
   ],
   "source": [
    "%load_ext autoreload\n",
    "%autoreload 2\n",
    "%pylab inline"
   ]
  },
  {
   "cell_type": "code",
   "execution_count": 38,
   "metadata": {
    "ExecuteTime": {
     "end_time": "2020-11-02T15:41:32.086807Z",
     "start_time": "2020-11-02T15:41:32.072551Z"
    }
   },
   "outputs": [],
   "source": [
    "import pandas as pd\n",
    "import glob\n",
    "import seaborn as sns\n",
    "import numpy as np\n",
    "import os\n",
    "import sys\n",
    "import torch\n",
    "from PIL import Image\n",
    "sys.path.append('/home/lincolnzjx/Desktop/Interpretation/src/utils/')\n",
    "sys.path.append('/home/lincolnzjx/Desktop/Interpretation/src/')\n",
    "from function import gcollect\n",
    "import model"
   ]
  },
  {
   "cell_type": "markdown",
   "metadata": {},
   "source": [
    "## 伪代码"
   ]
  },
  {
   "cell_type": "markdown",
   "metadata": {},
   "source": [
    "1. 遍历文件夹，发现所有的类别\n",
    "2. 对于每一个类别的每一张opt中的图片计算对应的数字\n",
    "3. 保存到每一个文件夹下的csv文件夹下面"
   ]
  },
  {
   "cell_type": "code",
   "execution_count": 68,
   "metadata": {
    "ExecuteTime": {
     "end_time": "2020-11-02T16:10:04.336075Z",
     "start_time": "2020-11-02T16:10:04.319475Z"
    }
   },
   "outputs": [],
   "source": [
    "dir_class_path = \"/media/lincolnzjx/HardDisk/myGithub/Interpretation/generated/GBP/*\"\n",
    "dataset_path = \"/media/lincolnzjx/HardDisk/Datasets/ilsvrc2012/train/\"\n",
    "device = torch.device('cpu')\n",
    "num_class = 30\n",
    "con_run_process = 10"
   ]
  },
  {
   "cell_type": "code",
   "execution_count": 67,
   "metadata": {
    "ExecuteTime": {
     "end_time": "2020-11-02T16:08:53.954919Z",
     "start_time": "2020-11-02T16:08:53.924817Z"
    }
   },
   "outputs": [
    {
     "name": "stdout",
     "output_type": "stream",
     "text": [
      "/media/lincolnzjx/HardDisk/myGithub/Interpretation/generated/GBP/522\n",
      "/media/lincolnzjx/HardDisk/myGithub/Interpretation/generated/GBP/444\n",
      "/media/lincolnzjx/HardDisk/myGithub/Interpretation/generated/GBP/948\n",
      "/media/lincolnzjx/HardDisk/myGithub/Interpretation/generated/GBP/84\n",
      "/media/lincolnzjx/HardDisk/myGithub/Interpretation/generated/GBP/14\n",
      "/media/lincolnzjx/HardDisk/myGithub/Interpretation/generated/GBP/950\n"
     ]
    }
   ],
   "source": [
    "image2index = {}\n",
    "for real_path in glob.glob(dir_class_path):\n",
    "    class_index = real_path.split('/')[-1]\n",
    "    class_index = int(class_index)\n",
    "    train_transform = transforms.Compose([\n",
    "                transforms.Resize((224, 224), interpolation=Image.BILINEAR),\n",
    "                transforms.ToTensor()\n",
    "            ])\n",
    "    trainset = imagenet.ImageNet(root=\"/media/lincolnzjx/HardDisk/\" +\n",
    "                                 \"Datasets/\",\n",
    "                                 is_train=True,\n",
    "                                 transform=train_transform)\n",
    "    trainset.set_data([class_index], num_class)\n",
    "    \n",
    "    for index, (_, _, img_path) in enumerate(trainset):\n",
    "        # img = img.unsqueeze(0)\n",
    "        img_name = img_path.split('/')[-1].split('.')[0]\n",
    "        image2index[img_name] = index\n",
    "        processes.apply_async(main, args=(selected_layer,\n",
    "                                          selected_filter,\n",
    "                                          class_index,\n",
    "                                          img, img_path,\n",
    "                                          net, index))\n",
    "    processes = Pool(processes=con_run_process)\n",
    "    processes.close()\n",
    "    processes.join()\n",
    "    real_path = \n",
    "    img_name = real_path.split('/')[-1]\n",
    "    img_prefix_path = real_path.rsplit('/', maxsplit=2)[0]\n",
    "    class_index = img_prefix_path.split('/')[-1]\n",
    "    img_prefix_path = os.path.join(img_prefix_path, 'csv')\n",
    "    os.makedirs(img_prefix_path, exist_ok=True)\n",
    "    _, selected_layer, _, selected_filter, class_name, class_img_index = img_name.split('_')\n",
    "    \n",
    "    ori_path = os.path.join(dataset_path, class_name, \n",
    "                            class_name+'_'+class_img_index)\n",
    "    ori_path = ori_path.replace('png', 'JPEG')\n",
    "    opt_path = real_path\n",
    "    writer_path = os.path.join(img_prefix_path, '.'.join((str(class_index), \n",
    "                                                          selected_layer, \n",
    "                                                          selected_filter, \n",
    "                                                          'gbp'+'.csv')))\n",
    "    selected_layer = int(selected_layer)\n",
    "    selected_filter = int(selected_filter)\n",
    "    print(ori_path)\n",
    "    print(opt_path)\n",
    "    print(writer_path)\n",
    "    break\n",
    "        \n",
    "    backbone = 'vgg16'\n",
    "    net = model.Network(backbone=backbone, num_classes=1000,\n",
    "                        selected_layer=selected_layer)\n",
    "    # resume from model\n",
    "    resume = \"037-0\"\n",
    "    model_dir = \"/home/lincolnzjx/Desktop/Interpretation/saved/models\"\n",
    "    resume_exp = resume.split(\"-\")[0]\n",
    "    resume_epoch = resume.split(\"-\")[1]\n",
    "    resume_path = os.path.join(model_dir, str(resume_exp),\n",
    "                               str(resume_epoch))\n",
    "    ckpt = torch.load(resume_path, map_location=device)\n",
    "    net.load_state_dict(ckpt, strict=False)\n",
    "    net.to(device)\n",
    "    net.eval()\n",
    "    sel_error, res_error = main(selected_layer, selected_filter, net, \n",
    "                                ori_path, opt_path)\n",
    "    print(sel_error)\n",
    "    print(res_error)\n",
    "    writer(sel_error, res_error, )\n",
    "    break"
   ]
  },
  {
   "cell_type": "code",
   "execution_count": 54,
   "metadata": {
    "ExecuteTime": {
     "end_time": "2020-11-02T15:50:04.342630Z",
     "start_time": "2020-11-02T15:50:04.327532Z"
    }
   },
   "outputs": [],
   "source": [
    "@gcollect\n",
    "def main(selected_layer, selected_filter, net, ori_path, opt_path):\n",
    "    mean = torch.Tensor([0.485, 0.456, 0.406]).reshape(1, -1, 1, 1)\n",
    "    std = torch.Tensor([0.229, 0.224, 0.225]).reshape(1, -1, 1, 1)\n",
    "\n",
    "    # ori\n",
    "    ori_img = np.array(Image.open(ori_path).resize((224, 224))).astype(np.float64) / 255.0\n",
    "    ori_img = torch.from_numpy((ori_img[numpy.newaxis]).transpose([0, 3, 1, 2]))\n",
    "    ori_img = (ori_img-mean) / std\n",
    "    ori_img = ori_img.float().to(device)\n",
    "    ori_activation_maps = net.get_activation_maps(ori_img,\n",
    "                                                  selected_layer)[0]\n",
    "    # opt\n",
    "    opt_img = np.array(Image.open(opt_path).resize((224, 224))).astype(np.float64) / 255.0\n",
    "    opt_img = torch.from_numpy((opt_img[numpy.newaxis]).transpose([0, 3, 1, 2]))\n",
    "    opt_img = (opt_img-mean) / std\n",
    "    opt_img = opt_img.float().to(device)\n",
    "    opt_activation_maps = net.get_activation_maps(opt_img,\n",
    "                                                  selected_layer)[0]\n",
    "    sel_error = np.abs((ori_activation_maps[0, selected_filter] - \n",
    "                        opt_activation_maps[0, selected_filter])).mean()\n",
    "    res_error = np.abs(opt_activation_maps[0])\n",
    "    res_error = res_error.reshape((res_error.shape[0], -1))\n",
    "    res_error = np.mean(res_error, axis=1)\n",
    "    res_error = np.delete(res_error, selected_filter, axis=0)\n",
    "    del opt_activation_maps, ori_activation_maps\n",
    "    del ori_img, opt_im\n",
    "    return sel_error, res_error"
   ]
  },
  {
   "cell_type": "code",
   "execution_count": 57,
   "metadata": {
    "ExecuteTime": {
     "end_time": "2020-11-02T15:58:24.492154Z",
     "start_time": "2020-11-02T15:58:24.473636Z"
    }
   },
   "outputs": [],
   "source": [
    "def writer(sel_error, res_error, filename):\n",
    "    df = pd.DataFrame({[sel_error, res_error]})\n",
    "    df.to_csv(filename, index=False)\n",
    "    print('Save to ', filename)"
   ]
  },
  {
   "cell_type": "code",
   "execution_count": null,
   "metadata": {},
   "outputs": [],
   "source": []
  }
 ],
 "metadata": {
  "kernelspec": {
   "display_name": "Python 3",
   "language": "python",
   "name": "python3"
  },
  "language_info": {
   "codemirror_mode": {
    "name": "ipython",
    "version": 3
   },
   "file_extension": ".py",
   "mimetype": "text/x-python",
   "name": "python",
   "nbconvert_exporter": "python",
   "pygments_lexer": "ipython3",
   "version": "3.6.10"
  },
  "latex_envs": {
   "LaTeX_envs_menu_present": true,
   "autoclose": false,
   "autocomplete": true,
   "bibliofile": "biblio.bib",
   "cite_by": "apalike",
   "current_citInitial": 1,
   "eqLabelWithNumbers": true,
   "eqNumInitial": 1,
   "hotkeys": {
    "equation": "Ctrl-E",
    "itemize": "Ctrl-I"
   },
   "labels_anchors": false,
   "latex_user_defs": false,
   "report_style_numbering": false,
   "user_envs_cfg": false
  },
  "toc": {
   "base_numbering": 1,
   "nav_menu": {},
   "number_sections": true,
   "sideBar": false,
   "skip_h1_title": false,
   "title_cell": "Table of Contents",
   "title_sidebar": "Contents",
   "toc_cell": false,
   "toc_position": {},
   "toc_section_display": true,
   "toc_window_display": false
  },
  "varInspector": {
   "cols": {
    "lenName": 16,
    "lenType": 16,
    "lenVar": 40
   },
   "kernels_config": {
    "python": {
     "delete_cmd_postfix": "",
     "delete_cmd_prefix": "del ",
     "library": "var_list.py",
     "varRefreshCmd": "print(var_dic_list())"
    },
    "r": {
     "delete_cmd_postfix": ") ",
     "delete_cmd_prefix": "rm(",
     "library": "var_list.r",
     "varRefreshCmd": "cat(var_dic_list()) "
    }
   },
   "types_to_exclude": [
    "module",
    "function",
    "builtin_function_or_method",
    "instance",
    "_Feature"
   ],
   "window_display": false
  }
 },
 "nbformat": 4,
 "nbformat_minor": 4
}
