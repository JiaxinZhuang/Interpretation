{
 "cells": [
  {
   "cell_type": "code",
   "execution_count": 1,
   "metadata": {},
   "outputs": [
    {
     "name": "stdout",
     "output_type": "stream",
     "text": [
      "Populating the interactive namespace from numpy and matplotlib\n"
     ]
    }
   ],
   "source": [
    "%load_ext autoreload\n",
    "%autoreload 2\n",
    "%pylab inline\n",
    "# %matplotlib notebook"
   ]
  },
  {
   "cell_type": "markdown",
   "metadata": {},
   "source": [
    "## 0. Import module"
   ]
  },
  {
   "cell_type": "code",
   "execution_count": 2,
   "metadata": {},
   "outputs": [],
   "source": [
    "import os\n",
    "os.environ[\"CUDA_DEVICE_ORDER\"] = \"PCI_BUS_ID\"\n",
    "os.environ[\"CUDA_VISIBLE_DEVICES\"] = \"0\"\n",
    "\n",
    "import torch\n",
    "import os\n",
    "from torchsummary import summary\n",
    "from torchvision import transforms                                                                                                                                        \n",
    "import matplotlib as mpl\n",
    "mpl.rcParams['figure.dpi'] = 600\n",
    "from PIL import Image\n",
    "\n",
    "import sys\n",
    "sys.path.append(\"../src/\")\n",
    "import model\n",
    "from datasets import imagenet\n",
    "import config\n",
    "from aux.utils import obtain_features_map, load_imgs, zscore, extract_valid\n",
    "from aux.visualization import visualize_features_map"
   ]
  },
  {
   "cell_type": "markdown",
   "metadata": {},
   "source": [
    "## 1.Hyperparameter"
   ]
  },
  {
   "cell_type": "code",
   "execution_count": 4,
   "metadata": {},
   "outputs": [],
   "source": [
    "resume = \"037-0\"\n",
    "model_dir = \"../saved/models\"\n",
    "generated_dir = \"../saved/generated/\"\n",
    "backbone = \"vgg16\"\n",
    "\n",
    "device = torch.device(\"cuda:0\" if torch.cuda.is_available() else \"cpu\")"
   ]
  },
  {
   "cell_type": "markdown",
   "metadata": {},
   "source": [
    "## 2.Load modal from dict"
   ]
  },
  {
   "cell_type": "code",
   "execution_count": 5,
   "metadata": {},
   "outputs": [
    {
     "name": "stdout",
     "output_type": "stream",
     "text": [
      "> Use original fc\n",
      "Resume from model from exp: 037 at epoch 0\n"
     ]
    },
    {
     "data": {
      "text/plain": [
       "<All keys matched successfully>"
      ]
     },
     "execution_count": 5,
     "metadata": {},
     "output_type": "execute_result"
    }
   ],
   "source": [
    "# model\n",
    "net = model.Network(backbone=backbone, num_classes=1000)\n",
    "net.to(device)\n",
    "\n",
    "# resume from model\n",
    "resume_exp = resume.split(\"-\")[0]\n",
    "resume_epoch = resume.split(\"-\")[1]\n",
    "print(\"Resume from model from exp: {} at epoch {}\".format(resume_exp, resume_epoch))\n",
    "resume_path = os.path.join(model_dir, str(resume_exp), str(resume_epoch))\n",
    "ckpt = torch.load(resume_path, map_location=device)\n",
    "net.load_state_dict(ckpt) "
   ]
  },
  {
   "cell_type": "markdown",
   "metadata": {},
   "source": [
    "## 3.1 Load Original Data "
   ]
  },
  {
   "cell_type": "code",
   "execution_count": 23,
   "metadata": {
    "scrolled": true
   },
   "outputs": [
    {
     "name": "stdout",
     "output_type": "stream",
     "text": [
      "Len of new dataset is :30\n"
     ]
    }
   ],
   "source": [
    "# Load data\n",
    "mean = [0.485, 0.456, 0.406]\n",
    "std = [0.229, 0.224, 0.225]\n",
    "reverse_mean = [-0.485, -0.456, -0.406]\n",
    "reverse_std = [1/0.229, 1/0.224, 1/0.225]\n",
    "train_transform = None\n",
    "train_transform = transforms.Compose([                                                                                                                                \n",
    "    transforms.Resize((224, 224), interpolation=Image.BILINEAR),                                                                                              \n",
    "    # transforms.RandomCrop(input_size),                                                                                                                              \n",
    "    # transforms.RandomHorizontalFlip(),                                                                                                                              \n",
    "    # transforms.ColorJitter(brightness=0.4, saturation=0.4, hue=0.4),                                                                                                \n",
    "    transforms.ToTensor(),                                                                                                                                            \n",
    "    transforms.Normalize(mean, std)                                                                                                                                   \n",
    "       ])         \n",
    "trainset = imagenet.ImageNet(root=\"/media/lincolnzjx/HardDisk/Datasets/\", is_train=True, transform=train_transform)\n",
    "\n",
    "trainset.set_data([950], 30)\n",
    "#image, label, imgs_path = trainset\n",
    "imgs_path = []                                                                                                                                                            \n",
    "images = []\n",
    "labels = []\n",
    "for img, label, img_path in trainset:                                                                                                                                     \n",
    "    images.append(img.unsqueeze(0))                                                                                                                                       \n",
    "    labels.append(label)                                                                                                                                                  \n",
    "    imgs_path.append(img_path)  "
   ]
  },
  {
   "cell_type": "code",
   "execution_count": 24,
   "metadata": {
    "scrolled": true
   },
   "outputs": [
    {
     "data": {
      "text/plain": [
       "['/media/lincolnzjx/HardDisk/Datasets/ilsvrc2012/train/n07747607/n07747607_10061.JPEG',\n",
       " '/media/lincolnzjx/HardDisk/Datasets/ilsvrc2012/train/n07747607/n07747607_10068.JPEG',\n",
       " '/media/lincolnzjx/HardDisk/Datasets/ilsvrc2012/train/n07747607/n07747607_10110.JPEG',\n",
       " '/media/lincolnzjx/HardDisk/Datasets/ilsvrc2012/train/n07747607/n07747607_10134.JPEG',\n",
       " '/media/lincolnzjx/HardDisk/Datasets/ilsvrc2012/train/n07747607/n07747607_10162.JPEG',\n",
       " '/media/lincolnzjx/HardDisk/Datasets/ilsvrc2012/train/n07747607/n07747607_10166.JPEG',\n",
       " '/media/lincolnzjx/HardDisk/Datasets/ilsvrc2012/train/n07747607/n07747607_10178.JPEG',\n",
       " '/media/lincolnzjx/HardDisk/Datasets/ilsvrc2012/train/n07747607/n07747607_10179.JPEG',\n",
       " '/media/lincolnzjx/HardDisk/Datasets/ilsvrc2012/train/n07747607/n07747607_10184.JPEG',\n",
       " '/media/lincolnzjx/HardDisk/Datasets/ilsvrc2012/train/n07747607/n07747607_10192.JPEG',\n",
       " '/media/lincolnzjx/HardDisk/Datasets/ilsvrc2012/train/n07747607/n07747607_10204.JPEG',\n",
       " '/media/lincolnzjx/HardDisk/Datasets/ilsvrc2012/train/n07747607/n07747607_10205.JPEG',\n",
       " '/media/lincolnzjx/HardDisk/Datasets/ilsvrc2012/train/n07747607/n07747607_1021.JPEG',\n",
       " '/media/lincolnzjx/HardDisk/Datasets/ilsvrc2012/train/n07747607/n07747607_10213.JPEG',\n",
       " '/media/lincolnzjx/HardDisk/Datasets/ilsvrc2012/train/n07747607/n07747607_10217.JPEG',\n",
       " '/media/lincolnzjx/HardDisk/Datasets/ilsvrc2012/train/n07747607/n07747607_10232.JPEG',\n",
       " '/media/lincolnzjx/HardDisk/Datasets/ilsvrc2012/train/n07747607/n07747607_10258.JPEG',\n",
       " '/media/lincolnzjx/HardDisk/Datasets/ilsvrc2012/train/n07747607/n07747607_10290.JPEG',\n",
       " '/media/lincolnzjx/HardDisk/Datasets/ilsvrc2012/train/n07747607/n07747607_10305.JPEG',\n",
       " '/media/lincolnzjx/HardDisk/Datasets/ilsvrc2012/train/n07747607/n07747607_10345.JPEG',\n",
       " '/media/lincolnzjx/HardDisk/Datasets/ilsvrc2012/train/n07747607/n07747607_10358.JPEG',\n",
       " '/media/lincolnzjx/HardDisk/Datasets/ilsvrc2012/train/n07747607/n07747607_10379.JPEG',\n",
       " '/media/lincolnzjx/HardDisk/Datasets/ilsvrc2012/train/n07747607/n07747607_10420.JPEG',\n",
       " '/media/lincolnzjx/HardDisk/Datasets/ilsvrc2012/train/n07747607/n07747607_10425.JPEG',\n",
       " '/media/lincolnzjx/HardDisk/Datasets/ilsvrc2012/train/n07747607/n07747607_10436.JPEG',\n",
       " '/media/lincolnzjx/HardDisk/Datasets/ilsvrc2012/train/n07747607/n07747607_10465.JPEG',\n",
       " '/media/lincolnzjx/HardDisk/Datasets/ilsvrc2012/train/n07747607/n07747607_10482.JPEG',\n",
       " '/media/lincolnzjx/HardDisk/Datasets/ilsvrc2012/train/n07747607/n07747607_10485.JPEG',\n",
       " '/media/lincolnzjx/HardDisk/Datasets/ilsvrc2012/train/n07747607/n07747607_10491.JPEG',\n",
       " '/media/lincolnzjx/HardDisk/Datasets/ilsvrc2012/train/n07747607/n07747607_10545.JPEG']"
      ]
     },
     "execution_count": 24,
     "metadata": {},
     "output_type": "execute_result"
    }
   ],
   "source": [
    "imgs_path"
   ]
  },
  {
   "cell_type": "markdown",
   "metadata": {},
   "source": [
    "## 3.2 Load optimized data from given path"
   ]
  },
  {
   "cell_type": "code",
   "execution_count": 25,
   "metadata": {},
   "outputs": [],
   "source": [
    "save_dir = \"../saved/pack/\"\n",
    "################### Hyper-Parameter #######################\n",
    "exp = \"033002\"\n",
    "epoch = \"99900\"\n",
    "##########################################################\n",
    "ab_path = os.path.join(save_dir, exp, epoch)"
   ]
  },
  {
   "cell_type": "code",
   "execution_count": 26,
   "metadata": {
    "scrolled": true
   },
   "outputs": [
    {
     "name": "stdout",
     "output_type": "stream",
     "text": [
      "Load from ../saved/pack/033002/99900/n07747607_10061.JPEG\n",
      "Load from ../saved/pack/033002/99900/n07747607_10068.JPEG\n",
      "Load from ../saved/pack/033002/99900/n07747607_10110.JPEG\n",
      "Load from ../saved/pack/033002/99900/n07747607_10134.JPEG\n",
      "Load from ../saved/pack/033002/99900/n07747607_10162.JPEG\n",
      "Load from ../saved/pack/033002/99900/n07747607_10166.JPEG\n",
      "Load from ../saved/pack/033002/99900/n07747607_10178.JPEG\n",
      "Load from ../saved/pack/033002/99900/n07747607_10179.JPEG\n",
      "Load from ../saved/pack/033002/99900/n07747607_10184.JPEG\n",
      "Load from ../saved/pack/033002/99900/n07747607_10192.JPEG\n",
      "Load from ../saved/pack/033002/99900/n07747607_10204.JPEG\n",
      "Load from ../saved/pack/033002/99900/n07747607_10205.JPEG\n",
      "Load from ../saved/pack/033002/99900/n07747607_1021.JPEG\n",
      "Load from ../saved/pack/033002/99900/n07747607_10213.JPEG\n",
      "Load from ../saved/pack/033002/99900/n07747607_10217.JPEG\n",
      "Load from ../saved/pack/033002/99900/n07747607_10232.JPEG\n",
      "Load from ../saved/pack/033002/99900/n07747607_10258.JPEG\n",
      "Load from ../saved/pack/033002/99900/n07747607_10290.JPEG\n",
      "Load from ../saved/pack/033002/99900/n07747607_10305.JPEG\n",
      "Load from ../saved/pack/033002/99900/n07747607_10345.JPEG\n",
      "Load from ../saved/pack/033002/99900/n07747607_10358.JPEG\n",
      "Load from ../saved/pack/033002/99900/n07747607_10379.JPEG\n",
      "Load from ../saved/pack/033002/99900/n07747607_10420.JPEG\n",
      "Load from ../saved/pack/033002/99900/n07747607_10425.JPEG\n",
      "Load from ../saved/pack/033002/99900/n07747607_10436.JPEG\n",
      "Load from ../saved/pack/033002/99900/n07747607_10465.JPEG\n",
      "Load from ../saved/pack/033002/99900/n07747607_10482.JPEG\n",
      "Load from ../saved/pack/033002/99900/n07747607_10485.JPEG\n",
      "Load from ../saved/pack/033002/99900/n07747607_10491.JPEG\n",
      "Load from ../saved/pack/033002/99900/n07747607_10545.JPEG\n"
     ]
    }
   ],
   "source": [
    "# Load image\n",
    "optimized_data, valid_imgs_path, valid_imgs_index = load_imgs(ab_path, imgs_path, non_exists_ok=True)\n",
    "valid_imgs, valid_labels = extract_valid(images, labels, valid_imgs_index)\n",
    "optimized_data = zscore(optimized_data, mean, std)"
   ]
  },
  {
   "cell_type": "code",
   "execution_count": 27,
   "metadata": {
    "scrolled": true
   },
   "outputs": [
    {
     "data": {
      "text/plain": [
       "{0: 'n07747607_10061',\n",
       " 1: 'n07747607_10068',\n",
       " 2: 'n07747607_10110',\n",
       " 3: 'n07747607_10134',\n",
       " 4: 'n07747607_10162',\n",
       " 5: 'n07747607_10166',\n",
       " 6: 'n07747607_10178',\n",
       " 7: 'n07747607_10179',\n",
       " 8: 'n07747607_10184',\n",
       " 9: 'n07747607_10192',\n",
       " 10: 'n07747607_10204',\n",
       " 11: 'n07747607_10205',\n",
       " 12: 'n07747607_1021',\n",
       " 13: 'n07747607_10213',\n",
       " 14: 'n07747607_10217',\n",
       " 15: 'n07747607_10232',\n",
       " 16: 'n07747607_10258',\n",
       " 17: 'n07747607_10290',\n",
       " 18: 'n07747607_10305',\n",
       " 19: 'n07747607_10345',\n",
       " 20: 'n07747607_10358',\n",
       " 21: 'n07747607_10379',\n",
       " 22: 'n07747607_10420',\n",
       " 23: 'n07747607_10425',\n",
       " 24: 'n07747607_10436',\n",
       " 25: 'n07747607_10465',\n",
       " 26: 'n07747607_10482',\n",
       " 27: 'n07747607_10485',\n",
       " 28: 'n07747607_10491',\n",
       " 29: 'n07747607_10545'}"
      ]
     },
     "execution_count": 27,
     "metadata": {},
     "output_type": "execute_result"
    }
   ],
   "source": [
    "index2image = {index: item.split(\"/\")[-1].split(\".\")[0] for index, item in enumerate(valid_imgs_path)}\n",
    "index2image"
   ]
  },
  {
   "cell_type": "code",
   "execution_count": 28,
   "metadata": {},
   "outputs": [
    {
     "name": "stdout",
     "output_type": "stream",
     "text": [
      "Directory has been created ../saved/pack/033002/DiffMap/\n"
     ]
    }
   ],
   "source": [
    "save_dict = {\n",
    "    \"save_dir\": \"../saved/pack/\"+ exp + \"/DiffMap/\",\n",
    "    \"index2image\": index2image, \n",
    "    \"save_name\": \"{}.pdf\"\n",
    "}\n",
    "\n",
    "try: \n",
    "    os.mkdir(save_dict[\"save_dir\"])\n",
    "except FileExistsError:\n",
    "    print(\"Directory has been created {}\".format(save_dict[\"save_dir\"]))"
   ]
  },
  {
   "cell_type": "code",
   "execution_count": 31,
   "metadata": {},
   "outputs": [],
   "source": [
    "# Move to device\n",
    "opt_image = torch.from_numpy(optimized_data).to(device)\n",
    "original_image = torch.cat(valid_imgs, dim=0).to(device)"
   ]
  },
  {
   "cell_type": "markdown",
   "metadata": {},
   "source": [
    "## 4. Obtain feature from conv layers."
   ]
  },
  {
   "cell_type": "code",
   "execution_count": 32,
   "metadata": {},
   "outputs": [
    {
     "name": "stdout",
     "output_type": "stream",
     "text": [
      "{1: 0, 3: 1, 6: 2, 8: 3, 11: 4, 13: 5, 15: 6, 18: 7, 20: 8, 22: 9, 25: 10, 27: 11, 29: 12}\n"
     ]
    }
   ],
   "source": [
    "# hyper parameter\n",
    "conv_output_indexes = [1, 3, 6, 8, 11, 13, 15, 18, 20, 22, 25, 27, 29]\n",
    "conv_output_indexes_dict = dict(zip(conv_output_indexes, range(len(conv_output_indexes))))\n",
    "print(conv_output_indexes_dict)"
   ]
  },
  {
   "cell_type": "code",
   "execution_count": 37,
   "metadata": {
    "scrolled": true
   },
   "outputs": [
    {
     "name": "stdout",
     "output_type": "stream",
     "text": [
      "0 Conv2d(3, 64, kernel_size=(3, 3), stride=(1, 1), padding=(1, 1)) torch.Size([30, 64, 224, 224])\n",
      "1 ReLU(inplace=True) torch.Size([30, 64, 224, 224])\n",
      "Index:1, ReLU(inplace=True)\n",
      "0.0 17.085962\n",
      "2 Conv2d(64, 64, kernel_size=(3, 3), stride=(1, 1), padding=(1, 1)) torch.Size([30, 64, 224, 224])\n",
      "3 ReLU(inplace=True) torch.Size([30, 64, 224, 224])\n",
      "Index:3, ReLU(inplace=True)\n",
      "0.0 33.326855\n",
      "4 MaxPool2d(kernel_size=2, stride=2, padding=0, dilation=1, ceil_mode=False) torch.Size([30, 64, 112, 112])\n",
      "5 Conv2d(64, 128, kernel_size=(3, 3), stride=(1, 1), padding=(1, 1)) torch.Size([30, 128, 112, 112])\n",
      "6 ReLU(inplace=True) torch.Size([30, 128, 112, 112])\n",
      "Index:6, ReLU(inplace=True)\n",
      "0.0 53.61295\n",
      "7 Conv2d(128, 128, kernel_size=(3, 3), stride=(1, 1), padding=(1, 1)) torch.Size([30, 128, 112, 112])\n",
      "8 ReLU(inplace=True) torch.Size([30, 128, 112, 112])\n",
      "Index:8, ReLU(inplace=True)\n",
      "0.0 74.994286\n",
      "9 MaxPool2d(kernel_size=2, stride=2, padding=0, dilation=1, ceil_mode=False) torch.Size([30, 128, 56, 56])\n",
      "10 Conv2d(128, 256, kernel_size=(3, 3), stride=(1, 1), padding=(1, 1)) torch.Size([30, 256, 56, 56])\n",
      "11 ReLU(inplace=True) torch.Size([30, 256, 56, 56])\n",
      "Index:11, ReLU(inplace=True)\n",
      "0.0 109.14114\n",
      "12 Conv2d(256, 256, kernel_size=(3, 3), stride=(1, 1), padding=(1, 1)) torch.Size([30, 256, 56, 56])\n",
      "13 ReLU(inplace=True) torch.Size([30, 256, 56, 56])\n",
      "Index:13, ReLU(inplace=True)\n",
      "0.0 108.11863\n",
      "14 Conv2d(256, 256, kernel_size=(3, 3), stride=(1, 1), padding=(1, 1)) torch.Size([30, 256, 56, 56])\n",
      "15 ReLU(inplace=True) torch.Size([30, 256, 56, 56])\n",
      "Index:15, ReLU(inplace=True)\n",
      "0.0 168.41791\n",
      "16 MaxPool2d(kernel_size=2, stride=2, padding=0, dilation=1, ceil_mode=False) torch.Size([30, 256, 28, 28])\n",
      "17 Conv2d(256, 512, kernel_size=(3, 3), stride=(1, 1), padding=(1, 1)) torch.Size([30, 512, 28, 28])\n",
      "18 ReLU(inplace=True) torch.Size([30, 512, 28, 28])\n",
      "Index:18, ReLU(inplace=True)\n",
      "0.0 163.86168\n",
      "19 Conv2d(512, 512, kernel_size=(3, 3), stride=(1, 1), padding=(1, 1)) torch.Size([30, 512, 28, 28])\n",
      "20 ReLU(inplace=True) torch.Size([30, 512, 28, 28])\n",
      "Index:20, ReLU(inplace=True)\n",
      "0.0 93.79766\n",
      "21 Conv2d(512, 512, kernel_size=(3, 3), stride=(1, 1), padding=(1, 1)) torch.Size([30, 512, 28, 28])\n",
      "22 ReLU(inplace=True) torch.Size([30, 512, 28, 28])\n",
      "Index:22, ReLU(inplace=True)\n",
      "0.0 80.22331\n",
      "23 MaxPool2d(kernel_size=2, stride=2, padding=0, dilation=1, ceil_mode=False) torch.Size([30, 512, 14, 14])\n",
      "24 Conv2d(512, 512, kernel_size=(3, 3), stride=(1, 1), padding=(1, 1)) torch.Size([30, 512, 14, 14])\n",
      "25 ReLU(inplace=True) torch.Size([30, 512, 14, 14])\n",
      "Index:25, ReLU(inplace=True)\n",
      "0.0 64.92141\n",
      "26 Conv2d(512, 512, kernel_size=(3, 3), stride=(1, 1), padding=(1, 1)) torch.Size([30, 512, 14, 14])\n",
      "27 ReLU(inplace=True) torch.Size([30, 512, 14, 14])\n",
      "Index:27, ReLU(inplace=True)\n",
      "0.0 54.618027\n",
      "28 Conv2d(512, 512, kernel_size=(3, 3), stride=(1, 1), padding=(1, 1)) torch.Size([30, 512, 14, 14])\n",
      "29 ReLU(inplace=True) torch.Size([30, 512, 14, 14])\n",
      "Index:29, ReLU(inplace=True)\n",
      "0.0 42.155357\n",
      "30 MaxPool2d(kernel_size=2, stride=2, padding=0, dilation=1, ceil_mode=False) torch.Size([30, 512, 7, 7])\n",
      "0 Conv2d(3, 64, kernel_size=(3, 3), stride=(1, 1), padding=(1, 1)) torch.Size([30, 64, 224, 224])\n",
      "1 ReLU(inplace=True) torch.Size([30, 64, 224, 224])\n",
      "Index:1, ReLU(inplace=True)\n",
      "0.0 6.7291884\n",
      "2 Conv2d(64, 64, kernel_size=(3, 3), stride=(1, 1), padding=(1, 1)) torch.Size([30, 64, 224, 224])\n",
      "3 ReLU(inplace=True) torch.Size([30, 64, 224, 224])\n",
      "Index:3, ReLU(inplace=True)\n",
      "0.0 20.049963\n",
      "4 MaxPool2d(kernel_size=2, stride=2, padding=0, dilation=1, ceil_mode=False) torch.Size([30, 64, 112, 112])\n",
      "5 Conv2d(64, 128, kernel_size=(3, 3), stride=(1, 1), padding=(1, 1)) torch.Size([30, 128, 112, 112])\n",
      "6 ReLU(inplace=True) torch.Size([30, 128, 112, 112])\n",
      "Index:6, ReLU(inplace=True)\n",
      "0.0 45.088238\n",
      "7 Conv2d(128, 128, kernel_size=(3, 3), stride=(1, 1), padding=(1, 1)) torch.Size([30, 128, 112, 112])\n",
      "8 ReLU(inplace=True) torch.Size([30, 128, 112, 112])\n",
      "Index:8, ReLU(inplace=True)\n",
      "0.0 62.919407\n",
      "9 MaxPool2d(kernel_size=2, stride=2, padding=0, dilation=1, ceil_mode=False) torch.Size([30, 128, 56, 56])\n",
      "10 Conv2d(128, 256, kernel_size=(3, 3), stride=(1, 1), padding=(1, 1)) torch.Size([30, 256, 56, 56])\n",
      "11 ReLU(inplace=True) torch.Size([30, 256, 56, 56])\n",
      "Index:11, ReLU(inplace=True)\n",
      "0.0 74.34891\n",
      "12 Conv2d(256, 256, kernel_size=(3, 3), stride=(1, 1), padding=(1, 1)) torch.Size([30, 256, 56, 56])\n",
      "13 ReLU(inplace=True) torch.Size([30, 256, 56, 56])\n",
      "Index:13, ReLU(inplace=True)\n",
      "0.0 83.30434\n",
      "14 Conv2d(256, 256, kernel_size=(3, 3), stride=(1, 1), padding=(1, 1)) torch.Size([30, 256, 56, 56])\n",
      "15 ReLU(inplace=True) torch.Size([30, 256, 56, 56])\n",
      "Index:15, ReLU(inplace=True)\n",
      "0.0 104.3329\n",
      "16 MaxPool2d(kernel_size=2, stride=2, padding=0, dilation=1, ceil_mode=False) torch.Size([30, 256, 28, 28])\n",
      "17 Conv2d(256, 512, kernel_size=(3, 3), stride=(1, 1), padding=(1, 1)) torch.Size([30, 512, 28, 28])\n",
      "18 ReLU(inplace=True) torch.Size([30, 512, 28, 28])\n",
      "Index:18, ReLU(inplace=True)\n",
      "0.0 85.7685\n",
      "19 Conv2d(512, 512, kernel_size=(3, 3), stride=(1, 1), padding=(1, 1)) torch.Size([30, 512, 28, 28])\n",
      "20 ReLU(inplace=True) torch.Size([30, 512, 28, 28])\n",
      "Index:20, ReLU(inplace=True)\n",
      "0.0 52.710915\n",
      "21 Conv2d(512, 512, kernel_size=(3, 3), stride=(1, 1), padding=(1, 1)) torch.Size([30, 512, 28, 28])\n",
      "22 ReLU(inplace=True) torch.Size([30, 512, 28, 28])\n",
      "Index:22, ReLU(inplace=True)\n",
      "0.0 36.964916\n",
      "23 MaxPool2d(kernel_size=2, stride=2, padding=0, dilation=1, ceil_mode=False) torch.Size([30, 512, 14, 14])\n",
      "24 Conv2d(512, 512, kernel_size=(3, 3), stride=(1, 1), padding=(1, 1)) torch.Size([30, 512, 14, 14])\n",
      "25 ReLU(inplace=True) torch.Size([30, 512, 14, 14])\n",
      "Index:25, ReLU(inplace=True)\n",
      "0.0 31.807987\n",
      "26 Conv2d(512, 512, kernel_size=(3, 3), stride=(1, 1), padding=(1, 1)) torch.Size([30, 512, 14, 14])\n",
      "27 ReLU(inplace=True) torch.Size([30, 512, 14, 14])\n",
      "Index:27, ReLU(inplace=True)\n",
      "0.0 15.729848\n",
      "28 Conv2d(512, 512, kernel_size=(3, 3), stride=(1, 1), padding=(1, 1)) torch.Size([30, 512, 14, 14])\n",
      "29 ReLU(inplace=True) torch.Size([30, 512, 14, 14])\n",
      "Index:29, ReLU(inplace=True)\n",
      "0.0 12.625453\n",
      "30 MaxPool2d(kernel_size=2, stride=2, padding=0, dilation=1, ceil_mode=False) torch.Size([30, 512, 7, 7])\n"
     ]
    }
   ],
   "source": [
    "origin_layer_output, _ = obtain_features_map(original_image, net.model.features, layer_output_indexes=conv_output_indexes)\n",
    "opt_layer_output, _ = obtain_features_map(opt_image, net.model.features, layer_output_indexes=conv_output_indexes)"
   ]
  },
  {
   "cell_type": "markdown",
   "metadata": {},
   "source": [
    "## 5. DiffMap"
   ]
  },
  {
   "cell_type": "code",
   "execution_count": 39,
   "metadata": {},
   "outputs": [
    {
     "data": {
      "text/plain": [
       "13"
      ]
     },
     "execution_count": 39,
     "metadata": {},
     "output_type": "execute_result"
    }
   ],
   "source": []
  },
  {
   "cell_type": "code",
   "execution_count": null,
   "metadata": {},
   "outputs": [],
   "source": []
  }
 ],
 "metadata": {
  "kernelspec": {
   "display_name": "Python 3",
   "language": "python",
   "name": "python3"
  },
  "language_info": {
   "codemirror_mode": {
    "name": "ipython",
    "version": 3
   },
   "file_extension": ".py",
   "mimetype": "text/x-python",
   "name": "python",
   "nbconvert_exporter": "python",
   "pygments_lexer": "ipython3",
   "version": "3.6.10"
  }
 },
 "nbformat": 4,
 "nbformat_minor": 4
}
