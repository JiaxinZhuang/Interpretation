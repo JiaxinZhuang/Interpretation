{
 "cells": [
  {
   "cell_type": "code",
   "execution_count": 1,
   "metadata": {
    "ExecuteTime": {
     "end_time": "2020-07-29T14:08:45.633023Z",
     "start_time": "2020-07-29T14:08:45.613891Z"
    }
   },
   "outputs": [],
   "source": [
    "%load_ext autoreload\n",
    "%autoreload 2\n",
    "%config InlineBackend.figure_format = 'svg'"
   ]
  },
  {
   "cell_type": "code",
   "execution_count": 2,
   "metadata": {
    "ExecuteTime": {
     "end_time": "2020-07-29T14:08:46.423033Z",
     "start_time": "2020-07-29T14:08:45.634520Z"
    }
   },
   "outputs": [],
   "source": [
    "import os\n",
    "os.environ[\"CUDA_DEVICE_ORDER\"] = \"PCI_BUS_ID\"\n",
    "os.environ[\"CUDA_VISIBLE_DEVICES\"] = \"0\"\n",
    "\n",
    "import torch\n",
    "import os\n",
    "import numpy as np\n",
    "from torchsummary import summary\n",
    "from torchvision import transforms                                                                                                                                        \n",
    "from torchvision import models\n",
    "import matplotlib as mpl\n",
    "mpl.rcParams['figure.dpi'] = 600\n",
    "from PIL import Image\n",
    "import pandas as pd\n",
    "\n",
    "import sys\n",
    "sys.path.append(\"../../extra/pytorch-cnn-visualizations/src\")\n",
    "import deep_dream\n",
    "\n",
    "sys.path.append(\"../../src/\")\n",
    "from datasets import imagenet"
   ]
  },
  {
   "cell_type": "markdown",
   "metadata": {},
   "source": [
    "## Hyperparameters."
   ]
  },
  {
   "cell_type": "markdown",
   "metadata": {},
   "source": [
    "## Get Image Path"
   ]
  },
  {
   "cell_type": "code",
   "execution_count": 3,
   "metadata": {
    "ExecuteTime": {
     "end_time": "2020-07-29T14:08:46.437930Z",
     "start_time": "2020-07-29T14:08:46.424204Z"
    }
   },
   "outputs": [],
   "source": [
    "def main(exp, cnn_layer, filter_pos, class_index, device):\n",
    "    num_class = 30\n",
    "    mean = [0.485, 0.456, 0.406]\n",
    "    std = [0.229, 0.224, 0.225]\n",
    "    reverse_mean = [-0.485, -0.456, -0.406]\n",
    "    reverse_std = [1/0.229, 1/0.224, 1/0.225]\n",
    "    train_transform = transforms.Compose([                                                                                                                                \n",
    "        transforms.Resize((224, 224), interpolation=Image.BILINEAR),                                                                                              \n",
    "        transforms.ToTensor(),                                                                                                                                            \n",
    "        #transforms.Normalize(mean, std)                                                                                                                                   \n",
    "           ])         \n",
    "    trainset = imagenet.ImageNet(root=\"/media/lincolnzjx/HardDisk/Datasets/\", \n",
    "                                 is_train=True, transform=train_transform)\n",
    "    \n",
    "    trainset.set_data([class_index], num_class)\n",
    "    imgs_path = []                                                                                                                                                            \n",
    "    images = []\n",
    "    labels = []\n",
    "    for img, label, img_path in trainset:                                                                                                                                     \n",
    "        images.append(img.unsqueeze(0))                                                                                                                                       \n",
    "        labels.append(label)                                                                                                                                                  \n",
    "        imgs_path.append(img_path)  \n",
    "    \n",
    "    ## Create some need path\n",
    "    ################### Hyper-Parameter #######################\n",
    "    # exp = resume_exp\n",
    "    # epoch = resume_epoch\n",
    "    ##########################################################\n",
    "    ab_path = os.path.join(save_dir, exp)\n",
    "    \n",
    "    \n",
    "    index2image = {index: item.split(\"/\")[-1].split(\".\")[0] for index, item \n",
    "                   in enumerate(imgs_path)}\n",
    "    \n",
    "    \n",
    "    pretrained_model = models.vgg16(pretrained=True).features.to(device)\n",
    "    dd = DeepDream(pretrained_model, cnn_layer, filter_pos, exp)\n",
    "    dd.dream() "
   ]
  },
  {
   "cell_type": "markdown",
   "metadata": {
    "ExecuteTime": {
     "end_time": "2020-07-29T10:30:09.372969Z",
     "start_time": "2020-07-29T10:30:09.362671Z"
    }
   },
   "source": [
    "## Main"
   ]
  },
  {
   "cell_type": "markdown",
   "metadata": {},
   "source": [
    "### 14"
   ]
  },
  {
   "cell_type": "code",
   "execution_count": 13,
   "metadata": {
    "ExecuteTime": {
     "end_time": "2020-07-30T09:57:45.679908Z",
     "start_time": "2020-07-30T09:57:45.667003Z"
    }
   },
   "outputs": [],
   "source": [
    "excel_path = \"../analysis/week9/Batches.xlsx\"\n",
    "sheet = \"Others\"\n",
    "excepts = [\"052148\"]"
   ]
  },
  {
   "cell_type": "code",
   "execution_count": 15,
   "metadata": {
    "ExecuteTime": {
     "end_time": "2020-07-30T12:19:48.970859Z",
     "start_time": "2020-07-30T10:04:20.483332Z"
    },
    "scrolled": true
   },
   "outputs": [
    {
     "name": "stdout",
     "output_type": "stream",
     "text": [
      "=> Skip\n",
      "=> RUN  052198 3 20 14\n",
      "Len of new dataset is :30\n",
      "Iteration: 99999 Loss: -0.64\n",
      "(224, 224, 3)\n",
      "Iteration: 99999 Loss: -0.72\n",
      "(224, 224, 3)\n",
      "Iteration: 99999 Loss: -0.62\n",
      "(224, 224, 3)\n",
      "Iteration: 99999 Loss: -0.67\n",
      "(224, 224, 3)\n",
      "Iteration: 99999 Loss: -0.71\n",
      "(224, 224, 3)\n",
      "Iteration: 99999 Loss: -0.63\n",
      "(224, 224, 3)\n",
      "Iteration: 99999 Loss: -0.72\n",
      "(224, 224, 3)\n",
      "Iteration: 99999 Loss: -0.73\n",
      "(224, 224, 3)\n",
      "Iteration: 99999 Loss: -0.73\n",
      "(224, 224, 3)\n",
      "Iteration: 99999 Loss: -0.70\n",
      "(224, 224, 3)\n",
      "Iteration: 99999 Loss: -0.72\n",
      "(224, 224, 3)\n",
      "Iteration: 99999 Loss: -0.70\n",
      "(224, 224, 3)\n",
      "Iteration: 99999 Loss: -0.63\n",
      "(224, 224, 3)\n",
      "Iteration: 99999 Loss: -0.61\n",
      "(224, 224, 3)\n",
      "Iteration: 99999 Loss: -0.64\n",
      "(224, 224, 3)\n",
      "Iteration: 99999 Loss: -0.66\n",
      "(224, 224, 3)\n",
      "Iteration: 99999 Loss: -0.69\n",
      "(224, 224, 3)\n",
      "Iteration: 99999 Loss: -0.72\n",
      "(224, 224, 3)\n",
      "Iteration: 99999 Loss: -0.63\n",
      "(224, 224, 3)\n",
      "Iteration: 99999 Loss: -0.69\n",
      "(224, 224, 3)\n",
      "Iteration: 99999 Loss: -0.65\n",
      "(224, 224, 3)\n",
      "Iteration: 99999 Loss: -0.72\n",
      "(224, 224, 3)\n",
      "Iteration: 99999 Loss: -0.70\n",
      "(224, 224, 3)\n",
      "Iteration: 99999 Loss: -0.61\n",
      "(224, 224, 3)\n",
      "Iteration: 99999 Loss: -0.31\n",
      "(224, 224, 3)\n",
      "Iteration: 99999 Loss: -0.74\n",
      "(224, 224, 3)\n",
      "Iteration: 99999 Loss: -0.62\n",
      "(224, 224, 3)\n",
      "Iteration: 99999 Loss: -0.62\n",
      "(224, 224, 3)\n",
      "Iteration: 99999 Loss: -0.69\n",
      "(224, 224, 3)\n",
      "\n",
      "--------------------------------------------------\n"
     ]
    }
   ],
   "source": [
    "xlsx = pd.ExcelFile(excel_path)\n",
    "excel = pd.read_excel(xlsx, sheet, Sdtype={\"exp\": str, \n",
    "                                           \"selected_layer\": int,\n",
    "                                           \"selected_filter\": int, \n",
    "                                           \"class_index\": int,\n",
    "                                           \"Done\": str}).values\n",
    "\n",
    "device = torch.device(\"cuda:0\" if torch.cuda.is_available() else \"cpu\")\n",
    "\n",
    "for data in excel:\n",
    "    exp, selected_layer, selected_filter, class_index, done = data[0], data[1], \\\n",
    "        data[2], data[3], data[4]\n",
    "    exp = exp.replace(\"x\", \"\")\n",
    "    if exp in excepts:\n",
    "        print(\"=> Skip\")\n",
    "    else:\n",
    "        if done == \"N\":\n",
    "            print(\"=> RUN \", exp, selected_layer, selected_filter, \n",
    "                  class_index)\n",
    "            main(exp, selected_layer, selected_filter, class_index, device)\n",
    "            print(\"\")\n",
    "            print(\"-\"*50)"
   ]
  },
  {
   "cell_type": "markdown",
   "metadata": {
    "ExecuteTime": {
     "end_time": "2020-07-29T11:14:08.251572Z",
     "start_time": "2020-07-29T11:14:08.233951Z"
    }
   },
   "source": [
    "### 950"
   ]
  },
  {
   "cell_type": "code",
   "execution_count": null,
   "metadata": {
    "ExecuteTime": {
     "end_time": "2020-07-30T09:53:37.525966Z",
     "start_time": "2020-07-30T09:53:31.845Z"
    }
   },
   "outputs": [],
   "source": [
    "excel_path = \"../analysis/week9/Batches.xlsx\"\n",
    "sheet = \"950\"\n",
    "excepts = [\"052148\"]"
   ]
  },
  {
   "cell_type": "code",
   "execution_count": null,
   "metadata": {
    "ExecuteTime": {
     "end_time": "2020-07-30T09:53:37.527112Z",
     "start_time": "2020-07-30T09:53:33.941Z"
    },
    "scrolled": true
   },
   "outputs": [],
   "source": [
    "xlsx = pd.ExcelFile(excel_path)\n",
    "excel = pd.read_excel(xlsx, sheet, Sdtype={\"exp\": str, \n",
    "                                           \"selected_layer\": int,\n",
    "                                           \"selected_filter\": int, \n",
    "                                           \"class_index\": int,\n",
    "                                           \"Done\": str}).values\n",
    "\n",
    "device = torch.device(\"cuda:0\" if torch.cuda.is_available() else \"cpu\")\n",
    "\n",
    "for data in excel:\n",
    "    exp, selected_layer, selected_filter, class_index, done = data[0], data[1], \\\n",
    "        data[2], data[3], data[4]\n",
    "    exp = exp.replace(\"x\", \"\")\n",
    "    if exp in excepts:\n",
    "        print(\"=> Skip\")\n",
    "    else:\n",
    "        if done == \"N\":\n",
    "            print(\"=> RUN \", exp, selected_layer, selected_filter, \n",
    "                  class_index)\n",
    "            main(exp, selected_layer, selected_filter, class_index, device)\n",
    "            print(\"\")\n",
    "            print(\"-\"*50)"
   ]
  },
  {
   "cell_type": "code",
   "execution_count": null,
   "metadata": {},
   "outputs": [],
   "source": []
  },
  {
   "cell_type": "code",
   "execution_count": null,
   "metadata": {},
   "outputs": [],
   "source": []
  },
  {
   "cell_type": "code",
   "execution_count": null,
   "metadata": {},
   "outputs": [],
   "source": []
  }
 ],
 "metadata": {
  "kernelspec": {
   "display_name": "Python 3",
   "language": "python",
   "name": "python3"
  },
  "language_info": {
   "codemirror_mode": {
    "name": "ipython",
    "version": 3
   },
   "file_extension": ".py",
   "mimetype": "text/x-python",
   "name": "python",
   "nbconvert_exporter": "python",
   "pygments_lexer": "ipython3",
   "version": "3.6.10"
  },
  "latex_envs": {
   "LaTeX_envs_menu_present": true,
   "autoclose": false,
   "autocomplete": true,
   "bibliofile": "biblio.bib",
   "cite_by": "apalike",
   "current_citInitial": 1,
   "eqLabelWithNumbers": true,
   "eqNumInitial": 1,
   "hotkeys": {
    "equation": "Ctrl-E",
    "itemize": "Ctrl-I"
   },
   "labels_anchors": false,
   "latex_user_defs": false,
   "report_style_numbering": false,
   "user_envs_cfg": false
  },
  "toc": {
   "base_numbering": 1,
   "nav_menu": {},
   "number_sections": true,
   "sideBar": false,
   "skip_h1_title": false,
   "title_cell": "Table of Contents",
   "title_sidebar": "Contents",
   "toc_cell": false,
   "toc_position": {},
   "toc_section_display": true,
   "toc_window_display": false
  },
  "varInspector": {
   "cols": {
    "lenName": 16,
    "lenType": 16,
    "lenVar": 40
   },
   "kernels_config": {
    "python": {
     "delete_cmd_postfix": "",
     "delete_cmd_prefix": "del ",
     "library": "var_list.py",
     "varRefreshCmd": "print(var_dic_list())"
    },
    "r": {
     "delete_cmd_postfix": ") ",
     "delete_cmd_prefix": "rm(",
     "library": "var_list.r",
     "varRefreshCmd": "cat(var_dic_list()) "
    }
   },
   "types_to_exclude": [
    "module",
    "function",
    "builtin_function_or_method",
    "instance",
    "_Feature"
   ],
   "window_display": false
  }
 },
 "nbformat": 4,
 "nbformat_minor": 4
}
