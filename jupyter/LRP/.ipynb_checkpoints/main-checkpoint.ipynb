{
 "cells": [
  {
   "cell_type": "code",
   "execution_count": 1,
   "metadata": {
    "ExecuteTime": {
     "end_time": "2020-07-31T09:54:07.151275Z",
     "start_time": "2020-07-31T09:54:07.139686Z"
    }
   },
   "outputs": [],
   "source": [
    "%load_ext autoreload\n",
    "%autoreload 2\n",
    "%config InlineBackend.figure_format = 'svg'"
   ]
  },
  {
   "cell_type": "code",
   "execution_count": 2,
   "metadata": {
    "ExecuteTime": {
     "end_time": "2020-07-31T09:54:07.477303Z",
     "start_time": "2020-07-31T09:54:07.152350Z"
    }
   },
   "outputs": [],
   "source": [
    "import os\n",
    "os.environ[\"CUDA_DEVICE_ORDER\"] = \"PCI_BUS_ID\"\n",
    "os.environ[\"CUDA_VISIBLE_DEVICES\"] = \"0\"\n",
    "\n",
    "import cv2\n",
    "import torch\n",
    "import numpy \n",
    "import torchvision\n"
   ]
  },
  {
   "cell_type": "code",
   "execution_count": 3,
   "metadata": {
    "ExecuteTime": {
     "end_time": "2020-07-31T09:54:08.088752Z",
     "start_time": "2020-07-31T09:54:07.478333Z"
    }
   },
   "outputs": [],
   "source": [
    "import sys\n",
    "sys.path.append(\"../../src/\")\n",
    "sys.path.append(\"../\")\n",
    "import model\n",
    "from datasets import imagenet\n",
    "import config\n",
    "from aux.utils import obtain_features_map, load_imgs, zscore, extract_valid\n",
    "from aux.visualization import visualize_features_map\n",
    "from utils.visualizations.visualize import concat_imgs, preprocess_arrays\n",
    "from torchvision import transforms                                                                                                                                        \n",
    "from PIL import Image"
   ]
  },
  {
   "cell_type": "code",
   "execution_count": 4,
   "metadata": {
    "ExecuteTime": {
     "end_time": "2020-07-31T09:54:12.238939Z",
     "start_time": "2020-07-31T09:54:08.089739Z"
    }
   },
   "outputs": [
    {
     "name": "stdout",
     "output_type": "stream",
     "text": [
      "Len of new dataset is :30\n"
     ]
    }
   ],
   "source": [
    "num_class = 30\n",
    "class_index = 950\n",
    "mean = [0.485, 0.456, 0.406]\n",
    "std = [0.229, 0.224, 0.225]\n",
    "reverse_mean = [-0.485, -0.456, -0.406]\n",
    "reverse_std = [1/0.229, 1/0.224, 1/0.225]\n",
    "train_transform = transforms.Compose([                                                                                                                                \n",
    "    transforms.Resize((224, 224), interpolation=Image.BILINEAR),                                                                                              \n",
    "    transforms.ToTensor(),                                                                                                                                            \n",
    "    #transforms.Normalize(mean, std)                                                                                                                                   \n",
    "       ])         \n",
    "trainset = imagenet.ImageNet(root=\"/media/lincolnzjx/HardDisk/Datasets/\", \n",
    "                             is_train=True, transform=train_transform)\n",
    "trainset.set_data([class_index], num_class)\n",
    "imgs_path = []                                                                                                                                                            \n",
    "images = []\n",
    "labels = []\n",
    "for img, label, img_path in trainset:                                                                                                                                     \n",
    "    images.append(img.unsqueeze(0))                                                                                                                                       \n",
    "    labels.append(label)                                                                                                                                                  \n",
    "    imgs_path.append(img_path)  "
   ]
  },
  {
   "cell_type": "code",
   "execution_count": 5,
   "metadata": {
    "ExecuteTime": {
     "end_time": "2020-07-31T09:54:12.252650Z",
     "start_time": "2020-07-31T09:54:12.239848Z"
    }
   },
   "outputs": [
    {
     "name": "stdout",
     "output_type": "stream",
     "text": [
      "/home/lincolnzjx/Desktop/Interpretation/jupyter\n"
     ]
    }
   ],
   "source": [
    "cd ../"
   ]
  },
  {
   "cell_type": "code",
   "execution_count": 6,
   "metadata": {
    "ExecuteTime": {
     "end_time": "2020-07-31T09:54:12.269911Z",
     "start_time": "2020-07-31T09:54:12.253909Z"
    }
   },
   "outputs": [
    {
     "name": "stdout",
     "output_type": "stream",
     "text": [
      "/home/lincolnzjx/Desktop/Interpretation\n"
     ]
    }
   ],
   "source": [
    "cd ../"
   ]
  },
  {
   "cell_type": "code",
   "execution_count": 7,
   "metadata": {
    "ExecuteTime": {
     "end_time": "2020-07-31T09:54:12.282788Z",
     "start_time": "2020-07-31T09:54:12.270951Z"
    }
   },
   "outputs": [
    {
     "name": "stdout",
     "output_type": "stream",
     "text": [
      "/home/lincolnzjx/Desktop/Interpretation/extra\n"
     ]
    }
   ],
   "source": [
    "cd extra/"
   ]
  },
  {
   "cell_type": "code",
   "execution_count": 8,
   "metadata": {
    "ExecuteTime": {
     "end_time": "2020-07-31T09:54:12.295603Z",
     "start_time": "2020-07-31T09:54:12.283634Z"
    }
   },
   "outputs": [
    {
     "name": "stdout",
     "output_type": "stream",
     "text": [
      "/home/lincolnzjx/Desktop/Interpretation/extra/tutorial\n"
     ]
    }
   ],
   "source": [
    "cd tutorial/"
   ]
  },
  {
   "cell_type": "code",
   "execution_count": 9,
   "metadata": {
    "ExecuteTime": {
     "end_time": "2020-07-31T09:54:12.310787Z",
     "start_time": "2020-07-31T09:54:12.296465Z"
    }
   },
   "outputs": [],
   "source": [
    "import utilss"
   ]
  },
  {
   "cell_type": "code",
   "execution_count": 10,
   "metadata": {
    "ExecuteTime": {
     "end_time": "2020-07-31T09:54:12.323539Z",
     "start_time": "2020-07-31T09:54:12.311670Z"
    }
   },
   "outputs": [],
   "source": [
    "# img = numpy.array(cv2.imread('castle.jpg'))[...,::-1]/255.0\n",
    "img = images[0][0].permute((1,2,0)).numpy()"
   ]
  },
  {
   "cell_type": "code",
   "execution_count": 11,
   "metadata": {
    "ExecuteTime": {
     "end_time": "2020-07-31T09:54:13.713521Z",
     "start_time": "2020-07-31T09:54:12.324384Z"
    }
   },
   "outputs": [],
   "source": [
    "\n",
    "mean = torch.Tensor([0.485, 0.456, 0.406]).reshape(1,-1,1,1)\n",
    "std  = torch.Tensor([0.229, 0.224, 0.225]).reshape(1,-1,1,1)\n",
    "\n",
    "X = (torch.FloatTensor(img[numpy.newaxis].transpose([0,3,1,2])*1) - mean) / std\n",
    "\n",
    "model = torchvision.models.vgg16(pretrained=True); model.eval()\n",
    "layers = list(model._modules['features']) + utilss.toconv(list(model._modules['classifier']))\n",
    "\n",
    "# L = len(layers)\n",
    "L = 2"
   ]
  },
  {
   "cell_type": "code",
   "execution_count": 12,
   "metadata": {
    "ExecuteTime": {
     "end_time": "2020-07-31T09:54:14.022725Z",
     "start_time": "2020-07-31T09:54:13.714422Z"
    },
    "scrolled": true
   },
   "outputs": [
    {
     "ename": "KeyError",
     "evalue": "302175",
     "output_type": "error",
     "traceback": [
      "\u001b[0;31m---------------------------------------------------------------------------\u001b[0m",
      "\u001b[0;31mKeyError\u001b[0m                                  Traceback (most recent call last)",
      "\u001b[0;32m<ipython-input-12-c2249c1aa69d>\u001b[0m in \u001b[0;36m<module>\u001b[0;34m\u001b[0m\n\u001b[1;32m      5\u001b[0m \u001b[0mind\u001b[0m \u001b[0;34m=\u001b[0m \u001b[0mnumpy\u001b[0m\u001b[0;34m.\u001b[0m\u001b[0margsort\u001b[0m\u001b[0;34m(\u001b[0m\u001b[0;34m-\u001b[0m\u001b[0mscores\u001b[0m\u001b[0;34m)\u001b[0m\u001b[0;34m\u001b[0m\u001b[0;34m\u001b[0m\u001b[0m\n\u001b[1;32m      6\u001b[0m \u001b[0;32mfor\u001b[0m \u001b[0mi\u001b[0m \u001b[0;32min\u001b[0m \u001b[0mind\u001b[0m\u001b[0;34m[\u001b[0m\u001b[0;34m:\u001b[0m\u001b[0;36m10\u001b[0m\u001b[0;34m]\u001b[0m\u001b[0;34m:\u001b[0m\u001b[0;34m\u001b[0m\u001b[0;34m\u001b[0m\u001b[0m\n\u001b[0;32m----> 7\u001b[0;31m     \u001b[0mprint\u001b[0m\u001b[0;34m(\u001b[0m\u001b[0;34m'%20s (%3d): %6.3f'\u001b[0m\u001b[0;34m%\u001b[0m\u001b[0;34m(\u001b[0m\u001b[0mutilss\u001b[0m\u001b[0;34m.\u001b[0m\u001b[0mimgclasses\u001b[0m\u001b[0;34m[\u001b[0m\u001b[0mi\u001b[0m\u001b[0;34m]\u001b[0m\u001b[0;34m[\u001b[0m\u001b[0;34m:\u001b[0m\u001b[0;36m20\u001b[0m\u001b[0;34m]\u001b[0m\u001b[0;34m,\u001b[0m\u001b[0mi\u001b[0m\u001b[0;34m,\u001b[0m\u001b[0mscores\u001b[0m\u001b[0;34m[\u001b[0m\u001b[0mi\u001b[0m\u001b[0;34m]\u001b[0m\u001b[0;34m)\u001b[0m\u001b[0;34m)\u001b[0m\u001b[0;34m\u001b[0m\u001b[0;34m\u001b[0m\u001b[0m\n\u001b[0m",
      "\u001b[0;31mKeyError\u001b[0m: 302175"
     ]
    }
   ],
   "source": [
    "A = [X]+[None]*L\n",
    "for l in range(L): A[l+1] = layers[l].forward(A[l])\n",
    "    \n",
    "scores = numpy.array(A[-1].data.view(-1))\n",
    "ind = numpy.argsort(-scores)\n",
    "# for i in ind[:10]:\n",
    "#     print('%20s (%3d): %6.3f'%(utilss.imgclasses[i][:20],i,scores[i]))"
   ]
  },
  {
   "cell_type": "code",
   "execution_count": 13,
   "metadata": {
    "ExecuteTime": {
     "end_time": "2020-07-31T09:54:32.299117Z",
     "start_time": "2020-07-31T09:54:32.270891Z"
    }
   },
   "outputs": [],
   "source": [
    "# T = torch.FloatTensor((1.0*(numpy.arange(1000)==483).reshape([1,1000,1,1])))\n",
    "\n",
    "T = torch.zeros((3, 64, 224, 224))\n",
    "T[:,16, :,:] = 1\n",
    "\n",
    "R = [None]*L + [(A[-1]*T).data]"
   ]
  },
  {
   "cell_type": "code",
   "execution_count": 14,
   "metadata": {
    "ExecuteTime": {
     "end_time": "2020-07-31T09:54:32.970401Z",
     "start_time": "2020-07-31T09:54:32.918590Z"
    }
   },
   "outputs": [],
   "source": [
    "for l in range(1,L)[::-1]:\n",
    "    \n",
    "    A[l] = (A[l].data).requires_grad_(True)\n",
    "\n",
    "    if isinstance(layers[l],torch.nn.MaxPool2d): layers[l] = torch.nn.AvgPool2d(2)\n",
    "\n",
    "    if isinstance(layers[l],torch.nn.Conv2d) or isinstance(layers[l],torch.nn.AvgPool2d):\n",
    "\n",
    "        if l <= 16:       rho = lambda p: p + 0.25*p.clamp(min=0); incr = lambda z: z+1e-9\n",
    "        if 17 <= l <= 30: rho = lambda p: p;                       incr = lambda z: z+1e-9+0.25*((z**2).mean()**.5).data\n",
    "        if l >= 31:       rho = lambda p: p;                       incr = lambda z: z+1e-9\n",
    "\n",
    "        z = incr(utilss.newlayer(layers[l],rho).forward(A[l]))  # step 1\n",
    "        s = (R[l+1]/z).data                                    # step 2\n",
    "        (z*s).sum().backward(); c = A[l].grad                  # step 3\n",
    "        R[l] = (A[l]*c).data                                   # step 4\n",
    "        \n",
    "    else:\n",
    "        \n",
    "        R[l] = R[l+1]"
   ]
  },
  {
   "cell_type": "code",
   "execution_count": 15,
   "metadata": {
    "ExecuteTime": {
     "end_time": "2020-07-31T09:54:35.590483Z",
     "start_time": "2020-07-31T09:54:35.552462Z"
    }
   },
   "outputs": [
    {
     "data": {
      "image/svg+xml": [
       "<?xml version=\"1.0\" encoding=\"utf-8\" standalone=\"no\"?>\n",
       "<!DOCTYPE svg PUBLIC \"-//W3C//DTD SVG 1.1//EN\"\n",
       "  \"http://www.w3.org/Graphics/SVG/1.1/DTD/svg11.dtd\">\n",
       "<!-- Created with matplotlib (https://matplotlib.org/) -->\n",
       "<svg height=\"122.4pt\" version=\"1.1\" viewBox=\"0 0 122.4 122.4\" width=\"122.4pt\" xmlns=\"http://www.w3.org/2000/svg\" xmlns:xlink=\"http://www.w3.org/1999/xlink\">\n",
       " <defs>\n",
       "  <style type=\"text/css\">\n",
       "*{stroke-linecap:butt;stroke-linejoin:round;}\n",
       "  </style>\n",
       " </defs>\n",
       " <g id=\"figure_1\">\n",
       "  <g id=\"patch_1\">\n",
       "   <path d=\"M 0 122.4 \n",
       "L 122.4 122.4 \n",
       "L 122.4 0 \n",
       "L 0 0 \n",
       "z\n",
       "\" style=\"fill:none;\"/>\n",
       "  </g>\n",
       "  <g id=\"axes_1\">\n",
       "   <g clip-path=\"url(#pecaab82d61)\">\n",
       "    <image height=\"108\" id=\"image354e33319e\" transform=\"scale(1 -1)translate(0 -108)\" width=\"108\" x=\"7.2\" xlink:href=\"data:image/png;base64,\n",
       "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\" y=\"-7.2\"/>\n",
       "   </g>\n",
       "  </g>\n",
       " </g>\n",
       " <defs>\n",
       "  <clipPath id=\"pecaab82d61\">\n",
       "   <rect height=\"108\" width=\"108\" x=\"7.2\" y=\"7.2\"/>\n",
       "  </clipPath>\n",
       " </defs>\n",
       "</svg>\n"
      ],
      "text/plain": [
       "<Figure size 108x108 with 1 Axes>"
      ]
     },
     "metadata": {
      "needs_background": "light"
     },
     "output_type": "display_data"
    }
   ],
   "source": [
    "# for i,l in enumerate([31,21,11,1]):\n",
    "#     utils.heatmap(numpy.array(R[l][0]).sum(axis=0),0.5*i+1.5,0.5*i+1.5)\n",
    "for i,l in enumerate([1]):\n",
    "    utilss.heatmap(numpy.array(R[l][0]).sum(axis=0),0.5*i+1.5,0.5*i+1.5)"
   ]
  },
  {
   "cell_type": "code",
   "execution_count": 16,
   "metadata": {
    "ExecuteTime": {
     "end_time": "2020-07-31T09:54:38.235401Z",
     "start_time": "2020-07-31T09:54:38.151321Z"
    }
   },
   "outputs": [],
   "source": [
    "A[0] = (A[0].data).requires_grad_(True)\n",
    "\n",
    "lb = (A[0].data*0+(0-mean)/std).requires_grad_(True)\n",
    "hb = (A[0].data*0+(1-mean)/std).requires_grad_(True)\n",
    "\n",
    "z = layers[0].forward(A[0]) + 1e-9                                     # step 1 (a)\n",
    "z -= utilss.newlayer(layers[0],lambda p: p.clamp(min=0)).forward(lb)    # step 1 (b)\n",
    "z -= utilss.newlayer(layers[0],lambda p: p.clamp(max=0)).forward(hb)    # step 1 (c)\n",
    "s = (R[1]/z).data                                                      # step 2\n",
    "(z*s).sum().backward(); c,cp,cm = A[0].grad,lb.grad,hb.grad            # step 3\n",
    "R[0] = (A[0]*c+lb*cp+hb*cm).data                                       # step 4"
   ]
  },
  {
   "cell_type": "code",
   "execution_count": 17,
   "metadata": {
    "ExecuteTime": {
     "end_time": "2020-07-31T09:54:41.362745Z",
     "start_time": "2020-07-31T09:54:41.318156Z"
    }
   },
   "outputs": [
    {
     "data": {
      "image/svg+xml": [
       "<?xml version=\"1.0\" encoding=\"utf-8\" standalone=\"no\"?>\n",
       "<!DOCTYPE svg PUBLIC \"-//W3C//DTD SVG 1.1//EN\"\n",
       "  \"http://www.w3.org/Graphics/SVG/1.1/DTD/svg11.dtd\">\n",
       "<!-- Created with matplotlib (https://matplotlib.org/) -->\n",
       "<svg height=\"266.4pt\" version=\"1.1\" viewBox=\"0 0 266.4 266.4\" width=\"266.4pt\" xmlns=\"http://www.w3.org/2000/svg\" xmlns:xlink=\"http://www.w3.org/1999/xlink\">\n",
       " <defs>\n",
       "  <style type=\"text/css\">\n",
       "*{stroke-linecap:butt;stroke-linejoin:round;}\n",
       "  </style>\n",
       " </defs>\n",
       " <g id=\"figure_1\">\n",
       "  <g id=\"patch_1\">\n",
       "   <path d=\"M 0 266.4 \n",
       "L 266.4 266.4 \n",
       "L 266.4 0 \n",
       "L 0 0 \n",
       "z\n",
       "\" style=\"fill:none;\"/>\n",
       "  </g>\n",
       "  <g id=\"axes_1\">\n",
       "   <g clip-path=\"url(#pee4a115282)\">\n",
       "    <image height=\"252\" id=\"imaged6cae22785\" transform=\"scale(1 -1)translate(0 -252)\" width=\"252\" x=\"7.2\" xlink:href=\"data:image/png;base64,\n",
       "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\" y=\"-7.2\"/>\n",
       "   </g>\n",
       "  </g>\n",
       " </g>\n",
       " <defs>\n",
       "  <clipPath id=\"pee4a115282\">\n",
       "   <rect height=\"252\" width=\"252\" x=\"7.2\" y=\"7.2\"/>\n",
       "  </clipPath>\n",
       " </defs>\n",
       "</svg>\n"
      ],
      "text/plain": [
       "<Figure size 252x252 with 1 Axes>"
      ]
     },
     "metadata": {
      "needs_background": "light"
     },
     "output_type": "display_data"
    }
   ],
   "source": [
    "utilss.heatmap(numpy.array(R[0][0]).sum(axis=0),3.5,3.5)"
   ]
  },
  {
   "cell_type": "code",
   "execution_count": null,
   "metadata": {},
   "outputs": [],
   "source": []
  }
 ],
 "metadata": {
  "kernelspec": {
   "display_name": "Python 3",
   "language": "python",
   "name": "python3"
  },
  "language_info": {
   "codemirror_mode": {
    "name": "ipython",
    "version": 3
   },
   "file_extension": ".py",
   "mimetype": "text/x-python",
   "name": "python",
   "nbconvert_exporter": "python",
   "pygments_lexer": "ipython3",
   "version": "3.6.10"
  },
  "latex_envs": {
   "LaTeX_envs_menu_present": true,
   "autoclose": false,
   "autocomplete": true,
   "bibliofile": "biblio.bib",
   "cite_by": "apalike",
   "current_citInitial": 1,
   "eqLabelWithNumbers": true,
   "eqNumInitial": 1,
   "hotkeys": {
    "equation": "Ctrl-E",
    "itemize": "Ctrl-I"
   },
   "labels_anchors": false,
   "latex_user_defs": false,
   "report_style_numbering": false,
   "user_envs_cfg": false
  },
  "toc": {
   "base_numbering": 1,
   "nav_menu": {},
   "number_sections": true,
   "sideBar": false,
   "skip_h1_title": false,
   "title_cell": "Table of Contents",
   "title_sidebar": "Contents",
   "toc_cell": false,
   "toc_position": {},
   "toc_section_display": true,
   "toc_window_display": false
  },
  "varInspector": {
   "cols": {
    "lenName": 16,
    "lenType": 16,
    "lenVar": 40
   },
   "kernels_config": {
    "python": {
     "delete_cmd_postfix": "",
     "delete_cmd_prefix": "del ",
     "library": "var_list.py",
     "varRefreshCmd": "print(var_dic_list())"
    },
    "r": {
     "delete_cmd_postfix": ") ",
     "delete_cmd_prefix": "rm(",
     "library": "var_list.r",
     "varRefreshCmd": "cat(var_dic_list()) "
    }
   },
   "types_to_exclude": [
    "module",
    "function",
    "builtin_function_or_method",
    "instance",
    "_Feature"
   ],
   "window_display": false
  }
 },
 "nbformat": 4,
 "nbformat_minor": 4
}
