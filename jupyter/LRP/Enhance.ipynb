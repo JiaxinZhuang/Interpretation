{
 "cells": [
  {
   "cell_type": "code",
   "execution_count": 1,
   "metadata": {
    "ExecuteTime": {
     "end_time": "2020-11-09T05:15:16.749290Z",
     "start_time": "2020-11-09T05:15:16.737280Z"
    }
   },
   "outputs": [],
   "source": [
    "%load_ext autoreload\n",
    "%autoreload 2\n",
    "%config InlineBackend.figure_format = 'svg'"
   ]
  },
  {
   "cell_type": "code",
   "execution_count": 2,
   "metadata": {
    "ExecuteTime": {
     "end_time": "2020-11-09T05:15:17.844528Z",
     "start_time": "2020-11-09T05:15:16.750356Z"
    }
   },
   "outputs": [],
   "source": [
    "import os\n",
    "os.environ[\"CUDA_DEVICE_ORDER\"] = \"PCI_BUS_ID\"\n",
    "os.environ[\"CUDA_VISIBLE_DEVICES\"] = \"0\"\n",
    "\n",
    "import cv2\n",
    "import torch\n",
    "import numpy as np\n",
    "import numpy \n",
    "import torchvision\n",
    "from torchvision import transforms                                                                                                                                        \n",
    "from PIL import Image\n",
    "from torchsummary import summary\n",
    "import matplotlib.pyplot as plt\n",
    "\n",
    "import sys\n",
    "sys.path.append(\"../../src/\")\n",
    "sys.path.append(\"../\")\n",
    "import model\n",
    "from datasets import imagenet\n",
    "import config\n",
    "from aux.utils import obtain_features_map, load_imgs, zscore, extract_valid\n",
    "from aux.visualization import visualize_features_map\n",
    "from utils.visualizations.visualize import concat_imgs, preprocess_arrays\n",
    "from utils.function import recreate_image"
   ]
  },
  {
   "cell_type": "markdown",
   "metadata": {},
   "source": [
    "# Model"
   ]
  },
  {
   "cell_type": "code",
   "execution_count": 3,
   "metadata": {
    "ExecuteTime": {
     "end_time": "2020-11-09T05:15:21.221322Z",
     "start_time": "2020-11-09T05:15:17.845630Z"
    }
   },
   "outputs": [
    {
     "name": "stdout",
     "output_type": "stream",
     "text": [
      "Entire model.\n",
      "Resume from model from exp: 037 at epoch 0\n"
     ]
    },
    {
     "data": {
      "text/plain": [
       "<All keys matched successfully>"
      ]
     },
     "execution_count": 3,
     "metadata": {},
     "output_type": "execute_result"
    }
   ],
   "source": [
    "# Model for original images\n",
    "backbone = \"vgg16\"\n",
    "device = torch.device(\"cuda:0\" if torch.cuda.is_available() else \"cpu\")\n",
    "net = model.Network(backbone=backbone, num_classes=1000)\n",
    "net.to(device)\n",
    "# resume from model\n",
    "resume = \"037-0\"\n",
    "model_dir = \"/home/lincolnzjx/Desktop/Interpretation/saved/models\"\n",
    "resume_exp = resume.split(\"-\")[0]\n",
    "resume_epoch = resume.split(\"-\")[1]\n",
    "print(\"Resume from model from exp: {} at epoch {}\".format(resume_exp, resume_epoch))\n",
    "resume_path = os.path.join(model_dir, str(resume_exp), str(resume_epoch))\n",
    "ckpt = torch.load(resume_path, map_location=device)\n",
    "net.load_state_dict(ckpt, strict=False) "
   ]
  },
  {
   "cell_type": "markdown",
   "metadata": {},
   "source": [
    "## Main"
   ]
  },
  {
   "cell_type": "code",
   "execution_count": 4,
   "metadata": {
    "ExecuteTime": {
     "end_time": "2020-11-09T05:15:21.236491Z",
     "start_time": "2020-11-09T05:15:21.222556Z"
    }
   },
   "outputs": [
    {
     "name": "stdout",
     "output_type": "stream",
     "text": [
      "/home/lincolnzjx/Desktop/Interpretation/jupyter\n"
     ]
    }
   ],
   "source": [
    "cd ../"
   ]
  },
  {
   "cell_type": "code",
   "execution_count": 5,
   "metadata": {
    "ExecuteTime": {
     "end_time": "2020-11-09T05:15:21.253883Z",
     "start_time": "2020-11-09T05:15:21.237642Z"
    }
   },
   "outputs": [
    {
     "name": "stdout",
     "output_type": "stream",
     "text": [
      "/home/lincolnzjx/Desktop/Interpretation\n"
     ]
    }
   ],
   "source": [
    "cd ../"
   ]
  },
  {
   "cell_type": "code",
   "execution_count": 6,
   "metadata": {
    "ExecuteTime": {
     "end_time": "2020-11-09T05:15:21.269193Z",
     "start_time": "2020-11-09T05:15:21.254822Z"
    }
   },
   "outputs": [
    {
     "name": "stdout",
     "output_type": "stream",
     "text": [
      "/home/lincolnzjx/Desktop/Interpretation/extra\n"
     ]
    }
   ],
   "source": [
    "cd extra/"
   ]
  },
  {
   "cell_type": "code",
   "execution_count": 7,
   "metadata": {
    "ExecuteTime": {
     "end_time": "2020-11-09T05:15:21.284327Z",
     "start_time": "2020-11-09T05:15:21.270282Z"
    }
   },
   "outputs": [
    {
     "name": "stdout",
     "output_type": "stream",
     "text": [
      "/home/lincolnzjx/Desktop/Interpretation/extra/tutorial\n"
     ]
    }
   ],
   "source": [
    "cd tutorial/"
   ]
  },
  {
   "cell_type": "code",
   "execution_count": 8,
   "metadata": {
    "ExecuteTime": {
     "end_time": "2020-11-09T05:15:21.299215Z",
     "start_time": "2020-11-09T05:15:21.285380Z"
    }
   },
   "outputs": [],
   "source": [
    "import utilss"
   ]
  },
  {
   "cell_type": "code",
   "execution_count": 9,
   "metadata": {
    "ExecuteTime": {
     "end_time": "2020-11-09T05:15:22.718863Z",
     "start_time": "2020-11-09T05:15:21.300818Z"
    },
    "scrolled": true
   },
   "outputs": [
    {
     "name": "stdout",
     "output_type": "stream",
     "text": [
      "0 Conv2d(3, 64, kernel_size=(3, 3), stride=(1, 1), padding=(1, 1))\n",
      "1 ReLU(inplace=True)\n",
      "2 Conv2d(64, 64, kernel_size=(3, 3), stride=(1, 1), padding=(1, 1))\n",
      "3 ReLU(inplace=True)\n",
      "4 MaxPool2d(kernel_size=2, stride=2, padding=0, dilation=1, ceil_mode=False)\n",
      "5 Conv2d(64, 128, kernel_size=(3, 3), stride=(1, 1), padding=(1, 1))\n",
      "6 ReLU(inplace=True)\n",
      "7 Conv2d(128, 128, kernel_size=(3, 3), stride=(1, 1), padding=(1, 1))\n",
      "8 ReLU(inplace=True)\n",
      "9 MaxPool2d(kernel_size=2, stride=2, padding=0, dilation=1, ceil_mode=False)\n",
      "10 Conv2d(128, 256, kernel_size=(3, 3), stride=(1, 1), padding=(1, 1))\n",
      "11 ReLU(inplace=True)\n",
      "12 Conv2d(256, 256, kernel_size=(3, 3), stride=(1, 1), padding=(1, 1))\n",
      "13 ReLU(inplace=True)\n",
      "14 Conv2d(256, 256, kernel_size=(3, 3), stride=(1, 1), padding=(1, 1))\n",
      "15 ReLU(inplace=True)\n",
      "16 MaxPool2d(kernel_size=2, stride=2, padding=0, dilation=1, ceil_mode=False)\n",
      "17 Conv2d(256, 512, kernel_size=(3, 3), stride=(1, 1), padding=(1, 1))\n",
      "18 ReLU(inplace=True)\n",
      "19 Conv2d(512, 512, kernel_size=(3, 3), stride=(1, 1), padding=(1, 1))\n",
      "20 ReLU(inplace=True)\n",
      "21 Conv2d(512, 512, kernel_size=(3, 3), stride=(1, 1), padding=(1, 1))\n",
      "22 ReLU(inplace=True)\n",
      "23 MaxPool2d(kernel_size=2, stride=2, padding=0, dilation=1, ceil_mode=False)\n",
      "24 Conv2d(512, 512, kernel_size=(3, 3), stride=(1, 1), padding=(1, 1))\n",
      "25 ReLU(inplace=True)\n",
      "26 Conv2d(512, 512, kernel_size=(3, 3), stride=(1, 1), padding=(1, 1))\n",
      "27 ReLU(inplace=True)\n",
      "28 Conv2d(512, 512, kernel_size=(3, 3), stride=(1, 1), padding=(1, 1))\n",
      "29 ReLU(inplace=True)\n",
      "30 MaxPool2d(kernel_size=2, stride=2, padding=0, dilation=1, ceil_mode=False)\n",
      "31 Conv2d(512, 4096, kernel_size=(7, 7), stride=(1, 1))\n",
      "32 ReLU(inplace=True)\n",
      "33 Dropout(p=0.5, inplace=False)\n",
      "34 Conv2d(4096, 4096, kernel_size=(1, 1), stride=(1, 1))\n",
      "35 ReLU(inplace=True)\n",
      "36 Dropout(p=0.5, inplace=False)\n",
      "37 Conv2d(4096, 1000, kernel_size=(1, 1), stride=(1, 1))\n"
     ]
    }
   ],
   "source": [
    "# Model for LRP\n",
    "model = torchvision.models.vgg16(pretrained=True) \n",
    "model.eval()\n",
    "layers = list(model._modules['features']) + utilss.toconv(list(model._modules['classifier']))\n",
    "for index, layer in enumerate(layers):\n",
    "    print(index, layer)\n",
    "# Image\n",
    "mean = torch.Tensor([0.485, 0.456, 0.406]).reshape(1,-1,1,1)\n",
    "std  = torch.Tensor([0.229, 0.224, 0.225]).reshape(1,-1,1,1)"
   ]
  },
  {
   "cell_type": "markdown",
   "metadata": {},
   "source": [
    "## Main"
   ]
  },
  {
   "cell_type": "code",
   "execution_count": 10,
   "metadata": {
    "ExecuteTime": {
     "end_time": "2020-11-09T05:15:22.734173Z",
     "start_time": "2020-11-09T05:15:22.720111Z"
    }
   },
   "outputs": [],
   "source": [
    "def visualize_sel_fm(net, relevance_img, selected_layer, selected_filter, min_val, max_val): \n",
    "    \"\"\"Visualize single feature map.\n",
    "    Args:\n",
    "        relevance_img: (3, w, h)\n",
    "    \"\"\"\n",
    "    reverse_mean = [-0.485, -0.456, -0.406]\n",
    "    reverse_std = [1/0.229, 1/0.224, 1/0.225]\n",
    "    cm = plt.get_cmap(\"jet\")\n",
    "    opt_activation_maps = net.get_activation_maps(torch.FloatTensor(relevance_img).unsqueeze(dim=0).cuda(), selected_layer)\n",
    "    opt_sel_feature_map = opt_activation_maps[0][0,selected_filter]\n",
    "#     print(opt_activation_maps.max(), opt_activation_maps.min())\n",
    "    opt_sel_feature_map -=min_val\n",
    "    opt_sel_feature_map = np.maximum(0, opt_sel_feature_map)\n",
    "    opt_sel_feature_map /= opt_sel_feature_map.max()\n",
    "    opt_sel_feature_map = np.minimum(1, opt_sel_feature_map)\n",
    "    #plt.imshow(cm(opt_sel_feature_map))\n",
    "    opt_sel_feature_map = cm(opt_sel_feature_map)\n",
    "    return opt_sel_feature_map"
   ]
  },
  {
   "cell_type": "markdown",
   "metadata": {},
   "source": [
    "### Standarization"
   ]
  },
  {
   "cell_type": "code",
   "execution_count": 11,
   "metadata": {
    "ExecuteTime": {
     "end_time": "2020-11-09T05:15:22.751847Z",
     "start_time": "2020-11-09T05:15:22.735070Z"
    }
   },
   "outputs": [],
   "source": [
    "def standalize(relevance, normalized, path):\n",
    "    relevance = np.array(relevance)\n",
    "    print(path)\n",
    "    print(relevance.max(), relevance.min())\n",
    "    normalized_img = X[0].numpy()\n",
    "    relevance_img = relevance * normalized_img\n",
    "    new_image = recreate_image(relevance_img, reverse_mean, reverse_std)\n",
    "    Image.fromarray(new_image).save(path)\n",
    "    return relevance_img"
   ]
  },
  {
   "cell_type": "markdown",
   "metadata": {},
   "source": [
    "### Remove negative"
   ]
  },
  {
   "cell_type": "code",
   "execution_count": 12,
   "metadata": {
    "ExecuteTime": {
     "end_time": "2020-11-09T05:15:22.765742Z",
     "start_time": "2020-11-09T05:15:22.752832Z"
    }
   },
   "outputs": [],
   "source": [
    "def standalize_remove_negative(relevance, normalized, path):\n",
    "    relevance = np.maximum(np.array(relevance), 0)\n",
    "    print(path)\n",
    "    print(relevance.max(), relevance.min())\n",
    "    normalized_img = X[0].numpy()\n",
    "    relevance_img = relevance * normalized_img\n",
    "    new_image = recreate_image(relevance_img, reverse_mean, reverse_std)\n",
    "    Image.fromarray(new_image).save(path)\n",
    "    return relevance_img"
   ]
  },
  {
   "cell_type": "markdown",
   "metadata": {},
   "source": [
    "### Scale"
   ]
  },
  {
   "cell_type": "code",
   "execution_count": 13,
   "metadata": {
    "ExecuteTime": {
     "end_time": "2020-11-09T05:15:22.779701Z",
     "start_time": "2020-11-09T05:15:22.766753Z"
    }
   },
   "outputs": [],
   "source": [
    "def scale_positive(relevance, normalized, path):\n",
    "    relevance = np.maximum(np.array(relevance), 0.0)\n",
    "    relevance -= relevance.min()\n",
    "    relevance /= relevance.max()\n",
    "    normalized_img = X[0].numpy()\n",
    "    relevance_img = relevance * normalized_img\n",
    "    new_image = recreate_image(relevance_img, reverse_mean, reverse_std)\n",
    "    Image.fromarray(new_image).save(path)\n",
    "    return relevance_img"
   ]
  },
  {
   "cell_type": "markdown",
   "metadata": {},
   "source": [
    "### Total Scale"
   ]
  },
  {
   "cell_type": "code",
   "execution_count": 14,
   "metadata": {
    "ExecuteTime": {
     "end_time": "2020-11-09T05:15:22.794235Z",
     "start_time": "2020-11-09T05:15:22.780780Z"
    }
   },
   "outputs": [],
   "source": [
    "def scale_total(relevance, normalized, path):\n",
    "    \"\"\"Scale a single image totally.\n",
    "    Args:\n",
    "        relevance: [3, h, w]\n",
    "        normalize: [3, h, w]\n",
    "    \"\"\"\n",
    "    reverse_mean = [-0.485, -0.456, -0.406]\n",
    "    reverse_std = [1/0.229, 1/0.224, 1/0.225]\n",
    "    relevance = np.array(relevance)\n",
    "    relevance /= np.max(np.abs(relevance))\n",
    "    relevance_img = relevance * normalized[0]\n",
    "#     relevance -= relevance.min()\n",
    "#     relevance /= relevance.max()\n",
    "#     print(relevance.max(), relevance.min())\n",
    "#     print(relevance.shape)\n",
    "#     print(normalized.shape)\n",
    "    new_image = recreate_image(relevance_img, reverse_mean, reverse_std)\n",
    "    if path != None:\n",
    "        Image.fromarray(new_image).save(path)\n",
    "    return relevance_img"
   ]
  },
  {
   "cell_type": "markdown",
   "metadata": {},
   "source": [
    "### Scale abs"
   ]
  },
  {
   "cell_type": "code",
   "execution_count": 15,
   "metadata": {
    "ExecuteTime": {
     "end_time": "2020-11-09T05:15:22.808708Z",
     "start_time": "2020-11-09T05:15:22.795248Z"
    }
   },
   "outputs": [],
   "source": [
    "def scale_abs(relevance, normalized, path=None):\n",
    "    relevance = np.array(relevance)\n",
    "#     relevance -= relevance.min()\n",
    "    relevance /= np.abs(relevance.max())\n",
    "#     normalized_img = normalized.numpy()\n",
    "    print(relevance.max(), relevance.min())\n",
    "    relevance_img = relevance * normalized\n",
    "#     _img\n",
    "#     tmp = relevance_img.copy()\n",
    "#     tmp -= tmp.min()\n",
    "#     tmp /= tmp.max()\n",
    "#     plt.imshow(tmp.transpose(1,2,0))\n",
    "    print(relevance_img.shape)\n",
    "    new_image = recreate_image(relevance_img, reverse_mean, reverse_std)\n",
    "    print(new_image.max(), new_image.min())\n",
    "    if path != None:\n",
    "        Image.fromarray(new_image).save(path)\n",
    "    plt.imshow(new_image)\n",
    "    return relevance_img"
   ]
  },
  {
   "cell_type": "markdown",
   "metadata": {},
   "source": [
    "# Main"
   ]
  },
  {
   "cell_type": "code",
   "execution_count": 16,
   "metadata": {
    "ExecuteTime": {
     "end_time": "2020-11-09T05:15:22.945286Z",
     "start_time": "2020-11-09T05:15:22.809868Z"
    },
    "scrolled": false
   },
   "outputs": [
    {
     "name": "stdout",
     "output_type": "stream",
     "text": [
      "min, max 0.0 10.851536\n"
     ]
    },
    {
     "data": {
      "image/png": "[encoded data removed]",
      "text/plain": [
       "<PIL.Image.Image image mode=RGB size=224x224 at 0x7FF26887E748>"
      ]
     },
     "execution_count": 16,
     "metadata": {},
     "output_type": "execute_result"
    },
    {
     "data": {
      "image/svg+xml": [
       "<?xml version=\"1.0\" encoding=\"utf-8\" standalone=\"no\"?>\n",
       "<!DOCTYPE svg PUBLIC \"-//W3C//DTD SVG 1.1//EN\"\n",
       "  \"http://www.w3.org/Graphics/SVG/1.1/DTD/svg11.dtd\">\n",
       "<!-- Created with matplotlib (https://matplotlib.org/) -->\n",
       "<svg height=\"248.518125pt\" version=\"1.1\" viewBox=\"0 0 251.565 248.518125\" width=\"251.565pt\" xmlns=\"http://www.w3.org/2000/svg\" xmlns:xlink=\"http://www.w3.org/1999/xlink\">\n",
       " <metadata>\n",
       "  <rdf:RDF xmlns:cc=\"http://creativecommons.org/ns#\" xmlns:dc=\"http://purl.org/dc/elements/1.1/\" xmlns:rdf=\"http://www.w3.org/1999/02/22-rdf-syntax-ns#\">\n",
       "   <cc:Work>\n",
       "    <dc:type rdf:resource=\"http://purl.org/dc/dcmitype/StillImage\"/>\n",
       "    <dc:date>2020-11-09T13:15:22.922511</dc:date>\n",
       "    <dc:format>image/svg+xml</dc:format>\n",
       "    <dc:creator>\n",
       "     <cc:Agent>\n",
       "      <dc:title>Matplotlib v3.3.2, https://matplotlib.org/</dc:title>\n",
       "     </cc:Agent>\n",
       "    </dc:creator>\n",
       "   </cc:Work>\n",
       "  </rdf:RDF>\n",
       " </metadata>\n",
       " <defs>\n",
       "  <style type=\"text/css\">*{stroke-linecap:butt;stroke-linejoin:round;}</style>\n",
       " </defs>\n",
       " <g id=\"figure_1\">\n",
       "  <g id=\"patch_1\">\n",
       "   <path d=\"M 0 248.518125 \n",
       "L 251.565 248.518125 \n",
       "L 251.565 0 \n",
       "L 0 0 \n",
       "z\n",
       "\" style=\"fill:none;\"/>\n",
       "  </g>\n",
       "  <g id=\"axes_1\">\n",
       "   <g id=\"patch_2\">\n",
       "    <path d=\"M 26.925 224.64 \n",
       "L 244.365 224.64 \n",
       "L 244.365 7.2 \n",
       "L 26.925 7.2 \n",
       "z\n",
       "\" style=\"fill:#ffffff;\"/>\n",
       "   </g>\n",
       "   <g clip-path=\"url(#p5b90a2d584)\">\n",
       "    <image height=\"218\" id=\"image63de374f99\" transform=\"scale(1 -1)translate(0 -218)\" width=\"218\" x=\"26.925\" xlink:href=\"data:image/png;base64,\n",
       "iVBORw0KGgoAAAANSUhEUgAAANoAAADaCAYAAADAHVzbAAAExElEQVR4nO3dsYuXBRzH8e+jNtQQYUMFNVgSF2SjFUkY1FRDW4EmLU1NQQXZgb+gQKGiwZwKEpcbGspzDIe4oSCiEPICISMIHYJq6Cqkp/9A6Plen4fjXq/9c9+HgzfP9PAbqo6NBfyvdsz9ALAdCA0ChAYBQoMAoUGA0CBAaBAgNAgQGgQIDQKEBgFCgwChQYDQIEBoECA0CBAaBAgNAoQGAUKDAKFBgNAgQGgQIDQIEBoECA0ChAYBQoMAoUGA0CBgqPqq+bNNq5vzJFvMifGXydsjdaZ1+6H6orX/cfi2sb7Yur1deaNBgNAgQGgQIDQIEBoECA0ChAYBQoMAoUGA0CBAaBAgNAgQGgQIDQKEBgG7tuv3ZPvHx1r7B+vVyds73v+1dbu+6c1rfWn6dumH5vHTzf3W5I0GAUKDAKFBgNAgQGgQIDQIEBoECA0ChAYBQoMAoUGA0CBAaBAgNAjYNfcD9CwmL3fW+dblg299OX28fLZ1u+rr3vyDxfTts3t6t1f2NcYXerdn5I0GAUKDAKFBgNAgQGgQIDQIEBoECA0ChAYBQoMAoUGA0CBAaBAgNAgQGgRs6e/RTo3PT96+9tfxzXuQ/+zGGW9Xdb7jq5W9vdNrh6dvD/geDbgOoUGA0CBAaBAgNAgQGgQIDQKEBgFCgwChQYDQIEBoECA0CBAaBAxVx8bZrt+5aM3Hg8Pk7bD4p3W7Xp5+uz450btdG819R+8zmQPjbZO3a8PjrdtVbzT303mjQYDQIEBoECA0CBAaBAgNAoQGAUKDAKFBgNAgQGgQIDQIEBoECA0ChAYB8/5sU/OXk852fgHozGet22vnnmisu9+T7W7up38TVrc807p8pJ6bvF1b6vzPq2q9N+/wRoMAoUGA0CBAaBAgNAgQGgQIDQKEBgFCgwChQYDQIEBoECA0CBAaBAgNAub9Hu3wojW/Z7x78vanuqt1u65dbYxv6N2uB5r736dPT/Yu31ffTR+vL3rHZ+SNBgFCgwChQYDQIEBoECA0CBAaBAgNAoQGAUKDAKFBgNAgQGgQIDQImPczmab7hwuTt7ePV3rH9zZ++ujSI73btb83f/qmydPlQ0dbp9+rlxrrS63bc/JGgwChQYDQIEBoECA0CBAaBAgNAoQGAUKDAKFBgNAgQGgQIDQIEBoECA0ChqqPx96fmP5N2JyWx79b+42a/k3XOx8ut27Xn735wy+en7w9V0+2bt+6Z2P6+PKidXtO3mgQIDQIEBoECA0ChAYBQoMAoUGA0CBAaBAgNAgQGgQIDQKEBgFCg4Ch6rfmZzLvbs6TxB1qrcej904ff9Q6XYufe/t9je3qeKp1+/RwtbWfT++ntrzRIEBoECA0CBAaBAgNAoQGAUKDAKFBgNAgQGgQIDQIEBoECA0ChAYBQoOAoWql+T3axc15km1k97UXWvvPdz7a2r9eb07efjp837q9Ve248kpvv0nPAVyH0CBAaBAgNAgQGgQIDQKEBgFCgwChQYDQIEBoECA0CBAaBAgNAoZ6e+x9JnO5sT35R+t01Wpj6/OeLeepRW/fmI83D63T3mgQIDQIEBoECA0ChAYBQoMAoUGA0CBAaBAgNAgQGgQIDQKEBgFCgwChQcC/JSpy5E8Zf6UAAAAASUVORK5CYII=\" y=\"-6.64\"/>\n",
       "   </g>\n",
       "   <g id=\"matplotlib.axis_1\">\n",
       "    <g id=\"xtick_1\">\n",
       "     <g id=\"line2d_1\">\n",
       "      <defs>\n",
       "       <path d=\"M 0 0 \n",
       "L 0 3.5 \n",
       "\" id=\"m459996b345\" style=\"stroke:#000000;stroke-width:0.8;\"/>\n",
       "      </defs>\n",
       "      <g>\n",
       "       <use style=\"stroke:#000000;stroke-width:0.8;\" x=\"34.690714\" xlink:href=\"#m459996b345\" y=\"224.64\"/>\n",
       "      </g>\n",
       "     </g>\n",
       "     <g id=\"text_1\">\n",
       "      <!-- 0 -->\n",
       "      <g transform=\"translate(31.509464 239.238437)scale(0.1 -0.1)\">\n",
       "       <defs>\n",
       "        <path d=\"M 31.78125 66.40625 \n",
       "Q 24.171875 66.40625 20.328125 58.90625 \n",
       "Q 16.5 51.421875 16.5 36.375 \n",
       "Q 16.5 21.390625 20.328125 13.890625 \n",
       "Q 24.171875 6.390625 31.78125 6.390625 \n",
       "Q 39.453125 6.390625 43.28125 13.890625 \n",
       "Q 47.125 21.390625 47.125 36.375 \n",
       "Q 47.125 51.421875 43.28125 58.90625 \n",
       "Q 39.453125 66.40625 31.78125 66.40625 \n",
       "z\n",
       "M 31.78125 74.21875 \n",
       "Q 44.046875 74.21875 50.515625 64.515625 \n",
       "Q 56.984375 54.828125 56.984375 36.375 \n",
       "Q 56.984375 17.96875 50.515625 8.265625 \n",
       "Q 44.046875 -1.421875 31.78125 -1.421875 \n",
       "Q 19.53125 -1.421875 13.0625 8.265625 \n",
       "Q 6.59375 17.96875 6.59375 36.375 \n",
       "Q 6.59375 54.828125 13.0625 64.515625 \n",
       "Q 19.53125 74.21875 31.78125 74.21875 \n",
       "z\n",
       "\" id=\"DejaVuSans-48\"/>\n",
       "       </defs>\n",
       "       <use xlink:href=\"#DejaVuSans-48\"/>\n",
       "      </g>\n",
       "     </g>\n",
       "    </g>\n",
       "    <g id=\"xtick_2\">\n",
       "     <g id=\"line2d_2\">\n",
       "      <g>\n",
       "       <use style=\"stroke:#000000;stroke-width:0.8;\" x=\"65.753571\" xlink:href=\"#m459996b345\" y=\"224.64\"/>\n",
       "      </g>\n",
       "     </g>\n",
       "     <g id=\"text_2\">\n",
       "      <!-- 2 -->\n",
       "      <g transform=\"translate(62.572321 239.238437)scale(0.1 -0.1)\">\n",
       "       <defs>\n",
       "        <path d=\"M 19.1875 8.296875 \n",
       "L 53.609375 8.296875 \n",
       "L 53.609375 0 \n",
       "L 7.328125 0 \n",
       "L 7.328125 8.296875 \n",
       "Q 12.9375 14.109375 22.625 23.890625 \n",
       "Q 32.328125 33.6875 34.8125 36.53125 \n",
       "Q 39.546875 41.84375 41.421875 45.53125 \n",
       "Q 43.3125 49.21875 43.3125 52.78125 \n",
       "Q 43.3125 58.59375 39.234375 62.25 \n",
       "Q 35.15625 65.921875 28.609375 65.921875 \n",
       "Q 23.96875 65.921875 18.8125 64.3125 \n",
       "Q 13.671875 62.703125 7.8125 59.421875 \n",
       "L 7.8125 69.390625 \n",
       "Q 13.765625 71.78125 18.9375 73 \n",
       "Q 24.125 74.21875 28.421875 74.21875 \n",
       "Q 39.75 74.21875 46.484375 68.546875 \n",
       "Q 53.21875 62.890625 53.21875 53.421875 \n",
       "Q 53.21875 48.921875 51.53125 44.890625 \n",
       "Q 49.859375 40.875 45.40625 35.40625 \n",
       "Q 44.1875 33.984375 37.640625 27.21875 \n",
       "Q 31.109375 20.453125 19.1875 8.296875 \n",
       "z\n",
       "\" id=\"DejaVuSans-50\"/>\n",
       "       </defs>\n",
       "       <use xlink:href=\"#DejaVuSans-50\"/>\n",
       "      </g>\n",
       "     </g>\n",
       "    </g>\n",
       "    <g id=\"xtick_3\">\n",
       "     <g id=\"line2d_3\">\n",
       "      <g>\n",
       "       <use style=\"stroke:#000000;stroke-width:0.8;\" x=\"96.816429\" xlink:href=\"#m459996b345\" y=\"224.64\"/>\n",
       "      </g>\n",
       "     </g>\n",
       "     <g id=\"text_3\">\n",
       "      <!-- 4 -->\n",
       "      <g transform=\"translate(93.635179 239.238437)scale(0.1 -0.1)\">\n",
       "       <defs>\n",
       "        <path d=\"M 37.796875 64.3125 \n",
       "L 12.890625 25.390625 \n",
       "L 37.796875 25.390625 \n",
       "z\n",
       "M 35.203125 72.90625 \n",
       "L 47.609375 72.90625 \n",
       "L 47.609375 25.390625 \n",
       "L 58.015625 25.390625 \n",
       "L 58.015625 17.1875 \n",
       "L 47.609375 17.1875 \n",
       "L 47.609375 0 \n",
       "L 37.796875 0 \n",
       "L 37.796875 17.1875 \n",
       "L 4.890625 17.1875 \n",
       "L 4.890625 26.703125 \n",
       "z\n",
       "\" id=\"DejaVuSans-52\"/>\n",
       "       </defs>\n",
       "       <use xlink:href=\"#DejaVuSans-52\"/>\n",
       "      </g>\n",
       "     </g>\n",
       "    </g>\n",
       "    <g id=\"xtick_4\">\n",
       "     <g id=\"line2d_4\">\n",
       "      <g>\n",
       "       <use style=\"stroke:#000000;stroke-width:0.8;\" x=\"127.879286\" xlink:href=\"#m459996b345\" y=\"224.64\"/>\n",
       "      </g>\n",
       "     </g>\n",
       "     <g id=\"text_4\">\n",
       "      <!-- 6 -->\n",
       "      <g transform=\"translate(124.698036 239.238437)scale(0.1 -0.1)\">\n",
       "       <defs>\n",
       "        <path d=\"M 33.015625 40.375 \n",
       "Q 26.375 40.375 22.484375 35.828125 \n",
       "Q 18.609375 31.296875 18.609375 23.390625 \n",
       "Q 18.609375 15.53125 22.484375 10.953125 \n",
       "Q 26.375 6.390625 33.015625 6.390625 \n",
       "Q 39.65625 6.390625 43.53125 10.953125 \n",
       "Q 47.40625 15.53125 47.40625 23.390625 \n",
       "Q 47.40625 31.296875 43.53125 35.828125 \n",
       "Q 39.65625 40.375 33.015625 40.375 \n",
       "z\n",
       "M 52.59375 71.296875 \n",
       "L 52.59375 62.3125 \n",
       "Q 48.875 64.0625 45.09375 64.984375 \n",
       "Q 41.3125 65.921875 37.59375 65.921875 \n",
       "Q 27.828125 65.921875 22.671875 59.328125 \n",
       "Q 17.53125 52.734375 16.796875 39.40625 \n",
       "Q 19.671875 43.65625 24.015625 45.921875 \n",
       "Q 28.375 48.1875 33.59375 48.1875 \n",
       "Q 44.578125 48.1875 50.953125 41.515625 \n",
       "Q 57.328125 34.859375 57.328125 23.390625 \n",
       "Q 57.328125 12.15625 50.6875 5.359375 \n",
       "Q 44.046875 -1.421875 33.015625 -1.421875 \n",
       "Q 20.359375 -1.421875 13.671875 8.265625 \n",
       "Q 6.984375 17.96875 6.984375 36.375 \n",
       "Q 6.984375 53.65625 15.1875 63.9375 \n",
       "Q 23.390625 74.21875 37.203125 74.21875 \n",
       "Q 40.921875 74.21875 44.703125 73.484375 \n",
       "Q 48.484375 72.75 52.59375 71.296875 \n",
       "z\n",
       "\" id=\"DejaVuSans-54\"/>\n",
       "       </defs>\n",
       "       <use xlink:href=\"#DejaVuSans-54\"/>\n",
       "      </g>\n",
       "     </g>\n",
       "    </g>\n",
       "    <g id=\"xtick_5\">\n",
       "     <g id=\"line2d_5\">\n",
       "      <g>\n",
       "       <use style=\"stroke:#000000;stroke-width:0.8;\" x=\"158.942143\" xlink:href=\"#m459996b345\" y=\"224.64\"/>\n",
       "      </g>\n",
       "     </g>\n",
       "     <g id=\"text_5\">\n",
       "      <!-- 8 -->\n",
       "      <g transform=\"translate(155.760893 239.238437)scale(0.1 -0.1)\">\n",
       "       <defs>\n",
       "        <path d=\"M 31.78125 34.625 \n",
       "Q 24.75 34.625 20.71875 30.859375 \n",
       "Q 16.703125 27.09375 16.703125 20.515625 \n",
       "Q 16.703125 13.921875 20.71875 10.15625 \n",
       "Q 24.75 6.390625 31.78125 6.390625 \n",
       "Q 38.8125 6.390625 42.859375 10.171875 \n",
       "Q 46.921875 13.96875 46.921875 20.515625 \n",
       "Q 46.921875 27.09375 42.890625 30.859375 \n",
       "Q 38.875 34.625 31.78125 34.625 \n",
       "z\n",
       "M 21.921875 38.8125 \n",
       "Q 15.578125 40.375 12.03125 44.71875 \n",
       "Q 8.5 49.078125 8.5 55.328125 \n",
       "Q 8.5 64.0625 14.71875 69.140625 \n",
       "Q 20.953125 74.21875 31.78125 74.21875 \n",
       "Q 42.671875 74.21875 48.875 69.140625 \n",
       "Q 55.078125 64.0625 55.078125 55.328125 \n",
       "Q 55.078125 49.078125 51.53125 44.71875 \n",
       "Q 48 40.375 41.703125 38.8125 \n",
       "Q 48.828125 37.15625 52.796875 32.3125 \n",
       "Q 56.78125 27.484375 56.78125 20.515625 \n",
       "Q 56.78125 9.90625 50.3125 4.234375 \n",
       "Q 43.84375 -1.421875 31.78125 -1.421875 \n",
       "Q 19.734375 -1.421875 13.25 4.234375 \n",
       "Q 6.78125 9.90625 6.78125 20.515625 \n",
       "Q 6.78125 27.484375 10.78125 32.3125 \n",
       "Q 14.796875 37.15625 21.921875 38.8125 \n",
       "z\n",
       "M 18.3125 54.390625 \n",
       "Q 18.3125 48.734375 21.84375 45.5625 \n",
       "Q 25.390625 42.390625 31.78125 42.390625 \n",
       "Q 38.140625 42.390625 41.71875 45.5625 \n",
       "Q 45.3125 48.734375 45.3125 54.390625 \n",
       "Q 45.3125 60.0625 41.71875 63.234375 \n",
       "Q 38.140625 66.40625 31.78125 66.40625 \n",
       "Q 25.390625 66.40625 21.84375 63.234375 \n",
       "Q 18.3125 60.0625 18.3125 54.390625 \n",
       "z\n",
       "\" id=\"DejaVuSans-56\"/>\n",
       "       </defs>\n",
       "       <use xlink:href=\"#DejaVuSans-56\"/>\n",
       "      </g>\n",
       "     </g>\n",
       "    </g>\n",
       "    <g id=\"xtick_6\">\n",
       "     <g id=\"line2d_6\">\n",
       "      <g>\n",
       "       <use style=\"stroke:#000000;stroke-width:0.8;\" x=\"190.005\" xlink:href=\"#m459996b345\" y=\"224.64\"/>\n",
       "      </g>\n",
       "     </g>\n",
       "     <g id=\"text_6\">\n",
       "      <!-- 10 -->\n",
       "      <g transform=\"translate(183.6425 239.238437)scale(0.1 -0.1)\">\n",
       "       <defs>\n",
       "        <path d=\"M 12.40625 8.296875 \n",
       "L 28.515625 8.296875 \n",
       "L 28.515625 63.921875 \n",
       "L 10.984375 60.40625 \n",
       "L 10.984375 69.390625 \n",
       "L 28.421875 72.90625 \n",
       "L 38.28125 72.90625 \n",
       "L 38.28125 8.296875 \n",
       "L 54.390625 8.296875 \n",
       "L 54.390625 0 \n",
       "L 12.40625 0 \n",
       "z\n",
       "\" id=\"DejaVuSans-49\"/>\n",
       "       </defs>\n",
       "       <use xlink:href=\"#DejaVuSans-49\"/>\n",
       "       <use x=\"63.623047\" xlink:href=\"#DejaVuSans-48\"/>\n",
       "      </g>\n",
       "     </g>\n",
       "    </g>\n",
       "    <g id=\"xtick_7\">\n",
       "     <g id=\"line2d_7\">\n",
       "      <g>\n",
       "       <use style=\"stroke:#000000;stroke-width:0.8;\" x=\"221.067857\" xlink:href=\"#m459996b345\" y=\"224.64\"/>\n",
       "      </g>\n",
       "     </g>\n",
       "     <g id=\"text_7\">\n",
       "      <!-- 12 -->\n",
       "      <g transform=\"translate(214.705357 239.238437)scale(0.1 -0.1)\">\n",
       "       <use xlink:href=\"#DejaVuSans-49\"/>\n",
       "       <use x=\"63.623047\" xlink:href=\"#DejaVuSans-50\"/>\n",
       "      </g>\n",
       "     </g>\n",
       "    </g>\n",
       "   </g>\n",
       "   <g id=\"matplotlib.axis_2\">\n",
       "    <g id=\"ytick_1\">\n",
       "     <g id=\"line2d_8\">\n",
       "      <defs>\n",
       "       <path d=\"M 0 0 \n",
       "L -3.5 0 \n",
       "\" id=\"md538d1387d\" style=\"stroke:#000000;stroke-width:0.8;\"/>\n",
       "      </defs>\n",
       "      <g>\n",
       "       <use style=\"stroke:#000000;stroke-width:0.8;\" x=\"26.925\" xlink:href=\"#md538d1387d\" y=\"14.965714\"/>\n",
       "      </g>\n",
       "     </g>\n",
       "     <g id=\"text_8\">\n",
       "      <!-- 0 -->\n",
       "      <g transform=\"translate(13.5625 18.764933)scale(0.1 -0.1)\">\n",
       "       <use xlink:href=\"#DejaVuSans-48\"/>\n",
       "      </g>\n",
       "     </g>\n",
       "    </g>\n",
       "    <g id=\"ytick_2\">\n",
       "     <g id=\"line2d_9\">\n",
       "      <g>\n",
       "       <use style=\"stroke:#000000;stroke-width:0.8;\" x=\"26.925\" xlink:href=\"#md538d1387d\" y=\"46.028571\"/>\n",
       "      </g>\n",
       "     </g>\n",
       "     <g id=\"text_9\">\n",
       "      <!-- 2 -->\n",
       "      <g transform=\"translate(13.5625 49.82779)scale(0.1 -0.1)\">\n",
       "       <use xlink:href=\"#DejaVuSans-50\"/>\n",
       "      </g>\n",
       "     </g>\n",
       "    </g>\n",
       "    <g id=\"ytick_3\">\n",
       "     <g id=\"line2d_10\">\n",
       "      <g>\n",
       "       <use style=\"stroke:#000000;stroke-width:0.8;\" x=\"26.925\" xlink:href=\"#md538d1387d\" y=\"77.091429\"/>\n",
       "      </g>\n",
       "     </g>\n",
       "     <g id=\"text_10\">\n",
       "      <!-- 4 -->\n",
       "      <g transform=\"translate(13.5625 80.890647)scale(0.1 -0.1)\">\n",
       "       <use xlink:href=\"#DejaVuSans-52\"/>\n",
       "      </g>\n",
       "     </g>\n",
       "    </g>\n",
       "    <g id=\"ytick_4\">\n",
       "     <g id=\"line2d_11\">\n",
       "      <g>\n",
       "       <use style=\"stroke:#000000;stroke-width:0.8;\" x=\"26.925\" xlink:href=\"#md538d1387d\" y=\"108.154286\"/>\n",
       "      </g>\n",
       "     </g>\n",
       "     <g id=\"text_11\">\n",
       "      <!-- 6 -->\n",
       "      <g transform=\"translate(13.5625 111.953504)scale(0.1 -0.1)\">\n",
       "       <use xlink:href=\"#DejaVuSans-54\"/>\n",
       "      </g>\n",
       "     </g>\n",
       "    </g>\n",
       "    <g id=\"ytick_5\">\n",
       "     <g id=\"line2d_12\">\n",
       "      <g>\n",
       "       <use style=\"stroke:#000000;stroke-width:0.8;\" x=\"26.925\" xlink:href=\"#md538d1387d\" y=\"139.217143\"/>\n",
       "      </g>\n",
       "     </g>\n",
       "     <g id=\"text_12\">\n",
       "      <!-- 8 -->\n",
       "      <g transform=\"translate(13.5625 143.016362)scale(0.1 -0.1)\">\n",
       "       <use xlink:href=\"#DejaVuSans-56\"/>\n",
       "      </g>\n",
       "     </g>\n",
       "    </g>\n",
       "    <g id=\"ytick_6\">\n",
       "     <g id=\"line2d_13\">\n",
       "      <g>\n",
       "       <use style=\"stroke:#000000;stroke-width:0.8;\" x=\"26.925\" xlink:href=\"#md538d1387d\" y=\"170.28\"/>\n",
       "      </g>\n",
       "     </g>\n",
       "     <g id=\"text_13\">\n",
       "      <!-- 10 -->\n",
       "      <g transform=\"translate(7.2 174.079219)scale(0.1 -0.1)\">\n",
       "       <use xlink:href=\"#DejaVuSans-49\"/>\n",
       "       <use x=\"63.623047\" xlink:href=\"#DejaVuSans-48\"/>\n",
       "      </g>\n",
       "     </g>\n",
       "    </g>\n",
       "    <g id=\"ytick_7\">\n",
       "     <g id=\"line2d_14\">\n",
       "      <g>\n",
       "       <use style=\"stroke:#000000;stroke-width:0.8;\" x=\"26.925\" xlink:href=\"#md538d1387d\" y=\"201.342857\"/>\n",
       "      </g>\n",
       "     </g>\n",
       "     <g id=\"text_14\">\n",
       "      <!-- 12 -->\n",
       "      <g transform=\"translate(7.2 205.142076)scale(0.1 -0.1)\">\n",
       "       <use xlink:href=\"#DejaVuSans-49\"/>\n",
       "       <use x=\"63.623047\" xlink:href=\"#DejaVuSans-50\"/>\n",
       "      </g>\n",
       "     </g>\n",
       "    </g>\n",
       "   </g>\n",
       "   <g id=\"patch_3\">\n",
       "    <path d=\"M 26.925 224.64 \n",
       "L 26.925 7.2 \n",
       "\" style=\"fill:none;stroke:#000000;stroke-linecap:square;stroke-linejoin:miter;stroke-width:0.8;\"/>\n",
       "   </g>\n",
       "   <g id=\"patch_4\">\n",
       "    <path d=\"M 244.365 224.64 \n",
       "L 244.365 7.2 \n",
       "\" style=\"fill:none;stroke:#000000;stroke-linecap:square;stroke-linejoin:miter;stroke-width:0.8;\"/>\n",
       "   </g>\n",
       "   <g id=\"patch_5\">\n",
       "    <path d=\"M 26.925 224.64 \n",
       "L 244.365 224.64 \n",
       "\" style=\"fill:none;stroke:#000000;stroke-linecap:square;stroke-linejoin:miter;stroke-width:0.8;\"/>\n",
       "   </g>\n",
       "   <g id=\"patch_6\">\n",
       "    <path d=\"M 26.925 7.2 \n",
       "L 244.365 7.2 \n",
       "\" style=\"fill:none;stroke:#000000;stroke-linecap:square;stroke-linejoin:miter;stroke-width:0.8;\"/>\n",
       "   </g>\n",
       "  </g>\n",
       " </g>\n",
       " <defs>\n",
       "  <clipPath id=\"p5b90a2d584\">\n",
       "   <rect height=\"217.44\" width=\"217.44\" x=\"26.925\" y=\"7.2\"/>\n",
       "  </clipPath>\n",
       " </defs>\n",
       "</svg>\n"
      ],
      "text/plain": [
       "<Figure size 432x288 with 1 Axes>"
      ]
     },
     "metadata": {
      "needs_background": "light"
     },
     "output_type": "display_data"
    }
   ],
   "source": [
    "selected_layer = 25\n",
    "selected_filter = 1\n",
    "\n",
    "ori_path = '/media/lincolnzjx/HardDisk/myGithub/Interpretation/generated/twy/101900/n07747607_10061_9497_best.png'\n",
    "opt_path = '/media/lincolnzjx/HardDisk/myGithub/Interpretation/generated/twy/101900/n07747607_10061_9497_best.png'\n",
    "\n",
    "ori = Image.open(ori_path).resize((224, 224))\n",
    "\n",
    "cm = plt.get_cmap(\"jet\")\n",
    "ori_arr = np.array(ori)/255\n",
    "ori_nor = (torch.FloatTensor(ori_arr[numpy.newaxis].transpose([0,3,1,2])*1) - mean) / std\n",
    "ori_activation_maps = net.get_activation_maps(ori_nor.cuda(), selected_layer)\n",
    "sel_feature_map = ori_activation_maps[0][0,selected_filter]\n",
    "min_val = sel_feature_map.min()\n",
    "sel_feature_map -= min_val\n",
    "max_val = sel_feature_map.max()\n",
    "sel_feature_map /= max_val\n",
    "print(\"min, max\" ,min_val, max_val)\n",
    "\n",
    "img = Image.open(opt_path).resize((224, 224))\n",
    "img_arr = np.array(img)/255\n",
    "X = (torch.FloatTensor(img_arr[numpy.newaxis].transpose([0,3,1,2])*1) - mean) / std\n",
    "fm = visualize_sel_fm(net, X[0].contiguous(), selected_layer, selected_filter, min_val, max_val)\n",
    "plt.imshow(fm)\n",
    "img"
   ]
  },
  {
   "cell_type": "code",
   "execution_count": 17,
   "metadata": {
    "ExecuteTime": {
     "end_time": "2020-11-09T05:15:23.000680Z",
     "start_time": "2020-11-09T05:15:22.946304Z"
    },
    "scrolled": true
   },
   "outputs": [
    {
     "data": {
      "image/svg+xml": [
       "<?xml version=\"1.0\" encoding=\"utf-8\" standalone=\"no\"?>\n",
       "<!DOCTYPE svg PUBLIC \"-//W3C//DTD SVG 1.1//EN\"\n",
       "  \"http://www.w3.org/Graphics/SVG/1.1/DTD/svg11.dtd\">\n",
       "<!-- Created with matplotlib (https://matplotlib.org/) -->\n",
       "<svg height=\"230.4pt\" version=\"1.1\" viewBox=\"0 0 230.4 230.4\" width=\"230.4pt\" xmlns=\"http://www.w3.org/2000/svg\" xmlns:xlink=\"http://www.w3.org/1999/xlink\">\n",
       " <metadata>\n",
       "  <rdf:RDF xmlns:cc=\"http://creativecommons.org/ns#\" xmlns:dc=\"http://purl.org/dc/elements/1.1/\" xmlns:rdf=\"http://www.w3.org/1999/02/22-rdf-syntax-ns#\">\n",
       "   <cc:Work>\n",
       "    <dc:type rdf:resource=\"http://purl.org/dc/dcmitype/StillImage\"/>\n",
       "    <dc:date>2020-11-09T13:15:22.985546</dc:date>\n",
       "    <dc:format>image/svg+xml</dc:format>\n",
       "    <dc:creator>\n",
       "     <cc:Agent>\n",
       "      <dc:title>Matplotlib v3.3.2, https://matplotlib.org/</dc:title>\n",
       "     </cc:Agent>\n",
       "    </dc:creator>\n",
       "   </cc:Work>\n",
       "  </rdf:RDF>\n",
       " </metadata>\n",
       " <defs>\n",
       "  <style type=\"text/css\">*{stroke-linecap:butt;stroke-linejoin:round;}</style>\n",
       " </defs>\n",
       " <g id=\"figure_1\">\n",
       "  <g id=\"patch_1\">\n",
       "   <path d=\"M 0 230.4 \n",
       "L 230.4 230.4 \n",
       "L 230.4 0 \n",
       "L 0 0 \n",
       "z\n",
       "\" style=\"fill:none;\"/>\n",
       "  </g>\n",
       "  <g id=\"axes_1\">\n",
       "   <g clip-path=\"url(#p19ac64dcd9)\">\n",
       "    <image height=\"216\" id=\"image358abe1162\" transform=\"scale(1 -1)translate(0 -216)\" width=\"216\" x=\"7.2\" xlink:href=\"data:image/png;base64,\n",
       "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\" y=\"-7.2\"/>\n",
       "   </g>\n",
       "  </g>\n",
       " </g>\n",
       " <defs>\n",
       "  <clipPath id=\"p19ac64dcd9\">\n",
       "   <rect height=\"216\" width=\"216\" x=\"7.2\" y=\"7.2\"/>\n",
       "  </clipPath>\n",
       " </defs>\n",
       "</svg>\n"
      ],
      "text/plain": [
       "<Figure size 216x216 with 1 Axes>"
      ]
     },
     "metadata": {
      "needs_background": "light"
     },
     "output_type": "display_data"
    }
   ],
   "source": [
    "utilss.heatmap(X[0].numpy().sum(axis=0), 3, 3)"
   ]
  }
 ],
 "metadata": {
  "kernelspec": {
   "display_name": "Python 3",
   "language": "python",
   "name": "python3"
  },
  "language_info": {
   "codemirror_mode": {
    "name": "ipython",
    "version": 3
   },
   "file_extension": ".py",
   "mimetype": "text/x-python",
   "name": "python",
   "nbconvert_exporter": "python",
   "pygments_lexer": "ipython3",
   "version": "3.6.10"
  },
  "latex_envs": {
   "LaTeX_envs_menu_present": true,
   "autoclose": false,
   "autocomplete": true,
   "bibliofile": "biblio.bib",
   "cite_by": "apalike",
   "current_citInitial": 1,
   "eqLabelWithNumbers": true,
   "eqNumInitial": 1,
   "hotkeys": {
    "equation": "Ctrl-E",
    "itemize": "Ctrl-I"
   },
   "labels_anchors": false,
   "latex_user_defs": false,
   "report_style_numbering": false,
   "user_envs_cfg": false
  },
  "toc": {
   "base_numbering": 1,
   "nav_menu": {},
   "number_sections": true,
   "sideBar": false,
   "skip_h1_title": false,
   "title_cell": "Table of Contents",
   "title_sidebar": "Contents",
   "toc_cell": false,
   "toc_position": {
    "height": "861px",
    "left": "10px",
    "top": "150px",
    "width": "191.391px"
   },
   "toc_section_display": true,
   "toc_window_display": true
  },
  "varInspector": {
   "cols": {
    "lenName": 16,
    "lenType": 16,
    "lenVar": 40
   },
   "kernels_config": {
    "python": {
     "delete_cmd_postfix": "",
     "delete_cmd_prefix": "del ",
     "library": "var_list.py",
     "varRefreshCmd": "print(var_dic_list())"
    },
    "r": {
     "delete_cmd_postfix": ") ",
     "delete_cmd_prefix": "rm(",
     "library": "var_list.r",
     "varRefreshCmd": "cat(var_dic_list()) "
    }
   },
   "types_to_exclude": [
    "module",
    "function",
    "builtin_function_or_method",
    "instance",
    "_Feature"
   ],
   "window_display": false
  }
 },
 "nbformat": 4,
 "nbformat_minor": 4
}
