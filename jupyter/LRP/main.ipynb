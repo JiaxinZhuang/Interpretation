{
 "cells": [
  {
   "cell_type": "code",
   "execution_count": 46,
   "metadata": {
    "ExecuteTime": {
     "end_time": "2020-08-12T10:34:45.137370Z",
     "start_time": "2020-08-12T10:34:45.064302Z"
    }
   },
   "outputs": [
    {
     "name": "stdout",
     "output_type": "stream",
     "text": [
      "The autoreload extension is already loaded. To reload it, use:\n",
      "  %reload_ext autoreload\n"
     ]
    }
   ],
   "source": [
    "%load_ext autoreload\n",
    "%autoreload 2\n",
    "%config InlineBackend.figure_format = 'svg'"
   ]
  },
  {
   "cell_type": "code",
   "execution_count": 48,
   "metadata": {
    "ExecuteTime": {
     "end_time": "2020-08-12T10:34:48.410929Z",
     "start_time": "2020-08-12T10:34:48.391493Z"
    }
   },
   "outputs": [],
   "source": [
    "import os\n",
    "os.environ[\"CUDA_DEVICE_ORDER\"] = \"PCI_BUS_ID\"\n",
    "os.environ[\"CUDA_VISIBLE_DEVICES\"] = \"0\"\n",
    "\n",
    "import cv2\n",
    "import torch\n",
    "import numpy \n",
    "import torchvision"
   ]
  },
  {
   "cell_type": "code",
   "execution_count": 49,
   "metadata": {
    "ExecuteTime": {
     "end_time": "2020-08-12T10:34:49.448657Z",
     "start_time": "2020-08-12T10:34:49.431980Z"
    }
   },
   "outputs": [],
   "source": [
    "import sys\n",
    "sys.path.append(\"../../src/\")\n",
    "sys.path.append(\"../\")\n",
    "import model\n",
    "from datasets import imagenet\n",
    "import config\n",
    "from aux.utils import obtain_features_map, load_imgs, zscore, extract_valid\n",
    "from aux.visualization import visualize_features_map\n",
    "from utils.visualizations.visualize import concat_imgs, preprocess_arrays\n",
    "from torchvision import transforms                                                                                                                                        \n",
    "from PIL import Image"
   ]
  },
  {
   "cell_type": "code",
   "execution_count": 50,
   "metadata": {
    "ExecuteTime": {
     "end_time": "2020-08-12T10:34:55.261911Z",
     "start_time": "2020-08-12T10:34:50.983457Z"
    }
   },
   "outputs": [
    {
     "name": "stdout",
     "output_type": "stream",
     "text": [
      "Len of new dataset is :30\n"
     ]
    }
   ],
   "source": [
    "num_class = 30\n",
    "class_index = 950\n",
    "mean = [0.485, 0.456, 0.406]\n",
    "std = [0.229, 0.224, 0.225]\n",
    "reverse_mean = [-0.485, -0.456, -0.406]\n",
    "reverse_std = [1/0.229, 1/0.224, 1/0.225]\n",
    "train_transform = transforms.Compose([                                                                                                                                \n",
    "    transforms.Resize((224, 224), interpolation=Image.BILINEAR),                                                                                              \n",
    "    transforms.ToTensor(),                                                                                                                                            \n",
    "    #transforms.Normalize(mean, std)                                                                                                                                   \n",
    "       ])         \n",
    "trainset = imagenet.ImageNet(root=\"/media/lincolnzjx/HardDisk/Datasets/\", \n",
    "                             is_train=True, transform=train_transform)\n",
    "trainset.set_data([class_index], num_class)\n",
    "imgs_path = []                                                                                                                                                            \n",
    "images = []\n",
    "labels = []\n",
    "for img, label, img_path in trainset:                                                                                                                                     \n",
    "    images.append(img.unsqueeze(0))                                                                                                                                       \n",
    "    labels.append(label)                                                                                                                                                  \n",
    "    imgs_path.append(img_path)  "
   ]
  },
  {
   "cell_type": "code",
   "execution_count": 5,
   "metadata": {
    "ExecuteTime": {
     "end_time": "2020-08-12T08:58:42.645382Z",
     "start_time": "2020-08-12T08:58:42.632402Z"
    }
   },
   "outputs": [
    {
     "name": "stdout",
     "output_type": "stream",
     "text": [
      "/home/lincolnzjx/Desktop/Interpretation/jupyter\n"
     ]
    }
   ],
   "source": [
    "cd ../"
   ]
  },
  {
   "cell_type": "code",
   "execution_count": 6,
   "metadata": {
    "ExecuteTime": {
     "end_time": "2020-08-12T08:58:42.662597Z",
     "start_time": "2020-08-12T08:58:42.646266Z"
    }
   },
   "outputs": [
    {
     "name": "stdout",
     "output_type": "stream",
     "text": [
      "/home/lincolnzjx/Desktop/Interpretation\n"
     ]
    }
   ],
   "source": [
    "cd ../"
   ]
  },
  {
   "cell_type": "code",
   "execution_count": 7,
   "metadata": {
    "ExecuteTime": {
     "end_time": "2020-08-12T08:58:42.675402Z",
     "start_time": "2020-08-12T08:58:42.663457Z"
    }
   },
   "outputs": [
    {
     "name": "stdout",
     "output_type": "stream",
     "text": [
      "/home/lincolnzjx/Desktop/Interpretation/extra\n"
     ]
    }
   ],
   "source": [
    "cd extra/"
   ]
  },
  {
   "cell_type": "code",
   "execution_count": 8,
   "metadata": {
    "ExecuteTime": {
     "end_time": "2020-08-12T08:58:42.688364Z",
     "start_time": "2020-08-12T08:58:42.676646Z"
    }
   },
   "outputs": [
    {
     "name": "stdout",
     "output_type": "stream",
     "text": [
      "/home/lincolnzjx/Desktop/Interpretation/extra/tutorial\n"
     ]
    }
   ],
   "source": [
    "cd tutorial/"
   ]
  },
  {
   "cell_type": "code",
   "execution_count": 9,
   "metadata": {
    "ExecuteTime": {
     "end_time": "2020-08-12T08:58:42.701345Z",
     "start_time": "2020-08-12T08:58:42.689386Z"
    }
   },
   "outputs": [],
   "source": [
    "import utilss"
   ]
  },
  {
   "cell_type": "code",
   "execution_count": 10,
   "metadata": {
    "ExecuteTime": {
     "end_time": "2020-08-12T08:58:42.713759Z",
     "start_time": "2020-08-12T08:58:42.702190Z"
    }
   },
   "outputs": [],
   "source": [
    "# img = numpy.array(cv2.imread('castle.jpg'))[...,::-1]/255.0\n",
    "img = images[0][0].permute((1,2,0)).numpy()"
   ]
  },
  {
   "cell_type": "code",
   "execution_count": 11,
   "metadata": {
    "ExecuteTime": {
     "end_time": "2020-08-12T08:58:44.099667Z",
     "start_time": "2020-08-12T08:58:42.714586Z"
    }
   },
   "outputs": [],
   "source": [
    "\n",
    "mean = torch.Tensor([0.485, 0.456, 0.406]).reshape(1,-1,1,1)\n",
    "std  = torch.Tensor([0.229, 0.224, 0.225]).reshape(1,-1,1,1)\n",
    "\n",
    "X = (torch.FloatTensor(img[numpy.newaxis].transpose([0,3,1,2])*1) - mean) / std\n",
    "\n",
    "model = torchvision.models.vgg16(pretrained=True); model.eval()\n",
    "layers = list(model._modules['features']) + utilss.toconv(list(model._modules['classifier']))\n",
    "\n",
    "# L = len(layers)\n",
    "L = 2"
   ]
  },
  {
   "cell_type": "code",
   "execution_count": 12,
   "metadata": {
    "ExecuteTime": {
     "end_time": "2020-08-12T08:58:44.309250Z",
     "start_time": "2020-08-12T08:58:44.100704Z"
    },
    "scrolled": true
   },
   "outputs": [],
   "source": [
    "A = [X]+[None]*L\n",
    "for l in range(L): A[l+1] = layers[l].forward(A[l])\n",
    "    \n",
    "scores = numpy.array(A[-1].data.view(-1))\n",
    "ind = numpy.argsort(-scores)\n",
    "# for i in ind[:10]:\n",
    "#     print('%20s (%3d): %6.3f'%(utilss.imgclasses[i][:20],i,scores[i]))"
   ]
  },
  {
   "cell_type": "code",
   "execution_count": 13,
   "metadata": {
    "ExecuteTime": {
     "end_time": "2020-08-12T08:58:44.324830Z",
     "start_time": "2020-08-12T08:58:44.310226Z"
    }
   },
   "outputs": [
    {
     "data": {
      "text/plain": [
       "torch.Size([64, 3, 3, 3])"
      ]
     },
     "execution_count": 13,
     "metadata": {},
     "output_type": "execute_result"
    }
   ],
   "source": [
    "layers[0].weight.shape"
   ]
  },
  {
   "cell_type": "code",
   "execution_count": 14,
   "metadata": {
    "ExecuteTime": {
     "end_time": "2020-08-12T08:58:44.346070Z",
     "start_time": "2020-08-12T08:58:44.325926Z"
    }
   },
   "outputs": [],
   "source": [
    "# T = torch.FloatTensor((1.0*(numpy.arange(1000)==483).reshape([1,1000,1,1])))\n",
    "layers[1]\n",
    "T = torch.zeros((3, 64, 224, 224))\n",
    "T[:,16, :,:] = 1\n",
    "\n",
    "R = [None]*L + [(A[-1]*T).data]"
   ]
  },
  {
   "cell_type": "code",
   "execution_count": 15,
   "metadata": {
    "ExecuteTime": {
     "end_time": "2020-08-12T08:58:44.363856Z",
     "start_time": "2020-08-12T08:58:44.347066Z"
    }
   },
   "outputs": [],
   "source": [
    "for l in range(1,L)[::-1]:\n",
    "    \n",
    "    A[l] = (A[l].data).requires_grad_(True)\n",
    "\n",
    "    if isinstance(layers[l],torch.nn.MaxPool2d): layers[l] = torch.nn.AvgPool2d(2)\n",
    "\n",
    "    if isinstance(layers[l],torch.nn.Conv2d) or isinstance(layers[l],torch.nn.AvgPool2d):\n",
    "\n",
    "        if l <= 16:       rho = lambda p: p + 0.25*p.clamp(min=0); incr = lambda z: z+1e-9\n",
    "        if 17 <= l <= 30: rho = lambda p: p;                       incr = lambda z: z+1e-9+0.25*((z**2).mean()**.5).data\n",
    "        if l >= 31:       rho = lambda p: p;                       incr = lambda z: z+1e-9\n",
    "\n",
    "        z = incr(utilss.newlayer(layers[l],rho).forward(A[l]))  # step 1\n",
    "        s = (R[l+1]/z).data                                    # step 2\n",
    "        (z*s).sum().backward(); c = A[l].grad                  # step 3\n",
    "        R[l] = (A[l]*c).data                                   # step 4\n",
    "        \n",
    "    else:\n",
    "        \n",
    "        R[l] = R[l+1]"
   ]
  },
  {
   "cell_type": "code",
   "execution_count": 21,
   "metadata": {
    "ExecuteTime": {
     "end_time": "2020-08-12T08:59:32.703493Z",
     "start_time": "2020-08-12T08:59:32.663687Z"
    }
   },
   "outputs": [
    {
     "data": {
      "image/svg+xml": [
       "<?xml version=\"1.0\" encoding=\"utf-8\" standalone=\"no\"?>\n",
       "<!DOCTYPE svg PUBLIC \"-//W3C//DTD SVG 1.1//EN\"\n",
       "  \"http://www.w3.org/Graphics/SVG/1.1/DTD/svg11.dtd\">\n",
       "<!-- Created with matplotlib (https://matplotlib.org/) -->\n",
       "<svg height=\"122.4pt\" version=\"1.1\" viewBox=\"0 0 122.4 122.4\" width=\"122.4pt\" xmlns=\"http://www.w3.org/2000/svg\" xmlns:xlink=\"http://www.w3.org/1999/xlink\">\n",
       " <defs>\n",
       "  <style type=\"text/css\">\n",
       "*{stroke-linecap:butt;stroke-linejoin:round;}\n",
       "  </style>\n",
       " </defs>\n",
       " <g id=\"figure_1\">\n",
       "  <g id=\"patch_1\">\n",
       "   <path d=\"M 0 122.4 \n",
       "L 122.4 122.4 \n",
       "L 122.4 0 \n",
       "L 0 0 \n",
       "z\n",
       "\" style=\"fill:none;\"/>\n",
       "  </g>\n",
       "  <g id=\"axes_1\">\n",
       "   <g clip-path=\"url(#p5f327f34c5)\">\n",
       "    <image height=\"108\" id=\"image812208fd26\" transform=\"scale(1 -1)translate(0 -108)\" width=\"108\" x=\"7.2\" xlink:href=\"data:image/png;base64,\n",
       "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\" y=\"-7.2\"/>\n",
       "   </g>\n",
       "  </g>\n",
       " </g>\n",
       " <defs>\n",
       "  <clipPath id=\"p5f327f34c5\">\n",
       "   <rect height=\"108\" width=\"108\" x=\"7.2\" y=\"7.2\"/>\n",
       "  </clipPath>\n",
       " </defs>\n",
       "</svg>\n"
      ],
      "text/plain": [
       "<Figure size 108x108 with 1 Axes>"
      ]
     },
     "metadata": {
      "needs_background": "light"
     },
     "output_type": "display_data"
    }
   ],
   "source": [
    "# for i,l in enumerate([31,21,11,1]):\n",
    "#     utils.heatmap(numpy.array(R[l][0]).sum(axis=0),0.5*i+1.5,0.5*i+1.5)\n",
    "for i,l in enumerate([1]):\n",
    "    utilss.heatmap(numpy.array(R[l][0]).sum(axis=0),0.5*i+1.5,0.5*i+1.5)"
   ]
  },
  {
   "cell_type": "code",
   "execution_count": 17,
   "metadata": {
    "ExecuteTime": {
     "end_time": "2020-08-12T08:58:44.498517Z",
     "start_time": "2020-08-12T08:58:44.406987Z"
    }
   },
   "outputs": [],
   "source": [
    "A[0] = (A[0].data).requires_grad_(True)\n",
    "\n",
    "lb = (A[0].data*0+(0-mean)/std).requires_grad_(True)\n",
    "hb = (A[0].data*0+(1-mean)/std).requires_grad_(True)\n",
    "\n",
    "z = layers[0].forward(A[0]) + 1e-9                                     # step 1 (a)\n",
    "z -= utilss.newlayer(layers[0],lambda p: p.clamp(min=0)).forward(lb)    # step 1 (b)\n",
    "z -= utilss.newlayer(layers[0],lambda p: p.clamp(max=0)).forward(hb)    # step 1 (c)\n",
    "s = (R[1]/z).data                                                      # step 2\n",
    "(z*s).sum().backward(); c,cp,cm = A[0].grad,lb.grad,hb.grad            # step 3\n",
    "R[0] = (A[0]*c+lb*cp+hb*cm).data                                       # step 4"
   ]
  },
  {
   "cell_type": "code",
   "execution_count": 25,
   "metadata": {
    "ExecuteTime": {
     "end_time": "2020-08-12T09:02:40.299080Z",
     "start_time": "2020-08-12T09:02:40.277999Z"
    }
   },
   "outputs": [
    {
     "data": {
      "text/plain": [
       "torch.Size([224, 224])"
      ]
     },
     "execution_count": 25,
     "metadata": {},
     "output_type": "execute_result"
    }
   ],
   "source": [
    "R[0][0].sum(axis=0).shape"
   ]
  },
  {
   "cell_type": "code",
   "execution_count": 18,
   "metadata": {
    "ExecuteTime": {
     "end_time": "2020-08-12T08:58:44.562043Z",
     "start_time": "2020-08-12T08:58:44.499490Z"
    }
   },
   "outputs": [
    {
     "data": {
      "image/svg+xml": [
       "<?xml version=\"1.0\" encoding=\"utf-8\" standalone=\"no\"?>\n",
       "<!DOCTYPE svg PUBLIC \"-//W3C//DTD SVG 1.1//EN\"\n",
       "  \"http://www.w3.org/Graphics/SVG/1.1/DTD/svg11.dtd\">\n",
       "<!-- Created with matplotlib (https://matplotlib.org/) -->\n",
       "<svg height=\"266.4pt\" version=\"1.1\" viewBox=\"0 0 266.4 266.4\" width=\"266.4pt\" xmlns=\"http://www.w3.org/2000/svg\" xmlns:xlink=\"http://www.w3.org/1999/xlink\">\n",
       " <defs>\n",
       "  <style type=\"text/css\">\n",
       "*{stroke-linecap:butt;stroke-linejoin:round;}\n",
       "  </style>\n",
       " </defs>\n",
       " <g id=\"figure_1\">\n",
       "  <g id=\"patch_1\">\n",
       "   <path d=\"M 0 266.4 \n",
       "L 266.4 266.4 \n",
       "L 266.4 0 \n",
       "L 0 0 \n",
       "z\n",
       "\" style=\"fill:none;\"/>\n",
       "  </g>\n",
       "  <g id=\"axes_1\">\n",
       "   <g clip-path=\"url(#pf009ae55e8)\">\n",
       "    <image height=\"252\" id=\"imagef6a91e1da4\" transform=\"scale(1 -1)translate(0 -252)\" width=\"252\" x=\"7.2\" xlink:href=\"data:image/png;base64,\n",
       "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\" y=\"-7.2\"/>\n",
       "   </g>\n",
       "  </g>\n",
       " </g>\n",
       " <defs>\n",
       "  <clipPath id=\"pf009ae55e8\">\n",
       "   <rect height=\"252\" width=\"252\" x=\"7.2\" y=\"7.2\"/>\n",
       "  </clipPath>\n",
       " </defs>\n",
       "</svg>\n"
      ],
      "text/plain": [
       "<Figure size 252x252 with 1 Axes>"
      ]
     },
     "metadata": {
      "needs_background": "light"
     },
     "output_type": "display_data"
    }
   ],
   "source": [
    "utilss.heatmap(numpy.array(R[0][0]).sum(axis=0),3.5,3.5)"
   ]
  },
  {
   "cell_type": "code",
   "execution_count": 38,
   "metadata": {
    "ExecuteTime": {
     "end_time": "2020-08-12T09:05:43.972455Z",
     "start_time": "2020-08-12T09:05:43.953134Z"
    },
    "scrolled": true
   },
   "outputs": [],
   "source": [
    "example = np.array(R[0][0]).transpose((1,2,0))"
   ]
  },
  {
   "cell_type": "code",
   "execution_count": 30,
   "metadata": {
    "ExecuteTime": {
     "end_time": "2020-08-12T09:04:22.250169Z",
     "start_time": "2020-08-12T09:04:22.231916Z"
    }
   },
   "outputs": [],
   "source": [
    "import matplotlib"
   ]
  },
  {
   "cell_type": "code",
   "execution_count": 42,
   "metadata": {
    "ExecuteTime": {
     "end_time": "2020-08-12T10:13:07.672928Z",
     "start_time": "2020-08-12T10:13:07.553744Z"
    }
   },
   "outputs": [
    {
     "name": "stderr",
     "output_type": "stream",
     "text": [
      "Clipping input data to the valid range for imshow with RGB data ([0..1] for floats or [0..255] for integers).\n"
     ]
    },
    {
     "data": {
      "text/plain": [
       "<matplotlib.image.AxesImage at 0x7f2beba05160>"
      ]
     },
     "execution_count": 42,
     "metadata": {},
     "output_type": "execute_result"
    },
    {
     "data": {
      "image/svg+xml": [
       "<?xml version=\"1.0\" encoding=\"utf-8\" standalone=\"no\"?>\n",
       "<!DOCTYPE svg PUBLIC \"-//W3C//DTD SVG 1.1//EN\"\n",
       "  \"http://www.w3.org/Graphics/SVG/1.1/DTD/svg11.dtd\">\n",
       "<!-- Created with matplotlib (https://matplotlib.org/) -->\n",
       "<svg height=\"251.831987pt\" version=\"1.1\" viewBox=\"0 0 257.9275 251.831987\" width=\"257.9275pt\" xmlns=\"http://www.w3.org/2000/svg\" xmlns:xlink=\"http://www.w3.org/1999/xlink\">\n",
       " <defs>\n",
       "  <style type=\"text/css\">\n",
       "*{stroke-linecap:butt;stroke-linejoin:round;}\n",
       "  </style>\n",
       " </defs>\n",
       " <g id=\"figure_1\">\n",
       "  <g id=\"patch_1\">\n",
       "   <path d=\"M 0 251.831987 \n",
       "L 257.9275 251.831987 \n",
       "L 257.9275 0 \n",
       "L 0 0 \n",
       "z\n",
       "\" style=\"fill:none;\"/>\n",
       "  </g>\n",
       "  <g id=\"axes_1\">\n",
       "   <g id=\"patch_2\">\n",
       "    <path d=\"M 33.2875 227.953862 \n",
       "L 250.7275 227.953862 \n",
       "L 250.7275 10.513862 \n",
       "L 33.2875 10.513862 \n",
       "z\n",
       "\" style=\"fill:#ffffff;\"/>\n",
       "   </g>\n",
       "   <g clip-path=\"url(#pffa7252f2f)\">\n",
       "    <image height=\"218\" id=\"image6534afe44e\" transform=\"scale(1 -1)translate(0 -218)\" width=\"218\" x=\"33.2875\" xlink:href=\"data:image/png;base64,\n",
       "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\" y=\"-9.953862\"/>\n",
       "   </g>\n",
       "   <g id=\"matplotlib.axis_1\">\n",
       "    <g id=\"xtick_1\">\n",
       "     <g id=\"line2d_1\">\n",
       "      <defs>\n",
       "       <path d=\"M 0 0 \n",
       "L 0 3.5 \n",
       "\" id=\"m7aaa4b660c\" style=\"stroke:#000000;stroke-width:0.8;\"/>\n",
       "      </defs>\n",
       "      <g>\n",
       "       <use style=\"stroke:#000000;stroke-width:0.8;\" x=\"33.772857\" xlink:href=\"#m7aaa4b660c\" y=\"227.953862\"/>\n",
       "      </g>\n",
       "     </g>\n",
       "     <g id=\"text_1\">\n",
       "      <!-- 0 -->\n",
       "      <defs>\n",
       "       <path d=\"M 31.78125 66.40625 \n",
       "Q 24.171875 66.40625 20.328125 58.90625 \n",
       "Q 16.5 51.421875 16.5 36.375 \n",
       "Q 16.5 21.390625 20.328125 13.890625 \n",
       "Q 24.171875 6.390625 31.78125 6.390625 \n",
       "Q 39.453125 6.390625 43.28125 13.890625 \n",
       "Q 47.125 21.390625 47.125 36.375 \n",
       "Q 47.125 51.421875 43.28125 58.90625 \n",
       "Q 39.453125 66.40625 31.78125 66.40625 \n",
       "z\n",
       "M 31.78125 74.21875 \n",
       "Q 44.046875 74.21875 50.515625 64.515625 \n",
       "Q 56.984375 54.828125 56.984375 36.375 \n",
       "Q 56.984375 17.96875 50.515625 8.265625 \n",
       "Q 44.046875 -1.421875 31.78125 -1.421875 \n",
       "Q 19.53125 -1.421875 13.0625 8.265625 \n",
       "Q 6.59375 17.96875 6.59375 36.375 \n",
       "Q 6.59375 54.828125 13.0625 64.515625 \n",
       "Q 19.53125 74.21875 31.78125 74.21875 \n",
       "z\n",
       "\" id=\"DejaVuSans-48\"/>\n",
       "      </defs>\n",
       "      <g transform=\"translate(30.591607 242.552299)scale(0.1 -0.1)\">\n",
       "       <use xlink:href=\"#DejaVuSans-48\"/>\n",
       "      </g>\n",
       "     </g>\n",
       "    </g>\n",
       "    <g id=\"xtick_2\">\n",
       "     <g id=\"line2d_2\">\n",
       "      <g>\n",
       "       <use style=\"stroke:#000000;stroke-width:0.8;\" x=\"82.308571\" xlink:href=\"#m7aaa4b660c\" y=\"227.953862\"/>\n",
       "      </g>\n",
       "     </g>\n",
       "     <g id=\"text_2\">\n",
       "      <!-- 50 -->\n",
       "      <defs>\n",
       "       <path d=\"M 10.796875 72.90625 \n",
       "L 49.515625 72.90625 \n",
       "L 49.515625 64.59375 \n",
       "L 19.828125 64.59375 \n",
       "L 19.828125 46.734375 \n",
       "Q 21.96875 47.46875 24.109375 47.828125 \n",
       "Q 26.265625 48.1875 28.421875 48.1875 \n",
       "Q 40.625 48.1875 47.75 41.5 \n",
       "Q 54.890625 34.8125 54.890625 23.390625 \n",
       "Q 54.890625 11.625 47.5625 5.09375 \n",
       "Q 40.234375 -1.421875 26.90625 -1.421875 \n",
       "Q 22.3125 -1.421875 17.546875 -0.640625 \n",
       "Q 12.796875 0.140625 7.71875 1.703125 \n",
       "L 7.71875 11.625 \n",
       "Q 12.109375 9.234375 16.796875 8.0625 \n",
       "Q 21.484375 6.890625 26.703125 6.890625 \n",
       "Q 35.15625 6.890625 40.078125 11.328125 \n",
       "Q 45.015625 15.765625 45.015625 23.390625 \n",
       "Q 45.015625 31 40.078125 35.4375 \n",
       "Q 35.15625 39.890625 26.703125 39.890625 \n",
       "Q 22.75 39.890625 18.8125 39.015625 \n",
       "Q 14.890625 38.140625 10.796875 36.28125 \n",
       "z\n",
       "\" id=\"DejaVuSans-53\"/>\n",
       "      </defs>\n",
       "      <g transform=\"translate(75.946071 242.552299)scale(0.1 -0.1)\">\n",
       "       <use xlink:href=\"#DejaVuSans-53\"/>\n",
       "       <use x=\"63.623047\" xlink:href=\"#DejaVuSans-48\"/>\n",
       "      </g>\n",
       "     </g>\n",
       "    </g>\n",
       "    <g id=\"xtick_3\">\n",
       "     <g id=\"line2d_3\">\n",
       "      <g>\n",
       "       <use style=\"stroke:#000000;stroke-width:0.8;\" x=\"130.844286\" xlink:href=\"#m7aaa4b660c\" y=\"227.953862\"/>\n",
       "      </g>\n",
       "     </g>\n",
       "     <g id=\"text_3\">\n",
       "      <!-- 100 -->\n",
       "      <defs>\n",
       "       <path d=\"M 12.40625 8.296875 \n",
       "L 28.515625 8.296875 \n",
       "L 28.515625 63.921875 \n",
       "L 10.984375 60.40625 \n",
       "L 10.984375 69.390625 \n",
       "L 28.421875 72.90625 \n",
       "L 38.28125 72.90625 \n",
       "L 38.28125 8.296875 \n",
       "L 54.390625 8.296875 \n",
       "L 54.390625 0 \n",
       "L 12.40625 0 \n",
       "z\n",
       "\" id=\"DejaVuSans-49\"/>\n",
       "      </defs>\n",
       "      <g transform=\"translate(121.300536 242.552299)scale(0.1 -0.1)\">\n",
       "       <use xlink:href=\"#DejaVuSans-49\"/>\n",
       "       <use x=\"63.623047\" xlink:href=\"#DejaVuSans-48\"/>\n",
       "       <use x=\"127.246094\" xlink:href=\"#DejaVuSans-48\"/>\n",
       "      </g>\n",
       "     </g>\n",
       "    </g>\n",
       "    <g id=\"xtick_4\">\n",
       "     <g id=\"line2d_4\">\n",
       "      <g>\n",
       "       <use style=\"stroke:#000000;stroke-width:0.8;\" x=\"179.38\" xlink:href=\"#m7aaa4b660c\" y=\"227.953862\"/>\n",
       "      </g>\n",
       "     </g>\n",
       "     <g id=\"text_4\">\n",
       "      <!-- 150 -->\n",
       "      <g transform=\"translate(169.83625 242.552299)scale(0.1 -0.1)\">\n",
       "       <use xlink:href=\"#DejaVuSans-49\"/>\n",
       "       <use x=\"63.623047\" xlink:href=\"#DejaVuSans-53\"/>\n",
       "       <use x=\"127.246094\" xlink:href=\"#DejaVuSans-48\"/>\n",
       "      </g>\n",
       "     </g>\n",
       "    </g>\n",
       "    <g id=\"xtick_5\">\n",
       "     <g id=\"line2d_5\">\n",
       "      <g>\n",
       "       <use style=\"stroke:#000000;stroke-width:0.8;\" x=\"227.915714\" xlink:href=\"#m7aaa4b660c\" y=\"227.953862\"/>\n",
       "      </g>\n",
       "     </g>\n",
       "     <g id=\"text_5\">\n",
       "      <!-- 200 -->\n",
       "      <defs>\n",
       "       <path d=\"M 19.1875 8.296875 \n",
       "L 53.609375 8.296875 \n",
       "L 53.609375 0 \n",
       "L 7.328125 0 \n",
       "L 7.328125 8.296875 \n",
       "Q 12.9375 14.109375 22.625 23.890625 \n",
       "Q 32.328125 33.6875 34.8125 36.53125 \n",
       "Q 39.546875 41.84375 41.421875 45.53125 \n",
       "Q 43.3125 49.21875 43.3125 52.78125 \n",
       "Q 43.3125 58.59375 39.234375 62.25 \n",
       "Q 35.15625 65.921875 28.609375 65.921875 \n",
       "Q 23.96875 65.921875 18.8125 64.3125 \n",
       "Q 13.671875 62.703125 7.8125 59.421875 \n",
       "L 7.8125 69.390625 \n",
       "Q 13.765625 71.78125 18.9375 73 \n",
       "Q 24.125 74.21875 28.421875 74.21875 \n",
       "Q 39.75 74.21875 46.484375 68.546875 \n",
       "Q 53.21875 62.890625 53.21875 53.421875 \n",
       "Q 53.21875 48.921875 51.53125 44.890625 \n",
       "Q 49.859375 40.875 45.40625 35.40625 \n",
       "Q 44.1875 33.984375 37.640625 27.21875 \n",
       "Q 31.109375 20.453125 19.1875 8.296875 \n",
       "z\n",
       "\" id=\"DejaVuSans-50\"/>\n",
       "      </defs>\n",
       "      <g transform=\"translate(218.371964 242.552299)scale(0.1 -0.1)\">\n",
       "       <use xlink:href=\"#DejaVuSans-50\"/>\n",
       "       <use x=\"63.623047\" xlink:href=\"#DejaVuSans-48\"/>\n",
       "       <use x=\"127.246094\" xlink:href=\"#DejaVuSans-48\"/>\n",
       "      </g>\n",
       "     </g>\n",
       "    </g>\n",
       "   </g>\n",
       "   <g id=\"matplotlib.axis_2\">\n",
       "    <g id=\"ytick_1\">\n",
       "     <g id=\"line2d_6\">\n",
       "      <defs>\n",
       "       <path d=\"M 0 0 \n",
       "L -3.5 0 \n",
       "\" id=\"m1dccf95d16\" style=\"stroke:#000000;stroke-width:0.8;\"/>\n",
       "      </defs>\n",
       "      <g>\n",
       "       <use style=\"stroke:#000000;stroke-width:0.8;\" x=\"33.2875\" xlink:href=\"#m1dccf95d16\" y=\"10.999219\"/>\n",
       "      </g>\n",
       "     </g>\n",
       "     <g id=\"text_6\">\n",
       "      <!-- 0 -->\n",
       "      <g transform=\"translate(19.925 14.798437)scale(0.1 -0.1)\">\n",
       "       <use xlink:href=\"#DejaVuSans-48\"/>\n",
       "      </g>\n",
       "     </g>\n",
       "    </g>\n",
       "    <g id=\"ytick_2\">\n",
       "     <g id=\"line2d_7\">\n",
       "      <g>\n",
       "       <use style=\"stroke:#000000;stroke-width:0.8;\" x=\"33.2875\" xlink:href=\"#m1dccf95d16\" y=\"35.267076\"/>\n",
       "      </g>\n",
       "     </g>\n",
       "     <g id=\"text_7\">\n",
       "      <!-- 25 -->\n",
       "      <g transform=\"translate(13.5625 39.066295)scale(0.1 -0.1)\">\n",
       "       <use xlink:href=\"#DejaVuSans-50\"/>\n",
       "       <use x=\"63.623047\" xlink:href=\"#DejaVuSans-53\"/>\n",
       "      </g>\n",
       "     </g>\n",
       "    </g>\n",
       "    <g id=\"ytick_3\">\n",
       "     <g id=\"line2d_8\">\n",
       "      <g>\n",
       "       <use style=\"stroke:#000000;stroke-width:0.8;\" x=\"33.2875\" xlink:href=\"#m1dccf95d16\" y=\"59.534933\"/>\n",
       "      </g>\n",
       "     </g>\n",
       "     <g id=\"text_8\">\n",
       "      <!-- 50 -->\n",
       "      <g transform=\"translate(13.5625 63.334152)scale(0.1 -0.1)\">\n",
       "       <use xlink:href=\"#DejaVuSans-53\"/>\n",
       "       <use x=\"63.623047\" xlink:href=\"#DejaVuSans-48\"/>\n",
       "      </g>\n",
       "     </g>\n",
       "    </g>\n",
       "    <g id=\"ytick_4\">\n",
       "     <g id=\"line2d_9\">\n",
       "      <g>\n",
       "       <use style=\"stroke:#000000;stroke-width:0.8;\" x=\"33.2875\" xlink:href=\"#m1dccf95d16\" y=\"83.80279\"/>\n",
       "      </g>\n",
       "     </g>\n",
       "     <g id=\"text_9\">\n",
       "      <!-- 75 -->\n",
       "      <defs>\n",
       "       <path d=\"M 8.203125 72.90625 \n",
       "L 55.078125 72.90625 \n",
       "L 55.078125 68.703125 \n",
       "L 28.609375 0 \n",
       "L 18.3125 0 \n",
       "L 43.21875 64.59375 \n",
       "L 8.203125 64.59375 \n",
       "z\n",
       "\" id=\"DejaVuSans-55\"/>\n",
       "      </defs>\n",
       "      <g transform=\"translate(13.5625 87.602009)scale(0.1 -0.1)\">\n",
       "       <use xlink:href=\"#DejaVuSans-55\"/>\n",
       "       <use x=\"63.623047\" xlink:href=\"#DejaVuSans-53\"/>\n",
       "      </g>\n",
       "     </g>\n",
       "    </g>\n",
       "    <g id=\"ytick_5\">\n",
       "     <g id=\"line2d_10\">\n",
       "      <g>\n",
       "       <use style=\"stroke:#000000;stroke-width:0.8;\" x=\"33.2875\" xlink:href=\"#m1dccf95d16\" y=\"108.070647\"/>\n",
       "      </g>\n",
       "     </g>\n",
       "     <g id=\"text_10\">\n",
       "      <!-- 100 -->\n",
       "      <g transform=\"translate(7.2 111.869866)scale(0.1 -0.1)\">\n",
       "       <use xlink:href=\"#DejaVuSans-49\"/>\n",
       "       <use x=\"63.623047\" xlink:href=\"#DejaVuSans-48\"/>\n",
       "       <use x=\"127.246094\" xlink:href=\"#DejaVuSans-48\"/>\n",
       "      </g>\n",
       "     </g>\n",
       "    </g>\n",
       "    <g id=\"ytick_6\">\n",
       "     <g id=\"line2d_11\">\n",
       "      <g>\n",
       "       <use style=\"stroke:#000000;stroke-width:0.8;\" x=\"33.2875\" xlink:href=\"#m1dccf95d16\" y=\"132.338504\"/>\n",
       "      </g>\n",
       "     </g>\n",
       "     <g id=\"text_11\">\n",
       "      <!-- 125 -->\n",
       "      <g transform=\"translate(7.2 136.137723)scale(0.1 -0.1)\">\n",
       "       <use xlink:href=\"#DejaVuSans-49\"/>\n",
       "       <use x=\"63.623047\" xlink:href=\"#DejaVuSans-50\"/>\n",
       "       <use x=\"127.246094\" xlink:href=\"#DejaVuSans-53\"/>\n",
       "      </g>\n",
       "     </g>\n",
       "    </g>\n",
       "    <g id=\"ytick_7\">\n",
       "     <g id=\"line2d_12\">\n",
       "      <g>\n",
       "       <use style=\"stroke:#000000;stroke-width:0.8;\" x=\"33.2875\" xlink:href=\"#m1dccf95d16\" y=\"156.606362\"/>\n",
       "      </g>\n",
       "     </g>\n",
       "     <g id=\"text_12\">\n",
       "      <!-- 150 -->\n",
       "      <g transform=\"translate(7.2 160.40558)scale(0.1 -0.1)\">\n",
       "       <use xlink:href=\"#DejaVuSans-49\"/>\n",
       "       <use x=\"63.623047\" xlink:href=\"#DejaVuSans-53\"/>\n",
       "       <use x=\"127.246094\" xlink:href=\"#DejaVuSans-48\"/>\n",
       "      </g>\n",
       "     </g>\n",
       "    </g>\n",
       "    <g id=\"ytick_8\">\n",
       "     <g id=\"line2d_13\">\n",
       "      <g>\n",
       "       <use style=\"stroke:#000000;stroke-width:0.8;\" x=\"33.2875\" xlink:href=\"#m1dccf95d16\" y=\"180.874219\"/>\n",
       "      </g>\n",
       "     </g>\n",
       "     <g id=\"text_13\">\n",
       "      <!-- 175 -->\n",
       "      <g transform=\"translate(7.2 184.673437)scale(0.1 -0.1)\">\n",
       "       <use xlink:href=\"#DejaVuSans-49\"/>\n",
       "       <use x=\"63.623047\" xlink:href=\"#DejaVuSans-55\"/>\n",
       "       <use x=\"127.246094\" xlink:href=\"#DejaVuSans-53\"/>\n",
       "      </g>\n",
       "     </g>\n",
       "    </g>\n",
       "    <g id=\"ytick_9\">\n",
       "     <g id=\"line2d_14\">\n",
       "      <g>\n",
       "       <use style=\"stroke:#000000;stroke-width:0.8;\" x=\"33.2875\" xlink:href=\"#m1dccf95d16\" y=\"205.142076\"/>\n",
       "      </g>\n",
       "     </g>\n",
       "     <g id=\"text_14\">\n",
       "      <!-- 200 -->\n",
       "      <g transform=\"translate(7.2 208.941295)scale(0.1 -0.1)\">\n",
       "       <use xlink:href=\"#DejaVuSans-50\"/>\n",
       "       <use x=\"63.623047\" xlink:href=\"#DejaVuSans-48\"/>\n",
       "       <use x=\"127.246094\" xlink:href=\"#DejaVuSans-48\"/>\n",
       "      </g>\n",
       "     </g>\n",
       "    </g>\n",
       "   </g>\n",
       "   <g id=\"patch_3\">\n",
       "    <path d=\"M 33.2875 227.953862 \n",
       "L 33.2875 10.513862 \n",
       "\" style=\"fill:none;stroke:#000000;stroke-linecap:square;stroke-linejoin:miter;stroke-width:0.8;\"/>\n",
       "   </g>\n",
       "   <g id=\"patch_4\">\n",
       "    <path d=\"M 250.7275 227.953862 \n",
       "L 250.7275 10.513862 \n",
       "\" style=\"fill:none;stroke:#000000;stroke-linecap:square;stroke-linejoin:miter;stroke-width:0.8;\"/>\n",
       "   </g>\n",
       "   <g id=\"patch_5\">\n",
       "    <path d=\"M 33.2875 227.953862 \n",
       "L 250.7275 227.953862 \n",
       "\" style=\"fill:none;stroke:#000000;stroke-linecap:square;stroke-linejoin:miter;stroke-width:0.8;\"/>\n",
       "   </g>\n",
       "   <g id=\"patch_6\">\n",
       "    <path d=\"M 33.2875 10.513862 \n",
       "L 250.7275 10.513862 \n",
       "\" style=\"fill:none;stroke:#000000;stroke-linecap:square;stroke-linejoin:miter;stroke-width:0.8;\"/>\n",
       "   </g>\n",
       "  </g>\n",
       " </g>\n",
       " <defs>\n",
       "  <clipPath id=\"pffa7252f2f\">\n",
       "   <rect height=\"217.44\" width=\"217.44\" x=\"33.2875\" y=\"10.513862\"/>\n",
       "  </clipPath>\n",
       " </defs>\n",
       "</svg>\n"
      ],
      "text/plain": [
       "<Figure size 432x288 with 1 Axes>"
      ]
     },
     "metadata": {
      "needs_background": "light"
     },
     "output_type": "display_data"
    }
   ],
   "source": [
    "matplotlib.pyplot.imshow(example, vmin=0, vmax=255)"
   ]
  },
  {
   "cell_type": "code",
   "execution_count": 45,
   "metadata": {
    "ExecuteTime": {
     "end_time": "2020-08-12T10:15:57.931784Z",
     "start_time": "2020-08-12T10:15:57.910589Z"
    }
   },
   "outputs": [
    {
     "data": {
      "text/plain": [
       "215.24971"
      ]
     },
     "execution_count": 45,
     "metadata": {},
     "output_type": "execute_result"
    }
   ],
   "source": [
    "np.max(np.abs(example) ** 3)"
   ]
  },
  {
   "cell_type": "code",
   "execution_count": 41,
   "metadata": {
    "ExecuteTime": {
     "end_time": "2020-08-12T09:10:17.643113Z",
     "start_time": "2020-08-12T09:10:17.623452Z"
    }
   },
   "outputs": [
    {
     "data": {
      "text/plain": [
       "0.0"
      ]
     },
     "execution_count": 41,
     "metadata": {},
     "output_type": "execute_result"
    }
   ],
   "source": [
    "np.min(example)"
   ]
  },
  {
   "cell_type": "code",
   "execution_count": null,
   "metadata": {},
   "outputs": [],
   "source": []
  }
 ],
 "metadata": {
  "kernelspec": {
   "display_name": "Python 3",
   "language": "python",
   "name": "python3"
  },
  "language_info": {
   "codemirror_mode": {
    "name": "ipython",
    "version": 3
   },
   "file_extension": ".py",
   "mimetype": "text/x-python",
   "name": "python",
   "nbconvert_exporter": "python",
   "pygments_lexer": "ipython3",
   "version": "3.6.10"
  },
  "latex_envs": {
   "LaTeX_envs_menu_present": true,
   "autoclose": false,
   "autocomplete": true,
   "bibliofile": "biblio.bib",
   "cite_by": "apalike",
   "current_citInitial": 1,
   "eqLabelWithNumbers": true,
   "eqNumInitial": 1,
   "hotkeys": {
    "equation": "Ctrl-E",
    "itemize": "Ctrl-I"
   },
   "labels_anchors": false,
   "latex_user_defs": false,
   "report_style_numbering": false,
   "user_envs_cfg": false
  },
  "toc": {
   "base_numbering": 1,
   "nav_menu": {},
   "number_sections": true,
   "sideBar": false,
   "skip_h1_title": false,
   "title_cell": "Table of Contents",
   "title_sidebar": "Contents",
   "toc_cell": false,
   "toc_position": {},
   "toc_section_display": true,
   "toc_window_display": false
  },
  "varInspector": {
   "cols": {
    "lenName": 16,
    "lenType": 16,
    "lenVar": 40
   },
   "kernels_config": {
    "python": {
     "delete_cmd_postfix": "",
     "delete_cmd_prefix": "del ",
     "library": "var_list.py",
     "varRefreshCmd": "print(var_dic_list())"
    },
    "r": {
     "delete_cmd_postfix": ") ",
     "delete_cmd_prefix": "rm(",
     "library": "var_list.r",
     "varRefreshCmd": "cat(var_dic_list()) "
    }
   },
   "types_to_exclude": [
    "module",
    "function",
    "builtin_function_or_method",
    "instance",
    "_Feature"
   ],
   "window_display": false
  }
 },
 "nbformat": 4,
 "nbformat_minor": 4
}
