{
 "cells": [
  {
   "cell_type": "code",
   "execution_count": 13,
   "metadata": {
    "ExecuteTime": {
     "end_time": "2020-10-07T02:38:34.777526Z",
     "start_time": "2020-10-07T02:38:34.765342Z"
    }
   },
   "outputs": [
    {
     "name": "stdout",
     "output_type": "stream",
     "text": [
      "The autoreload extension is already loaded. To reload it, use:\n",
      "  %reload_ext autoreload\n",
      "Populating the interactive namespace from numpy and matplotlib\n"
     ]
    },
    {
     "name": "stderr",
     "output_type": "stream",
     "text": [
      "/home/lincolnzjx/anaconda3/envs/Py36/lib/python3.6/site-packages/IPython/core/magics/pylab.py:160: UserWarning: pylab import has clobbered these variables: ['gamma', 'exp', 'beta']\n",
      "`%matplotlib` prevents importing * from pylab and numpy\n",
      "  \"\\n`%matplotlib` prevents importing * from pylab and numpy\"\n"
     ]
    }
   ],
   "source": [
    "%load_ext autoreload\n",
    "%autoreload 2\n",
    "%pylab inline"
   ]
  },
  {
   "cell_type": "code",
   "execution_count": 14,
   "metadata": {
    "ExecuteTime": {
     "end_time": "2020-10-07T02:38:34.787411Z",
     "start_time": "2020-10-07T02:38:34.778544Z"
    }
   },
   "outputs": [],
   "source": [
    "import pandas as pd"
   ]
  },
  {
   "cell_type": "code",
   "execution_count": 15,
   "metadata": {
    "ExecuteTime": {
     "end_time": "2020-10-07T02:38:34.797877Z",
     "start_time": "2020-10-07T02:38:34.788341Z"
    }
   },
   "outputs": [
    {
     "name": "stdout",
     "output_type": "stream",
     "text": [
      "/home/lincolnzjx/Desktop\n"
     ]
    }
   ],
   "source": [
    "cd ../"
   ]
  },
  {
   "cell_type": "code",
   "execution_count": 16,
   "metadata": {
    "ExecuteTime": {
     "end_time": "2020-10-07T02:38:34.808272Z",
     "start_time": "2020-10-07T02:38:34.798748Z"
    }
   },
   "outputs": [
    {
     "data": {
      "text/plain": [
       "'/home/lincolnzjx/Desktop'"
      ]
     },
     "execution_count": 16,
     "metadata": {},
     "output_type": "execute_result"
    }
   ],
   "source": [
    "pwd"
   ]
  },
  {
   "cell_type": "code",
   "execution_count": 17,
   "metadata": {
    "ExecuteTime": {
     "end_time": "2020-10-07T02:38:34.820962Z",
     "start_time": "2020-10-07T02:38:34.809176Z"
    }
   },
   "outputs": [],
   "source": [
    "def main(cuda, exp, alpha, beta, gamma, selected_layer, selected_filter,\n",
    "         class_index, num_class, re_size, dataset, backbone, img_index, mode,\n",
    "         inter, defense):\n",
    "    resume = \"037-0\"\n",
    "    server = 'desktop'\n",
    "    n_epochs = 10000\n",
    "    seed = -1\n",
    "    eval_frequency = 50\n",
    "    delta = 0\n",
    "    batch_size = 1 if mode else num_class\n",
    "    lr = 1\n",
    "    \n",
    "    !CUDA_VISIBLE_DEVICES=$cuda python -u -W ignore src/trainer.py \\\n",
    "        --experiment_index $exp\\\n",
    "        --alpha=$alpha \\\n",
    "        --gamma=$gamma \\\n",
    "        --beta=$beta \\\n",
    "        --selected_layer=$selected_layer \\\n",
    "        --selected_filter=$selected_filter \\\n",
    "        --num_class=$num_class \\\n",
    "        --class_index=$class_index \\\n",
    "        --server $server\\\n",
    "        --dataset $dataset\\\n",
    "        --n_epochs $n_epochs \\\n",
    "        --eval_frequency=$eval_frequency \\\n",
    "        --re_size $re_size \\\n",
    "        --backbone=$backbone \\\n",
    "        --optimizer=SGD \\\n",
    "        --learning_rate $lr \\\n",
    "        --delta=$delta \\\n",
    "        --resume $resume \\\n",
    "        --mode=keep \\\n",
    "        --inter=False \\\n",
    "        --regularization=L1 \\\n",
    "        --seed $seed \\\n",
    "        --img_index $img_index\\\n",
    "        --batch_size $batch_size\\\n",
    "        --defense $defense"
   ]
  },
  {
   "cell_type": "markdown",
   "metadata": {},
   "source": [
    "# Read From excel"
   ]
  },
  {
   "cell_type": "code",
   "execution_count": 18,
   "metadata": {
    "ExecuteTime": {
     "end_time": "2020-10-07T02:38:34.829994Z",
     "start_time": "2020-10-07T02:38:34.821856Z"
    }
   },
   "outputs": [],
   "source": [
    "excel_path = \"./src/exps.xlsx\"\n",
    "sheet = \"ImageNet\"\n",
    "excepts = []"
   ]
  },
  {
   "cell_type": "markdown",
   "metadata": {},
   "source": [
    "# ALL YOU NEED TO SET HERE!!"
   ]
  },
  {
   "cell_type": "code",
   "execution_count": 19,
   "metadata": {
    "ExecuteTime": {
     "end_time": "2020-10-07T02:38:34.839025Z",
     "start_time": "2020-10-07T02:38:34.830881Z"
    }
   },
   "outputs": [],
   "source": [
    "exp_index = \"x091810\""
   ]
  },
  {
   "cell_type": "markdown",
   "metadata": {},
   "source": [
    "# Main"
   ]
  },
  {
   "cell_type": "code",
   "execution_count": 20,
   "metadata": {
    "ExecuteTime": {
     "end_time": "2020-10-07T02:38:34.920877Z",
     "start_time": "2020-10-07T02:38:34.839895Z"
    },
    "scrolled": true
   },
   "outputs": [
    {
     "ename": "FileNotFoundError",
     "evalue": "[Errno 2] No such file or directory: './src/exps.xlsx'",
     "output_type": "error",
     "traceback": [
      "\u001b[0;31m---------------------------------------------------------------------------\u001b[0m",
      "\u001b[0;31mFileNotFoundError\u001b[0m                         Traceback (most recent call last)",
      "\u001b[0;32m<ipython-input-20-74d2d5224e22>\u001b[0m in \u001b[0;36m<module>\u001b[0;34m\u001b[0m\n\u001b[0;32m----> 1\u001b[0;31m \u001b[0mxlsx\u001b[0m \u001b[0;34m=\u001b[0m \u001b[0mpd\u001b[0m\u001b[0;34m.\u001b[0m\u001b[0mExcelFile\u001b[0m\u001b[0;34m(\u001b[0m\u001b[0mexcel_path\u001b[0m\u001b[0;34m)\u001b[0m\u001b[0;34m\u001b[0m\u001b[0;34m\u001b[0m\u001b[0m\n\u001b[0m\u001b[1;32m      2\u001b[0m excel = pd.read_excel(xlsx, sheet, dtype={\"exp\": str, \n\u001b[1;32m      3\u001b[0m                                           \u001b[0;34m\"Done\"\u001b[0m\u001b[0;34m:\u001b[0m \u001b[0mstr\u001b[0m\u001b[0;34m,\u001b[0m\u001b[0;34m\u001b[0m\u001b[0;34m\u001b[0m\u001b[0m\n\u001b[1;32m      4\u001b[0m                                           \u001b[0;34m\"selected_layer\"\u001b[0m\u001b[0;34m:\u001b[0m \u001b[0mint\u001b[0m\u001b[0;34m,\u001b[0m\u001b[0;34m\u001b[0m\u001b[0;34m\u001b[0m\u001b[0m\n\u001b[1;32m      5\u001b[0m                                           \u001b[0;34m\"selected_filter\"\u001b[0m\u001b[0;34m:\u001b[0m \u001b[0mint\u001b[0m\u001b[0;34m,\u001b[0m\u001b[0;34m\u001b[0m\u001b[0;34m\u001b[0m\u001b[0m\n",
      "\u001b[0;32m~/anaconda3/envs/Py36/lib/python3.6/site-packages/pandas/io/excel/_base.py\u001b[0m in \u001b[0;36m__init__\u001b[0;34m(self, io, engine)\u001b[0m\n\u001b[1;32m    819\u001b[0m         \u001b[0mself\u001b[0m\u001b[0;34m.\u001b[0m\u001b[0m_io\u001b[0m \u001b[0;34m=\u001b[0m \u001b[0mstringify_path\u001b[0m\u001b[0;34m(\u001b[0m\u001b[0mio\u001b[0m\u001b[0;34m)\u001b[0m\u001b[0;34m\u001b[0m\u001b[0;34m\u001b[0m\u001b[0m\n\u001b[1;32m    820\u001b[0m \u001b[0;34m\u001b[0m\u001b[0m\n\u001b[0;32m--> 821\u001b[0;31m         \u001b[0mself\u001b[0m\u001b[0;34m.\u001b[0m\u001b[0m_reader\u001b[0m \u001b[0;34m=\u001b[0m \u001b[0mself\u001b[0m\u001b[0;34m.\u001b[0m\u001b[0m_engines\u001b[0m\u001b[0;34m[\u001b[0m\u001b[0mengine\u001b[0m\u001b[0;34m]\u001b[0m\u001b[0;34m(\u001b[0m\u001b[0mself\u001b[0m\u001b[0;34m.\u001b[0m\u001b[0m_io\u001b[0m\u001b[0;34m)\u001b[0m\u001b[0;34m\u001b[0m\u001b[0;34m\u001b[0m\u001b[0m\n\u001b[0m\u001b[1;32m    822\u001b[0m \u001b[0;34m\u001b[0m\u001b[0m\n\u001b[1;32m    823\u001b[0m     \u001b[0;32mdef\u001b[0m \u001b[0m__fspath__\u001b[0m\u001b[0;34m(\u001b[0m\u001b[0mself\u001b[0m\u001b[0;34m)\u001b[0m\u001b[0;34m:\u001b[0m\u001b[0;34m\u001b[0m\u001b[0;34m\u001b[0m\u001b[0m\n",
      "\u001b[0;32m~/anaconda3/envs/Py36/lib/python3.6/site-packages/pandas/io/excel/_xlrd.py\u001b[0m in \u001b[0;36m__init__\u001b[0;34m(self, filepath_or_buffer)\u001b[0m\n\u001b[1;32m     19\u001b[0m         \u001b[0merr_msg\u001b[0m \u001b[0;34m=\u001b[0m \u001b[0;34m\"Install xlrd >= 1.0.0 for Excel support\"\u001b[0m\u001b[0;34m\u001b[0m\u001b[0;34m\u001b[0m\u001b[0m\n\u001b[1;32m     20\u001b[0m         \u001b[0mimport_optional_dependency\u001b[0m\u001b[0;34m(\u001b[0m\u001b[0;34m\"xlrd\"\u001b[0m\u001b[0;34m,\u001b[0m \u001b[0mextra\u001b[0m\u001b[0;34m=\u001b[0m\u001b[0merr_msg\u001b[0m\u001b[0;34m)\u001b[0m\u001b[0;34m\u001b[0m\u001b[0;34m\u001b[0m\u001b[0m\n\u001b[0;32m---> 21\u001b[0;31m         \u001b[0msuper\u001b[0m\u001b[0;34m(\u001b[0m\u001b[0;34m)\u001b[0m\u001b[0;34m.\u001b[0m\u001b[0m__init__\u001b[0m\u001b[0;34m(\u001b[0m\u001b[0mfilepath_or_buffer\u001b[0m\u001b[0;34m)\u001b[0m\u001b[0;34m\u001b[0m\u001b[0;34m\u001b[0m\u001b[0m\n\u001b[0m\u001b[1;32m     22\u001b[0m \u001b[0;34m\u001b[0m\u001b[0m\n\u001b[1;32m     23\u001b[0m     \u001b[0;34m@\u001b[0m\u001b[0mproperty\u001b[0m\u001b[0;34m\u001b[0m\u001b[0;34m\u001b[0m\u001b[0m\n",
      "\u001b[0;32m~/anaconda3/envs/Py36/lib/python3.6/site-packages/pandas/io/excel/_base.py\u001b[0m in \u001b[0;36m__init__\u001b[0;34m(self, filepath_or_buffer)\u001b[0m\n\u001b[1;32m    351\u001b[0m             \u001b[0mself\u001b[0m\u001b[0;34m.\u001b[0m\u001b[0mbook\u001b[0m \u001b[0;34m=\u001b[0m \u001b[0mself\u001b[0m\u001b[0;34m.\u001b[0m\u001b[0mload_workbook\u001b[0m\u001b[0;34m(\u001b[0m\u001b[0mfilepath_or_buffer\u001b[0m\u001b[0;34m)\u001b[0m\u001b[0;34m\u001b[0m\u001b[0;34m\u001b[0m\u001b[0m\n\u001b[1;32m    352\u001b[0m         \u001b[0;32melif\u001b[0m \u001b[0misinstance\u001b[0m\u001b[0;34m(\u001b[0m\u001b[0mfilepath_or_buffer\u001b[0m\u001b[0;34m,\u001b[0m \u001b[0mstr\u001b[0m\u001b[0;34m)\u001b[0m\u001b[0;34m:\u001b[0m\u001b[0;34m\u001b[0m\u001b[0;34m\u001b[0m\u001b[0m\n\u001b[0;32m--> 353\u001b[0;31m             \u001b[0mself\u001b[0m\u001b[0;34m.\u001b[0m\u001b[0mbook\u001b[0m \u001b[0;34m=\u001b[0m \u001b[0mself\u001b[0m\u001b[0;34m.\u001b[0m\u001b[0mload_workbook\u001b[0m\u001b[0;34m(\u001b[0m\u001b[0mfilepath_or_buffer\u001b[0m\u001b[0;34m)\u001b[0m\u001b[0;34m\u001b[0m\u001b[0;34m\u001b[0m\u001b[0m\n\u001b[0m\u001b[1;32m    354\u001b[0m         \u001b[0;32melif\u001b[0m \u001b[0misinstance\u001b[0m\u001b[0;34m(\u001b[0m\u001b[0mfilepath_or_buffer\u001b[0m\u001b[0;34m,\u001b[0m \u001b[0mbytes\u001b[0m\u001b[0;34m)\u001b[0m\u001b[0;34m:\u001b[0m\u001b[0;34m\u001b[0m\u001b[0;34m\u001b[0m\u001b[0m\n\u001b[1;32m    355\u001b[0m             \u001b[0mself\u001b[0m\u001b[0;34m.\u001b[0m\u001b[0mbook\u001b[0m \u001b[0;34m=\u001b[0m \u001b[0mself\u001b[0m\u001b[0;34m.\u001b[0m\u001b[0mload_workbook\u001b[0m\u001b[0;34m(\u001b[0m\u001b[0mBytesIO\u001b[0m\u001b[0;34m(\u001b[0m\u001b[0mfilepath_or_buffer\u001b[0m\u001b[0;34m)\u001b[0m\u001b[0;34m)\u001b[0m\u001b[0;34m\u001b[0m\u001b[0;34m\u001b[0m\u001b[0m\n",
      "\u001b[0;32m~/anaconda3/envs/Py36/lib/python3.6/site-packages/pandas/io/excel/_xlrd.py\u001b[0m in \u001b[0;36mload_workbook\u001b[0;34m(self, filepath_or_buffer)\u001b[0m\n\u001b[1;32m     34\u001b[0m             \u001b[0;32mreturn\u001b[0m \u001b[0mopen_workbook\u001b[0m\u001b[0;34m(\u001b[0m\u001b[0mfile_contents\u001b[0m\u001b[0;34m=\u001b[0m\u001b[0mdata\u001b[0m\u001b[0;34m)\u001b[0m\u001b[0;34m\u001b[0m\u001b[0;34m\u001b[0m\u001b[0m\n\u001b[1;32m     35\u001b[0m         \u001b[0;32melse\u001b[0m\u001b[0;34m:\u001b[0m\u001b[0;34m\u001b[0m\u001b[0;34m\u001b[0m\u001b[0m\n\u001b[0;32m---> 36\u001b[0;31m             \u001b[0;32mreturn\u001b[0m \u001b[0mopen_workbook\u001b[0m\u001b[0;34m(\u001b[0m\u001b[0mfilepath_or_buffer\u001b[0m\u001b[0;34m)\u001b[0m\u001b[0;34m\u001b[0m\u001b[0;34m\u001b[0m\u001b[0m\n\u001b[0m\u001b[1;32m     37\u001b[0m \u001b[0;34m\u001b[0m\u001b[0m\n\u001b[1;32m     38\u001b[0m     \u001b[0;34m@\u001b[0m\u001b[0mproperty\u001b[0m\u001b[0;34m\u001b[0m\u001b[0;34m\u001b[0m\u001b[0m\n",
      "\u001b[0;32m~/anaconda3/envs/Py36/lib/python3.6/site-packages/xlrd/__init__.py\u001b[0m in \u001b[0;36mopen_workbook\u001b[0;34m(filename, logfile, verbosity, use_mmap, file_contents, encoding_override, formatting_info, on_demand, ragged_rows)\u001b[0m\n\u001b[1;32m    109\u001b[0m     \u001b[0;32melse\u001b[0m\u001b[0;34m:\u001b[0m\u001b[0;34m\u001b[0m\u001b[0;34m\u001b[0m\u001b[0m\n\u001b[1;32m    110\u001b[0m         \u001b[0mfilename\u001b[0m \u001b[0;34m=\u001b[0m \u001b[0mos\u001b[0m\u001b[0;34m.\u001b[0m\u001b[0mpath\u001b[0m\u001b[0;34m.\u001b[0m\u001b[0mexpanduser\u001b[0m\u001b[0;34m(\u001b[0m\u001b[0mfilename\u001b[0m\u001b[0;34m)\u001b[0m\u001b[0;34m\u001b[0m\u001b[0;34m\u001b[0m\u001b[0m\n\u001b[0;32m--> 111\u001b[0;31m         \u001b[0;32mwith\u001b[0m \u001b[0mopen\u001b[0m\u001b[0;34m(\u001b[0m\u001b[0mfilename\u001b[0m\u001b[0;34m,\u001b[0m \u001b[0;34m\"rb\"\u001b[0m\u001b[0;34m)\u001b[0m \u001b[0;32mas\u001b[0m \u001b[0mf\u001b[0m\u001b[0;34m:\u001b[0m\u001b[0;34m\u001b[0m\u001b[0;34m\u001b[0m\u001b[0m\n\u001b[0m\u001b[1;32m    112\u001b[0m             \u001b[0mpeek\u001b[0m \u001b[0;34m=\u001b[0m \u001b[0mf\u001b[0m\u001b[0;34m.\u001b[0m\u001b[0mread\u001b[0m\u001b[0;34m(\u001b[0m\u001b[0mpeeksz\u001b[0m\u001b[0;34m)\u001b[0m\u001b[0;34m\u001b[0m\u001b[0;34m\u001b[0m\u001b[0m\n\u001b[1;32m    113\u001b[0m     \u001b[0;32mif\u001b[0m \u001b[0mpeek\u001b[0m \u001b[0;34m==\u001b[0m \u001b[0;34mb\"PK\\x03\\x04\"\u001b[0m\u001b[0;34m:\u001b[0m \u001b[0;31m# a ZIP file\u001b[0m\u001b[0;34m\u001b[0m\u001b[0;34m\u001b[0m\u001b[0m\n",
      "\u001b[0;31mFileNotFoundError\u001b[0m: [Errno 2] No such file or directory: './src/exps.xlsx'"
     ]
    }
   ],
   "source": [
    "xlsx = pd.ExcelFile(excel_path)\n",
    "excel = pd.read_excel(xlsx, sheet, dtype={\"exp\": str, \n",
    "                                          \"Done\": str,\n",
    "                                          \"selected_layer\": int,\n",
    "                                          \"selected_filter\": int, \n",
    "                                          \"Alpha\": int,\n",
    "                                          \"Beta\": int,\n",
    "                                          \"Gamma\": int,\n",
    "                                          \"cuda\": int,\n",
    "                                          \"class_index\": int,\n",
    "                                          \"num_class\": int,\n",
    "                                          \"re_size\": int,\n",
    "                                          \"dataset\": str,\n",
    "                                          \"backbone\": str, \n",
    "                                          \"mode\":str,\n",
    "                                          \"defensed\": str}).values\n",
    "\n",
    "for data in excel:\n",
    "    exp, done, selected_layer, selected_filter, alpha, beta, gamma, cuda, \\\n",
    "        class_index, num_class, re_size, dataset, backbone, mode, inter, defensed = data\n",
    "    if exp != exp_index:\n",
    "        continue\n",
    "        \n",
    "    exp = exp.replace(\"x\", \"\")\n",
    "    if exp in excepts:\n",
    "        print(\"=> Skip\")\n",
    "    else:\n",
    "        if done == \"N\":\n",
    "            for img_index in range(30):\n",
    "                if img_index == 0:\n",
    "                    print(\"=> RUN on \", cuda, exp, selected_layer, selected_filter, \n",
    "                          class_index, \"img_index \", img_index)\n",
    "                    main(cuda, exp, alpha, beta, gamma, selected_layer, \n",
    "                         selected_filter, class_index, num_class, re_size, dataset,\n",
    "                         backbone, img_index, mode, inter, defensed)"
   ]
  },
  {
   "cell_type": "markdown",
   "metadata": {},
   "source": [
    "# Visualization"
   ]
  },
  {
   "cell_type": "code",
   "execution_count": null,
   "metadata": {
    "ExecuteTime": {
     "end_time": "2020-10-07T02:38:34.923478Z",
     "start_time": "2020-10-07T02:36:39.745Z"
    }
   },
   "outputs": [],
   "source": [
    "import pickle"
   ]
  },
  {
   "cell_type": "code",
   "execution_count": null,
   "metadata": {
    "ExecuteTime": {
     "end_time": "2020-10-07T02:38:34.923947Z",
     "start_time": "2020-10-07T02:36:39.746Z"
    }
   },
   "outputs": [],
   "source": [
    "statistic_path = \"/home/lincolnzjx/Desktop/Interpretation/saved/generated/091810/n07747607_10061_statistics.pl\"\n",
    "# statistic_path = \"/home/lincolnzjx/Desktop/Interpretation/saved/generated/091810/n07747607_1021_statistics.pl\""
   ]
  },
  {
   "cell_type": "code",
   "execution_count": null,
   "metadata": {
    "ExecuteTime": {
     "end_time": "2020-10-07T02:38:34.924374Z",
     "start_time": "2020-10-07T02:36:39.747Z"
    }
   },
   "outputs": [],
   "source": [
    "with open(statistic_path, \"rb\") as handle:\n",
    "    statistic = pickle.load(handle)"
   ]
  },
  {
   "cell_type": "code",
   "execution_count": null,
   "metadata": {
    "ExecuteTime": {
     "end_time": "2020-10-07T02:38:34.924840Z",
     "start_time": "2020-10-07T02:36:39.748Z"
    },
    "scrolled": false
   },
   "outputs": [],
   "source": [
    "epoch = statistic[\"epoch\"]\n",
    "loss = statistic[\"losses\"]\n",
    "selected_filter_loss = statistic[\"selected_filter_loss\"]\n",
    "rest_filter_loss = statistic[\"rest_fileter_loss\"]\n",
    "rest_filter_loss_interact = statistic[\"rest_filter_loss_interact\"]\n",
    "regularization_loss = statistic[\"regularization_loss\"]\n",
    "lr = statistic[\"lr\"]\n",
    "best = statistic[\"best\"][0]\n",
    "\n",
    "metric_statistic = statistic[\"metric_statistic\"]\n",
    "rmses_mean = [ms[\"rmses_mean\"] for ms in metric_statistic]\n",
    "ssim_sel_mean = [ms[\"ssim_sel_mean\"] for ms in metric_statistic]\n",
    "ssim_res_mean = [ms[\"ssim_res_mean\"] for ms in metric_statistic]\n",
    "\n",
    "print(\"sf: min:{:.3f} max:{:.3f}\".format(min(selected_filter_loss), max(selected_filter_loss)))\n",
    "print(\"rf: min:{:.3f} max:{:.3f}\".format(min(rest_filter_loss), max(rest_filter_loss)))\n",
    "print(\"rfi: min:{:.3f} max:{:.3f}\".format(min(rest_filter_loss_interact), max(rest_filter_loss_interact)))\n",
    "print(\"rg: min:{:.3f} max:{:.3f}\".format(min(regularization_loss), max(regularization_loss)))\n",
    "print(\"rmse: min:{:.3f} max:{:.3f}\".format(min(rmses_mean), max(rmses_mean)))\n",
    "print(\"ssim_sel: min:{:.3f}, max:{:.3f}\".format(min(ssim_sel_mean), max(ssim_sel_mean)))\n",
    "print(\"ssim_res: min:{:.3f}, max:{:.3f}\".format(min(ssim_res_mean), max(ssim_res_mean)))\n",
    "print(\"-\"*50)\n",
    "for key, name in best.items():\n",
    "    if key != \"processed_images\":\n",
    "        print(key, name)\n",
    "\n",
    "\n",
    "fig = plt.figure(figsize=(3, 21))\n",
    "fig.add_axes(sharex=True)\n",
    "# plt.xlim((0, max(epoch)+1))\n",
    "\n",
    "ax = plt.subplot(711)\n",
    "plt.plot(epoch, selected_filter_loss, label=\"selected_filter_loss\")\n",
    "plt.legend(loc='best')\n",
    "\n",
    "plt.subplot(712)\n",
    "plt.plot(epoch, rest_filter_loss, label=\"rest_filter_loss\")\n",
    "plt.plot(epoch, rest_filter_loss_interact, label=\"rest_filter_loss_interact\")\n",
    "plt.legend(loc='best')\n",
    "\n",
    "plt.subplot(713)\n",
    "plt.plot(epoch, regularization_loss, label=\"regularization\")\n",
    "plt.legend(loc='best')\n",
    "\n",
    "plt.subplot(714)\n",
    "plt.plot(epoch, loss, label=\"train_loss\")\n",
    "plt.legend(loc='best')\n",
    "\n",
    "plt.subplot(715)\n",
    "plt.plot(epoch, lr, label=\"lr\")\n",
    "plt.legend(loc='best')\n",
    "\n",
    "plt.subplot(716)\n",
    "plt.plot(epoch, rmses_mean, label=\"rmse\")\n",
    "plt.legend(loc='best')\n",
    "\n",
    "plt.subplot(717)\n",
    "plt.plot(epoch, ssim_sel_mean, label=\"ssim_sel\")\n",
    "plt.plot(epoch, ssim_res_mean, label=\"ssim_res\")\n",
    "plt.legend(loc='best')\n",
    "\n",
    "plt.suptitle('Training Process')\n",
    "plt.show()"
   ]
  },
  {
   "cell_type": "code",
   "execution_count": null,
   "metadata": {},
   "outputs": [],
   "source": []
  }
 ],
 "metadata": {
  "kernelspec": {
   "display_name": "Python 3",
   "language": "python",
   "name": "python3"
  },
  "language_info": {
   "codemirror_mode": {
    "name": "ipython",
    "version": 3
   },
   "file_extension": ".py",
   "mimetype": "text/x-python",
   "name": "python",
   "nbconvert_exporter": "python",
   "pygments_lexer": "ipython3",
   "version": "3.6.10"
  },
  "latex_envs": {
   "LaTeX_envs_menu_present": true,
   "autoclose": false,
   "autocomplete": true,
   "bibliofile": "biblio.bib",
   "cite_by": "apalike",
   "current_citInitial": 1,
   "eqLabelWithNumbers": true,
   "eqNumInitial": 1,
   "hotkeys": {
    "equation": "Ctrl-E",
    "itemize": "Ctrl-I"
   },
   "labels_anchors": false,
   "latex_user_defs": false,
   "report_style_numbering": false,
   "user_envs_cfg": false
  },
  "toc": {
   "base_numbering": 1,
   "nav_menu": {},
   "number_sections": true,
   "sideBar": true,
   "skip_h1_title": false,
   "title_cell": "Table of Contents",
   "title_sidebar": "Contents",
   "toc_cell": false,
   "toc_position": {
    "height": "calc(100% - 180px)",
    "left": "10px",
    "top": "150px",
    "width": "262.386px"
   },
   "toc_section_display": true,
   "toc_window_display": true
  },
  "varInspector": {
   "cols": {
    "lenName": 16,
    "lenType": 16,
    "lenVar": 40
   },
   "kernels_config": {
    "python": {
     "delete_cmd_postfix": "",
     "delete_cmd_prefix": "del ",
     "library": "var_list.py",
     "varRefreshCmd": "print(var_dic_list())"
    },
    "r": {
     "delete_cmd_postfix": ") ",
     "delete_cmd_prefix": "rm(",
     "library": "var_list.r",
     "varRefreshCmd": "cat(var_dic_list()) "
    }
   },
   "types_to_exclude": [
    "module",
    "function",
    "builtin_function_or_method",
    "instance",
    "_Feature"
   ],
   "window_display": false
  }
 },
 "nbformat": 4,
 "nbformat_minor": 4
}
