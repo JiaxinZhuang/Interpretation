{
 "cells": [
  {
   "cell_type": "code",
   "execution_count": 1,
   "metadata": {
    "ExecuteTime": {
     "end_time": "2020-09-20T04:13:15.845463Z",
     "start_time": "2020-09-20T04:13:15.619868Z"
    }
   },
   "outputs": [
    {
     "name": "stdout",
     "output_type": "stream",
     "text": [
      "Populating the interactive namespace from numpy and matplotlib\n"
     ]
    }
   ],
   "source": [
    "%load_ext autoreload\n",
    "%autoreload 2\n",
    "%pylab inline"
   ]
  },
  {
   "cell_type": "code",
   "execution_count": 2,
   "metadata": {
    "ExecuteTime": {
     "end_time": "2020-09-20T04:13:15.956845Z",
     "start_time": "2020-09-20T04:13:15.846540Z"
    }
   },
   "outputs": [],
   "source": [
    "import pandas as pd"
   ]
  },
  {
   "cell_type": "code",
   "execution_count": 3,
   "metadata": {
    "ExecuteTime": {
     "end_time": "2020-09-20T04:13:15.965519Z",
     "start_time": "2020-09-20T04:13:15.957926Z"
    }
   },
   "outputs": [
    {
     "name": "stdout",
     "output_type": "stream",
     "text": [
      "/home/lincolnzjx/Desktop/Interpretation\n"
     ]
    }
   ],
   "source": [
    "cd ../"
   ]
  },
  {
   "cell_type": "code",
   "execution_count": 4,
   "metadata": {
    "ExecuteTime": {
     "end_time": "2020-09-20T04:13:15.974182Z",
     "start_time": "2020-09-20T04:13:15.966375Z"
    }
   },
   "outputs": [
    {
     "data": {
      "text/plain": [
       "'/home/lincolnzjx/Desktop/Interpretation'"
      ]
     },
     "execution_count": 4,
     "metadata": {},
     "output_type": "execute_result"
    }
   ],
   "source": [
    "pwd"
   ]
  },
  {
   "cell_type": "code",
   "execution_count": 5,
   "metadata": {
    "ExecuteTime": {
     "end_time": "2020-09-20T04:13:15.985304Z",
     "start_time": "2020-09-20T04:13:15.975034Z"
    }
   },
   "outputs": [],
   "source": [
    "def main(cuda, exp, alpha, beta, gamma, selected_layer, selected_filter,\n",
    "         class_index, num_class, re_size, dataset, backbone, img_index, mode,\n",
    "         inter, defense):\n",
    "    resume = \"037-0\"\n",
    "    server = 'desktop'\n",
    "    n_epochs = 10000\n",
    "    seed = -1\n",
    "    eval_frequency = 50\n",
    "    delta = 0\n",
    "    batch_size = 1 if mode else num_class\n",
    "    lr = 1\n",
    "    \n",
    "    !CUDA_VISIBLE_DEVICES=$cuda python -u -W ignore src/trainer.py \\\n",
    "        --experiment_index $exp\\\n",
    "        --alpha=$alpha \\\n",
    "        --gamma=$gamma \\\n",
    "        --beta=$beta \\\n",
    "        --selected_layer=$selected_layer \\\n",
    "        --selected_filter=$selected_filter \\\n",
    "        --num_class=$num_class \\\n",
    "        --class_index=$class_index \\\n",
    "        --server $server\\\n",
    "        --dataset $dataset\\\n",
    "        --n_epochs $n_epochs \\\n",
    "        --eval_frequency=$eval_frequency \\\n",
    "        --re_size $re_size \\\n",
    "        --backbone=$backbone \\\n",
    "        --optimizer=SGD \\\n",
    "        --learning_rate $lr \\\n",
    "        --delta=$delta \\\n",
    "        --resume $resume \\\n",
    "        --mode=keep \\\n",
    "        --inter=False \\\n",
    "        --regularization=L1 \\\n",
    "        --seed $seed \\\n",
    "        --img_index $img_index\\\n",
    "        --batch_size $batch_size\\\n",
    "        --defense $defense"
   ]
  },
  {
   "cell_type": "markdown",
   "metadata": {},
   "source": [
    "# Read From excel"
   ]
  },
  {
   "cell_type": "code",
   "execution_count": 6,
   "metadata": {
    "ExecuteTime": {
     "end_time": "2020-09-20T04:13:15.993083Z",
     "start_time": "2020-09-20T04:13:15.986277Z"
    }
   },
   "outputs": [],
   "source": [
    "excel_path = \"./src/exps.xlsx\"\n",
    "sheet = \"ImageNet\"\n",
    "excepts = []"
   ]
  },
  {
   "cell_type": "markdown",
   "metadata": {},
   "source": [
    "# ALL YOU NEED TO SET HERE!!"
   ]
  },
  {
   "cell_type": "code",
   "execution_count": 7,
   "metadata": {
    "ExecuteTime": {
     "end_time": "2020-09-20T04:13:16.001698Z",
     "start_time": "2020-09-20T04:13:15.994434Z"
    }
   },
   "outputs": [],
   "source": [
    "exp_index = \"x092010\""
   ]
  },
  {
   "cell_type": "markdown",
   "metadata": {},
   "source": [
    "# Main"
   ]
  },
  {
   "cell_type": "code",
   "execution_count": 8,
   "metadata": {
    "ExecuteTime": {
     "end_time": "2020-09-20T04:13:26.110512Z",
     "start_time": "2020-09-20T04:13:16.002845Z"
    },
    "scrolled": true
   },
   "outputs": [
    {
     "name": "stdout",
     "output_type": "stream",
     "text": [
      "=> RUN on  0 092010 29 334 950 img_index  12\n",
      "==================== basic setting start ====================\n",
      "experiment_index    : 092010\n",
      "cuda                : 0\n",
      "num_workers         : 2\n",
      "dataset             : ImageNet\n",
      "data_dir            : /media/lincolnzjx/HardDisk/Datasets/\n",
      "resume              : 037-0\n",
      "n_epochs            : 10000\n",
      "learning_rate       : 1.0\n",
      "batch_size          : 1\n",
      "seed                : -1\n",
      "eval_frequency      : 50\n",
      "log_dir             : ./saved/logdirs\n",
      "model_dir           : ./saved/models\n",
      "generated_dir       : ./saved/generated\n",
      "eps                 : 1e-07\n",
      "weight_decay        : 0.0001\n",
      "momentum            : 0.9\n",
      "input_size          : 224\n",
      "backbone            : vgg16\n",
      "re_size             : 224\n",
      "optimizer           : SGD\n",
      "warmup_epochs       : -1\n",
      "initialization      : default\n",
      "prof                : False\n",
      "print_freq          : 10\n",
      "selected_filter     : 334\n",
      "selected_layer      : 29\n",
      "alpha               : 1.0\n",
      "beta                : 1.0\n",
      "gamma               : 1.0\n",
      "class_index         : [950]\n",
      "num_class           : 30\n",
      "mode                : keep\n",
      "dropout             : True\n",
      "clip_grad           : False\n",
      "inter               : False\n",
      "rho                 : 0\n",
      "conv_bias           : True\n",
      "linear_bias         : True\n",
      "regularization      : L1\n",
      "smoothing           : None\n",
      "delta               : 0.0\n",
      "regular_ex          : 1\n",
      "img_index           : 12\n",
      "rescale             : False\n",
      "server              : desktop\n",
      "freeze              : False\n",
      "dali                : False\n",
      "save_predict        : False\n",
      "local_rank          : 0\n",
      "world_size          : 1\n",
      "distributed         : False\n",
      "dist_url            : tcp://127.0.0.1:23456\n",
      "guidedReLU          : False\n",
      "defensed            : True\n",
      "embedding_size      : 3\n",
      "avg                 : False\n",
      "==================== basic setting end ====================\n",
      ">< init_environment with seed: -1\n",
      "Using GPU ID 0\n",
      "> Don't use seed\n",
      "Save generated on ./saved/generated/092010\n",
      "Using device cuda\n",
      "Alpha is 1.0, Beta is 1.0, Gamma is 1.0\n",
      "Whether to use inter: False with rho: 0\n",
      "Whether to use regularization: L1\n",
      "Whether to use Smoothing: None with delta: 0.0\n",
      ">> Dataset:ImageNet - Input size: 224\n",
      "Len of new dataset is :30\n",
      "Used single image mode.\n",
      "Only Keep 29th layers before.\n",
      "Loss using mode: keep\n",
      "=> Register bhook features.1\n",
      "=> Register bhook features.3\n",
      "=> Register bhook features.6\n",
      "=> Register bhook features.8\n",
      "=> Register bhook features.11\n",
      "=> Register bhook features.13\n",
      "=> Register bhook features.15\n",
      "=> Register bhook features.18\n",
      "=> Register bhook features.20\n",
      "=> Register bhook features.22\n",
      "=> Register bhook features.25\n",
      "=> Register bhook features.27\n",
      "=> Register bhook features.29\n",
      "Using optimizer SGD with lr:1.0000\n",
      "Resume from model from exp: 037 at epoch 0\n",
      "Network(\n",
      "  (model): VGG16(\n",
      "    (features): Sequential(\n",
      "      (0): Conv2d(3, 64, kernel_size=(3, 3), stride=(1, 1), padding=(1, 1))\n",
      "      (1): ReLU(inplace=True)\n",
      "      (2): Conv2d(64, 64, kernel_size=(3, 3), stride=(1, 1), padding=(1, 1))\n",
      "      (3): ReLU(inplace=True)\n",
      "      (4): MaxPool2d(kernel_size=2, stride=2, padding=0, dilation=1, ceil_mode=False)\n",
      "      (5): Conv2d(64, 128, kernel_size=(3, 3), stride=(1, 1), padding=(1, 1))\n",
      "      (6): ReLU(inplace=True)\n",
      "      (7): Conv2d(128, 128, kernel_size=(3, 3), stride=(1, 1), padding=(1, 1))\n",
      "      (8): ReLU(inplace=True)\n",
      "      (9): MaxPool2d(kernel_size=2, stride=2, padding=0, dilation=1, ceil_mode=False)\n",
      "      (10): Conv2d(128, 256, kernel_size=(3, 3), stride=(1, 1), padding=(1, 1))\n",
      "      (11): ReLU(inplace=True)\n",
      "      (12): Conv2d(256, 256, kernel_size=(3, 3), stride=(1, 1), padding=(1, 1))\n",
      "      (13): ReLU(inplace=True)\n",
      "      (14): Conv2d(256, 256, kernel_size=(3, 3), stride=(1, 1), padding=(1, 1))\n",
      "      (15): ReLU(inplace=True)\n",
      "      (16): MaxPool2d(kernel_size=2, stride=2, padding=0, dilation=1, ceil_mode=False)\n",
      "      (17): Conv2d(256, 512, kernel_size=(3, 3), stride=(1, 1), padding=(1, 1))\n",
      "      (18): ReLU(inplace=True)\n",
      "      (19): Conv2d(512, 512, kernel_size=(3, 3), stride=(1, 1), padding=(1, 1))\n",
      "      (20): ReLU(inplace=True)\n",
      "      (21): Conv2d(512, 512, kernel_size=(3, 3), stride=(1, 1), padding=(1, 1))\n",
      "      (22): ReLU(inplace=True)\n",
      "      (23): MaxPool2d(kernel_size=2, stride=2, padding=0, dilation=1, ceil_mode=False)\n",
      "      (24): Conv2d(512, 512, kernel_size=(3, 3), stride=(1, 1), padding=(1, 1))\n",
      "      (25): ReLU(inplace=True)\n",
      "      (26): Conv2d(512, 512, kernel_size=(3, 3), stride=(1, 1), padding=(1, 1))\n",
      "      (27): ReLU(inplace=True)\n",
      "      (28): Conv2d(512, 512, kernel_size=(3, 3), stride=(1, 1), padding=(1, 1))\n",
      "      (29): ReLU(inplace=True)\n",
      "    )\n",
      "  )\n",
      ")\n",
      "epoch,  0\n",
      "=> Register fhook features.1\n",
      "=> Register fhook features.3\n",
      "=> Register fhook features.6\n",
      "=> Register fhook features.8\n",
      "=> Register fhook features.11\n",
      "=> Register fhook features.13\n",
      "=> Register fhook features.15\n",
      "=> Register fhook features.18\n",
      "=> Register fhook features.20\n",
      "=> Register fhook features.22\n",
      "=> Register fhook features.25\n",
      "=> Register fhook features.27\n",
      "=> Register fhook features.29\n",
      "=> Register fhook features.1\n",
      "=> Register fhook features.3\n",
      "=> Register fhook features.6\n",
      "=> Register fhook features.8\n",
      "=> Register fhook features.11\n",
      "=> Register fhook features.13\n",
      "=> Register fhook features.15\n",
      "=> Register fhook features.18\n",
      "=> Register fhook features.20\n",
      "=> Register fhook features.22\n",
      "=> Register fhook features.25\n",
      "=> Register fhook features.27\n",
      "=> Register fhook features.29\n",
      "--------------------------------------------------\n",
      "ReLU(inplace=True)\n",
      "<class 'torch.nn.modules.activation.ReLU'>\n",
      "torch.Size([1, 512, 14, 14])\n",
      "13\n",
      "13\n",
      "--------------------------------------------------\n",
      "ReLU(inplace=True)\n",
      "<class 'torch.nn.modules.activation.ReLU'>\n",
      "torch.Size([1, 512, 14, 14])\n",
      "12\n",
      "12\n",
      "--------------------------------------------------\n",
      "ReLU(inplace=True)\n",
      "<class 'torch.nn.modules.activation.ReLU'>\n",
      "torch.Size([1, 512, 14, 14])\n",
      "11\n",
      "11\n",
      "--------------------------------------------------\n",
      "ReLU(inplace=True)\n",
      "<class 'torch.nn.modules.activation.ReLU'>\n",
      "torch.Size([1, 512, 28, 28])\n",
      "10\n",
      "10\n",
      "--------------------------------------------------\n",
      "ReLU(inplace=True)\n",
      "<class 'torch.nn.modules.activation.ReLU'>\n",
      "torch.Size([1, 512, 28, 28])\n",
      "9\n",
      "9\n",
      "--------------------------------------------------\n",
      "ReLU(inplace=True)\n",
      "<class 'torch.nn.modules.activation.ReLU'>\n",
      "torch.Size([1, 512, 28, 28])\n",
      "8\n",
      "8\n",
      "--------------------------------------------------\n",
      "ReLU(inplace=True)\n",
      "<class 'torch.nn.modules.activation.ReLU'>\n",
      "torch.Size([1, 256, 56, 56])\n",
      "7\n",
      "7\n",
      "--------------------------------------------------\n",
      "ReLU(inplace=True)\n",
      "<class 'torch.nn.modules.activation.ReLU'>\n",
      "torch.Size([1, 256, 56, 56])\n",
      "6\n",
      "6\n",
      "--------------------------------------------------\n",
      "ReLU(inplace=True)\n",
      "<class 'torch.nn.modules.activation.ReLU'>\n",
      "torch.Size([1, 256, 56, 56])\n",
      "5\n",
      "5\n",
      "--------------------------------------------------\n",
      "ReLU(inplace=True)\n",
      "<class 'torch.nn.modules.activation.ReLU'>\n",
      "torch.Size([1, 128, 112, 112])\n",
      "4\n",
      "4\n",
      "--------------------------------------------------\n",
      "ReLU(inplace=True)\n",
      "<class 'torch.nn.modules.activation.ReLU'>\n",
      "torch.Size([1, 128, 112, 112])\n",
      "3\n",
      "3\n",
      "--------------------------------------------------\n",
      "ReLU(inplace=True)\n",
      "<class 'torch.nn.modules.activation.ReLU'>\n",
      "torch.Size([1, 64, 224, 224])\n",
      "2\n",
      "2\n",
      "--------------------------------------------------\n",
      "ReLU(inplace=True)\n",
      "<class 'torch.nn.modules.activation.ReLU'>\n",
      "torch.Size([1, 64, 224, 224])\n",
      "1\n",
      "1\n",
      "--------------------------------------------------\n",
      "ReLU(inplace=True)\n",
      "<class 'torch.nn.modules.activation.ReLU'>\n",
      "torch.Size([1, 512, 14, 14])\n",
      "0\n",
      "0\n",
      "Traceback (most recent call last):\n",
      "  File \"src/trainer.py\", line 438, in <module>\n",
      "    main()\n",
      "  File \"/home/lincolnzjx/Desktop/Interpretation/src/utils/function.py\", line 73, in wrapper\n",
      "    ret = func(*args, **kwargs)\n",
      "  File \"src/trainer.py\", line 322, in main\n",
      "    loss.backward()\n",
      "  File \"/home/lincolnzjx/anaconda3/envs/Py36/lib/python3.6/site-packages/torch/tensor.py\", line 185, in backward\n",
      "    torch.autograd.backward(self, gradient, retain_graph, create_graph)\n",
      "  File \"/home/lincolnzjx/anaconda3/envs/Py36/lib/python3.6/site-packages/torch/autograd/__init__.py\", line 127, in backward\n",
      "    allow_unreachable=True)  # allow_unreachable flag\n",
      "RuntimeError: expected tuple, but hook returned 'Tensor'\n"
     ]
    }
   ],
   "source": [
    "xlsx = pd.ExcelFile(excel_path)\n",
    "excel = pd.read_excel(xlsx, sheet, dtype={\"exp\": str, \n",
    "                                          \"Done\": str,\n",
    "                                          \"selected_layer\": int,\n",
    "                                          \"selected_filter\": int, \n",
    "                                          \"Alpha\": int,\n",
    "                                          \"Beta\": int,\n",
    "                                          \"Gamma\": int,\n",
    "                                          \"cuda\": int,\n",
    "                                          \"class_index\": int,\n",
    "                                          \"num_class\": int,\n",
    "                                          \"re_size\": int,\n",
    "                                          \"dataset\": str,\n",
    "                                          \"backbone\": str, \n",
    "                                          \"mode\":str,\n",
    "                                          \"defensed\": str}).values\n",
    "\n",
    "for data in excel:\n",
    "    exp, done, selected_layer, selected_filter, alpha, beta, gamma, cuda, \\\n",
    "        class_index, num_class, re_size, dataset, backbone, mode, inter , \\\n",
    "        defensed = data\n",
    "    if exp != exp_index:\n",
    "        continue\n",
    "        \n",
    "    exp = exp.replace(\"x\", \"\")\n",
    "    if exp in excepts:\n",
    "        print(\"=> Skip\")\n",
    "    else:\n",
    "        if done == \"N\":\n",
    "            for img_index in range(30):\n",
    "                if img_index == 12:\n",
    "                    print(\"=> RUN on \", cuda, exp, selected_layer, selected_filter, \n",
    "                          class_index, \"img_index \", img_index)\n",
    "                    main(cuda, exp, alpha, beta, gamma, selected_layer, \n",
    "                         selected_filter, class_index, num_class, re_size, dataset,\n",
    "                         backbone, img_index, mode, inter, defensed)"
   ]
  },
  {
   "cell_type": "markdown",
   "metadata": {},
   "source": [
    "# Visualization"
   ]
  },
  {
   "cell_type": "code",
   "execution_count": 9,
   "metadata": {
    "ExecuteTime": {
     "end_time": "2020-09-20T04:13:26.122410Z",
     "start_time": "2020-09-20T04:13:26.112115Z"
    }
   },
   "outputs": [],
   "source": [
    "import pickle"
   ]
  },
  {
   "cell_type": "code",
   "execution_count": 10,
   "metadata": {
    "ExecuteTime": {
     "end_time": "2020-09-20T04:13:26.140333Z",
     "start_time": "2020-09-20T04:13:26.123320Z"
    }
   },
   "outputs": [],
   "source": [
    "# statistic_path = \"/home/lincolnzjx/Desktop/Interpretation/saved/generated/091810/n07747607_10061_statistics.pl\"\n",
    "statistic_path = \"/home/lincolnzjx/Desktop/Interpretation/saved/generated/091810/n07747607_1021_statistics.pl\""
   ]
  },
  {
   "cell_type": "code",
   "execution_count": 11,
   "metadata": {
    "ExecuteTime": {
     "end_time": "2020-09-20T04:13:28.211477Z",
     "start_time": "2020-09-20T04:13:26.141371Z"
    }
   },
   "outputs": [],
   "source": [
    "with open(statistic_path, \"rb\") as handle:\n",
    "    statistic = pickle.load(handle)"
   ]
  },
  {
   "cell_type": "code",
   "execution_count": 12,
   "metadata": {
    "ExecuteTime": {
     "end_time": "2020-09-20T04:13:28.730366Z",
     "start_time": "2020-09-20T04:13:28.212636Z"
    },
    "scrolled": false
   },
   "outputs": [
    {
     "name": "stdout",
     "output_type": "stream",
     "text": [
      "sf: min:0.000 max:1.003\n",
      "rf: min:0.025 max:0.218\n",
      "rfi: min:0.009 max:0.142\n",
      "rg: min:0.741 max:0.895\n",
      "rmse: min:0.073 max:1.001\n",
      "ssim_sel: min:0.660, max:0.997\n",
      "ssim_res: max:0.860\n",
      "--------------------------------------------------\n",
      "loss 1.0615321397781372\n",
      "epoch 1\n",
      "selected_filter_loss 0.005377959925681353\n",
      "rest_fileter_loss 0.20849579572677612\n",
      "regularization_loss 0.8476583957672119\n",
      "rest_filter_loss_interact 0.13501310348510742\n",
      "metric_statistic defaultdict(<class 'list'>, {'rmses_mean': 1.8511213, 'rmses_std': 0.0, 'ssim_sel_mean': 0.7264267, 'ssim_sel_std': 0.0, 'ssim_res_mean': 0.6568306, 'ssim_res_std': 0.0, 'ssim_sum': 0.0})\n"
     ]
    },
    {
     "data": {
      "image/png": "[encoded data removed]",
      "text/plain": [
       "<Figure size 216x1512 with 7 Axes>"
      ]
     },
     "metadata": {
      "needs_background": "light"
     },
     "output_type": "display_data"
    }
   ],
   "source": [
    "epoch = statistic[\"epoch\"]\n",
    "loss = statistic[\"losses\"]\n",
    "selected_filter_loss = statistic[\"selected_filter_loss\"]\n",
    "rest_filter_loss = statistic[\"rest_fileter_loss\"]\n",
    "rest_filter_loss_interact = statistic[\"rest_filter_loss_interact\"]\n",
    "regularization_loss = statistic[\"regularization_loss\"]\n",
    "lr = statistic[\"lr\"]\n",
    "best = statistic[\"best\"][0]\n",
    "\n",
    "metric_statistic = statistic[\"metric_statistic\"]\n",
    "rmses_mean = [ms[\"rmses_mean\"] for ms in metric_statistic]\n",
    "ssim_sel_mean = [ms[\"ssim_sel_mean\"] for ms in metric_statistic]\n",
    "ssim_res_mean = [ms[\"ssim_res_mean\"] for ms in metric_statistic]\n",
    "\n",
    "print(\"sf: min:{:.3f} max:{:.3f}\".format(min(selected_filter_loss), max(selected_filter_loss)))\n",
    "print(\"rf: min:{:.3f} max:{:.3f}\".format(min(rest_filter_loss), max(rest_filter_loss)))\n",
    "print(\"rfi: min:{:.3f} max:{:.3f}\".format(min(rest_filter_loss_interact), max(rest_filter_loss_interact)))\n",
    "print(\"rg: min:{:.3f} max:{:.3f}\".format(min(regularization_loss), max(regularization_loss)))\n",
    "print(\"rmse: min:{:.3f} max:{:.3f}\".format(min(rmses_mean), max(rmses_mean)))\n",
    "print(\"ssim_sel: min:{:.3f}, max:{:.3f}\".format(min(ssim_res_mean), max(ssim_sel_mean)))\n",
    "print(\"ssim_res: max:{:.3f}\".format(max(ssim_res_mean)))\n",
    "print(\"-\"*50)\n",
    "for key, name in best.items():\n",
    "    if key != \"processed_images\":\n",
    "        print(key, name)\n",
    "\n",
    "\n",
    "fig = plt.figure(figsize=(3, 21))\n",
    "fig.add_axes(sharex=True)\n",
    "# plt.xlim((0, max(epoch)+1))\n",
    "\n",
    "ax = plt.subplot(711)\n",
    "plt.plot(epoch, selected_filter_loss, label=\"selected_filter_loss\")\n",
    "plt.legend(loc='best')\n",
    "\n",
    "plt.subplot(712)\n",
    "plt.plot(epoch, rest_filter_loss, label=\"rest_filter_loss\")\n",
    "plt.plot(epoch, rest_filter_loss_interact, label=\"rest_filter_loss_interact\")\n",
    "plt.legend(loc='best')\n",
    "\n",
    "plt.subplot(713)\n",
    "plt.plot(epoch, regularization_loss, label=\"regularization\")\n",
    "plt.legend(loc='best')\n",
    "\n",
    "plt.subplot(714)\n",
    "plt.plot(epoch, loss, label=\"train_loss\")\n",
    "plt.legend(loc='best')\n",
    "\n",
    "plt.subplot(715)\n",
    "plt.plot(epoch, lr, label=\"lr\")\n",
    "plt.legend(loc='best')\n",
    "\n",
    "plt.subplot(716)\n",
    "plt.plot(epoch, rmses_mean, label=\"rmse\")\n",
    "plt.legend(loc='best')\n",
    "\n",
    "plt.subplot(717)\n",
    "plt.plot(epoch, ssim_sel_mean, label=\"ssim_sel\")\n",
    "plt.plot(epoch, ssim_res_mean, label=\"ssim_res\")\n",
    "plt.legend(loc='best')\n",
    "\n",
    "plt.suptitle('Training Process')\n",
    "plt.show()"
   ]
  },
  {
   "cell_type": "code",
   "execution_count": null,
   "metadata": {},
   "outputs": [],
   "source": []
  }
 ],
 "metadata": {
  "kernelspec": {
   "display_name": "Python 3",
   "language": "python",
   "name": "python3"
  },
  "language_info": {
   "codemirror_mode": {
    "name": "ipython",
    "version": 3
   },
   "file_extension": ".py",
   "mimetype": "text/x-python",
   "name": "python",
   "nbconvert_exporter": "python",
   "pygments_lexer": "ipython3",
   "version": "3.6.10"
  },
  "latex_envs": {
   "LaTeX_envs_menu_present": true,
   "autoclose": false,
   "autocomplete": true,
   "bibliofile": "biblio.bib",
   "cite_by": "apalike",
   "current_citInitial": 1,
   "eqLabelWithNumbers": true,
   "eqNumInitial": 1,
   "hotkeys": {
    "equation": "Ctrl-E",
    "itemize": "Ctrl-I"
   },
   "labels_anchors": false,
   "latex_user_defs": false,
   "report_style_numbering": false,
   "user_envs_cfg": false
  },
  "toc": {
   "base_numbering": 1,
   "nav_menu": {},
   "number_sections": true,
   "sideBar": true,
   "skip_h1_title": false,
   "title_cell": "Table of Contents",
   "title_sidebar": "Contents",
   "toc_cell": false,
   "toc_position": {
    "height": "calc(100% - 180px)",
    "left": "10px",
    "top": "150px",
    "width": "262.386px"
   },
   "toc_section_display": true,
   "toc_window_display": true
  },
  "varInspector": {
   "cols": {
    "lenName": 16,
    "lenType": 16,
    "lenVar": 40
   },
   "kernels_config": {
    "python": {
     "delete_cmd_postfix": "",
     "delete_cmd_prefix": "del ",
     "library": "var_list.py",
     "varRefreshCmd": "print(var_dic_list())"
    },
    "r": {
     "delete_cmd_postfix": ") ",
     "delete_cmd_prefix": "rm(",
     "library": "var_list.r",
     "varRefreshCmd": "cat(var_dic_list()) "
    }
   },
   "types_to_exclude": [
    "module",
    "function",
    "builtin_function_or_method",
    "instance",
    "_Feature"
   ],
   "window_display": false
  }
 },
 "nbformat": 4,
 "nbformat_minor": 4
}
