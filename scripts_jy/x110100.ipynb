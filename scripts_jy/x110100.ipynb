{
 "cells": [
  {
   "cell_type": "code",
   "execution_count": 1,
   "metadata": {
    "ExecuteTime": {
     "end_time": "2020-11-01T15:52:19.578542Z",
     "start_time": "2020-11-01T15:52:19.359242Z"
    }
   },
   "outputs": [
    {
     "name": "stdout",
     "output_type": "stream",
     "text": [
      "Populating the interactive namespace from numpy and matplotlib\n"
     ]
    }
   ],
   "source": [
    "%load_ext autoreload\n",
    "%autoreload 2\n",
    "%pylab inline"
   ]
  },
  {
   "cell_type": "code",
   "execution_count": 2,
   "metadata": {
    "ExecuteTime": {
     "end_time": "2020-11-01T15:52:19.874991Z",
     "start_time": "2020-11-01T15:52:19.579522Z"
    }
   },
   "outputs": [],
   "source": [
    "import pandas as pd\n",
    "import glob\n",
    "import seaborn as sns\n",
    "import numpy as np"
   ]
  },
  {
   "cell_type": "code",
   "execution_count": 3,
   "metadata": {
    "ExecuteTime": {
     "end_time": "2020-11-01T15:52:19.885173Z",
     "start_time": "2020-11-01T15:52:19.876275Z"
    }
   },
   "outputs": [
    {
     "name": "stdout",
     "output_type": "stream",
     "text": [
      "/home/lincolnzjx/Desktop/Interpretation\n"
     ]
    }
   ],
   "source": [
    "cd ../"
   ]
  },
  {
   "cell_type": "code",
   "execution_count": 4,
   "metadata": {
    "ExecuteTime": {
     "end_time": "2020-11-01T15:52:19.895920Z",
     "start_time": "2020-11-01T15:52:19.886289Z"
    }
   },
   "outputs": [
    {
     "data": {
      "text/plain": [
       "'/home/lincolnzjx/Desktop/Interpretation'"
      ]
     },
     "execution_count": 4,
     "metadata": {},
     "output_type": "execute_result"
    }
   ],
   "source": [
    "pwd"
   ]
  },
  {
   "cell_type": "code",
   "execution_count": 5,
   "metadata": {
    "ExecuteTime": {
     "end_time": "2020-11-01T15:52:19.907779Z",
     "start_time": "2020-11-01T15:52:19.896787Z"
    }
   },
   "outputs": [],
   "source": [
    "def main(cuda, exp, alpha, beta, gamma, selected_layer, selected_filter,\n",
    "         class_index, num_class, re_size, dataset, backbone, img_index, mode,\n",
    "         inter, defensed):\n",
    "    resume = \"037-0\"\n",
    "    server = 'desktop'\n",
    "    n_epochs = 10000\n",
    "    seed = -1\n",
    "    eval_frequency = 1000\n",
    "    delta = 0\n",
    "    batch_size = 1 if mode else num_class\n",
    "    lr = 10\n",
    "    \n",
    "    !CUDA_VISIBLE_DEVICES=$cuda python -u -W ignore src/trainer.py \\\n",
    "        --experiment_index $exp\\\n",
    "        --alpha=$alpha \\\n",
    "        --gamma=$gamma \\\n",
    "        --beta=$beta \\\n",
    "        --selected_layer=$selected_layer \\\n",
    "        --selected_filter=$selected_filter \\\n",
    "        --num_class=$num_class \\\n",
    "        --class_index=$class_index \\\n",
    "        --server $server\\\n",
    "        --dataset $dataset\\\n",
    "        --n_epochs $n_epochs \\\n",
    "        --eval_frequency=$eval_frequency \\\n",
    "        --re_size $re_size \\\n",
    "        --backbone=$backbone \\\n",
    "        --optimizer=SGD \\\n",
    "        --learning_rate $lr \\\n",
    "        --delta=$delta \\\n",
    "        --resume $resume \\\n",
    "        --mode=keep \\\n",
    "        --inter=False \\\n",
    "        --regularization=L1 \\\n",
    "        --seed $seed \\\n",
    "        --img_index $img_index\\\n",
    "        --batch_size $batch_size\\\n",
    "        --inter $inter\\\n",
    "        --defensed $defensed\\\n",
    "        --scheduler"
   ]
  },
  {
   "cell_type": "markdown",
   "metadata": {},
   "source": [
    "# Read From excel"
   ]
  },
  {
   "cell_type": "code",
   "execution_count": 6,
   "metadata": {
    "ExecuteTime": {
     "end_time": "2020-11-01T15:52:19.916270Z",
     "start_time": "2020-11-01T15:52:19.908796Z"
    }
   },
   "outputs": [],
   "source": [
    "excel_path = \"./src/exps.xlsx\"\n",
    "sheet = \"ablation\"\n",
    "excepts = []"
   ]
  },
  {
   "cell_type": "markdown",
   "metadata": {},
   "source": [
    "# ALL YOU NEED TO SET HERE!!"
   ]
  },
  {
   "cell_type": "code",
   "execution_count": 7,
   "metadata": {
    "ExecuteTime": {
     "end_time": "2020-11-01T15:52:19.924493Z",
     "start_time": "2020-11-01T15:52:19.917060Z"
    }
   },
   "outputs": [],
   "source": [
    "exp_index = \"x110100\""
   ]
  },
  {
   "cell_type": "code",
   "execution_count": 8,
   "metadata": {
    "ExecuteTime": {
     "end_time": "2020-11-01T15:52:19.996768Z",
     "start_time": "2020-11-01T15:52:19.925709Z"
    }
   },
   "outputs": [
    {
     "ename": "TypeError",
     "evalue": "must be str, not numpy.ufunc",
     "output_type": "error",
     "traceback": [
      "\u001b[0;31m---------------------------------------------------------------------------\u001b[0m",
      "\u001b[0;31mTypeError\u001b[0m                                 Traceback (most recent call last)",
      "\u001b[0;32m<ipython-input-8-46fbd996e6de>\u001b[0m in \u001b[0;36m<module>\u001b[0;34m\u001b[0m\n\u001b[0;32m----> 1\u001b[0;31m \u001b[0mexp_path\u001b[0m \u001b[0;34m=\u001b[0m \u001b[0;34m'/media/lincolnzjx/HardDisk/myGithub/Interpretation/generated/'\u001b[0m \u001b[0;34m+\u001b[0m \u001b[0mexp\u001b[0m\u001b[0;34m\u001b[0m\u001b[0;34m\u001b[0m\u001b[0m\n\u001b[0m",
      "\u001b[0;31mTypeError\u001b[0m: must be str, not numpy.ufunc"
     ]
    }
   ],
   "source": [
    "exp_path = '/media/lincolnzjx/HardDisk/myGithub/Interpretation/generated/' + exp"
   ]
  },
  {
   "cell_type": "code",
   "execution_count": null,
   "metadata": {
    "ExecuteTime": {
     "end_time": "2020-11-01T15:52:19.997698Z",
     "start_time": "2020-11-01T15:52:19.243Z"
    }
   },
   "outputs": [],
   "source": [
    "!mkdir $exp_path"
   ]
  },
  {
   "cell_type": "markdown",
   "metadata": {},
   "source": [
    "# Main"
   ]
  },
  {
   "cell_type": "code",
   "execution_count": 9,
   "metadata": {
    "ExecuteTime": {
     "end_time": "2020-11-01T15:52:30.372510Z",
     "start_time": "2020-11-01T15:52:20.375712Z"
    },
    "scrolled": true
   },
   "outputs": [
    {
     "name": "stdout",
     "output_type": "stream",
     "text": [
      "=> RUN on  0 110100 1 47 950 img_index  1\n",
      "==================== basic setting start ====================\n",
      "experiment_index    : 110100\n",
      "cuda                : 0\n",
      "num_workers         : 2\n",
      "dataset             : ImageNet\n",
      "data_dir            : /media/lincolnzjx/HardDisk/Datasets/\n",
      "resume              : 037-0\n",
      "n_epochs            : 10000\n",
      "learning_rate       : 10.0\n",
      "batch_size          : 1\n",
      "seed                : -1\n",
      "eval_frequency      : 1000\n",
      "log_dir             : ./saved/logdirs\n",
      "model_dir           : ./saved/models\n",
      "generated_dir       : ./saved/generated\n",
      "eps                 : 1e-07\n",
      "weight_decay        : 0\n",
      "momentum            : 0.9\n",
      "input_size          : 224\n",
      "backbone            : vgg16\n",
      "re_size             : 224\n",
      "optimizer           : SGD\n",
      "warmup_epochs       : -1\n",
      "initialization      : default\n",
      "prof                : False\n",
      "print_freq          : 10\n",
      "selected_filter     : 47\n",
      "selected_layer      : 1\n",
      "alpha               : 1.0\n",
      "beta                : 0.0\n",
      "gamma               : 0.0\n",
      "class_index         : [950]\n",
      "num_class           : 30\n",
      "mode                : keep\n",
      "dropout             : True\n",
      "clip_grad           : False\n",
      "inter               : False\n",
      "rho                 : 0\n",
      "conv_bias           : True\n",
      "linear_bias         : True\n",
      "regularization      : L1\n",
      "smoothing           : None\n",
      "delta               : 0.0\n",
      "regular_ex          : 1\n",
      "img_index           : 1\n",
      "rescale             : False\n",
      "server              : desktop\n",
      "freeze              : False\n",
      "dali                : False\n",
      "save_predict        : False\n",
      "local_rank          : 0\n",
      "world_size          : 1\n",
      "distributed         : False\n",
      "dist_url            : tcp://127.0.0.1:23456\n",
      "guidedReLU          : False\n",
      "defensed            : False\n",
      "embedding_size      : 3\n",
      "avg                 : False\n",
      "scheduler           : True\n",
      "==================== basic setting end ====================\n",
      ">< init_environment with seed: -1\n",
      "Using GPU ID 0\n",
      "Save generated on ./saved/generated/110100\n",
      "Using device cuda\n",
      "Alpha is 1.0, Beta is 0.0, Gamma is 0.0\n",
      "Whether to use inter: False with rho: 0\n",
      "Whether to use regularization: L1\n",
      "Whether to use Smoothing: None with delta: 0.0\n",
      ">> Dataset:ImageNet - Input size: 224\n",
      "Len of new dataset is :30\n",
      "Used single image mode.\n",
      "Only Keep 1th layers before.\n",
      "Loss using mode: keep\n",
      "Using optimizer SGD with lr:10.0000\n",
      "Resume from model from exp: 037 at epoch 0\n",
      "Network(\n",
      "  (model): VGG16(\n",
      "    (features): Sequential(\n",
      "      (0): Conv2d(3, 64, kernel_size=(3, 3), stride=(1, 1), padding=(1, 1))\n",
      "      (1): ReLU(inplace=True)\n",
      "    )\n",
      "  )\n",
      ")\n",
      "Traceback (most recent call last):\n",
      "  File \"src/trainer.py\", line 462, in <module>\n",
      "    main()\n",
      "  File \"/home/lincolnzjx/Desktop/Interpretation/src/utils/function.py\", line 73, in wrapper\n",
      "    ret = func(*args, **kwargs)\n",
      "  File \"src/trainer.py\", line 405, in main\n",
      "    save_image(recreate_im, save_path)\n",
      "  File \"/home/lincolnzjx/Desktop/Interpretation/src/utils/function.py\", line 176, in save_image\n",
      "    im.save(path)\n",
      "  File \"/home/lincolnzjx/anaconda3/envs/Py36/lib/python3.6/site-packages/PIL/Image.py\", line 2099, in save\n",
      "    fp = builtins.open(filename, \"w+b\")\n",
      "FileNotFoundError: [Errno 2] No such file or directory: './saved/generated/110100/n07747607_10068.png'\n"
     ]
    }
   ],
   "source": [
    "xlsx = pd.ExcelFile(excel_path)\n",
    "excel = pd.read_excel(xlsx, sheet, dtype={\"exp\": str, \n",
    "                                          \"Done\": str,\n",
    "                                          \"selected_layer\": int,\n",
    "                                          \"selected_filter\": int, \n",
    "                                          \"Alpha\": int,\n",
    "                                          \"Beta\": int,\n",
    "                                          \"Gamma\": int,\n",
    "                                          \"cuda\": int,\n",
    "                                          \"class_index\": int,\n",
    "                                          \"num_class\": int,\n",
    "                                          \"re_size\": int,\n",
    "                                          \"dataset\": str,\n",
    "                                          \"backbone\": str, \n",
    "                                          \"mode\":str}).values\n",
    "\n",
    "for data in excel:\n",
    "    exp, done, selected_layer, selected_filter, alpha, beta, gamma, cuda, \\\n",
    "        class_index, num_class, re_size, dataset, backbone, mode, inter, \\\n",
    "        defensed = data\n",
    "    if exp != exp_index:\n",
    "        continue\n",
    "        \n",
    "    exp = exp.replace(\"x\", \"\")\n",
    "    if exp in excepts:\n",
    "        print(\"=> Skip\")\n",
    "    else:\n",
    "        if done == \"N\":\n",
    "            for img_index in range(30):\n",
    "                if img_index == 1:\n",
    "                    print(\"=> RUN on \", cuda, exp, selected_layer, selected_filter, \n",
    "                          class_index, \"img_index \", img_index)\n",
    "                    main(cuda, exp, alpha, beta, gamma, selected_layer, \n",
    "                         selected_filter, class_index, num_class, re_size, dataset,\n",
    "                         backbone, img_index, mode, inter, defensed)"
   ]
  },
  {
   "cell_type": "markdown",
   "metadata": {},
   "source": [
    "# Visualization"
   ]
  },
  {
   "cell_type": "code",
   "execution_count": 10,
   "metadata": {
    "ExecuteTime": {
     "end_time": "2020-11-01T15:52:30.411925Z",
     "start_time": "2020-11-01T15:52:30.378753Z"
    }
   },
   "outputs": [],
   "source": [
    "import pickle"
   ]
  },
  {
   "cell_type": "code",
   "execution_count": 11,
   "metadata": {
    "ExecuteTime": {
     "end_time": "2020-11-01T15:52:30.428941Z",
     "start_time": "2020-11-01T15:52:30.413936Z"
    },
    "scrolled": false
   },
   "outputs": [],
   "source": [
    "# statistic_dir = \"/home/lincolnzjx/Desktop/Interpretation/saved/generated/101801/*.pl\"\n",
    "# \n",
    "# selected_filter_losses = []\n",
    "# rest_filter_losses = []\n",
    "# rest_filter_loss_interactes = []\n",
    "# regularization_losses = []\n",
    "# rest_filter_loss_interact = []\n",
    "# lres = []\n",
    "# rmses_meanes = []\n",
    "# ssim_sel_meanes = []\n",
    "# ssim_res_meanes = []\n",
    "# losses = []\n",
    "# \n",
    "# for item in glob.glob(statistic_dir):\n",
    "#     # load data \n",
    "#     with open(item, \"rb\") as handle:\n",
    "#           statistic = pickle.load(handle)\n",
    "#     epoch = statistic[\"epoch\"]\n",
    "#     loss = statistic[\"losses\"]\n",
    "#     selected_filter_loss = statistic[\"selected_filter_loss\"]\n",
    "#     rest_filter_loss = statistic[\"rest_fileter_loss\"]\n",
    "#     rest_filter_loss_interact = statistic[\"rest_filter_loss_interact\"]\n",
    "#     regularization_loss = statistic[\"regularization_loss\"]\n",
    "#     lr = statistic[\"lr\"]\n",
    "#     # best = statistic[\"best\"][0]\n",
    "#     \n",
    "#     metric_statistic = statistic[\"metric_statistic\"]\n",
    "#     rmses_mean = [ms[\"rmses_mean\"] for ms in metric_statistic]\n",
    "#     ssim_sel_mean = [ms[\"ssim_sel_mean\"] for ms in metric_statistic]\n",
    "#     ssim_res_mean = [ms[\"ssim_res_mean\"] for ms in metric_statistic]\n",
    "#     \n",
    "#     selected_filter_losses.append(selected_filter_loss)\n",
    "#     rest_filter_losses.append(rest_filter_loss)\n",
    "#     rest_filter_loss_interactes.append(rest_filter_loss_interact)\n",
    "#     regularization_losses.append(regularization_loss)\n",
    "#     lres.append(regularization_loss)\n",
    "#     rmses_meanes.append(rmses_mean)\n",
    "#     ssim_sel_meanes.append(ssim_sel_mean)\n",
    "#     ssim_res_meanes.append(ssim_res_mean)\n",
    "#     losses.append(loss)\n",
    "#     # print(\"sf: min:{:.3f} max:{:.3f}\".format(min(selected_filter_loss), max(selected_filter_loss)))\n",
    "#     # print(\"rf: min:{:.3f} max:{:.3f}\".format(min(rest_filter_loss), max(rest_filter_loss)))\n",
    "#     # print(\"rfi: min:{:.3f} max:{:.3f}\".format(min(rest_filter_loss_interact), max(rest_filter_loss_interact)))\n",
    "#     # print(\"rg: min:{:.3f} max:{:.3f}\".format(min(regularization_loss), max(regularization_loss)))\n",
    "#     # print(\"rmse: min:{:.3f} max:{:.3f}\".format(min(rmses_mean), max(rmses_mean)))\n",
    "#     # print(\"ssim_sel: min:{:.3f}, max:{:.3f}\".format(min(ssim_sel_mean), max(ssim_sel_mean)))\n",
    "#     # print(\"ssim_res: min:{:.3f}, max:{:.3f}\".format(min(ssim_res_mean), max(ssim_res_mean)))\n",
    "#     # print(\"-\"*50)\n",
    "#     # for key, name in best.items():\n",
    "#     #     if key != \"processed_images\":\n",
    "#     #         print(key, name)\n",
    "#     \n",
    "# fig = plt.figure(figsize=(3, 21))\n",
    "# fig.add_axes(sharex=True)\n",
    "# x = epoch\n",
    "# \n",
    "# ax = plt.subplot(711)\n",
    "# # plt.plot(epoch, selected_filter_loss, label=\"selected_filter_loss\")\n",
    "# y = np.mean(selected_filter_losses, axis=0)\n",
    "# yerr = np.std(selected_filter_losses, axis=0)\n",
    "# plt.errorbar(epoch, y, yerr=yerr, label=\"selected_filter_loss\")\n",
    "# # plt.errorbar(, , yerr=yerr, label='both limits (default)')\n",
    "# plt.legend(loc='best')\n",
    "#     \n",
    "# plt.subplot(712)\n",
    "# y = np.mean(rest_filter_losses, axis=0)\n",
    "# yerr = np.std(rest_filter_losses, axis=0)\n",
    "# plt.errorbar(x, y, yerr=yerr, label=\"rest_filter_loss\")\n",
    "# y = np.mean(rest_filter_loss_interactes, axis=0)\n",
    "# yerr = np.std(rest_filter_loss_interactes, axis=0)\n",
    "# plt.errorbar(x, y, yerr=yerr, label=\"rest_filter_loss_interact\")\n",
    "# # plt.plot(epoch, rest_filter_loss_interact, label=\"rest_filter_loss_interact\")\n",
    "# plt.legend(loc='best')\n",
    "# \n",
    "# plt.subplot(713)\n",
    "# y = np.mean(regularization_losses, axis=0)\n",
    "# yerr = np.std(regularization_losses, axis=0)\n",
    "# plt.errorbar(epoch, regularization_loss, label=\"regularization\")\n",
    "# plt.legend(loc='best')\n",
    "# \n",
    "# plt.subplot(714)\n",
    "# y = np.mean(losses, axis=0)\n",
    "# yerr = np.std(losses, axis=0)\n",
    "# plt.errorbar(epoch, y, yerr=yerr, label=\"train_loss\")\n",
    "# plt.legend(loc='best')\n",
    "# \n",
    "# plt.subplot(715)\n",
    "# y = np.mean(lres, axis=0)\n",
    "# yerr = np.std(lres, axis=0)\n",
    "# plt.errorbar(epoch, y, label=\"lr\")\n",
    "# plt.legend(loc='best')\n",
    "# \n",
    "# plt.subplot(716)\n",
    "# y = np.mean(rmses_meanes, axis=0)\n",
    "# yerr = np.std(rmses_meanes, axis=0)\n",
    "# plt.errorbar(epoch, y, yerr=yerr, label=\"rmse\")\n",
    "# plt.legend(loc='best')\n",
    "# \n",
    "# plt.subplot(717)\n",
    "# y = np.mean(ssim_sel_meanes, axis=0)\n",
    "# yerr = np.std(ssim_sel_meanes, axis=0)\n",
    "# plt.errorbar(epoch, y, yerr=yerr, label=\"ssim_sel\")\n",
    "# y = np.mean(ssim_res_meanes, axis=0)\n",
    "# yerr = np.std(ssim_res_meanes, axis=0)\n",
    "# plt.errorbar(epoch, y, yerr=yerr, label=\"ssim_res\")\n",
    "# plt.legend(loc='best')\n",
    "# \n",
    "# plt.suptitle('Training Process')\n",
    "# plt.show()"
   ]
  }
 ],
 "metadata": {
  "kernelspec": {
   "display_name": "Python 3",
   "language": "python",
   "name": "python3"
  },
  "language_info": {
   "codemirror_mode": {
    "name": "ipython",
    "version": 3
   },
   "file_extension": ".py",
   "mimetype": "text/x-python",
   "name": "python",
   "nbconvert_exporter": "python",
   "pygments_lexer": "ipython3",
   "version": "3.6.10"
  },
  "latex_envs": {
   "LaTeX_envs_menu_present": true,
   "autoclose": false,
   "autocomplete": true,
   "bibliofile": "biblio.bib",
   "cite_by": "apalike",
   "current_citInitial": 1,
   "eqLabelWithNumbers": true,
   "eqNumInitial": 1,
   "hotkeys": {
    "equation": "Ctrl-E",
    "itemize": "Ctrl-I"
   },
   "labels_anchors": false,
   "latex_user_defs": false,
   "report_style_numbering": false,
   "user_envs_cfg": false
  },
  "toc": {
   "base_numbering": 1,
   "nav_menu": {},
   "number_sections": true,
   "sideBar": true,
   "skip_h1_title": false,
   "title_cell": "Table of Contents",
   "title_sidebar": "Contents",
   "toc_cell": false,
   "toc_position": {
    "height": "calc(100% - 180px)",
    "left": "10px",
    "top": "150px",
    "width": "262.386px"
   },
   "toc_section_display": true,
   "toc_window_display": true
  },
  "varInspector": {
   "cols": {
    "lenName": 16,
    "lenType": 16,
    "lenVar": 40
   },
   "kernels_config": {
    "python": {
     "delete_cmd_postfix": "",
     "delete_cmd_prefix": "del ",
     "library": "var_list.py",
     "varRefreshCmd": "print(var_dic_list())"
    },
    "r": {
     "delete_cmd_postfix": ") ",
     "delete_cmd_prefix": "rm(",
     "library": "var_list.r",
     "varRefreshCmd": "cat(var_dic_list()) "
    }
   },
   "types_to_exclude": [
    "module",
    "function",
    "builtin_function_or_method",
    "instance",
    "_Feature"
   ],
   "window_display": false
  }
 },
 "nbformat": 4,
 "nbformat_minor": 4
}
