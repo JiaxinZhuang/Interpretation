{
 "cells": [
  {
   "cell_type": "code",
   "execution_count": 1,
   "metadata": {
    "ExecuteTime": {
     "end_time": "2020-11-01T15:11:29.001615Z",
     "start_time": "2020-11-01T15:11:28.707399Z"
    }
   },
   "outputs": [
    {
     "name": "stdout",
     "output_type": "stream",
     "text": [
      "Populating the interactive namespace from numpy and matplotlib\n"
     ]
    }
   ],
   "source": [
    "%load_ext autoreload\n",
    "%autoreload 2\n",
    "%pylab inline"
   ]
  },
  {
   "cell_type": "code",
   "execution_count": 2,
   "metadata": {
    "ExecuteTime": {
     "end_time": "2020-11-01T15:11:29.431943Z",
     "start_time": "2020-11-01T15:11:29.002822Z"
    }
   },
   "outputs": [],
   "source": [
    "import pandas as pd\n",
    "import glob\n",
    "import seaborn as sns\n",
    "import numpy as np"
   ]
  },
  {
   "cell_type": "code",
   "execution_count": 3,
   "metadata": {
    "ExecuteTime": {
     "end_time": "2020-11-01T15:11:29.442146Z",
     "start_time": "2020-11-01T15:11:29.433082Z"
    }
   },
   "outputs": [
    {
     "name": "stdout",
     "output_type": "stream",
     "text": [
      "/home/lincolnzjx/Desktop/Interpretation\n"
     ]
    }
   ],
   "source": [
    "cd ../"
   ]
  },
  {
   "cell_type": "code",
   "execution_count": 4,
   "metadata": {
    "ExecuteTime": {
     "end_time": "2020-11-01T15:11:29.452182Z",
     "start_time": "2020-11-01T15:11:29.443037Z"
    }
   },
   "outputs": [
    {
     "data": {
      "text/plain": [
       "'/home/lincolnzjx/Desktop/Interpretation'"
      ]
     },
     "execution_count": 4,
     "metadata": {},
     "output_type": "execute_result"
    }
   ],
   "source": [
    "pwd"
   ]
  },
  {
   "cell_type": "code",
   "execution_count": 5,
   "metadata": {
    "ExecuteTime": {
     "end_time": "2020-11-01T15:11:29.464084Z",
     "start_time": "2020-11-01T15:11:29.452917Z"
    }
   },
   "outputs": [],
   "source": [
    "def main(cuda, exp, alpha, beta, gamma, selected_layer, selected_filter,\n",
    "         class_index, num_class, re_size, dataset, backbone, img_index, mode,\n",
    "         inter, defensed):\n",
    "    resume = \"037-0\"\n",
    "    server = 'desktop'\n",
    "    n_epochs = 10000\n",
    "    seed = -1\n",
    "    eval_frequency = 1000\n",
    "    delta = 0\n",
    "    batch_size = 1 if mode else num_class\n",
    "    lr = 10\n",
    "    \n",
    "    !CUDA_VISIBLE_DEVICES=$cuda python -u -W ignore src/trainer.py \\\n",
    "        --experiment_index $exp\\\n",
    "        --alpha=$alpha \\\n",
    "        --gamma=$gamma \\\n",
    "        --beta=$beta \\\n",
    "        --selected_layer=$selected_layer \\\n",
    "        --selected_filter=$selected_filter \\\n",
    "        --num_class=$num_class \\\n",
    "        --class_index=$class_index \\\n",
    "        --server $server\\\n",
    "        --dataset $dataset\\\n",
    "        --n_epochs $n_epochs \\\n",
    "        --eval_frequency=$eval_frequency \\\n",
    "        --re_size $re_size \\\n",
    "        --backbone=$backbone \\\n",
    "        --optimizer=SGD \\\n",
    "        --learning_rate $lr \\\n",
    "        --delta=$delta \\\n",
    "        --resume $resume \\\n",
    "        --mode=keep \\\n",
    "        --inter=False \\\n",
    "        --regularization=L1 \\\n",
    "        --seed $seed \\\n",
    "        --img_index $img_index\\\n",
    "        --batch_size $batch_size\\\n",
    "        --inter $inter\\\n",
    "        --defensed $defensed\\\n",
    "        --scheduler"
   ]
  },
  {
   "cell_type": "markdown",
   "metadata": {},
   "source": [
    "# Read From excel"
   ]
  },
  {
   "cell_type": "code",
   "execution_count": 6,
   "metadata": {
    "ExecuteTime": {
     "end_time": "2020-11-01T15:11:29.474666Z",
     "start_time": "2020-11-01T15:11:29.464914Z"
    }
   },
   "outputs": [],
   "source": [
    "excel_path = \"./src/exps.xlsx\"\n",
    "sheet = \"ablation\"\n",
    "excepts = []"
   ]
  },
  {
   "cell_type": "markdown",
   "metadata": {},
   "source": [
    "# ALL YOU NEED TO SET HERE!!"
   ]
  },
  {
   "cell_type": "code",
   "execution_count": 7,
   "metadata": {
    "ExecuteTime": {
     "end_time": "2020-11-01T15:11:29.483038Z",
     "start_time": "2020-11-01T15:11:29.475432Z"
    }
   },
   "outputs": [],
   "source": [
    "exp_index = \"x110101\""
   ]
  },
  {
   "cell_type": "markdown",
   "metadata": {},
   "source": [
    "# Main"
   ]
  },
  {
   "cell_type": "code",
   "execution_count": null,
   "metadata": {
    "ExecuteTime": {
     "start_time": "2020-11-01T15:11:28.733Z"
    },
    "scrolled": true
   },
   "outputs": [
    {
     "name": "stdout",
     "output_type": "stream",
     "text": [
      "=> RUN on  0 110101 1 47 950 img_index  1\n"
     ]
    }
   ],
   "source": [
    "xlsx = pd.ExcelFile(excel_path)\n",
    "excel = pd.read_excel(xlsx, sheet, dtype={\"exp\": str, \n",
    "                                          \"Done\": str,\n",
    "                                          \"selected_layer\": int,\n",
    "                                          \"selected_filter\": int, \n",
    "                                          \"Alpha\": int,\n",
    "                                          \"Beta\": int,\n",
    "                                          \"Gamma\": int,\n",
    "                                          \"cuda\": int,\n",
    "                                          \"class_index\": int,\n",
    "                                          \"num_class\": int,\n",
    "                                          \"re_size\": int,\n",
    "                                          \"dataset\": str,\n",
    "                                          \"backbone\": str, \n",
    "                                          \"mode\":str}).values\n",
    "\n",
    "for data in excel:\n",
    "    exp, done, selected_layer, selected_filter, alpha, beta, gamma, cuda, \\\n",
    "        class_index, num_class, re_size, dataset, backbone, mode, inter, \\\n",
    "        defensed = data\n",
    "    if exp != exp_index:\n",
    "        continue\n",
    "        \n",
    "    exp = exp.replace(\"x\", \"\")\n",
    "    if exp in excepts:\n",
    "        print(\"=> Skip\")\n",
    "    else:\n",
    "        if done == \"N\":\n",
    "            for img_index in range(30):\n",
    "                if img_index == 1:\n",
    "                    print(\"=> RUN on \", cuda, exp, selected_layer, selected_filter, \n",
    "                          class_index, \"img_index \", img_index)\n",
    "                    main(cuda, exp, alpha, beta, gamma, selected_layer, \n",
    "                         selected_filter, class_index, num_class, re_size, dataset,\n",
    "                         backbone, img_index, mode, inter, defensed)"
   ]
  },
  {
   "cell_type": "markdown",
   "metadata": {},
   "source": [
    "# Visualization"
   ]
  },
  {
   "cell_type": "code",
   "execution_count": null,
   "metadata": {
    "ExecuteTime": {
     "start_time": "2020-11-01T15:11:28.754Z"
    }
   },
   "outputs": [],
   "source": [
    "import pickle"
   ]
  },
  {
   "cell_type": "code",
   "execution_count": null,
   "metadata": {
    "ExecuteTime": {
     "start_time": "2020-11-01T15:11:28.759Z"
    },
    "scrolled": false
   },
   "outputs": [],
   "source": [
    "# statistic_dir = \"/home/lincolnzjx/Desktop/Interpretation/saved/generated/101801/*.pl\"\n",
    "# \n",
    "# selected_filter_losses = []\n",
    "# rest_filter_losses = []\n",
    "# rest_filter_loss_interactes = []\n",
    "# regularization_losses = []\n",
    "# rest_filter_loss_interact = []\n",
    "# lres = []\n",
    "# rmses_meanes = []\n",
    "# ssim_sel_meanes = []\n",
    "# ssim_res_meanes = []\n",
    "# losses = []\n",
    "# \n",
    "# for item in glob.glob(statistic_dir):\n",
    "#     # load data \n",
    "#     with open(item, \"rb\") as handle:\n",
    "#           statistic = pickle.load(handle)\n",
    "#     epoch = statistic[\"epoch\"]\n",
    "#     loss = statistic[\"losses\"]\n",
    "#     selected_filter_loss = statistic[\"selected_filter_loss\"]\n",
    "#     rest_filter_loss = statistic[\"rest_fileter_loss\"]\n",
    "#     rest_filter_loss_interact = statistic[\"rest_filter_loss_interact\"]\n",
    "#     regularization_loss = statistic[\"regularization_loss\"]\n",
    "#     lr = statistic[\"lr\"]\n",
    "#     # best = statistic[\"best\"][0]\n",
    "#     \n",
    "#     metric_statistic = statistic[\"metric_statistic\"]\n",
    "#     rmses_mean = [ms[\"rmses_mean\"] for ms in metric_statistic]\n",
    "#     ssim_sel_mean = [ms[\"ssim_sel_mean\"] for ms in metric_statistic]\n",
    "#     ssim_res_mean = [ms[\"ssim_res_mean\"] for ms in metric_statistic]\n",
    "#     \n",
    "#     selected_filter_losses.append(selected_filter_loss)\n",
    "#     rest_filter_losses.append(rest_filter_loss)\n",
    "#     rest_filter_loss_interactes.append(rest_filter_loss_interact)\n",
    "#     regularization_losses.append(regularization_loss)\n",
    "#     lres.append(regularization_loss)\n",
    "#     rmses_meanes.append(rmses_mean)\n",
    "#     ssim_sel_meanes.append(ssim_sel_mean)\n",
    "#     ssim_res_meanes.append(ssim_res_mean)\n",
    "#     losses.append(loss)\n",
    "#     # print(\"sf: min:{:.3f} max:{:.3f}\".format(min(selected_filter_loss), max(selected_filter_loss)))\n",
    "#     # print(\"rf: min:{:.3f} max:{:.3f}\".format(min(rest_filter_loss), max(rest_filter_loss)))\n",
    "#     # print(\"rfi: min:{:.3f} max:{:.3f}\".format(min(rest_filter_loss_interact), max(rest_filter_loss_interact)))\n",
    "#     # print(\"rg: min:{:.3f} max:{:.3f}\".format(min(regularization_loss), max(regularization_loss)))\n",
    "#     # print(\"rmse: min:{:.3f} max:{:.3f}\".format(min(rmses_mean), max(rmses_mean)))\n",
    "#     # print(\"ssim_sel: min:{:.3f}, max:{:.3f}\".format(min(ssim_sel_mean), max(ssim_sel_mean)))\n",
    "#     # print(\"ssim_res: min:{:.3f}, max:{:.3f}\".format(min(ssim_res_mean), max(ssim_res_mean)))\n",
    "#     # print(\"-\"*50)\n",
    "#     # for key, name in best.items():\n",
    "#     #     if key != \"processed_images\":\n",
    "#     #         print(key, name)\n",
    "#     \n",
    "# fig = plt.figure(figsize=(3, 21))\n",
    "# fig.add_axes(sharex=True)\n",
    "# x = epoch\n",
    "# \n",
    "# ax = plt.subplot(711)\n",
    "# # plt.plot(epoch, selected_filter_loss, label=\"selected_filter_loss\")\n",
    "# y = np.mean(selected_filter_losses, axis=0)\n",
    "# yerr = np.std(selected_filter_losses, axis=0)\n",
    "# plt.errorbar(epoch, y, yerr=yerr, label=\"selected_filter_loss\")\n",
    "# # plt.errorbar(, , yerr=yerr, label='both limits (default)')\n",
    "# plt.legend(loc='best')\n",
    "#     \n",
    "# plt.subplot(712)\n",
    "# y = np.mean(rest_filter_losses, axis=0)\n",
    "# yerr = np.std(rest_filter_losses, axis=0)\n",
    "# plt.errorbar(x, y, yerr=yerr, label=\"rest_filter_loss\")\n",
    "# y = np.mean(rest_filter_loss_interactes, axis=0)\n",
    "# yerr = np.std(rest_filter_loss_interactes, axis=0)\n",
    "# plt.errorbar(x, y, yerr=yerr, label=\"rest_filter_loss_interact\")\n",
    "# # plt.plot(epoch, rest_filter_loss_interact, label=\"rest_filter_loss_interact\")\n",
    "# plt.legend(loc='best')\n",
    "# \n",
    "# plt.subplot(713)\n",
    "# y = np.mean(regularization_losses, axis=0)\n",
    "# yerr = np.std(regularization_losses, axis=0)\n",
    "# plt.errorbar(epoch, regularization_loss, label=\"regularization\")\n",
    "# plt.legend(loc='best')\n",
    "# \n",
    "# plt.subplot(714)\n",
    "# y = np.mean(losses, axis=0)\n",
    "# yerr = np.std(losses, axis=0)\n",
    "# plt.errorbar(epoch, y, yerr=yerr, label=\"train_loss\")\n",
    "# plt.legend(loc='best')\n",
    "# \n",
    "# plt.subplot(715)\n",
    "# y = np.mean(lres, axis=0)\n",
    "# yerr = np.std(lres, axis=0)\n",
    "# plt.errorbar(epoch, y, label=\"lr\")\n",
    "# plt.legend(loc='best')\n",
    "# \n",
    "# plt.subplot(716)\n",
    "# y = np.mean(rmses_meanes, axis=0)\n",
    "# yerr = np.std(rmses_meanes, axis=0)\n",
    "# plt.errorbar(epoch, y, yerr=yerr, label=\"rmse\")\n",
    "# plt.legend(loc='best')\n",
    "# \n",
    "# plt.subplot(717)\n",
    "# y = np.mean(ssim_sel_meanes, axis=0)\n",
    "# yerr = np.std(ssim_sel_meanes, axis=0)\n",
    "# plt.errorbar(epoch, y, yerr=yerr, label=\"ssim_sel\")\n",
    "# y = np.mean(ssim_res_meanes, axis=0)\n",
    "# yerr = np.std(ssim_res_meanes, axis=0)\n",
    "# plt.errorbar(epoch, y, yerr=yerr, label=\"ssim_res\")\n",
    "# plt.legend(loc='best')\n",
    "# \n",
    "# plt.suptitle('Training Process')\n",
    "# plt.show()"
   ]
  }
 ],
 "metadata": {
  "kernelspec": {
   "display_name": "Python 3",
   "language": "python",
   "name": "python3"
  },
  "language_info": {
   "codemirror_mode": {
    "name": "ipython",
    "version": 3
   },
   "file_extension": ".py",
   "mimetype": "text/x-python",
   "name": "python",
   "nbconvert_exporter": "python",
   "pygments_lexer": "ipython3",
   "version": "3.6.10"
  },
  "latex_envs": {
   "LaTeX_envs_menu_present": true,
   "autoclose": false,
   "autocomplete": true,
   "bibliofile": "biblio.bib",
   "cite_by": "apalike",
   "current_citInitial": 1,
   "eqLabelWithNumbers": true,
   "eqNumInitial": 1,
   "hotkeys": {
    "equation": "Ctrl-E",
    "itemize": "Ctrl-I"
   },
   "labels_anchors": false,
   "latex_user_defs": false,
   "report_style_numbering": false,
   "user_envs_cfg": false
  },
  "toc": {
   "base_numbering": 1,
   "nav_menu": {},
   "number_sections": true,
   "sideBar": true,
   "skip_h1_title": false,
   "title_cell": "Table of Contents",
   "title_sidebar": "Contents",
   "toc_cell": false,
   "toc_position": {
    "height": "calc(100% - 180px)",
    "left": "10px",
    "top": "150px",
    "width": "262.386px"
   },
   "toc_section_display": true,
   "toc_window_display": true
  },
  "varInspector": {
   "cols": {
    "lenName": 16,
    "lenType": 16,
    "lenVar": 40
   },
   "kernels_config": {
    "python": {
     "delete_cmd_postfix": "",
     "delete_cmd_prefix": "del ",
     "library": "var_list.py",
     "varRefreshCmd": "print(var_dic_list())"
    },
    "r": {
     "delete_cmd_postfix": ") ",
     "delete_cmd_prefix": "rm(",
     "library": "var_list.r",
     "varRefreshCmd": "cat(var_dic_list()) "
    }
   },
   "types_to_exclude": [
    "module",
    "function",
    "builtin_function_or_method",
    "instance",
    "_Feature"
   ],
   "window_display": false
  }
 },
 "nbformat": 4,
 "nbformat_minor": 4
}
