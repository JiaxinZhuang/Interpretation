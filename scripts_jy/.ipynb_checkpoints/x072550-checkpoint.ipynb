{
 "cells": [
  {
   "cell_type": "code",
   "execution_count": 1,
   "metadata": {
    "ExecuteTime": {
     "end_time": "2020-07-25T12:48:09.822617Z",
     "start_time": "2020-07-25T12:48:09.639931Z"
    }
   },
   "outputs": [
    {
     "name": "stdout",
     "output_type": "stream",
     "text": [
      "Populating the interactive namespace from numpy and matplotlib\n"
     ]
    }
   ],
   "source": [
    "%load_ext autoreload\n",
    "%autoreload 2\n",
    "%pylab inline"
   ]
  },
  {
   "cell_type": "code",
   "execution_count": 2,
   "metadata": {
    "ExecuteTime": {
     "end_time": "2020-07-25T12:48:09.932499Z",
     "start_time": "2020-07-25T12:48:09.823747Z"
    }
   },
   "outputs": [],
   "source": [
    "import pandas as pd"
   ]
  },
  {
   "cell_type": "code",
   "execution_count": 3,
   "metadata": {
    "ExecuteTime": {
     "end_time": "2020-07-25T12:48:09.943599Z",
     "start_time": "2020-07-25T12:48:09.933555Z"
    }
   },
   "outputs": [
    {
     "name": "stdout",
     "output_type": "stream",
     "text": [
      "/home/lincolnzjx/Desktop/Interpretation\n"
     ]
    }
   ],
   "source": [
    "cd ../"
   ]
  },
  {
   "cell_type": "code",
   "execution_count": 4,
   "metadata": {
    "ExecuteTime": {
     "end_time": "2020-07-25T12:48:09.952782Z",
     "start_time": "2020-07-25T12:48:09.944356Z"
    }
   },
   "outputs": [
    {
     "data": {
      "text/plain": [
       "'/home/lincolnzjx/Desktop/Interpretation'"
      ]
     },
     "execution_count": 4,
     "metadata": {},
     "output_type": "execute_result"
    }
   ],
   "source": [
    "pwd"
   ]
  },
  {
   "cell_type": "code",
   "execution_count": 5,
   "metadata": {
    "ExecuteTime": {
     "end_time": "2020-07-25T12:48:09.962543Z",
     "start_time": "2020-07-25T12:48:09.953438Z"
    }
   },
   "outputs": [],
   "source": [
    "def main(cuda, exp, alpha, beta, gamma, selected_layer, selected_filter,\n",
    "         class_index, num_class, re_size, dataset, backbone):\n",
    "    server = 'ls97'\n",
    "    #dataset = 'ImageNet'\n",
    "    n_epochs = 10000000\n",
    "    seed = -1\n",
    "    eval_frequency = 10000\n",
    "    #backbone = 'vgg16'\n",
    "    delta = 0\n",
    "    !CUDA_VISIBLE_DEVICES=$cuda python -u src/trainer.py \\\n",
    "        --experiment_index $exp\\\n",
    "        --alpha=$alpha \\\n",
    "        --gamma=$gamma \\\n",
    "        --beta=$beta \\\n",
    "        --selected_layer=$selected_layer \\\n",
    "        --selected_filter=$selected_filter \\\n",
    "        --num_class=$num_class \\\n",
    "        --class_index=$class_index \\\n",
    "        --server $server\\\n",
    "        --dataset $dataset\\\n",
    "        --n_epochs $n_epochs \\\n",
    "        --eval_frequency=$eval_frequency \\\n",
    "        --re_size $re_size \\\n",
    "        --backbone=$backbone \\\n",
    "        --optimizer=SGD \\\n",
    "        --learning_rate=1e-1 \\\n",
    "        --delta=$delta \\\n",
    "        --resume=037-0 \\\n",
    "        --mode=keep \\\n",
    "        --inter=False \\\n",
    "        --rho=0 \\\n",
    "        --regularization=L1 \\\n",
    "        --smoothing=TotalVariation \\\n",
    "        --regular_ex=3 \\\n",
    "        --rescale=False \\\n",
    "        --seed $seed "
   ]
  },
  {
   "cell_type": "markdown",
   "metadata": {},
   "source": [
    "# Read From excel"
   ]
  },
  {
   "cell_type": "code",
   "execution_count": 9,
   "metadata": {
    "ExecuteTime": {
     "end_time": "2020-07-25T12:48:27.086524Z",
     "start_time": "2020-07-25T12:48:27.079195Z"
    }
   },
   "outputs": [],
   "source": [
    "excel_path = \"./src/exps.xlsx\"\n",
    "sheet = \"baseline_mnist\"\n",
    "excepts = []"
   ]
  },
  {
   "cell_type": "markdown",
   "metadata": {},
   "source": [
    "# ALL YOU NEED TO SET HERE!!"
   ]
  },
  {
   "cell_type": "code",
   "execution_count": 7,
   "metadata": {
    "ExecuteTime": {
     "end_time": "2020-07-25T12:48:09.978099Z",
     "start_time": "2020-07-25T12:48:09.972015Z"
    }
   },
   "outputs": [],
   "source": [
    "exp_index = \"x072550\""
   ]
  },
  {
   "cell_type": "markdown",
   "metadata": {},
   "source": [
    "# Main"
   ]
  },
  {
   "cell_type": "code",
   "execution_count": 8,
   "metadata": {
    "ExecuteTime": {
     "end_time": "2020-07-25T12:48:10.071553Z",
     "start_time": "2020-07-25T12:48:09.979203Z"
    }
   },
   "outputs": [
    {
     "ename": "ValueError",
     "evalue": "not enough values to unpack (expected 13, got 10)",
     "output_type": "error",
     "traceback": [
      "\u001b[0;31m---------------------------------------------------------------------------\u001b[0m",
      "\u001b[0;31mValueError\u001b[0m                                Traceback (most recent call last)",
      "\u001b[0;32m<ipython-input-8-4570c4a7825c>\u001b[0m in \u001b[0;36m<module>\u001b[0;34m\u001b[0m\n\u001b[1;32m     16\u001b[0m \u001b[0;32mfor\u001b[0m \u001b[0mdata\u001b[0m \u001b[0;32min\u001b[0m \u001b[0mexcel\u001b[0m\u001b[0;34m:\u001b[0m\u001b[0;34m\u001b[0m\u001b[0;34m\u001b[0m\u001b[0m\n\u001b[1;32m     17\u001b[0m     \u001b[0mexp\u001b[0m\u001b[0;34m,\u001b[0m \u001b[0mdone\u001b[0m\u001b[0;34m,\u001b[0m \u001b[0mselected_layer\u001b[0m\u001b[0;34m,\u001b[0m \u001b[0mselected_filter\u001b[0m\u001b[0;34m,\u001b[0m \u001b[0malpha\u001b[0m\u001b[0;34m,\u001b[0m \u001b[0mbeta\u001b[0m\u001b[0;34m,\u001b[0m \u001b[0mgamma\u001b[0m\u001b[0;34m,\u001b[0m \u001b[0mcuda\u001b[0m\u001b[0;34m,\u001b[0m\u001b[0;31m \u001b[0m\u001b[0;31m\\\u001b[0m\u001b[0;34m\u001b[0m\u001b[0;34m\u001b[0m\u001b[0m\n\u001b[0;32m---> 18\u001b[0;31m         \u001b[0mclass_index\u001b[0m\u001b[0;34m,\u001b[0m \u001b[0mnum_class\u001b[0m\u001b[0;34m,\u001b[0m \u001b[0mre_size\u001b[0m\u001b[0;34m,\u001b[0m \u001b[0mdataset\u001b[0m\u001b[0;34m,\u001b[0m \u001b[0mbackbone\u001b[0m \u001b[0;34m=\u001b[0m \u001b[0mdata\u001b[0m\u001b[0;34m\u001b[0m\u001b[0;34m\u001b[0m\u001b[0m\n\u001b[0m\u001b[1;32m     19\u001b[0m     \u001b[0;32mif\u001b[0m \u001b[0mexp\u001b[0m \u001b[0;34m!=\u001b[0m \u001b[0mexp_index\u001b[0m\u001b[0;34m:\u001b[0m\u001b[0;34m\u001b[0m\u001b[0;34m\u001b[0m\u001b[0m\n\u001b[1;32m     20\u001b[0m         \u001b[0;32mcontinue\u001b[0m\u001b[0;34m\u001b[0m\u001b[0;34m\u001b[0m\u001b[0m\n",
      "\u001b[0;31mValueError\u001b[0m: not enough values to unpack (expected 13, got 10)"
     ]
    }
   ],
   "source": [
    "xlsx = pd.ExcelFile(excel_path)\n",
    "excel = pd.read_excel(xlsx, sheet, Sdtype={\"exp\": str, \n",
    "                                           \"Done\": str,\n",
    "                                           \"selected_layer\": int,\n",
    "                                           \"selected_filter\": int, \n",
    "                                           \"Alpha\": int,\n",
    "                                           \"Beta\": int,\n",
    "                                           \"Gamma\": int,\n",
    "                                           \"cuda\": int,\n",
    "                                           \"class_index\": int,\n",
    "                                           \"num_class\": int,\n",
    "                                           \"re_size\": int,\n",
    "                                           \"dataset\": str,\n",
    "                                           \"backbone\": str}).values\n",
    "\n",
    "for data in excel:\n",
    "    exp, done, selected_layer, selected_filter, alpha, beta, gamma, cuda, \\\n",
    "        class_index, num_class, re_size, dataset, backbone = data\n",
    "    if exp != exp_index:\n",
    "        continue\n",
    "        \n",
    "    exp = exp.replace(\"x\", \"\")\n",
    "    if exp in excepts:\n",
    "        print(\"=> Skip\")\n",
    "    else:\n",
    "        if done == \"N\":\n",
    "            print(\"=> RUN on \", cuda, exp, selected_layer, selected_filter, \n",
    "                  class_index)\n",
    "            main(cuda, exp, alpha, beta, gamma, selected_layer, \n",
    "                 selected_filter, class_index, num_class, re_size, dataset,\n",
    "                 backbone)"
   ]
  }
 ],
 "metadata": {
  "kernelspec": {
   "display_name": "Python 3",
   "language": "python",
   "name": "python3"
  },
  "language_info": {
   "codemirror_mode": {
    "name": "ipython",
    "version": 3
   },
   "file_extension": ".py",
   "mimetype": "text/x-python",
   "name": "python",
   "nbconvert_exporter": "python",
   "pygments_lexer": "ipython3",
   "version": "3.6.10"
  },
  "latex_envs": {
   "LaTeX_envs_menu_present": true,
   "autoclose": false,
   "autocomplete": true,
   "bibliofile": "biblio.bib",
   "cite_by": "apalike",
   "current_citInitial": 1,
   "eqLabelWithNumbers": true,
   "eqNumInitial": 1,
   "hotkeys": {
    "equation": "Ctrl-E",
    "itemize": "Ctrl-I"
   },
   "labels_anchors": false,
   "latex_user_defs": false,
   "report_style_numbering": false,
   "user_envs_cfg": false
  },
  "toc": {
   "base_numbering": 1,
   "nav_menu": {},
   "number_sections": true,
   "sideBar": false,
   "skip_h1_title": false,
   "title_cell": "Table of Contents",
   "title_sidebar": "Contents",
   "toc_cell": false,
   "toc_position": {},
   "toc_section_display": true,
   "toc_window_display": true
  },
  "varInspector": {
   "cols": {
    "lenName": 16,
    "lenType": 16,
    "lenVar": 40
   },
   "kernels_config": {
    "python": {
     "delete_cmd_postfix": "",
     "delete_cmd_prefix": "del ",
     "library": "var_list.py",
     "varRefreshCmd": "print(var_dic_list())"
    },
    "r": {
     "delete_cmd_postfix": ") ",
     "delete_cmd_prefix": "rm(",
     "library": "var_list.r",
     "varRefreshCmd": "cat(var_dic_list()) "
    }
   },
   "types_to_exclude": [
    "module",
    "function",
    "builtin_function_or_method",
    "instance",
    "_Feature"
   ],
   "window_display": false
  }
 },
 "nbformat": 4,
 "nbformat_minor": 4
}
