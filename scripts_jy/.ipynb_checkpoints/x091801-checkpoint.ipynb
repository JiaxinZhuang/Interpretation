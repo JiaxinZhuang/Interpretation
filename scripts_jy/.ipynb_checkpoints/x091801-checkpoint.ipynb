{
 "cells": [
  {
   "cell_type": "code",
   "execution_count": 1,
   "metadata": {
    "ExecuteTime": {
     "end_time": "2020-09-19T05:11:04.446150Z",
     "start_time": "2020-09-19T05:11:04.249809Z"
    }
   },
   "outputs": [
    {
     "name": "stdout",
     "output_type": "stream",
     "text": [
      "Populating the interactive namespace from numpy and matplotlib\n"
     ]
    }
   ],
   "source": [
    "%load_ext autoreload\n",
    "%autoreload 2\n",
    "%pylab inline"
   ]
  },
  {
   "cell_type": "code",
   "execution_count": 2,
   "metadata": {
    "ExecuteTime": {
     "end_time": "2020-09-19T05:11:04.556797Z",
     "start_time": "2020-09-19T05:11:04.447500Z"
    }
   },
   "outputs": [],
   "source": [
    "import pandas as pd"
   ]
  },
  {
   "cell_type": "code",
   "execution_count": 3,
   "metadata": {
    "ExecuteTime": {
     "end_time": "2020-09-19T05:11:04.566823Z",
     "start_time": "2020-09-19T05:11:04.558246Z"
    }
   },
   "outputs": [
    {
     "name": "stdout",
     "output_type": "stream",
     "text": [
      "/home/lincolnzjx/Desktop/Interpretation\n"
     ]
    }
   ],
   "source": [
    "cd ../"
   ]
  },
  {
   "cell_type": "code",
   "execution_count": 4,
   "metadata": {
    "ExecuteTime": {
     "end_time": "2020-09-19T05:11:04.577352Z",
     "start_time": "2020-09-19T05:11:04.567864Z"
    }
   },
   "outputs": [
    {
     "data": {
      "text/plain": [
       "'/home/lincolnzjx/Desktop/Interpretation'"
      ]
     },
     "execution_count": 4,
     "metadata": {},
     "output_type": "execute_result"
    }
   ],
   "source": [
    "pwd"
   ]
  },
  {
   "cell_type": "code",
   "execution_count": 5,
   "metadata": {
    "ExecuteTime": {
     "end_time": "2020-09-19T05:11:04.589789Z",
     "start_time": "2020-09-19T05:11:04.578452Z"
    }
   },
   "outputs": [],
   "source": [
    "def main(cuda, exp, alpha, beta, gamma, selected_layer, selected_filter,\n",
    "         class_index, num_class, re_size, dataset, backbone, img_index, mode,\n",
    "         inter):\n",
    "    resume = \"037-0\"\n",
    "    server = 'desktop'\n",
    "    n_epochs = 10000\n",
    "    seed = -1\n",
    "    eval_frequency = 50\n",
    "    delta = 0\n",
    "    batch_size = 1 if mode else num_class\n",
    "    lr = 1\n",
    "    \n",
    "    !CUDA_VISIBLE_DEVICES=$cuda python -u -W ignore src/trainer.py \\\n",
    "        --experiment_index $exp\\\n",
    "        --alpha=$alpha \\\n",
    "        --gamma=$gamma \\\n",
    "        --beta=$beta \\\n",
    "        --selected_layer=$selected_layer \\\n",
    "        --selected_filter=$selected_filter \\\n",
    "        --num_class=$num_class \\\n",
    "        --class_index=$class_index \\\n",
    "        --server $server\\\n",
    "        --dataset $dataset\\\n",
    "        --n_epochs $n_epochs \\\n",
    "        --eval_frequency=$eval_frequency \\\n",
    "        --re_size $re_size \\\n",
    "        --backbone=$backbone \\\n",
    "        --optimizer=SGD \\\n",
    "        --learning_rate $lr \\\n",
    "        --delta=$delta \\\n",
    "        --resume $resume \\\n",
    "        --mode=keep \\\n",
    "        --inter=False \\\n",
    "        --regularization=L1 \\\n",
    "        --seed $seed \\\n",
    "        --img_index $img_index\\\n",
    "        --batch_size $batch_size"
   ]
  },
  {
   "cell_type": "markdown",
   "metadata": {},
   "source": [
    "# Read From excel"
   ]
  },
  {
   "cell_type": "code",
   "execution_count": 6,
   "metadata": {
    "ExecuteTime": {
     "end_time": "2020-09-19T05:11:04.598456Z",
     "start_time": "2020-09-19T05:11:04.590764Z"
    }
   },
   "outputs": [],
   "source": [
    "excel_path = \"./src/exps.xlsx\"\n",
    "sheet = \"ImageNet\"\n",
    "excepts = []"
   ]
  },
  {
   "cell_type": "markdown",
   "metadata": {},
   "source": [
    "# ALL YOU NEED TO SET HERE!!"
   ]
  },
  {
   "cell_type": "code",
   "execution_count": 7,
   "metadata": {
    "ExecuteTime": {
     "end_time": "2020-09-19T05:11:04.607473Z",
     "start_time": "2020-09-19T05:11:04.600226Z"
    }
   },
   "outputs": [],
   "source": [
    "exp_index = \"x091800\""
   ]
  },
  {
   "cell_type": "markdown",
   "metadata": {},
   "source": [
    "# Main"
   ]
  },
  {
   "cell_type": "code",
   "execution_count": 8,
   "metadata": {
    "ExecuteTime": {
     "end_time": "2020-09-19T05:11:34.579238Z",
     "start_time": "2020-09-19T05:11:04.608860Z"
    },
    "scrolled": true
   },
   "outputs": [
    {
     "name": "stdout",
     "output_type": "stream",
     "text": [
      "=> RUN on  0 091800 1 16 950 img_index  0\n",
      "==================== basic setting start ====================\n",
      "experiment_index    : 091800\n",
      "cuda                : 0\n",
      "num_workers         : 2\n",
      "dataset             : ImageNet\n",
      "data_dir            : /media/lincolnzjx/HardDisk/Datasets/\n",
      "resume              : 037-0\n",
      "n_epochs            : 10000\n",
      "learning_rate       : 1.0\n",
      "batch_size          : 1\n",
      "seed                : -1\n",
      "eval_frequency      : 50\n",
      "log_dir             : ./saved/logdirs\n",
      "model_dir           : ./saved/models\n",
      "generated_dir       : ./saved/generated\n",
      "eps                 : 1e-07\n",
      "weight_decay        : 0.0001\n",
      "momentum            : 0.9\n",
      "input_size          : 224\n",
      "backbone            : vgg16\n",
      "re_size             : 224\n",
      "optimizer           : SGD\n",
      "warmup_epochs       : -1\n",
      "initialization      : default\n",
      "prof                : False\n",
      "print_freq          : 10\n",
      "selected_filter     : 16\n",
      "selected_layer      : 1\n",
      "alpha               : 100.0\n",
      "beta                : 1.0\n",
      "gamma               : 1.0\n",
      "class_index         : [950]\n",
      "num_class           : 30\n",
      "mode                : keep\n",
      "dropout             : True\n",
      "clip_grad           : False\n",
      "inter               : False\n",
      "rho                 : 0\n",
      "conv_bias           : True\n",
      "linear_bias         : True\n",
      "regularization      : L1\n",
      "smoothing           : None\n",
      "delta               : 0.0\n",
      "regular_ex          : 1\n",
      "img_index           : 0\n",
      "rescale             : False\n",
      "server              : desktop\n",
      "freeze              : False\n",
      "dali                : False\n",
      "save_predict        : False\n",
      "local_rank          : 0\n",
      "world_size          : 1\n",
      "distributed         : False\n",
      "dist_url            : tcp://127.0.0.1:23456\n",
      "guidedReLU          : False\n",
      "defensed            : False\n",
      "embedding_size      : 3\n",
      "avg                 : False\n",
      "==================== basic setting end ====================\n",
      ">< init_environment with seed: -1\n",
      "Using GPU ID 0\n",
      "> Don't use seed\n",
      "Save generated on ./saved/generated/091800\n",
      "Using device cuda\n",
      "Alpha is 100.0, Beta is 1.0, Gamma is 1.0\n",
      "Whether to use inter: False with rho: 0\n",
      "Whether to use regularization: L1\n",
      "Whether to use Smoothing: None with delta: 0.0\n",
      ">> Dataset:ImageNet - Input size: 224\n",
      "Len of new dataset is :30\n",
      "Used single image mode.\n",
      "Only Keep 1th layers before.\n",
      "Loss using mode: keep\n",
      "Using optimizer SGD with lr:1.0000\n",
      "Resume from model from exp: 037 at epoch 0\n",
      "Network(\n",
      "  (model): VGG16(\n",
      "    (features): Sequential(\n",
      "      (0): Conv2d(3, 64, kernel_size=(3, 3), stride=(1, 1), padding=(1, 1))\n",
      "      (1): ReLU(inplace=True)\n",
      "    )\n",
      "  )\n",
      ")\n",
      "Epoch  3291: reducing learning rate of group 0 to 1.0000e-01.\n",
      "Epoch  3347: reducing learning rate of group 0 to 1.0000e-02.\n",
      "Epoch  3398: reducing learning rate of group 0 to 1.0000e-03.\n",
      "Epoch  3449: reducing learning rate of group 0 to 1.0000e-04.\n",
      "Epoch  3500: reducing learning rate of group 0 to 1.0000e-05.\n",
      "Epoch  3551: reducing learning rate of group 0 to 1.0000e-06.\n",
      "Epoch  3602: reducing learning rate of group 0 to 1.0000e-07.\n",
      "Epoch  3653: reducing learning rate of group 0 to 1.0000e-08.\n",
      "Directory has been created ./saved/generated/091800/feature_map/\n",
      "Plot mode is => img_scale\n",
      "Color map is => jet\n",
      "=> max, min 6.9162555 0.0\n",
      "=> max, min 6.9162555 0.0\n",
      "=> max, min 6.9162555 0.0\n",
      "=> max, min 6.9162555 0.0\n",
      "=> max, min 6.9162555 0.0\n",
      "=> max, min 6.9162555 0.0\n",
      "=> max, min 6.9162555 0.0\n",
      "=> max, min 6.9162555 0.0\n",
      "=> max, min 6.9162555 0.0\n",
      "=> max, min 6.9162555 0.0\n",
      "=> max, min 6.9162555 0.0\n",
      "=> max, min 6.9162555 0.0\n",
      "=> max, min 6.9162555 0.0\n",
      "=> max, min 6.9162555 0.0\n",
      "=> max, min 6.9162555 0.0\n",
      "=> max, min 6.9162555 0.0\n",
      "=> max, min 6.9162555 0.0\n",
      "=> max, min 6.9162555 0.0\n",
      "=> max, min 6.9162555 0.0\n",
      "=> max, min 6.9162555 0.0\n",
      "=> max, min 6.9162555 0.0\n",
      "=> max, min 6.9162555 0.0\n",
      "=> max, min 6.9162555 0.0\n",
      "=> max, min 6.9162555 0.0\n",
      "=> max, min 6.9162555 0.0\n",
      "=> max, min 6.9162555 0.0\n",
      "=> max, min 6.9162555 0.0\n",
      "=> max, min 6.9162555 0.0\n",
      "=> max, min 6.9162555 0.0\n",
      "=> max, min 6.9162555 0.0\n",
      "=> max, min 6.9162555 0.0\n",
      "=> max, min 6.9162555 0.0\n",
      "=> max, min 6.9162555 0.0\n",
      "=> max, min 6.9162555 0.0\n",
      "=> max, min 6.9162555 0.0\n",
      "=> max, min 6.9162555 0.0\n",
      "=> max, min 6.9162555 0.0\n",
      "=> max, min 6.9162555 0.0\n",
      "=> max, min 6.9162555 0.0\n",
      "=> max, min 6.9162555 0.0\n",
      "=> max, min 6.9162555 0.0\n",
      "=> max, min 6.9162555 0.0\n",
      "=> max, min 6.9162555 0.0\n",
      "=> max, min 6.9162555 0.0\n",
      "=> max, min 6.9162555 0.0\n",
      "=> max, min 6.9162555 0.0\n",
      "=> max, min 6.9162555 0.0\n",
      "=> max, min 6.9162555 0.0\n",
      "=> max, min 6.9162555 0.0\n",
      "=> max, min 6.9162555 0.0\n",
      "=> max, min 6.9162555 0.0\n",
      "=> max, min 6.9162555 0.0\n",
      "=> max, min 6.9162555 0.0\n",
      "=> max, min 6.9162555 0.0\n",
      "=> max, min 6.9162555 0.0\n",
      "=> max, min 6.9162555 0.0\n",
      "=> max, min 6.9162555 0.0\n",
      "=> max, min 6.9162555 0.0\n",
      "=> max, min 6.9162555 0.0\n",
      "=> max, min 6.9162555 0.0\n",
      "=> max, min 6.9162555 0.0\n",
      "=> max, min 6.9162555 0.0\n",
      "=> max, min 6.9162555 0.0\n",
      "=> max, min 6.9162555 0.0\n",
      "findfont: Font family ['normal'] not found. Falling back to DejaVu Sans.\n",
      "Successfully Save pdf to ./saved/generated/091800/feature_map/layer-1-n07747607_10061-Comparision.png\n",
      "Figure(900x600)\n",
      ">>> EarlyStopping at epoch: 3752 <<<\n",
      "Finish Training\n",
      ">> Functoin: main costs 0:00:28.237322\n"
     ]
    }
   ],
   "source": [
    "xlsx = pd.ExcelFile(excel_path)\n",
    "excel = pd.read_excel(xlsx, sheet, dtype={\"exp\": str, \n",
    "                                          \"Done\": str,\n",
    "                                          \"selected_layer\": int,\n",
    "                                          \"selected_filter\": int, \n",
    "                                          \"Alpha\": int,\n",
    "                                          \"Beta\": int,\n",
    "                                          \"Gamma\": int,\n",
    "                                          \"cuda\": int,\n",
    "                                          \"class_index\": int,\n",
    "                                          \"num_class\": int,\n",
    "                                          \"re_size\": int,\n",
    "                                          \"dataset\": str,\n",
    "                                          \"backbone\": str, \n",
    "                                          \"mode\":str}).values\n",
    "\n",
    "for data in excel:\n",
    "    exp, done, selected_layer, selected_filter, alpha, beta, gamma, cuda, \\\n",
    "        class_index, num_class, re_size, dataset, backbone, mode, inter = data\n",
    "    if exp != exp_index:\n",
    "        continue\n",
    "        \n",
    "    exp = exp.replace(\"x\", \"\")\n",
    "    if exp in excepts:\n",
    "        print(\"=> Skip\")\n",
    "    else:\n",
    "        if done == \"N\":\n",
    "            for img_index in range(30):\n",
    "                if img_index == 0:\n",
    "                    print(\"=> RUN on \", cuda, exp, selected_layer, selected_filter, \n",
    "                          class_index, \"img_index \", img_index)\n",
    "                    main(cuda, exp, alpha, beta, gamma, selected_layer, \n",
    "                         selected_filter, class_index, num_class, re_size, dataset,\n",
    "                         backbone, img_index, mode, inter)"
   ]
  },
  {
   "cell_type": "markdown",
   "metadata": {},
   "source": [
    "# Visualization"
   ]
  },
  {
   "cell_type": "code",
   "execution_count": 9,
   "metadata": {
    "ExecuteTime": {
     "end_time": "2020-09-19T05:11:34.616775Z",
     "start_time": "2020-09-19T05:11:34.584763Z"
    }
   },
   "outputs": [],
   "source": [
    "import pickle"
   ]
  },
  {
   "cell_type": "code",
   "execution_count": 10,
   "metadata": {
    "ExecuteTime": {
     "end_time": "2020-09-19T05:11:34.637873Z",
     "start_time": "2020-09-19T05:11:34.618751Z"
    }
   },
   "outputs": [],
   "source": [
    "statistic_path = \"/home/lincolnzjx/Desktop/Interpretation/saved/generated/091800/n07747607_10061_statistics.pl\""
   ]
  },
  {
   "cell_type": "code",
   "execution_count": 11,
   "metadata": {
    "ExecuteTime": {
     "end_time": "2020-09-19T05:11:34.647448Z",
     "start_time": "2020-09-19T05:11:34.639001Z"
    }
   },
   "outputs": [],
   "source": [
    "with open(statistic_path, \"rb\") as handle:\n",
    "    statistic = pickle.load(handle)"
   ]
  },
  {
   "cell_type": "code",
   "execution_count": 12,
   "metadata": {
    "ExecuteTime": {
     "end_time": "2020-09-19T05:11:35.167639Z",
     "start_time": "2020-09-19T05:11:34.648619Z"
    },
    "scrolled": true
   },
   "outputs": [
    {
     "name": "stdout",
     "output_type": "stream",
     "text": [
      "sf: min:0.000 max:0.000\n",
      "rf: min:0.222 max:0.274\n",
      "rfi: min:0.066 max:0.091\n",
      "rg: min:0.233 max:0.925\n",
      "rmse: min:0.000\n",
      "ssim_sel: min:0.612, max:1.000\n",
      "ssim_res: max:0.709\n"
     ]
    },
    {
     "data": {
      "image/png": "[encoded data removed]",
      "text/plain": [
       "<Figure size 216x1296 with 6 Axes>"
      ]
     },
     "metadata": {
      "needs_background": "light"
     },
     "output_type": "display_data"
    }
   ],
   "source": [
    "epoch = statistic[\"epoch\"]\n",
    "loss = statistic[\"losses\"]\n",
    "selected_filter_loss = statistic[\"selected_filter_loss\"]\n",
    "rest_filter_loss = statistic[\"rest_fileter_loss\"]\n",
    "rest_filter_loss_interact = statistic[\"rest_filter_loss_interact\"]\n",
    "regularization_loss = statistic[\"regularization_loss\"]\n",
    "lr = statistic[\"lr\"]\n",
    "\n",
    "metric_statistic = statistic[\"metric_statistic\"]\n",
    "rmses_mean = [ms[\"rmses_mean\"] for ms in metric_statistic]\n",
    "ssim_sel_mean = [ms[\"ssim_sel_mean\"] for ms in metric_statistic]\n",
    "ssim_res_mean = [ms[\"ssim_res_mean\"] for ms in metric_statistic]\n",
    "\n",
    "print(\"sf: min:{:.3f} max:{:.3f}\".format(min(selected_filter_loss), max(selected_filter_loss)))\n",
    "print(\"rf: min:{:.3f} max:{:.3f}\".format(min(rest_filter_loss), max(rest_filter_loss)))\n",
    "print(\"rfi: min:{:.3f} max:{:.3f}\".format(min(rest_filter_loss_interact), max(rest_filter_loss_interact)))\n",
    "print(\"rg: min:{:.3f} max:{:.3f}\".format(min(regularization_loss), max(regularization_loss)))\n",
    "print(\"rmse: min:{:.3f}\".format(min(rmses_mean)))\n",
    "print(\"ssim_sel: min:{:.3f}, max:{:.3f}\".format(min(ssim_res_mean), max(ssim_sel_mean)))\n",
    "print(\"ssim_res: max:{:.3f}\".format(max(ssim_res_mean)))\n",
    "\n",
    "\n",
    "fig = plt.figure(figsize=(3, 18))\n",
    "fig.add_axes(sharex=True)\n",
    "\n",
    "ax = plt.subplot(611)\n",
    "plt.plot(epoch, selected_filter_loss, label=\"selected_filter_loss\")\n",
    "plt.legend(loc='best')\n",
    "\n",
    "plt.subplot(612)\n",
    "plt.plot(epoch, rest_filter_loss, label=\"rest_filter_loss\")\n",
    "plt.plot(epoch, rest_filter_loss_interact, label=\"rest_filter_loss_interact\")\n",
    "plt.legend(loc='best')\n",
    "\n",
    "plt.subplot(613)\n",
    "plt.plot(epoch, regularization_loss, label=\"regularization\")\n",
    "plt.legend(loc='best')\n",
    "\n",
    "plt.subplot(614)\n",
    "plt.plot(epoch, loss, label=\"train_loss\")\n",
    "plt.legend(loc='best')\n",
    "\n",
    "plt.subplot(615)\n",
    "plt.plot(epoch, lr, label=\"lr\")\n",
    "plt.legend(loc='best')\n",
    "\n",
    "plt.subplot(616)\n",
    "plt.plot(epoch, ssim_sel_mean, label=\"ssim_sel\")\n",
    "plt.plot(epoch, ssim_res_mean, label=\"ssim_res\")\n",
    "plt.legend(loc='best')\n",
    "\n",
    "plt.suptitle('Training Process')\n",
    "plt.show()"
   ]
  }
 ],
 "metadata": {
  "kernelspec": {
   "display_name": "Python 3",
   "language": "python",
   "name": "python3"
  },
  "language_info": {
   "codemirror_mode": {
    "name": "ipython",
    "version": 3
   },
   "file_extension": ".py",
   "mimetype": "text/x-python",
   "name": "python",
   "nbconvert_exporter": "python",
   "pygments_lexer": "ipython3",
   "version": "3.6.10"
  },
  "latex_envs": {
   "LaTeX_envs_menu_present": true,
   "autoclose": false,
   "autocomplete": true,
   "bibliofile": "biblio.bib",
   "cite_by": "apalike",
   "current_citInitial": 1,
   "eqLabelWithNumbers": true,
   "eqNumInitial": 1,
   "hotkeys": {
    "equation": "Ctrl-E",
    "itemize": "Ctrl-I"
   },
   "labels_anchors": false,
   "latex_user_defs": false,
   "report_style_numbering": false,
   "user_envs_cfg": false
  },
  "toc": {
   "base_numbering": 1,
   "nav_menu": {},
   "number_sections": true,
   "sideBar": true,
   "skip_h1_title": false,
   "title_cell": "Table of Contents",
   "title_sidebar": "Contents",
   "toc_cell": false,
   "toc_position": {
    "height": "calc(100% - 180px)",
    "left": "10px",
    "top": "150px",
    "width": "262.386px"
   },
   "toc_section_display": true,
   "toc_window_display": true
  },
  "varInspector": {
   "cols": {
    "lenName": 16,
    "lenType": 16,
    "lenVar": 40
   },
   "kernels_config": {
    "python": {
     "delete_cmd_postfix": "",
     "delete_cmd_prefix": "del ",
     "library": "var_list.py",
     "varRefreshCmd": "print(var_dic_list())"
    },
    "r": {
     "delete_cmd_postfix": ") ",
     "delete_cmd_prefix": "rm(",
     "library": "var_list.r",
     "varRefreshCmd": "cat(var_dic_list()) "
    }
   },
   "types_to_exclude": [
    "module",
    "function",
    "builtin_function_or_method",
    "instance",
    "_Feature"
   ],
   "window_display": false
  }
 },
 "nbformat": 4,
 "nbformat_minor": 4
}
